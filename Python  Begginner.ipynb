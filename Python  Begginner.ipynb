{
 "cells": [
  {
   "cell_type": "code",
   "execution_count": 19,
   "id": "1f4da572-207d-4657-9de9-9b54d124e5a1",
   "metadata": {},
   "outputs": [
    {
     "data": {
      "text/plain": [
       "'3.12.7 | packaged by Anaconda, Inc. | (main, Oct  4 2024, 13:17:27) [MSC v.1929 64 bit (AMD64)]'"
      ]
     },
     "execution_count": 19,
     "metadata": {},
     "output_type": "execute_result"
    }
   ],
   "source": [
    "import sys\n",
    "sys.version"
   ]
  },
  {
   "cell_type": "markdown",
   "id": "c2e1c822-71e0-4e38-b4f3-5f1705bf717b",
   "metadata": {},
   "source": [
    "# python variable = identifier = object\n",
    "# syntax ( variable = value)"
   ]
  },
  {
   "cell_type": "code",
   "execution_count": 3,
   "id": "ee7fbf87-583c-49e2-824c-34cb1e723e1f",
   "metadata": {},
   "outputs": [
    {
     "data": {
      "text/plain": [
       "8"
      ]
     },
     "execution_count": 3,
     "metadata": {},
     "output_type": "execute_result"
    }
   ],
   "source": [
    "v = 8\n",
    "v"
   ]
  },
  {
   "cell_type": "markdown",
   "id": "4ba712fb-6479-4e11-b936-d8b65d88efa0",
   "metadata": {},
   "source": [
    "# RULES TO DECLARE PYHON VARIABLE"
   ]
  },
  {
   "cell_type": "code",
   "execution_count": 20,
   "id": "e6126609-9db3-4a01-9dad-ebec63c27c68",
   "metadata": {},
   "outputs": [
    {
     "ename": "NameError",
     "evalue": "name 'VAR' is not defined",
     "output_type": "error",
     "traceback": [
      "\u001b[1;31m---------------------------------------------------------------------------\u001b[0m",
      "\u001b[1;31mNameError\u001b[0m                                 Traceback (most recent call last)",
      "Cell \u001b[1;32mIn[20], line 2\u001b[0m\n\u001b[0;32m      1\u001b[0m var \u001b[38;5;241m=\u001b[39m \u001b[38;5;241m8\u001b[39m\n\u001b[1;32m----> 2\u001b[0m VAR\n",
      "\u001b[1;31mNameError\u001b[0m: name 'VAR' is not defined"
     ]
    }
   ],
   "source": [
    "var = 8\n",
    "VAR"
   ]
  },
  {
   "cell_type": "code",
   "execution_count": 6,
   "id": "50aa8846-aceb-46ab-955a-6c4616e9af05",
   "metadata": {},
   "outputs": [
    {
     "data": {
      "text/plain": [
       "8"
      ]
     },
     "execution_count": 6,
     "metadata": {},
     "output_type": "execute_result"
    }
   ],
   "source": [
    "var"
   ]
  },
  {
   "cell_type": "code",
   "execution_count": 7,
   "id": "01e39c16-258f-4233-bac5-3e4002d9b5f2",
   "metadata": {},
   "outputs": [
    {
     "ename": "SyntaxError",
     "evalue": "invalid syntax (719244040.py, line 1)",
     "output_type": "error",
     "traceback": [
      "\u001b[1;36m  Cell \u001b[1;32mIn[7], line 1\u001b[1;36m\u001b[0m\n\u001b[1;33m    v@ = 16\u001b[0m\n\u001b[1;37m       ^\u001b[0m\n\u001b[1;31mSyntaxError\u001b[0m\u001b[1;31m:\u001b[0m invalid syntax\n"
     ]
    }
   ],
   "source": [
    "v@ = 16\n",
    "v@"
   ]
  },
  {
   "cell_type": "code",
   "execution_count": 8,
   "id": "addf62a1-4d72-413c-aa7c-fcaf5cc21438",
   "metadata": {},
   "outputs": [
    {
     "data": {
      "text/plain": [
       "20"
      ]
     },
     "execution_count": 8,
     "metadata": {},
     "output_type": "execute_result"
    }
   ],
   "source": [
    "v_ = 20\n",
    "v_"
   ]
  },
  {
   "cell_type": "code",
   "execution_count": 21,
   "id": "83e53de7-8975-496e-adef-d41be424427d",
   "metadata": {},
   "outputs": [
    {
     "ename": "SyntaxError",
     "evalue": "invalid decimal literal (1550979.py, line 1)",
     "output_type": "error",
     "traceback": [
      "\u001b[1;36m  Cell \u001b[1;32mIn[21], line 1\u001b[1;36m\u001b[0m\n\u001b[1;33m    1var = 25\u001b[0m\n\u001b[1;37m    ^\u001b[0m\n\u001b[1;31mSyntaxError\u001b[0m\u001b[1;31m:\u001b[0m invalid decimal literal\n"
     ]
    }
   ],
   "source": [
    "1var = 25\n",
    "1var"
   ]
  },
  {
   "cell_type": "code",
   "execution_count": 10,
   "id": "003ab9b0-d59d-4ced-adc1-9362fd569098",
   "metadata": {},
   "outputs": [
    {
     "data": {
      "text/plain": [
       "8"
      ]
     },
     "execution_count": 10,
     "metadata": {},
     "output_type": "execute_result"
    }
   ],
   "source": [
    "var1 = 8\n",
    "var1"
   ]
  },
  {
   "cell_type": "code",
   "execution_count": 11,
   "id": "41fc017c-1202-479d-9147-4e0833dffead",
   "metadata": {},
   "outputs": [
    {
     "ename": "SyntaxError",
     "evalue": "cannot assign to literal here. Maybe you meant '==' instead of '='? (1058376259.py, line 1)",
     "output_type": "error",
     "traceback": [
      "\u001b[1;36m  Cell \u001b[1;32mIn[11], line 1\u001b[1;36m\u001b[0m\n\u001b[1;33m    '1var' = 9\u001b[0m\n\u001b[1;37m    ^\u001b[0m\n\u001b[1;31mSyntaxError\u001b[0m\u001b[1;31m:\u001b[0m cannot assign to literal here. Maybe you meant '==' instead of '='?\n"
     ]
    }
   ],
   "source": [
    "'1var' = 9"
   ]
  },
  {
   "cell_type": "code",
   "execution_count": 12,
   "id": "c4d8a7d8-72f3-4870-bd0c-1d49632bf156",
   "metadata": {},
   "outputs": [
    {
     "data": {
      "text/plain": [
       "['False',\n",
       " 'None',\n",
       " 'True',\n",
       " 'and',\n",
       " 'as',\n",
       " 'assert',\n",
       " 'async',\n",
       " 'await',\n",
       " 'break',\n",
       " 'class',\n",
       " 'continue',\n",
       " 'def',\n",
       " 'del',\n",
       " 'elif',\n",
       " 'else',\n",
       " 'except',\n",
       " 'finally',\n",
       " 'for',\n",
       " 'from',\n",
       " 'global',\n",
       " 'if',\n",
       " 'import',\n",
       " 'in',\n",
       " 'is',\n",
       " 'lambda',\n",
       " 'nonlocal',\n",
       " 'not',\n",
       " 'or',\n",
       " 'pass',\n",
       " 'raise',\n",
       " 'return',\n",
       " 'try',\n",
       " 'while',\n",
       " 'with',\n",
       " 'yield']"
      ]
     },
     "execution_count": 12,
     "metadata": {},
     "output_type": "execute_result"
    }
   ],
   "source": [
    "import keyword\n",
    "keyword.kwlist"
   ]
  },
  {
   "cell_type": "code",
   "execution_count": 13,
   "id": "45125836-e301-40aa-bd8c-b4dc7bdadb57",
   "metadata": {},
   "outputs": [
    {
     "data": {
      "text/plain": [
       "35"
      ]
     },
     "execution_count": 13,
     "metadata": {},
     "output_type": "execute_result"
    }
   ],
   "source": [
    "len(keyword.kwlist)"
   ]
  },
  {
   "cell_type": "code",
   "execution_count": 14,
   "id": "8b3bebab-6afd-45c9-8c05-41750a9707ed",
   "metadata": {},
   "outputs": [
    {
     "ename": "SyntaxError",
     "evalue": "invalid syntax (382805477.py, line 1)",
     "output_type": "error",
     "traceback": [
      "\u001b[1;36m  Cell \u001b[1;32mIn[14], line 1\u001b[1;36m\u001b[0m\n\u001b[1;33m    for = 8\u001b[0m\n\u001b[1;37m        ^\u001b[0m\n\u001b[1;31mSyntaxError\u001b[0m\u001b[1;31m:\u001b[0m invalid syntax\n"
     ]
    }
   ],
   "source": [
    "for = 8"
   ]
  },
  {
   "cell_type": "code",
   "execution_count": 15,
   "id": "d4955f92-0c0e-47ae-91ee-893507e8adf8",
   "metadata": {},
   "outputs": [
    {
     "ename": "SyntaxError",
     "evalue": "invalid syntax (3887069569.py, line 1)",
     "output_type": "error",
     "traceback": [
      "\u001b[1;36m  Cell \u001b[1;32mIn[15], line 1\u001b[1;36m\u001b[0m\n\u001b[1;33m    def = 79\u001b[0m\n\u001b[1;37m        ^\u001b[0m\n\u001b[1;31mSyntaxError\u001b[0m\u001b[1;31m:\u001b[0m invalid syntax\n"
     ]
    }
   ],
   "source": [
    "def = 79"
   ]
  },
  {
   "cell_type": "code",
   "execution_count": 16,
   "id": "e0394f8c-e772-4030-a296-13c0d7269980",
   "metadata": {},
   "outputs": [],
   "source": [
    "DEF = 10"
   ]
  },
  {
   "cell_type": "code",
   "execution_count": 17,
   "id": "75a5219c-efa7-4336-8bfe-7e0ac3ef3f1b",
   "metadata": {},
   "outputs": [
    {
     "data": {
      "text/plain": [
       "10"
      ]
     },
     "execution_count": 17,
     "metadata": {},
     "output_type": "execute_result"
    }
   ],
   "source": [
    "DEF"
   ]
  },
  {
   "cell_type": "markdown",
   "id": "e6a4e67b-0e1a-4e42-ab89-09e850dc232d",
   "metadata": {},
   "source": [
    "# PYTHON VARIABLE DECLARATION "
   ]
  },
  {
   "cell_type": "markdown",
   "id": "60f91320-e0d3-47e0-b46d-a9b9c81eaf4e",
   "metadata": {},
   "source": [
    "# 15th"
   ]
  },
  {
   "cell_type": "code",
   "execution_count": 22,
   "id": "cfb12199-408b-41f8-a90e-14ad80f891fc",
   "metadata": {},
   "outputs": [],
   "source": [
    "false = 56"
   ]
  },
  {
   "cell_type": "code",
   "execution_count": 23,
   "id": "e5ac55f4-a6ba-4021-9422-455f627bcfe1",
   "metadata": {},
   "outputs": [
    {
     "data": {
      "text/plain": [
       "56"
      ]
     },
     "execution_count": 23,
     "metadata": {},
     "output_type": "execute_result"
    }
   ],
   "source": [
    "false"
   ]
  },
  {
   "cell_type": "code",
   "execution_count": 24,
   "id": "3783dcdb-914a-46a2-9f97-662bae3180d9",
   "metadata": {},
   "outputs": [
    {
     "ename": "SyntaxError",
     "evalue": "cannot assign to False (2452241637.py, line 1)",
     "output_type": "error",
     "traceback": [
      "\u001b[1;36m  Cell \u001b[1;32mIn[24], line 1\u001b[1;36m\u001b[0m\n\u001b[1;33m    False = 56\u001b[0m\n\u001b[1;37m    ^\u001b[0m\n\u001b[1;31mSyntaxError\u001b[0m\u001b[1;31m:\u001b[0m cannot assign to False\n"
     ]
    }
   ],
   "source": [
    "False = 56"
   ]
  },
  {
   "cell_type": "code",
   "execution_count": 25,
   "id": "ca0d23b4-a7d9-4671-b4bd-c34d76ce6cf3",
   "metadata": {},
   "outputs": [
    {
     "ename": "SyntaxError",
     "evalue": "cannot assign to True (2860707406.py, line 1)",
     "output_type": "error",
     "traceback": [
      "\u001b[1;36m  Cell \u001b[1;32mIn[25], line 1\u001b[1;36m\u001b[0m\n\u001b[1;33m    True = 8\u001b[0m\n\u001b[1;37m    ^\u001b[0m\n\u001b[1;31mSyntaxError\u001b[0m\u001b[1;31m:\u001b[0m cannot assign to True\n"
     ]
    }
   ],
   "source": [
    "True = 8"
   ]
  },
  {
   "cell_type": "markdown",
   "id": "2f3ffdcd-cd11-4350-8684-88b90c6c0d16",
   "metadata": {},
   "source": [
    "# python data types\n",
    "- int\n",
    "- float\n",
    "- bool\n",
    "- string\n",
    "- complex "
   ]
  },
  {
   "cell_type": "code",
   "execution_count": 27,
   "id": "0a5d6ab6-763e-40f0-abca-6a19e7b5e12e",
   "metadata": {},
   "outputs": [
    {
     "data": {
      "text/plain": [
       "5"
      ]
     },
     "execution_count": 27,
     "metadata": {},
     "output_type": "execute_result"
    }
   ],
   "source": [
    "i = 5 \n",
    "i"
   ]
  },
  {
   "cell_type": "code",
   "execution_count": 29,
   "id": "0c2fe31d-856f-4067-a92f-1db4f2ed4628",
   "metadata": {},
   "outputs": [
    {
     "data": {
      "text/plain": [
       "int"
      ]
     },
     "execution_count": 29,
     "metadata": {},
     "output_type": "execute_result"
    }
   ],
   "source": [
    "type(i) "
   ]
  },
  {
   "cell_type": "code",
   "execution_count": 30,
   "id": "e604f15b-e4a3-4a1e-9723-7bb838e4377f",
   "metadata": {},
   "outputs": [
    {
     "data": {
      "text/plain": [
       "110.45"
      ]
     },
     "execution_count": 30,
     "metadata": {},
     "output_type": "execute_result"
    }
   ],
   "source": [
    "f = 110.45 \n",
    "f"
   ]
  },
  {
   "cell_type": "code",
   "execution_count": 31,
   "id": "34c7310d-0e2d-440d-86dd-1244cea2f127",
   "metadata": {},
   "outputs": [
    {
     "data": {
      "text/plain": [
       "float"
      ]
     },
     "execution_count": 31,
     "metadata": {},
     "output_type": "execute_result"
    }
   ],
   "source": [
    "type(f)"
   ]
  },
  {
   "cell_type": "code",
   "execution_count": 34,
   "id": "5e02077e-12d1-4650-a0db-82e1c21cc85b",
   "metadata": {},
   "outputs": [
    {
     "data": {
      "text/plain": [
       "5"
      ]
     },
     "execution_count": 34,
     "metadata": {},
     "output_type": "execute_result"
    }
   ],
   "source": [
    "i"
   ]
  },
  {
   "cell_type": "code",
   "execution_count": 35,
   "id": "0bd8563d-f947-4b9d-a4f9-fdc12f2762fa",
   "metadata": {},
   "outputs": [
    {
     "data": {
      "text/plain": [
       "110.45"
      ]
     },
     "execution_count": 35,
     "metadata": {},
     "output_type": "execute_result"
    }
   ],
   "source": [
    "f"
   ]
  },
  {
   "cell_type": "code",
   "execution_count": 39,
   "id": "eaac27ad-ca48-487a-9e09-02162fa65705",
   "metadata": {},
   "outputs": [
    {
     "data": {
      "text/plain": [
       "110.45"
      ]
     },
     "execution_count": 39,
     "metadata": {},
     "output_type": "execute_result"
    }
   ],
   "source": [
    "i \n",
    "f"
   ]
  },
  {
   "cell_type": "code",
   "execution_count": 40,
   "id": "e7a1fbb0-4891-469b-8e07-d8191d784a8e",
   "metadata": {},
   "outputs": [
    {
     "name": "stdout",
     "output_type": "stream",
     "text": [
      "5\n",
      "110.45\n"
     ]
    }
   ],
   "source": [
    "print(i)\n",
    "print(f)"
   ]
  },
  {
   "cell_type": "code",
   "execution_count": 41,
   "id": "e45bb3a0-4cd7-4f16-abd2-5d5d5d89dfe5",
   "metadata": {},
   "outputs": [
    {
     "data": {
      "text/plain": [
       "115.45"
      ]
     },
     "execution_count": 41,
     "metadata": {},
     "output_type": "execute_result"
    }
   ],
   "source": [
    "i + f"
   ]
  },
  {
   "cell_type": "code",
   "execution_count": 42,
   "id": "07cd5b5a-c2e1-4eae-921f-64f0f4a81e8d",
   "metadata": {},
   "outputs": [
    {
     "data": {
      "text/plain": [
       "-105.45"
      ]
     },
     "execution_count": 42,
     "metadata": {},
     "output_type": "execute_result"
    }
   ],
   "source": [
    "i - f"
   ]
  },
  {
   "cell_type": "code",
   "execution_count": 46,
   "id": "b36d7a8b-2960-4639-a6c9-e0f03d75a68f",
   "metadata": {},
   "outputs": [
    {
     "data": {
      "text/plain": [
       "552.25"
      ]
     },
     "execution_count": 46,
     "metadata": {},
     "output_type": "execute_result"
    }
   ],
   "source": [
    "i * f "
   ]
  },
  {
   "cell_type": "markdown",
   "id": "d123741c-59f8-4d97-a05f-1136e7a908a3",
   "metadata": {},
   "source": [
    "# bool"
   ]
  },
  {
   "cell_type": "code",
   "execution_count": 47,
   "id": "7ff6803d-b294-4235-9437-7f975b362e33",
   "metadata": {},
   "outputs": [
    {
     "ename": "NameError",
     "evalue": "name 'true' is not defined",
     "output_type": "error",
     "traceback": [
      "\u001b[1;31m---------------------------------------------------------------------------\u001b[0m",
      "\u001b[1;31mNameError\u001b[0m                                 Traceback (most recent call last)",
      "Cell \u001b[1;32mIn[47], line 1\u001b[0m\n\u001b[1;32m----> 1\u001b[0m true\n",
      "\u001b[1;31mNameError\u001b[0m: name 'true' is not defined"
     ]
    }
   ],
   "source": [
    "true"
   ]
  },
  {
   "cell_type": "code",
   "execution_count": 48,
   "id": "133a7750-a4ed-4d9b-abd5-9cc8391fd7f5",
   "metadata": {},
   "outputs": [
    {
     "data": {
      "text/plain": [
       "True"
      ]
     },
     "execution_count": 48,
     "metadata": {},
     "output_type": "execute_result"
    }
   ],
   "source": [
    "True"
   ]
  },
  {
   "cell_type": "code",
   "execution_count": 49,
   "id": "7bb8d02f-8e15-45d1-a4e0-d5a7d823808a",
   "metadata": {},
   "outputs": [
    {
     "data": {
      "text/plain": [
       "False"
      ]
     },
     "execution_count": 49,
     "metadata": {},
     "output_type": "execute_result"
    }
   ],
   "source": [
    "False"
   ]
  },
  {
   "cell_type": "code",
   "execution_count": 50,
   "id": "504e92ac-805a-4523-ac44-51f168851ca8",
   "metadata": {},
   "outputs": [
    {
     "data": {
      "text/plain": [
       "1"
      ]
     },
     "execution_count": 50,
     "metadata": {},
     "output_type": "execute_result"
    }
   ],
   "source": [
    "True + False"
   ]
  },
  {
   "cell_type": "code",
   "execution_count": 51,
   "id": "cb298fe7-6575-4636-9e17-5677d4931e8a",
   "metadata": {},
   "outputs": [
    {
     "data": {
      "text/plain": [
       "0"
      ]
     },
     "execution_count": 51,
     "metadata": {},
     "output_type": "execute_result"
    }
   ],
   "source": [
    "False + False"
   ]
  },
  {
   "cell_type": "code",
   "execution_count": 52,
   "id": "bcc3d466-add0-4b6a-83ec-511000b150a6",
   "metadata": {},
   "outputs": [
    {
     "data": {
      "text/plain": [
       "0"
      ]
     },
     "execution_count": 52,
     "metadata": {},
     "output_type": "execute_result"
    }
   ],
   "source": [
    "False * True"
   ]
  },
  {
   "cell_type": "code",
   "execution_count": 53,
   "id": "9e346a8b-425e-464c-b54a-934ffc1ef2f2",
   "metadata": {},
   "outputs": [
    {
     "data": {
      "text/plain": [
       "1.0"
      ]
     },
     "execution_count": 53,
     "metadata": {},
     "output_type": "execute_result"
    }
   ],
   "source": [
    "True / True"
   ]
  },
  {
   "cell_type": "code",
   "execution_count": 54,
   "id": "0b05eebc-48ba-431e-a80a-a4d1541bd216",
   "metadata": {},
   "outputs": [
    {
     "data": {
      "text/plain": [
       "1"
      ]
     },
     "execution_count": 54,
     "metadata": {},
     "output_type": "execute_result"
    }
   ],
   "source": [
    "True // True"
   ]
  },
  {
   "cell_type": "code",
   "execution_count": 56,
   "id": "5c6f9237-8531-4d5c-a2b2-4d3a30517cd9",
   "metadata": {},
   "outputs": [
    {
     "ename": "NameError",
     "evalue": "name 'hello' is not defined",
     "output_type": "error",
     "traceback": [
      "\u001b[1;31m---------------------------------------------------------------------------\u001b[0m",
      "\u001b[1;31mNameError\u001b[0m                                 Traceback (most recent call last)",
      "Cell \u001b[1;32mIn[56], line 1\u001b[0m\n\u001b[1;32m----> 1\u001b[0m s \u001b[38;5;241m=\u001b[39m hello\n\u001b[0;32m      2\u001b[0m s\n",
      "\u001b[1;31mNameError\u001b[0m: name 'hello' is not defined"
     ]
    }
   ],
   "source": [
    "s = hello\n",
    "s"
   ]
  },
  {
   "cell_type": "code",
   "execution_count": 57,
   "id": "61b47567-abf8-4333-9fb5-858b0b551ab3",
   "metadata": {},
   "outputs": [
    {
     "data": {
      "text/plain": [
       "'hello'"
      ]
     },
     "execution_count": 57,
     "metadata": {},
     "output_type": "execute_result"
    }
   ],
   "source": [
    "s = 'hello'\n",
    "s"
   ]
  },
  {
   "cell_type": "code",
   "execution_count": 58,
   "id": "7daa948e-0e3f-4e89-8c32-08b792105636",
   "metadata": {},
   "outputs": [
    {
     "data": {
      "text/plain": [
       "'hello'"
      ]
     },
     "execution_count": 58,
     "metadata": {},
     "output_type": "execute_result"
    }
   ],
   "source": [
    "s1 = \"hello\"\n",
    "s1"
   ]
  },
  {
   "cell_type": "code",
   "execution_count": 59,
   "id": "6da9ab99-d86b-4f57-93c0-e30e0e0ea08d",
   "metadata": {},
   "outputs": [
    {
     "data": {
      "text/plain": [
       "' hello '"
      ]
     },
     "execution_count": 59,
     "metadata": {},
     "output_type": "execute_result"
    }
   ],
   "source": [
    "s2 = ''' hello '''\n",
    "s2"
   ]
  },
  {
   "cell_type": "code",
   "execution_count": 63,
   "id": "43b57a68-71c7-4ff6-aa87-cde3b7206675",
   "metadata": {},
   "outputs": [
    {
     "data": {
      "text/plain": [
       "'hello \\n            team'"
      ]
     },
     "execution_count": 63,
     "metadata": {},
     "output_type": "execute_result"
    }
   ],
   "source": [
    "s3 = '''hello \n",
    "            team'''\n",
    "s3"
   ]
  },
  {
   "cell_type": "code",
   "execution_count": 64,
   "id": "1d289396-31ae-4c56-812d-5e842cc55bb1",
   "metadata": {},
   "outputs": [
    {
     "data": {
      "text/plain": [
       "(10+20j)"
      ]
     },
     "execution_count": 64,
     "metadata": {},
     "output_type": "execute_result"
    }
   ],
   "source": [
    "c = 10 + 20j\n",
    "c"
   ]
  },
  {
   "cell_type": "code",
   "execution_count": 66,
   "id": "3d92d66a-f50d-4807-9f7a-9127cc88b06e",
   "metadata": {},
   "outputs": [
    {
     "data": {
      "text/plain": [
       "10.0"
      ]
     },
     "execution_count": 66,
     "metadata": {},
     "output_type": "execute_result"
    }
   ],
   "source": [
    "c.real"
   ]
  },
  {
   "cell_type": "code",
   "execution_count": 67,
   "id": "c0edae75-a71c-43d6-9554-300e34dd2855",
   "metadata": {},
   "outputs": [
    {
     "data": {
      "text/plain": [
       "20.0"
      ]
     },
     "execution_count": 67,
     "metadata": {},
     "output_type": "execute_result"
    }
   ],
   "source": [
    "c.imag"
   ]
  },
  {
   "cell_type": "code",
   "execution_count": 68,
   "id": "f2445507-1fa1-4150-a88b-ade2ba1397fe",
   "metadata": {},
   "outputs": [],
   "source": [
    "c = 10 + 20j\n",
    "d = 20 + 30j"
   ]
  },
  {
   "cell_type": "code",
   "execution_count": 69,
   "id": "ffe14c6e-888a-4a3b-8fdb-0990a84df4e8",
   "metadata": {},
   "outputs": [
    {
     "name": "stdout",
     "output_type": "stream",
     "text": [
      "(30+50j)\n"
     ]
    }
   ],
   "source": [
    "print(c+d) "
   ]
  },
  {
   "cell_type": "code",
   "execution_count": 70,
   "id": "da36b474-459e-47c2-9eb4-1eb78a9aa761",
   "metadata": {},
   "outputs": [
    {
     "name": "stdout",
     "output_type": "stream",
     "text": [
      "(-10-10j)\n"
     ]
    }
   ],
   "source": [
    "print(c-d) "
   ]
  },
  {
   "cell_type": "code",
   "execution_count": 72,
   "id": "351bfd15-b907-4d47-9b66-3d268057e945",
   "metadata": {},
   "outputs": [
    {
     "name": "stdout",
     "output_type": "stream",
     "text": [
      "(-400+700j)\n"
     ]
    }
   ],
   "source": [
    "print(c*d)"
   ]
  },
  {
   "cell_type": "code",
   "execution_count": 76,
   "id": "5e34eb3d-0a68-43db-b5dc-ab8bddb1d6d9",
   "metadata": {},
   "outputs": [],
   "source": [
    "c2 = 1 + 2J"
   ]
  },
  {
   "cell_type": "markdown",
   "id": "2e4ffa43-8b56-4401-a496-df265c6080ed",
   "metadata": {},
   "source": [
    "# Python variable completed\n",
    "# Python datat type completed "
   ]
  },
  {
   "cell_type": "markdown",
   "id": "a956772a-670e-4aae-a422-804edae3427b",
   "metadata": {},
   "source": [
    "# 16th\n",
    "- python intro\n",
    "- python interpreter, compiler, ide\n",
    "- which ide we installed\n",
    "- how to check python version\n",
    "- name is caled variable ( variable == object == identifer)\n",
    "- python dataype\n",
    "- demo ( who learned, what topic, placement, class , duraion, project, capstone, certificat, roadmap,\n",
    "- course syllabus )\n",
    "- introduce to funct & fun argument"
   ]
  },
  {
   "cell_type": "markdown",
   "id": "6c708554-bd08-44f4-85b9-5d841b2b0f64",
   "metadata": {},
   "source": [
    "# Type Casting  == Convert one Dataype to Other Dataype "
   ]
  },
  {
   "cell_type": "code",
   "execution_count": 1,
   "id": "fc93610b-e1f7-473d-a3c6-9896834973ed",
   "metadata": {},
   "outputs": [
    {
     "data": {
      "text/plain": [
       "2"
      ]
     },
     "execution_count": 1,
     "metadata": {},
     "output_type": "execute_result"
    }
   ],
   "source": [
    "int(2.4) "
   ]
  },
  {
   "cell_type": "code",
   "execution_count": 2,
   "id": "cf827bc9-fa5c-424a-9c85-ae66f247c6f3",
   "metadata": {},
   "outputs": [
    {
     "ename": "TypeError",
     "evalue": "'float' object cannot be interpreted as an integer",
     "output_type": "error",
     "traceback": [
      "\u001b[1;31m---------------------------------------------------------------------------\u001b[0m",
      "\u001b[1;31mTypeError\u001b[0m                                 Traceback (most recent call last)",
      "Cell \u001b[1;32mIn[2], line 1\u001b[0m\n\u001b[1;32m----> 1\u001b[0m \u001b[38;5;28mint\u001b[39m(\u001b[38;5;241m2.4\u001b[39m, \u001b[38;5;241m3.5\u001b[39m)\n",
      "\u001b[1;31mTypeError\u001b[0m: 'float' object cannot be interpreted as an integer"
     ]
    }
   ],
   "source": [
    "int(2.4, 3.5) "
   ]
  },
  {
   "cell_type": "code",
   "execution_count": 3,
   "id": "2ade5423-e530-49f0-b7cf-b73fd11f0d10",
   "metadata": {},
   "outputs": [
    {
     "data": {
      "text/plain": [
       "1"
      ]
     },
     "execution_count": 3,
     "metadata": {},
     "output_type": "execute_result"
    }
   ],
   "source": [
    "int(True) "
   ]
  },
  {
   "cell_type": "code",
   "execution_count": 4,
   "id": "db849b8d-81a7-4eb1-91a1-e6f9d4468513",
   "metadata": {},
   "outputs": [
    {
     "ename": "NameError",
     "evalue": "name 'false' is not defined",
     "output_type": "error",
     "traceback": [
      "\u001b[1;31m---------------------------------------------------------------------------\u001b[0m",
      "\u001b[1;31mNameError\u001b[0m                                 Traceback (most recent call last)",
      "Cell \u001b[1;32mIn[4], line 1\u001b[0m\n\u001b[1;32m----> 1\u001b[0m \u001b[38;5;28mint\u001b[39m(false)\n",
      "\u001b[1;31mNameError\u001b[0m: name 'false' is not defined"
     ]
    }
   ],
   "source": [
    "int(false)"
   ]
  },
  {
   "cell_type": "code",
   "execution_count": 5,
   "id": "984233b4-057d-48d0-b8cb-1296d832c46d",
   "metadata": {},
   "outputs": [
    {
     "data": {
      "text/plain": [
       "0"
      ]
     },
     "execution_count": 5,
     "metadata": {},
     "output_type": "execute_result"
    }
   ],
   "source": [
    "int(False)"
   ]
  },
  {
   "cell_type": "code",
   "execution_count": 6,
   "id": "15a67e48-6130-425d-bcaa-82da05c05a59",
   "metadata": {},
   "outputs": [
    {
     "ename": "TypeError",
     "evalue": "int() can't convert non-string with explicit base",
     "output_type": "error",
     "traceback": [
      "\u001b[1;31m---------------------------------------------------------------------------\u001b[0m",
      "\u001b[1;31mTypeError\u001b[0m                                 Traceback (most recent call last)",
      "Cell \u001b[1;32mIn[6], line 1\u001b[0m\n\u001b[1;32m----> 1\u001b[0m \u001b[38;5;28mint\u001b[39m(\u001b[38;5;28;01mTrue\u001b[39;00m, \u001b[38;5;28;01mFalse\u001b[39;00m)\n",
      "\u001b[1;31mTypeError\u001b[0m: int() can't convert non-string with explicit base"
     ]
    }
   ],
   "source": [
    "int(True, False) "
   ]
  },
  {
   "cell_type": "code",
   "execution_count": 7,
   "id": "87f3bf74-e00b-475a-b02c-66560e12143b",
   "metadata": {},
   "outputs": [
    {
     "data": {
      "text/plain": [
       "10"
      ]
     },
     "execution_count": 7,
     "metadata": {},
     "output_type": "execute_result"
    }
   ],
   "source": [
    "int('10') "
   ]
  },
  {
   "cell_type": "code",
   "execution_count": 8,
   "id": "5f51d8a6-5f87-43b1-ad38-9f961faa8b80",
   "metadata": {},
   "outputs": [
    {
     "ename": "ValueError",
     "evalue": "invalid literal for int() with base 10: 'ten'",
     "output_type": "error",
     "traceback": [
      "\u001b[1;31m---------------------------------------------------------------------------\u001b[0m",
      "\u001b[1;31mValueError\u001b[0m                                Traceback (most recent call last)",
      "Cell \u001b[1;32mIn[8], line 1\u001b[0m\n\u001b[1;32m----> 1\u001b[0m \u001b[38;5;28mint\u001b[39m(\u001b[38;5;124m'\u001b[39m\u001b[38;5;124mten\u001b[39m\u001b[38;5;124m'\u001b[39m)\n",
      "\u001b[1;31mValueError\u001b[0m: invalid literal for int() with base 10: 'ten'"
     ]
    }
   ],
   "source": [
    "int('ten')"
   ]
  },
  {
   "cell_type": "code",
   "execution_count": 9,
   "id": "58dc13d4-834b-4d5d-acb0-e4e1f2e6ca1b",
   "metadata": {},
   "outputs": [
    {
     "ename": "TypeError",
     "evalue": "int() argument must be a string, a bytes-like object or a real number, not 'complex'",
     "output_type": "error",
     "traceback": [
      "\u001b[1;31m---------------------------------------------------------------------------\u001b[0m",
      "\u001b[1;31mTypeError\u001b[0m                                 Traceback (most recent call last)",
      "Cell \u001b[1;32mIn[9], line 1\u001b[0m\n\u001b[1;32m----> 1\u001b[0m \u001b[38;5;28mint\u001b[39m(\u001b[38;5;241m1\u001b[39m\u001b[38;5;241m+\u001b[39m\u001b[38;5;241m2\u001b[39mj)\n",
      "\u001b[1;31mTypeError\u001b[0m: int() argument must be a string, a bytes-like object or a real number, not 'complex'"
     ]
    }
   ],
   "source": [
    "int(1+2j) "
   ]
  },
  {
   "cell_type": "code",
   "execution_count": null,
   "id": "83168413-a248-49a5-b964-00551d5f0185",
   "metadata": {},
   "outputs": [],
   "source": [
    "# all other datatype to flaot"
   ]
  },
  {
   "cell_type": "code",
   "execution_count": 10,
   "id": "b452a9bf-e76a-47aa-99ce-91eb31b1cf99",
   "metadata": {},
   "outputs": [
    {
     "data": {
      "text/plain": [
       "200000.0"
      ]
     },
     "execution_count": 10,
     "metadata": {},
     "output_type": "execute_result"
    }
   ],
   "source": [
    "float(200000) "
   ]
  },
  {
   "cell_type": "code",
   "execution_count": 12,
   "id": "22325aeb-def9-4920-ac18-6b128d7c4115",
   "metadata": {},
   "outputs": [
    {
     "ename": "TypeError",
     "evalue": "float expected at most 1 argument, got 2",
     "output_type": "error",
     "traceback": [
      "\u001b[1;31m---------------------------------------------------------------------------\u001b[0m",
      "\u001b[1;31mTypeError\u001b[0m                                 Traceback (most recent call last)",
      "Cell \u001b[1;32mIn[12], line 1\u001b[0m\n\u001b[1;32m----> 1\u001b[0m \u001b[38;5;28mfloat\u001b[39m(\u001b[38;5;241m10\u001b[39m, \u001b[38;5;241m20\u001b[39m)\n",
      "\u001b[1;31mTypeError\u001b[0m: float expected at most 1 argument, got 2"
     ]
    }
   ],
   "source": [
    "float(10, 20) "
   ]
  },
  {
   "cell_type": "code",
   "execution_count": 11,
   "id": "e37bb025-89c8-4d05-888a-5aa7bce9516e",
   "metadata": {},
   "outputs": [
    {
     "ename": "TypeError",
     "evalue": "float() argument must be a string or a real number, not 'complex'",
     "output_type": "error",
     "traceback": [
      "\u001b[1;31m---------------------------------------------------------------------------\u001b[0m",
      "\u001b[1;31mTypeError\u001b[0m                                 Traceback (most recent call last)",
      "Cell \u001b[1;32mIn[11], line 1\u001b[0m\n\u001b[1;32m----> 1\u001b[0m \u001b[38;5;28mfloat\u001b[39m(\u001b[38;5;241m1\u001b[39m\u001b[38;5;241m+\u001b[39m\u001b[38;5;241m2\u001b[39mj)\n",
      "\u001b[1;31mTypeError\u001b[0m: float() argument must be a string or a real number, not 'complex'"
     ]
    }
   ],
   "source": [
    "float(1+2j) "
   ]
  },
  {
   "cell_type": "code",
   "execution_count": 13,
   "id": "9f9875d7-1e28-4902-a22b-d9d05bbb8cf8",
   "metadata": {},
   "outputs": [
    {
     "data": {
      "text/plain": [
       "1.0"
      ]
     },
     "execution_count": 13,
     "metadata": {},
     "output_type": "execute_result"
    }
   ],
   "source": [
    "float(True) "
   ]
  },
  {
   "cell_type": "code",
   "execution_count": 14,
   "id": "f24b7abc-423c-4288-ab54-538229b28bcc",
   "metadata": {},
   "outputs": [
    {
     "data": {
      "text/plain": [
       "0.0"
      ]
     },
     "execution_count": 14,
     "metadata": {},
     "output_type": "execute_result"
    }
   ],
   "source": [
    "float(False) "
   ]
  },
  {
   "cell_type": "code",
   "execution_count": 15,
   "id": "44848660-d787-4299-a0a9-8ab7c756e6ad",
   "metadata": {},
   "outputs": [
    {
     "data": {
      "text/plain": [
       "10.0"
      ]
     },
     "execution_count": 15,
     "metadata": {},
     "output_type": "execute_result"
    }
   ],
   "source": [
    "float('10')"
   ]
  },
  {
   "cell_type": "code",
   "execution_count": 16,
   "id": "14038984-c2e2-4320-a2b0-977ba8e9dc60",
   "metadata": {},
   "outputs": [
    {
     "ename": "ValueError",
     "evalue": "could not convert string to float: 'ten'",
     "output_type": "error",
     "traceback": [
      "\u001b[1;31m---------------------------------------------------------------------------\u001b[0m",
      "\u001b[1;31mValueError\u001b[0m                                Traceback (most recent call last)",
      "Cell \u001b[1;32mIn[16], line 1\u001b[0m\n\u001b[1;32m----> 1\u001b[0m \u001b[38;5;28mfloat\u001b[39m(\u001b[38;5;124m'\u001b[39m\u001b[38;5;124mten\u001b[39m\u001b[38;5;124m'\u001b[39m)\n",
      "\u001b[1;31mValueError\u001b[0m: could not convert string to float: 'ten'"
     ]
    }
   ],
   "source": [
    "float('ten')"
   ]
  },
  {
   "cell_type": "code",
   "execution_count": 17,
   "id": "8d7ccb55-e440-4387-b46d-5026b4a55e95",
   "metadata": {},
   "outputs": [
    {
     "data": {
      "text/plain": [
       "'8'"
      ]
     },
     "execution_count": 17,
     "metadata": {},
     "output_type": "execute_result"
    }
   ],
   "source": [
    "str(8)"
   ]
  },
  {
   "cell_type": "code",
   "execution_count": 19,
   "id": "7db83d87-203d-4d12-997f-dc0675d22e35",
   "metadata": {},
   "outputs": [
    {
     "data": {
      "text/plain": [
       "'8.8'"
      ]
     },
     "execution_count": 19,
     "metadata": {},
     "output_type": "execute_result"
    }
   ],
   "source": [
    "str(8.8)"
   ]
  },
  {
   "cell_type": "code",
   "execution_count": 20,
   "id": "20e7bde9-2026-46e9-b478-f0996c0edc57",
   "metadata": {},
   "outputs": [
    {
     "data": {
      "text/plain": [
       "'(1+2j)'"
      ]
     },
     "execution_count": 20,
     "metadata": {},
     "output_type": "execute_result"
    }
   ],
   "source": [
    "str(1+2j) "
   ]
  },
  {
   "cell_type": "code",
   "execution_count": 23,
   "id": "071b9539-efa4-45d5-96f2-ec29379ada3a",
   "metadata": {},
   "outputs": [
    {
     "ename": "TypeError",
     "evalue": "str() argument 'encoding' must be str, not bool",
     "output_type": "error",
     "traceback": [
      "\u001b[1;31m---------------------------------------------------------------------------\u001b[0m",
      "\u001b[1;31mTypeError\u001b[0m                                 Traceback (most recent call last)",
      "Cell \u001b[1;32mIn[23], line 1\u001b[0m\n\u001b[1;32m----> 1\u001b[0m \u001b[38;5;28mstr\u001b[39m(\u001b[38;5;28;01mTrue\u001b[39;00m, \u001b[38;5;28;01mFalse\u001b[39;00m)\n",
      "\u001b[1;31mTypeError\u001b[0m: str() argument 'encoding' must be str, not bool"
     ]
    }
   ],
   "source": [
    "str(True, False)"
   ]
  },
  {
   "cell_type": "code",
   "execution_count": 22,
   "id": "f6924147-469a-43ef-b9c9-649a498fc6e0",
   "metadata": {},
   "outputs": [
    {
     "data": {
      "text/plain": [
       "''"
      ]
     },
     "execution_count": 22,
     "metadata": {},
     "output_type": "execute_result"
    }
   ],
   "source": [
    "str()"
   ]
  },
  {
   "cell_type": "code",
   "execution_count": 24,
   "id": "a260b745-3818-4227-8aea-582f9b0e7827",
   "metadata": {},
   "outputs": [
    {
     "name": "stdout",
     "output_type": "stream",
     "text": [
      "True\n"
     ]
    }
   ],
   "source": [
    "bool(10)  "
   ]
  },
  {
   "cell_type": "code",
   "execution_count": 25,
   "id": "ede077d8-14a8-4354-87b8-a1d0c38dc5bb",
   "metadata": {},
   "outputs": [
    {
     "data": {
      "text/plain": [
       "True"
      ]
     },
     "execution_count": 25,
     "metadata": {},
     "output_type": "execute_result"
    }
   ],
   "source": [
    "bool(1.5)"
   ]
  },
  {
   "cell_type": "code",
   "execution_count": 26,
   "id": "4d49754e-7048-4582-aa3a-3a15372a904c",
   "metadata": {},
   "outputs": [
    {
     "data": {
      "text/plain": [
       "False"
      ]
     },
     "execution_count": 26,
     "metadata": {},
     "output_type": "execute_result"
    }
   ],
   "source": [
    "bool()"
   ]
  },
  {
   "cell_type": "code",
   "execution_count": 27,
   "id": "0f71d064-0c6a-4c0a-8208-73bbf30a1b8a",
   "metadata": {},
   "outputs": [
    {
     "data": {
      "text/plain": [
       "True"
      ]
     },
     "execution_count": 27,
     "metadata": {},
     "output_type": "execute_result"
    }
   ],
   "source": [
    "bool('10')"
   ]
  },
  {
   "cell_type": "code",
   "execution_count": 28,
   "id": "7a2a537e-878c-4991-92b5-d2f294c3cfc8",
   "metadata": {},
   "outputs": [
    {
     "data": {
      "text/plain": [
       "True"
      ]
     },
     "execution_count": 28,
     "metadata": {},
     "output_type": "execute_result"
    }
   ],
   "source": [
    "bool('ten')"
   ]
  },
  {
   "cell_type": "code",
   "execution_count": 29,
   "id": "5bd545f9-ed3c-44b3-b85c-f3a9db28ec06",
   "metadata": {},
   "outputs": [
    {
     "data": {
      "text/plain": [
       "False"
      ]
     },
     "execution_count": 29,
     "metadata": {},
     "output_type": "execute_result"
    }
   ],
   "source": [
    "bool(0)"
   ]
  },
  {
   "cell_type": "code",
   "execution_count": 30,
   "id": "09147ecc-c438-4ead-b77c-a2bc6d0b4a44",
   "metadata": {},
   "outputs": [
    {
     "data": {
      "text/plain": [
       "True"
      ]
     },
     "execution_count": 30,
     "metadata": {},
     "output_type": "execute_result"
    }
   ],
   "source": [
    "bool(1+2j)"
   ]
  },
  {
   "cell_type": "code",
   "execution_count": 31,
   "id": "0cff534f-6da3-4f9c-ab50-8bc3a490ce30",
   "metadata": {},
   "outputs": [
    {
     "data": {
      "text/plain": [
       "(10+0j)"
      ]
     },
     "execution_count": 31,
     "metadata": {},
     "output_type": "execute_result"
    }
   ],
   "source": [
    "complex(10) "
   ]
  },
  {
   "cell_type": "code",
   "execution_count": 32,
   "id": "194cd6d2-171d-4698-ac1f-fbcb6dc1aa91",
   "metadata": {},
   "outputs": [
    {
     "data": {
      "text/plain": [
       "(10+20j)"
      ]
     },
     "execution_count": 32,
     "metadata": {},
     "output_type": "execute_result"
    }
   ],
   "source": [
    "complex(10,20) "
   ]
  },
  {
   "cell_type": "code",
   "execution_count": 33,
   "id": "27c32869-258c-4d5c-8cc8-d60823543fb7",
   "metadata": {},
   "outputs": [
    {
     "ename": "TypeError",
     "evalue": "complex() takes at most 2 arguments (3 given)",
     "output_type": "error",
     "traceback": [
      "\u001b[1;31m---------------------------------------------------------------------------\u001b[0m",
      "\u001b[1;31mTypeError\u001b[0m                                 Traceback (most recent call last)",
      "Cell \u001b[1;32mIn[33], line 1\u001b[0m\n\u001b[1;32m----> 1\u001b[0m \u001b[38;5;28mcomplex\u001b[39m(\u001b[38;5;241m10\u001b[39m,\u001b[38;5;241m20\u001b[39m,\u001b[38;5;241m30\u001b[39m)\n",
      "\u001b[1;31mTypeError\u001b[0m: complex() takes at most 2 arguments (3 given)"
     ]
    }
   ],
   "source": [
    "complex(10,20,30)"
   ]
  },
  {
   "cell_type": "code",
   "execution_count": 35,
   "id": "3370a96a-c54b-4264-be29-d8494846e03e",
   "metadata": {},
   "outputs": [
    {
     "data": {
      "text/plain": [
       "(10.2+30.8j)"
      ]
     },
     "execution_count": 35,
     "metadata": {},
     "output_type": "execute_result"
    }
   ],
   "source": [
    "complex(10.20,  30.8) "
   ]
  },
  {
   "cell_type": "code",
   "execution_count": 36,
   "id": "0c7cd979-36b8-44a9-9b87-71f6b41beb72",
   "metadata": {},
   "outputs": [
    {
     "data": {
      "text/plain": [
       "(1+0j)"
      ]
     },
     "execution_count": 36,
     "metadata": {},
     "output_type": "execute_result"
    }
   ],
   "source": [
    "complex(True)"
   ]
  },
  {
   "cell_type": "code",
   "execution_count": 37,
   "id": "e60150b4-767c-4e09-a797-81851854e098",
   "metadata": {},
   "outputs": [
    {
     "data": {
      "text/plain": [
       "0j"
      ]
     },
     "execution_count": 37,
     "metadata": {},
     "output_type": "execute_result"
    }
   ],
   "source": [
    "complex(False)"
   ]
  },
  {
   "cell_type": "code",
   "execution_count": 38,
   "id": "6f5f4798-bbbc-4b62-9427-4a6dc261092f",
   "metadata": {},
   "outputs": [
    {
     "data": {
      "text/plain": [
       "(10+0j)"
      ]
     },
     "execution_count": 38,
     "metadata": {},
     "output_type": "execute_result"
    }
   ],
   "source": [
    "complex('10')"
   ]
  },
  {
   "cell_type": "code",
   "execution_count": 39,
   "id": "6c4a6f3b-422a-419d-a8d2-f8f92347e0ad",
   "metadata": {},
   "outputs": [
    {
     "ename": "TypeError",
     "evalue": "complex() can't take second arg if first is a string",
     "output_type": "error",
     "traceback": [
      "\u001b[1;31m---------------------------------------------------------------------------\u001b[0m",
      "\u001b[1;31mTypeError\u001b[0m                                 Traceback (most recent call last)",
      "Cell \u001b[1;32mIn[39], line 1\u001b[0m\n\u001b[1;32m----> 1\u001b[0m \u001b[38;5;28mcomplex\u001b[39m(\u001b[38;5;124m'\u001b[39m\u001b[38;5;124m10\u001b[39m\u001b[38;5;124m'\u001b[39m, \u001b[38;5;124m'\u001b[39m\u001b[38;5;124m20\u001b[39m\u001b[38;5;124m'\u001b[39m)\n",
      "\u001b[1;31mTypeError\u001b[0m: complex() can't take second arg if first is a string"
     ]
    }
   ],
   "source": [
    "complex('10', '20')"
   ]
  },
  {
   "cell_type": "code",
   "execution_count": 40,
   "id": "22ca4ab6-56e0-46bc-9184-3f1e4aa478c0",
   "metadata": {},
   "outputs": [
    {
     "data": {
      "text/plain": [
       "(1+0j)"
      ]
     },
     "execution_count": 40,
     "metadata": {},
     "output_type": "execute_result"
    }
   ],
   "source": [
    "complex(True, False)"
   ]
  },
  {
   "cell_type": "markdown",
   "id": "e3db9766-8af3-430f-8fcc-fac4a8076cc5",
   "metadata": {},
   "source": [
    "### e -> exponential"
   ]
  },
  {
   "cell_type": "code",
   "execution_count": 1,
   "id": "7f4bf397-459e-4a20-9af9-f16ff4ac8a76",
   "metadata": {},
   "outputs": [
    {
     "data": {
      "text/plain": [
       "20.0"
      ]
     },
     "execution_count": 1,
     "metadata": {},
     "output_type": "execute_result"
    }
   ],
   "source": [
    "f1 = 2e1\n",
    "f1"
   ]
  },
  {
   "cell_type": "code",
   "execution_count": 5,
   "id": "8f29a70a-f66c-4b20-9979-f153da9a3ce4",
   "metadata": {},
   "outputs": [
    {
     "data": {
      "text/plain": [
       "240.0"
      ]
     },
     "execution_count": 5,
     "metadata": {},
     "output_type": "execute_result"
    }
   ],
   "source": [
    "f2 = 2.4e2\n",
    "f2"
   ]
  },
  {
   "cell_type": "code",
   "execution_count": 7,
   "id": "f55fb363-93d6-4327-aaf0-da8e044c2bff",
   "metadata": {},
   "outputs": [
    {
     "data": {
      "text/plain": [
       "2500.0"
      ]
     },
     "execution_count": 7,
     "metadata": {},
     "output_type": "execute_result"
    }
   ],
   "source": [
    "f3 = 2.5e3\n",
    "f3"
   ]
  },
  {
   "cell_type": "code",
   "execution_count": 10,
   "id": "486e83ad-ee78-4c74-86ad-99f5210adf88",
   "metadata": {},
   "outputs": [
    {
     "data": {
      "text/plain": [
       "nan"
      ]
     },
     "execution_count": 10,
     "metadata": {},
     "output_type": "execute_result"
    }
   ],
   "source": [
    "import numpy as np\n",
    "\n",
    "a = np.nan\n",
    "a"
   ]
  },
  {
   "cell_type": "code",
   "execution_count": 11,
   "id": "ebf266d8-7f0d-462d-8dcd-706c57901472",
   "metadata": {},
   "outputs": [
    {
     "data": {
      "text/plain": [
       "34"
      ]
     },
     "execution_count": 11,
     "metadata": {},
     "output_type": "execute_result"
    }
   ],
   "source": [
    "i = 34\n",
    "i"
   ]
  },
  {
   "cell_type": "code",
   "execution_count": 12,
   "id": "7584cb1f-7f89-4d09-be72-0913454d0b59",
   "metadata": {},
   "outputs": [
    {
     "data": {
      "text/plain": [
       "140712069609416"
      ]
     },
     "execution_count": 12,
     "metadata": {},
     "output_type": "execute_result"
    }
   ],
   "source": [
    "id(i)"
   ]
  },
  {
   "cell_type": "markdown",
   "id": "0107d603-58e9-47a5-93b8-bea55a0c8201",
   "metadata": {},
   "source": [
    "## If you assign same value to different variable then the memory address is same"
   ]
  },
  {
   "cell_type": "code",
   "execution_count": 13,
   "id": "9e41a5d6-6a02-4ffc-95d1-5912335a703c",
   "metadata": {},
   "outputs": [],
   "source": [
    "p = 20\n",
    "q = 20\n",
    "r = 20"
   ]
  },
  {
   "cell_type": "code",
   "execution_count": 14,
   "id": "307b1293-6280-4a7c-8a7f-f26667e74999",
   "metadata": {},
   "outputs": [
    {
     "name": "stdout",
     "output_type": "stream",
     "text": [
      "140712069608968 140712069608968 140712069608968\n"
     ]
    }
   ],
   "source": [
    "print(id(p), id(q), id(r))"
   ]
  },
  {
   "cell_type": "markdown",
   "id": "6cbf0a55-91ba-40a9-a4a5-535ada64bf03",
   "metadata": {},
   "source": [
    "## Indexing"
   ]
  },
  {
   "cell_type": "code",
   "execution_count": 15,
   "id": "4fe89f45-3e41-4a3d-b329-dd55fa86a5e6",
   "metadata": {},
   "outputs": [
    {
     "data": {
      "text/plain": [
       "'hello'"
      ]
     },
     "execution_count": 15,
     "metadata": {},
     "output_type": "execute_result"
    }
   ],
   "source": [
    "str = \"hello\"\n",
    "str"
   ]
  },
  {
   "cell_type": "markdown",
   "id": "6a92c5b9-63e1-4cd4-8e34-68c62a1941f9",
   "metadata": {},
   "source": [
    "forward"
   ]
  },
  {
   "cell_type": "code",
   "execution_count": 21,
   "id": "6c56ac1e-44fc-49bd-af05-30a094efe654",
   "metadata": {},
   "outputs": [
    {
     "name": "stdout",
     "output_type": "stream",
     "text": [
      "h\n",
      "e\n",
      "l\n",
      "l\n",
      "o\n"
     ]
    }
   ],
   "source": [
    "print(str[0])\n",
    "print(str[1])\n",
    "print(str[2])\n",
    "print(str[3])\n",
    "print(str[4])"
   ]
  },
  {
   "cell_type": "markdown",
   "id": "a7cc860e-e0c1-4ae3-9885-86548b90e049",
   "metadata": {},
   "source": [
    "Reverse"
   ]
  },
  {
   "cell_type": "code",
   "execution_count": 23,
   "id": "c5b957cd-a841-4578-9e3f-767e9a744364",
   "metadata": {},
   "outputs": [
    {
     "name": "stdout",
     "output_type": "stream",
     "text": [
      "o\n",
      "l\n",
      "l\n",
      "e\n",
      "h\n"
     ]
    }
   ],
   "source": [
    "print(str[-1])\n",
    "print(str[-2])\n",
    "print(str[-3])\n",
    "print(str[-4])\n",
    "print(str[-5])"
   ]
  },
  {
   "cell_type": "markdown",
   "id": "72d6c502-b785-4865-946d-71a28e4be4d1",
   "metadata": {},
   "source": [
    "## slicing"
   ]
  },
  {
   "cell_type": "code",
   "execution_count": 24,
   "id": "3ff142cc-bf2e-450a-abac-b4f77f1b3ef3",
   "metadata": {},
   "outputs": [
    {
     "data": {
      "text/plain": [
       "'hello'"
      ]
     },
     "execution_count": 24,
     "metadata": {},
     "output_type": "execute_result"
    }
   ],
   "source": [
    "str"
   ]
  },
  {
   "cell_type": "code",
   "execution_count": 25,
   "id": "13b97c7d-1841-4b2d-9d67-20dbe0aef0d3",
   "metadata": {},
   "outputs": [
    {
     "data": {
      "text/plain": [
       "'el'"
      ]
     },
     "execution_count": 25,
     "metadata": {},
     "output_type": "execute_result"
    }
   ],
   "source": [
    "str[1:3]"
   ]
  },
  {
   "cell_type": "code",
   "execution_count": 28,
   "id": "00771629-030a-4cb4-97cc-58c6050a2f30",
   "metadata": {},
   "outputs": [
    {
     "data": {
      "text/plain": [
       "'hell'"
      ]
     },
     "execution_count": 28,
     "metadata": {},
     "output_type": "execute_result"
    }
   ],
   "source": [
    "str[0:4] # str[m: (n-1)]"
   ]
  },
  {
   "cell_type": "code",
   "execution_count": 29,
   "id": "dfff6b00-f24e-444d-b2e8-81ed471d070d",
   "metadata": {},
   "outputs": [
    {
     "data": {
      "text/plain": [
       "'hellopython'"
      ]
     },
     "execution_count": 29,
     "metadata": {},
     "output_type": "execute_result"
    }
   ],
   "source": [
    "s = 'hellopython'\n",
    "s"
   ]
  },
  {
   "cell_type": "code",
   "execution_count": 30,
   "id": "af16e444-02c8-4e69-9497-5a572f4ddeab",
   "metadata": {},
   "outputs": [
    {
     "data": {
      "text/plain": [
       "'hellop'"
      ]
     },
     "execution_count": 30,
     "metadata": {},
     "output_type": "execute_result"
    }
   ],
   "source": [
    "s[0:6]"
   ]
  },
  {
   "cell_type": "code",
   "execution_count": 31,
   "id": "f3ed4eef-ed85-4774-a24d-be469c8f6b03",
   "metadata": {},
   "outputs": [
    {
     "data": {
      "text/plain": [
       "'hlyo'"
      ]
     },
     "execution_count": 31,
     "metadata": {},
     "output_type": "execute_result"
    }
   ],
   "source": [
    "s[0:10:3]"
   ]
  },
  {
   "cell_type": "code",
   "execution_count": 32,
   "id": "8b8ef4b9-7c01-4b70-9174-d1620845f6bc",
   "metadata": {},
   "outputs": [
    {
     "data": {
      "text/plain": [
       "'elpt'"
      ]
     },
     "execution_count": 32,
     "metadata": {},
     "output_type": "execute_result"
    }
   ],
   "source": [
    "s[1:8:2]"
   ]
  },
  {
   "cell_type": "markdown",
   "id": "3b1a1528-b4b9-4fd7-8412-a6f96fb2e93c",
   "metadata": {},
   "source": [
    "## BackwordIndexing"
   ]
  },
  {
   "cell_type": "code",
   "execution_count": 33,
   "id": "eae70793-aee3-4a8f-a541-4311b064144a",
   "metadata": {},
   "outputs": [
    {
     "data": {
      "text/plain": [
       "'hellopython'"
      ]
     },
     "execution_count": 33,
     "metadata": {},
     "output_type": "execute_result"
    }
   ],
   "source": [
    "s"
   ]
  },
  {
   "cell_type": "code",
   "execution_count": 35,
   "id": "ca38bd72-435b-4feb-882f-3916d0acc842",
   "metadata": {},
   "outputs": [
    {
     "data": {
      "text/plain": [
       "'hloyhn'"
      ]
     },
     "execution_count": 35,
     "metadata": {},
     "output_type": "execute_result"
    }
   ],
   "source": [
    "s[::2]"
   ]
  },
  {
   "cell_type": "code",
   "execution_count": 36,
   "id": "09e678fc-54bd-4efd-be5e-c820ec4e0321",
   "metadata": {},
   "outputs": [
    {
     "data": {
      "text/plain": [
       "'hlyo'"
      ]
     },
     "execution_count": 36,
     "metadata": {},
     "output_type": "execute_result"
    }
   ],
   "source": [
    "s[::3]"
   ]
  },
  {
   "cell_type": "markdown",
   "id": "ead07764-224c-4028-ae79-dc037cd6dea5",
   "metadata": {},
   "source": [
    "## String Concactination"
   ]
  },
  {
   "cell_type": "code",
   "execution_count": 38,
   "id": "6ebbd37f-2c55-47f3-9517-f275becda7bb",
   "metadata": {},
   "outputs": [
    {
     "name": "stdout",
     "output_type": "stream",
     "text": [
      "hello hi\n"
     ]
    }
   ],
   "source": [
    "s3 = 'hello'\n",
    "s4 = ' hi'\n",
    "\n",
    "print(s3 + s4)"
   ]
  },
  {
   "cell_type": "markdown",
   "id": "a2e1201b-1750-4608-8c49-dcfbe422cf73",
   "metadata": {},
   "source": [
    "## Python Operator"
   ]
  },
  {
   "cell_type": "code",
   "execution_count": 2,
   "id": "a25c7f02-d136-47d2-9287-3158902a68bd",
   "metadata": {},
   "outputs": [],
   "source": [
    "x1, y1 =  10, 5"
   ]
  },
  {
   "cell_type": "code",
   "execution_count": 5,
   "id": "b4f32a83-30f8-4384-8b87-b268980c5739",
   "metadata": {},
   "outputs": [
    {
     "ename": "TypeError",
     "evalue": "cannot unpack non-iterable int object",
     "output_type": "error",
     "traceback": [
      "\u001b[1;31m---------------------------------------------------------------------------\u001b[0m",
      "\u001b[1;31mTypeError\u001b[0m                                 Traceback (most recent call last)",
      "Cell \u001b[1;32mIn[5], line 1\u001b[0m\n\u001b[1;32m----> 1\u001b[0m a, b \u001b[38;5;241m=\u001b[39m \u001b[38;5;241m6\u001b[39m\n",
      "\u001b[1;31mTypeError\u001b[0m: cannot unpack non-iterable int object"
     ]
    }
   ],
   "source": [
    "a, b = 6 # You can't assign like this\n",
    "         # No. of values is equal to the number of variable"
   ]
  },
  {
   "cell_type": "code",
   "execution_count": 6,
   "id": "2855864a-1795-43e8-9d96-dba2149a3689",
   "metadata": {},
   "outputs": [
    {
     "data": {
      "text/plain": [
       "15"
      ]
     },
     "execution_count": 6,
     "metadata": {},
     "output_type": "execute_result"
    }
   ],
   "source": [
    "x1 + y1"
   ]
  },
  {
   "cell_type": "code",
   "execution_count": 7,
   "id": "1c3750c9-e787-4836-86db-a24107438bfd",
   "metadata": {},
   "outputs": [
    {
     "data": {
      "text/plain": [
       "2.0"
      ]
     },
     "execution_count": 7,
     "metadata": {},
     "output_type": "execute_result"
    }
   ],
   "source": [
    "x1 / y1 # float division"
   ]
  },
  {
   "cell_type": "code",
   "execution_count": 8,
   "id": "7a1cd5cb-d012-4ea9-b061-17abc6aae530",
   "metadata": {},
   "outputs": [
    {
     "data": {
      "text/plain": [
       "2"
      ]
     },
     "execution_count": 8,
     "metadata": {},
     "output_type": "execute_result"
    }
   ],
   "source": [
    "x1 // y1 # int division"
   ]
  },
  {
   "cell_type": "code",
   "execution_count": 11,
   "id": "6025eee3-85ab-4390-9295-05598e4931b9",
   "metadata": {},
   "outputs": [
    {
     "data": {
      "text/plain": [
       "0"
      ]
     },
     "execution_count": 11,
     "metadata": {},
     "output_type": "execute_result"
    }
   ],
   "source": [
    "x1 % y1# Modulo"
   ]
  },
  {
   "cell_type": "code",
   "execution_count": 12,
   "id": "22fca669-5eb4-4588-9c7b-67a13f41aea7",
   "metadata": {},
   "outputs": [
    {
     "data": {
      "text/plain": [
       "100000"
      ]
     },
     "execution_count": 12,
     "metadata": {},
     "output_type": "execute_result"
    }
   ],
   "source": [
    "x1 ** y1 # Square"
   ]
  },
  {
   "cell_type": "markdown",
   "id": "7a8d4f61-895b-45d9-b49a-472216f2959f",
   "metadata": {},
   "source": [
    "# Assignment operator\n",
    "\n",
    "###  += , -=, *=, /=, //="
   ]
  },
  {
   "cell_type": "code",
   "execution_count": 13,
   "id": "3bad9da4-d8b7-42a4-8c70-8088eb6bbc67",
   "metadata": {},
   "outputs": [],
   "source": [
    "x = 2"
   ]
  },
  {
   "cell_type": "code",
   "execution_count": 14,
   "id": "04087a47-1250-4701-b8fc-1743836561d6",
   "metadata": {},
   "outputs": [],
   "source": [
    "x =  x+2"
   ]
  },
  {
   "cell_type": "code",
   "execution_count": 15,
   "id": "bbb5439d-f045-442d-8757-9671ea3b975d",
   "metadata": {},
   "outputs": [
    {
     "data": {
      "text/plain": [
       "4"
      ]
     },
     "execution_count": 15,
     "metadata": {},
     "output_type": "execute_result"
    }
   ],
   "source": [
    "x"
   ]
  },
  {
   "cell_type": "code",
   "execution_count": 17,
   "id": "d4b83794-0956-4c1a-8080-7302ec2fb55f",
   "metadata": {},
   "outputs": [
    {
     "data": {
      "text/plain": [
       "8"
      ]
     },
     "execution_count": 17,
     "metadata": {},
     "output_type": "execute_result"
    }
   ],
   "source": [
    "x += 2\n",
    "x"
   ]
  },
  {
   "cell_type": "markdown",
   "id": "c2ad267e-6f55-4a96-a190-efe898558faa",
   "metadata": {},
   "source": [
    "# Unary operatory\n",
    "\n",
    "* Unary means 1 || binary means 2\n",
    "* Here we are applying unary minus operator(-) to the variable"
   ]
  },
  {
   "cell_type": "code",
   "execution_count": 18,
   "id": "4d4609ee-98c3-48fc-a9cd-f9c3206baf12",
   "metadata": {},
   "outputs": [],
   "source": [
    "n = 7"
   ]
  },
  {
   "cell_type": "code",
   "execution_count": 19,
   "id": "62f135c1-5a30-4f23-9a70-a98f259d0cf8",
   "metadata": {},
   "outputs": [
    {
     "data": {
      "text/plain": [
       "-7"
      ]
     },
     "execution_count": 19,
     "metadata": {},
     "output_type": "execute_result"
    }
   ],
   "source": [
    "-n"
   ]
  },
  {
   "cell_type": "markdown",
   "id": "5f9611fc-a0d6-4208-9a23-8a186f38872c",
   "metadata": {},
   "source": [
    "# Relational operator\n",
    "\n",
    "we are using this operatory for comparing\n",
    "\n",
    "### <, >, <=, >=, ==, !="
   ]
  },
  {
   "cell_type": "code",
   "execution_count": 20,
   "id": "afb1854a-fae2-4e84-a43f-3f872ab0d7bf",
   "metadata": {},
   "outputs": [],
   "source": [
    "a = 5\n",
    "b = 6"
   ]
  },
  {
   "cell_type": "code",
   "execution_count": 21,
   "id": "d19e7eeb-6c89-4f10-a36b-6ce976442d06",
   "metadata": {},
   "outputs": [
    {
     "data": {
      "text/plain": [
       "True"
      ]
     },
     "execution_count": 21,
     "metadata": {},
     "output_type": "execute_result"
    }
   ],
   "source": [
    "a < b"
   ]
  },
  {
   "cell_type": "code",
   "execution_count": 22,
   "id": "5350b189-11a8-433d-8100-62979f013d1e",
   "metadata": {},
   "outputs": [
    {
     "data": {
      "text/plain": [
       "True"
      ]
     },
     "execution_count": 22,
     "metadata": {},
     "output_type": "execute_result"
    }
   ],
   "source": [
    "b> a"
   ]
  },
  {
   "cell_type": "markdown",
   "id": "ecbd9e90-56fb-4210-8dda-c72c1b2d5a58",
   "metadata": {},
   "source": [
    "# Logical Operator\n",
    "\n",
    "### AND, OR, NOT"
   ]
  },
  {
   "cell_type": "markdown",
   "id": "346fa868-35ab-4403-bd09-cff900cddc9c",
   "metadata": {},
   "source": [
    "AND"
   ]
  },
  {
   "cell_type": "code",
   "execution_count": 23,
   "id": "f2373434-3117-43ab-b288-c2f59dbb1a2e",
   "metadata": {},
   "outputs": [],
   "source": [
    "a, b = 5, 4"
   ]
  },
  {
   "cell_type": "code",
   "execution_count": 24,
   "id": "c2d37021-bedc-4aa7-becc-75ab3ca679ba",
   "metadata": {},
   "outputs": [
    {
     "data": {
      "text/plain": [
       "True"
      ]
     },
     "execution_count": 24,
     "metadata": {},
     "output_type": "execute_result"
    }
   ],
   "source": [
    "a < 8 and b< 5"
   ]
  },
  {
   "cell_type": "code",
   "execution_count": 25,
   "id": "04c1b379-c6fc-4015-8ee7-2d9e43d88621",
   "metadata": {},
   "outputs": [
    {
     "data": {
      "text/plain": [
       "False"
      ]
     },
     "execution_count": 25,
     "metadata": {},
     "output_type": "execute_result"
    }
   ],
   "source": [
    "a < 8 and b< 2"
   ]
  },
  {
   "cell_type": "markdown",
   "id": "0e0d7cc3-57a2-45ad-a5bb-0d11e28b347b",
   "metadata": {},
   "source": [
    "OR"
   ]
  },
  {
   "cell_type": "code",
   "execution_count": 26,
   "id": "d438a2a6-3c71-4865-8964-ca5211e5e6a3",
   "metadata": {},
   "outputs": [
    {
     "data": {
      "text/plain": [
       "True"
      ]
     },
     "execution_count": 26,
     "metadata": {},
     "output_type": "execute_result"
    }
   ],
   "source": [
    "a< 8 or b< 2"
   ]
  },
  {
   "cell_type": "code",
   "execution_count": 27,
   "id": "0138c4a1-1146-49ce-9074-266a8a34faf6",
   "metadata": {},
   "outputs": [
    {
     "data": {
      "text/plain": [
       "False"
      ]
     },
     "execution_count": 27,
     "metadata": {},
     "output_type": "execute_result"
    }
   ],
   "source": [
    "a > 8 or b>5"
   ]
  },
  {
   "cell_type": "markdown",
   "id": "d297b284-e190-4f0b-8d52-e374a4a0f87a",
   "metadata": {},
   "source": [
    "NOT"
   ]
  },
  {
   "cell_type": "code",
   "execution_count": 29,
   "id": "b7d888fa-5644-4c38-9b11-51a7be4ff1a8",
   "metadata": {},
   "outputs": [
    {
     "data": {
      "text/plain": [
       "False"
      ]
     },
     "execution_count": 29,
     "metadata": {},
     "output_type": "execute_result"
    }
   ],
   "source": [
    "x = False\n",
    "x"
   ]
  },
  {
   "cell_type": "code",
   "execution_count": 30,
   "id": "bc78b386-8049-49c2-add6-cf57a85f3b4e",
   "metadata": {},
   "outputs": [
    {
     "data": {
      "text/plain": [
       "True"
      ]
     },
     "execution_count": 30,
     "metadata": {},
     "output_type": "execute_result"
    }
   ],
   "source": [
    "not x"
   ]
  },
  {
   "cell_type": "markdown",
   "id": "6aba1cf8-cf46-404e-993f-e3e29b58c837",
   "metadata": {},
   "source": [
    "# Number Systems\n",
    "\n",
    "* Binary Number Systems (0b) -> base 2 (0, 1)\n",
    "* Octal Number Systems (0o) ->  base 8 (0, 1, 2, 3, 4, 5, 6, 7)\n",
    "* Decimal Number System (0x) -> base 10 (0, 1, 2, 3, 4, 5, 6, 7, 8, 9)\n",
    "* Hexadecimal Number System(0xa, b, c, d, e, f) -> base 16 (0, 1, 2, 3, 4, 5, 6, 7, 8, 9, a(10), b(11), c(12), d(13), e(14), f(15) )"
   ]
  },
  {
   "cell_type": "markdown",
   "id": "2f324a48-6aa6-4552-b45f-26b9b729167c",
   "metadata": {},
   "source": [
    "### Binary Number System"
   ]
  },
  {
   "cell_type": "code",
   "execution_count": 33,
   "id": "212d5f6f-148a-4a2a-b41d-0715b3280cf8",
   "metadata": {},
   "outputs": [
    {
     "data": {
      "text/plain": [
       "25"
      ]
     },
     "execution_count": 33,
     "metadata": {},
     "output_type": "execute_result"
    }
   ],
   "source": [
    "25"
   ]
  },
  {
   "cell_type": "code",
   "execution_count": 2,
   "id": "2d9f35aa-06a5-4fd8-b0a6-3f05a87e87ec",
   "metadata": {},
   "outputs": [
    {
     "data": {
      "text/plain": [
       "'0b11001'"
      ]
     },
     "execution_count": 2,
     "metadata": {},
     "output_type": "execute_result"
    }
   ],
   "source": [
    "bin(25) # binary"
   ]
  },
  {
   "cell_type": "code",
   "execution_count": 36,
   "id": "fad714b9-6df4-485d-9d7f-1d71160fd9c2",
   "metadata": {},
   "outputs": [
    {
     "data": {
      "text/plain": [
       "25"
      ]
     },
     "execution_count": 36,
     "metadata": {},
     "output_type": "execute_result"
    }
   ],
   "source": [
    "0b11001 # Here 0b means it implies Binary number system (0b) and other half is binary number convert"
   ]
  },
  {
   "cell_type": "code",
   "execution_count": 3,
   "id": "a97e9c32-5dc2-4802-8e12-0af50dddfc9f",
   "metadata": {},
   "outputs": [
    {
     "data": {
      "text/plain": [
       "'0b11110'"
      ]
     },
     "execution_count": 3,
     "metadata": {},
     "output_type": "execute_result"
    }
   ],
   "source": [
    "bin(30)"
   ]
  },
  {
   "cell_type": "code",
   "execution_count": 7,
   "id": "7547350a-c4e5-4a64-876a-86755724fe75",
   "metadata": {},
   "outputs": [
    {
     "data": {
      "text/plain": [
       "29"
      ]
     },
     "execution_count": 7,
     "metadata": {},
     "output_type": "execute_result"
    }
   ],
   "source": [
    "int(0b11101)"
   ]
  },
  {
   "cell_type": "markdown",
   "id": "99d347d3-7257-4ac8-b601-dcdf63d8d715",
   "metadata": {},
   "source": [
    "### Octal"
   ]
  },
  {
   "cell_type": "code",
   "execution_count": 8,
   "id": "65048379-897d-4618-b2bb-0cdffe0b4492",
   "metadata": {},
   "outputs": [
    {
     "data": {
      "text/plain": [
       "25"
      ]
     },
     "execution_count": 8,
     "metadata": {},
     "output_type": "execute_result"
    }
   ],
   "source": [
    "0o31"
   ]
  },
  {
   "cell_type": "code",
   "execution_count": 9,
   "id": "a4c1155c-b22f-4fa9-9455-f97f20f129df",
   "metadata": {},
   "outputs": [
    {
     "data": {
      "text/plain": [
       "'0o31'"
      ]
     },
     "execution_count": 9,
     "metadata": {},
     "output_type": "execute_result"
    }
   ],
   "source": [
    "oct(25)"
   ]
  },
  {
   "cell_type": "markdown",
   "id": "a9ba5977-0e97-4a39-b315-6680bb713998",
   "metadata": {},
   "source": [
    "### Hexagonal"
   ]
  },
  {
   "cell_type": "code",
   "execution_count": 10,
   "id": "cbe9b376-1484-473e-9ebe-9e2c163fe630",
   "metadata": {},
   "outputs": [
    {
     "data": {
      "text/plain": [
       "10"
      ]
     },
     "execution_count": 10,
     "metadata": {},
     "output_type": "execute_result"
    }
   ],
   "source": [
    "0xa"
   ]
  },
  {
   "cell_type": "code",
   "execution_count": 11,
   "id": "bc1ff567-a977-41c9-800c-9b12bf26a026",
   "metadata": {},
   "outputs": [
    {
     "data": {
      "text/plain": [
       "'0xa'"
      ]
     },
     "execution_count": 11,
     "metadata": {},
     "output_type": "execute_result"
    }
   ],
   "source": [
    "hex(10)"
   ]
  },
  {
   "cell_type": "markdown",
   "id": "2ac00e60-eef5-43d9-95f3-4b6f44624260",
   "metadata": {},
   "source": [
    "# BITWISE OPERATOR\n",
    "\n",
    "* Complement Operator\n",
    "* AND Operator\n",
    "* OR Operator\n",
    "* XOR operator\n",
    "* LEFT Shift Operator\n",
    "* Right Shift Operator"
   ]
  },
  {
   "cell_type": "markdown",
   "id": "e9aefb58-03f0-40fb-8609-45cfd3e12e72",
   "metadata": {},
   "source": [
    "### Complement Operator (~)"
   ]
  },
  {
   "cell_type": "code",
   "execution_count": 31,
   "id": "d2474dad-cb96-4fbe-b48b-dd7768b9f31d",
   "metadata": {},
   "outputs": [
    {
     "data": {
      "text/plain": [
       "-13"
      ]
     },
     "execution_count": 31,
     "metadata": {},
     "output_type": "execute_result"
    }
   ],
   "source": [
    "~12 # Complement means it stores -ve values"
   ]
  },
  {
   "cell_type": "code",
   "execution_count": 2,
   "id": "a63942ba-5b81-48bb-821a-770b25952b0c",
   "metadata": {},
   "outputs": [
    {
     "data": {
      "text/plain": [
       "-1008"
      ]
     },
     "execution_count": 2,
     "metadata": {},
     "output_type": "execute_result"
    }
   ],
   "source": [
    "~1007"
   ]
  },
  {
   "cell_type": "code",
   "execution_count": 1,
   "id": "208588c0-4404-48ef-b2d3-98335d7fa1c5",
   "metadata": {},
   "outputs": [
    {
     "data": {
      "text/plain": [
       "-79"
      ]
     },
     "execution_count": 1,
     "metadata": {},
     "output_type": "execute_result"
    }
   ],
   "source": [
    "~ 78"
   ]
  },
  {
   "cell_type": "code",
   "execution_count": 32,
   "id": "adfe07cd-a086-4729-8c9f-42bc13454ccf",
   "metadata": {},
   "outputs": [
    {
     "data": {
      "text/plain": [
       "-47"
      ]
     },
     "execution_count": 32,
     "metadata": {},
     "output_type": "execute_result"
    }
   ],
   "source": [
    "~46"
   ]
  },
  {
   "cell_type": "markdown",
   "id": "779fdf2d-3dec-42b7-bc74-53d4ff125335",
   "metadata": {},
   "source": [
    "### AND Operator (&)"
   ]
  },
  {
   "cell_type": "code",
   "execution_count": 13,
   "id": "bf41ecb6-d71b-4cd0-b719-e007e17b8759",
   "metadata": {},
   "outputs": [
    {
     "data": {
      "text/plain": [
       "12"
      ]
     },
     "execution_count": 13,
     "metadata": {},
     "output_type": "execute_result"
    }
   ],
   "source": [
    "12 & 13"
   ]
  },
  {
   "cell_type": "code",
   "execution_count": 16,
   "id": "43b1b0bd-4c8b-45aa-a3ce-59b45cce43e8",
   "metadata": {},
   "outputs": [
    {
     "data": {
      "text/plain": [
       "13"
      ]
     },
     "execution_count": 16,
     "metadata": {},
     "output_type": "execute_result"
    }
   ],
   "source": [
    "12 | 13"
   ]
  },
  {
   "cell_type": "code",
   "execution_count": 14,
   "id": "a17e6e4b-9028-449b-99c7-0ff48be8534b",
   "metadata": {},
   "outputs": [
    {
     "data": {
      "text/plain": [
       "1"
      ]
     },
     "execution_count": 14,
     "metadata": {},
     "output_type": "execute_result"
    }
   ],
   "source": [
    "35 & 69"
   ]
  },
  {
   "cell_type": "code",
   "execution_count": 17,
   "id": "e6cff86c-a0f5-458f-84f7-d0906aa9a0f5",
   "metadata": {},
   "outputs": [
    {
     "name": "stdout",
     "output_type": "stream",
     "text": [
      "0b100011 0b1000101\n"
     ]
    }
   ],
   "source": [
    "print(bin(35), bin(69))"
   ]
  },
  {
   "cell_type": "markdown",
   "id": "3f65fd36-76ff-4c18-b1ff-0de500e07580",
   "metadata": {},
   "source": [
    "### XOR ( ^ )"
   ]
  },
  {
   "cell_type": "code",
   "execution_count": 18,
   "id": "40bee919-ade5-4923-baa1-2a2106457f6a",
   "metadata": {},
   "outputs": [
    {
     "data": {
      "text/plain": [
       "1"
      ]
     },
     "execution_count": 18,
     "metadata": {},
     "output_type": "execute_result"
    }
   ],
   "source": [
    "12^13"
   ]
  },
  {
   "cell_type": "code",
   "execution_count": 19,
   "id": "ea9c757e-e139-467d-a31b-3479b55a35df",
   "metadata": {},
   "outputs": [
    {
     "name": "stdout",
     "output_type": "stream",
     "text": [
      "0b11001\n",
      "0b11110\n"
     ]
    }
   ],
   "source": [
    "print(bin(25))\n",
    "print(bin(30))"
   ]
  },
  {
   "cell_type": "code",
   "execution_count": 20,
   "id": "d391a090-2634-4435-8abb-9bdab2697a61",
   "metadata": {},
   "outputs": [
    {
     "data": {
      "text/plain": [
       "7"
      ]
     },
     "execution_count": 20,
     "metadata": {},
     "output_type": "execute_result"
    }
   ],
   "source": [
    "25^30"
   ]
  },
  {
   "cell_type": "code",
   "execution_count": 21,
   "id": "8ffe5e77-2788-4b6b-b090-5e4597150fd8",
   "metadata": {},
   "outputs": [
    {
     "name": "stdout",
     "output_type": "stream",
     "text": [
      "0b11001 0b11110\n"
     ]
    }
   ],
   "source": [
    "print(bin(25), bin(30))"
   ]
  },
  {
   "cell_type": "code",
   "execution_count": 23,
   "id": "a8ee2d90-4601-4343-b3d1-25c6e83723c0",
   "metadata": {},
   "outputs": [
    {
     "name": "stdout",
     "output_type": "stream",
     "text": [
      "7\n"
     ]
    }
   ],
   "source": [
    "print(int(0b00111))"
   ]
  },
  {
   "cell_type": "markdown",
   "id": "e7e21a07-3a75-45e1-b6ae-ea77e02d1790",
   "metadata": {},
   "source": [
    "### Left Shift ( << )"
   ]
  },
  {
   "cell_type": "code",
   "execution_count": 25,
   "id": "83cadb2b-d927-45bf-9ad6-cf2129dcbdb0",
   "metadata": {},
   "outputs": [
    {
     "data": {
      "text/plain": [
       "20"
      ]
     },
     "execution_count": 25,
     "metadata": {},
     "output_type": "execute_result"
    }
   ],
   "source": [
    "10 << 1"
   ]
  },
  {
   "cell_type": "code",
   "execution_count": 27,
   "id": "2d771da1-a5ff-4178-b582-80afef801047",
   "metadata": {},
   "outputs": [
    {
     "name": "stdout",
     "output_type": "stream",
     "text": [
      "20\n"
     ]
    }
   ],
   "source": [
    "print(0b10100)"
   ]
  },
  {
   "cell_type": "code",
   "execution_count": 28,
   "id": "8740ce92-e4d7-4168-b616-623fd8f6caf2",
   "metadata": {},
   "outputs": [
    {
     "data": {
      "text/plain": [
       "40"
      ]
     },
     "execution_count": 28,
     "metadata": {},
     "output_type": "execute_result"
    }
   ],
   "source": [
    "10 << 2"
   ]
  },
  {
   "cell_type": "code",
   "execution_count": 30,
   "id": "5a2d9c29-2a37-48bf-bd26-dbc94229cd39",
   "metadata": {},
   "outputs": [
    {
     "name": "stdout",
     "output_type": "stream",
     "text": [
      "40\n"
     ]
    }
   ],
   "source": [
    "print(0b101000)"
   ]
  },
  {
   "cell_type": "markdown",
   "id": "7674e662-d7d2-4dd9-859f-107febc85331",
   "metadata": {},
   "source": [
    "### Right Shift ( >> )"
   ]
  },
  {
   "cell_type": "code",
   "execution_count": 31,
   "id": "b87f2f5f-bc07-44ea-b901-cac06af1b350",
   "metadata": {},
   "outputs": [
    {
     "data": {
      "text/plain": [
       "5"
      ]
     },
     "execution_count": 31,
     "metadata": {},
     "output_type": "execute_result"
    }
   ],
   "source": [
    "10 >> 1"
   ]
  },
  {
   "cell_type": "code",
   "execution_count": 32,
   "id": "406107c1-5893-4000-8270-c42de20b978f",
   "metadata": {},
   "outputs": [
    {
     "name": "stdout",
     "output_type": "stream",
     "text": [
      "5\n"
     ]
    }
   ],
   "source": [
    "print(0b101)"
   ]
  },
  {
   "cell_type": "code",
   "execution_count": 33,
   "id": "cdc254e3-bec8-4661-837a-d4a2ae3d0b30",
   "metadata": {},
   "outputs": [
    {
     "data": {
      "text/plain": [
       "2"
      ]
     },
     "execution_count": 33,
     "metadata": {},
     "output_type": "execute_result"
    }
   ],
   "source": [
    "10 >> 2"
   ]
  },
  {
   "cell_type": "code",
   "execution_count": 34,
   "id": "051bcd77-09a9-4c04-a425-5e7764e7d913",
   "metadata": {},
   "outputs": [
    {
     "data": {
      "text/plain": [
       "1"
      ]
     },
     "execution_count": 34,
     "metadata": {},
     "output_type": "execute_result"
    }
   ],
   "source": [
    "10 >> 3"
   ]
  },
  {
   "cell_type": "markdown",
   "id": "fbe3d7f8-6666-4009-92c8-26fc4269de9d",
   "metadata": {},
   "source": [
    "# Print() in Python\n",
    "\n",
    "#### In print function we can add 1 or more argument"
   ]
  },
  {
   "cell_type": "code",
   "execution_count": 36,
   "id": "5a9a5c7f-3cfe-42c3-9a67-665df4356ff1",
   "metadata": {},
   "outputs": [
    {
     "name": "stdout",
     "output_type": "stream",
     "text": [
      "10\n",
      "10 20\n",
      "python\n",
      "10 20 python (1+2j) True [1, 2]\n"
     ]
    }
   ],
   "source": [
    "print(10)\n",
    "print(10, 20)\n",
    "print('python')\n",
    "print(10, 20, 'python', 1+2j, True, [1, 2])"
   ]
  },
  {
   "cell_type": "markdown",
   "id": "ac8129d3-63cf-496e-a4af-94086de40366",
   "metadata": {},
   "source": [
    "#### Print() result with string"
   ]
  },
  {
   "cell_type": "code",
   "execution_count": 37,
   "id": "4988ae05-04d8-4dca-ad3d-e33c0a1cf567",
   "metadata": {},
   "outputs": [
    {
     "name": "stdout",
     "output_type": "stream",
     "text": [
      "50\n"
     ]
    }
   ],
   "source": [
    "num1 = 20\n",
    "num2 = 30\n",
    "add = num1+num2\n",
    "print(add)"
   ]
  },
  {
   "cell_type": "code",
   "execution_count": 39,
   "id": "b689bf7c-5bed-4767-afe4-d2ee036ad14e",
   "metadata": {},
   "outputs": [
    {
     "name": "stdout",
     "output_type": "stream",
     "text": [
      "The addition of 20 and 30 is= 50\n"
     ]
    }
   ],
   "source": [
    "num1 = 20\n",
    "num2 = 30\n",
    "add =  num1+ num2\n",
    "print('The addition of', num1, 'and', num2, 'is=', add)"
   ]
  },
  {
   "cell_type": "code",
   "execution_count": 42,
   "id": "86d4b187-c882-455c-8ed7-d03847fd24c8",
   "metadata": {},
   "outputs": [
    {
     "name": "stdout",
     "output_type": "stream",
     "text": [
      "My name is python and i am 20 years old from city\n"
     ]
    }
   ],
   "source": [
    "name = 'python'\n",
    "age = 20\n",
    "city = 'hyd'\n",
    "print(\"My name is\",name, \"and i am\", age, \"years old from\", \"city\")"
   ]
  },
  {
   "cell_type": "markdown",
   "id": "75810dd5-d8d4-4222-8126-4fdde90f7ae6",
   "metadata": {},
   "source": [
    "#### Print format method\n",
    "1. Use .format() method\n",
    "2. Number of format == Number of {}"
   ]
  },
  {
   "cell_type": "code",
   "execution_count": 41,
   "id": "133704a2-2cfa-4a8a-8744-22b26ccf78ff",
   "metadata": {},
   "outputs": [
    {
     "name": "stdout",
     "output_type": "stream",
     "text": [
      "The addition of 20 and 30 is = 50\n"
     ]
    }
   ],
   "source": [
    "num1, num2 = 20, 30\n",
    "add = num1 + num2\n",
    "\n",
    "print('The addition of {} and {} is = {}'.format(num1, num2, add))"
   ]
  },
  {
   "cell_type": "markdown",
   "id": "0c3ff99d-dde7-4604-817b-126e4366cb33",
   "metadata": {},
   "source": [
    "### f string method\n",
    "* Variable should be in urly braces\n",
    "* and write inside quotes ''\n",
    "* add f at the start"
   ]
  },
  {
   "cell_type": "code",
   "execution_count": 43,
   "id": "29230eab-9196-4ecf-95ee-185c1d231742",
   "metadata": {},
   "outputs": [
    {
     "name": "stdout",
     "output_type": "stream",
     "text": [
      "The addition of 20 and 30 is = 50\n"
     ]
    }
   ],
   "source": [
    "num1, num2 = 20, 30\n",
    "add = num1 + num2\n",
    "\n",
    "print(f\"The addition of {num1} and {num2} is = {add}\")"
   ]
  },
  {
   "cell_type": "markdown",
   "id": "82006f08-908c-4e02-8de1-de63f7a7669b",
   "metadata": {},
   "source": [
    "### End Statement"
   ]
  },
  {
   "cell_type": "code",
   "execution_count": 44,
   "id": "f400f13e-2073-4d98-858c-8b711b662e70",
   "metadata": {},
   "outputs": [
    {
     "name": "stdout",
     "output_type": "stream",
     "text": [
      "hello\n",
      "good morning\n"
     ]
    }
   ],
   "source": [
    "print('hello')\n",
    "print('good morning')"
   ]
  },
  {
   "cell_type": "code",
   "execution_count": 45,
   "id": "5cdd60c1-4d1e-431f-a674-305cca9e7097",
   "metadata": {},
   "outputs": [
    {
     "name": "stdout",
     "output_type": "stream",
     "text": [
      "hello good morning^^^"
     ]
    }
   ],
   "source": [
    "print('hello', end = ' ')\n",
    "print(\"good morning\", end='^^^')"
   ]
  },
  {
   "cell_type": "markdown",
   "id": "259a9490-d3a1-4e76-8fc8-d33e74136bb2",
   "metadata": {},
   "source": [
    "### `separator (sep=)`"
   ]
  },
  {
   "cell_type": "code",
   "execution_count": 46,
   "id": "6feda103-521b-4398-96fa-eac6887ed591",
   "metadata": {},
   "outputs": [
    {
     "name": "stdout",
     "output_type": "stream",
     "text": [
      "hello *** hai *** how are you\n"
     ]
    }
   ],
   "source": [
    "print('hello', 'hai', 'how are you', sep = ' *** ')"
   ]
  },
  {
   "cell_type": "markdown",
   "id": "94a6149d-8c68-45e6-9d2f-32d3d65c9873",
   "metadata": {},
   "source": [
    "LIST == user will declare the value more than one \n",
    "by using p[ user insert more than 1 value \n",
    "python we call function using .value\n",
    "* l.append() -- add the element at last at the end\n",
    "* l.copy() -- copy from one list to another lsit\n",
    "* l.clear() -- clear the vlue from the list but empty list\n",
    "* l.index() -- it gives the index position of the value or element\n",
    "* l.extend() -- merge one list values to another list\n",
    "* l.count() -- frequence of element\n",
    "* l.remove() -- remove element 1st occurance"
   ]
  },
  {
   "cell_type": "code",
   "execution_count": 7,
   "id": "2621e1af-634d-4e35-9cf1-4841271eaf11",
   "metadata": {},
   "outputs": [
    {
     "data": {
      "text/plain": [
       "[10, 100, 20, 30, 40, 'jan', 'feb', 40]"
      ]
     },
     "execution_count": 7,
     "metadata": {},
     "output_type": "execute_result"
    }
   ],
   "source": [
    "l = [10, 100, 20, 30, 40, 'jan', 'feb', 40]\n",
    "l"
   ]
  },
  {
   "cell_type": "code",
   "execution_count": 8,
   "id": "16bc78fc-ac17-4cab-bd39-08faac81ccfe",
   "metadata": {},
   "outputs": [
    {
     "data": {
      "text/plain": [
       "[10, 100, 20, 30, 40, 'jan', 'feb', 40, 10]"
      ]
     },
     "execution_count": 8,
     "metadata": {},
     "output_type": "execute_result"
    }
   ],
   "source": [
    "l.append(10)\n",
    "l"
   ]
  },
  {
   "cell_type": "code",
   "execution_count": 9,
   "id": "b83c916a-c5bd-4d69-a744-006c03c449bd",
   "metadata": {},
   "outputs": [
    {
     "data": {
      "text/plain": [
       "[100, 20, 30, 40, 'jan', 'feb', 40, 10]"
      ]
     },
     "execution_count": 9,
     "metadata": {},
     "output_type": "execute_result"
    }
   ],
   "source": [
    "l.remove(10)\n",
    "l"
   ]
  },
  {
   "cell_type": "code",
   "execution_count": 11,
   "id": "85527f0b-05e9-4439-b287-6f9b1b2b6329",
   "metadata": {},
   "outputs": [
    {
     "data": {
      "text/plain": [
       "[100, 20, 25, 30, 30, 40, 'jan', 'feb', 40, 10]"
      ]
     },
     "execution_count": 11,
     "metadata": {},
     "output_type": "execute_result"
    }
   ],
   "source": [
    "l.insert(2, 25)\n",
    "l"
   ]
  },
  {
   "cell_type": "code",
   "execution_count": 13,
   "id": "9256417d-86e6-40c5-a4b3-62a5637e55b2",
   "metadata": {},
   "outputs": [
    {
     "data": {
      "text/plain": [
       "[100, 20, 25, 30, 40, 'jan', 'feb', 40, 10]"
      ]
     },
     "execution_count": 13,
     "metadata": {},
     "output_type": "execute_result"
    }
   ],
   "source": [
    "l"
   ]
  },
  {
   "cell_type": "code",
   "execution_count": 15,
   "id": "8f028cad-224d-4300-8e6c-bf604d5ec3c5",
   "metadata": {},
   "outputs": [
    {
     "data": {
      "text/plain": [
       "[100, 20, 25, 30, 35, 35, 40, 'jan', 'feb', 40, 10]"
      ]
     },
     "execution_count": 15,
     "metadata": {},
     "output_type": "execute_result"
    }
   ],
   "source": [
    "l.insert(4, 35)\n",
    "l"
   ]
  },
  {
   "cell_type": "code",
   "execution_count": 17,
   "id": "83a23015-6316-4389-9f0d-bc1f0927ad35",
   "metadata": {},
   "outputs": [
    {
     "data": {
      "text/plain": [
       "[100, 20, 25, 30, 35, 40, 'jan', 'feb', 40, 10]"
      ]
     },
     "execution_count": 17,
     "metadata": {},
     "output_type": "execute_result"
    }
   ],
   "source": [
    "l"
   ]
  },
  {
   "cell_type": "code",
   "execution_count": 18,
   "id": "90ddb6d9-e1a3-4c17-aa38-909c08ae2b0c",
   "metadata": {},
   "outputs": [],
   "source": [
    "l.insert(-1, [1, 2, 3])"
   ]
  },
  {
   "cell_type": "code",
   "execution_count": 20,
   "id": "fc22c342-0c9d-4f0b-90d3-61d686332305",
   "metadata": {},
   "outputs": [],
   "source": [
    "l.remove([1, 2, 3])"
   ]
  },
  {
   "cell_type": "code",
   "execution_count": 21,
   "id": "cc5bf1ec-a460-4aa6-a58c-df93fa6d9a23",
   "metadata": {},
   "outputs": [
    {
     "data": {
      "text/plain": [
       "[100, 20, 25, 30, 35, 40, 'jan', 'feb', 40, 10]"
      ]
     },
     "execution_count": 21,
     "metadata": {},
     "output_type": "execute_result"
    }
   ],
   "source": [
    "l"
   ]
  },
  {
   "cell_type": "code",
   "execution_count": 22,
   "id": "2f10513b-3376-43e5-af32-6ef7f171c8cd",
   "metadata": {},
   "outputs": [],
   "source": [
    "l.append([1, 2, 3])"
   ]
  },
  {
   "cell_type": "code",
   "execution_count": 23,
   "id": "1e8f07d5-563b-49f8-b782-eca01d48e958",
   "metadata": {},
   "outputs": [
    {
     "data": {
      "text/plain": [
       "[100, 20, 25, 30, 35, 40, 'jan', 'feb', 40, 10, [1, 2, 3]]"
      ]
     },
     "execution_count": 23,
     "metadata": {},
     "output_type": "execute_result"
    }
   ],
   "source": [
    "l"
   ]
  },
  {
   "cell_type": "code",
   "execution_count": 24,
   "id": "4da954ed-0876-4013-8414-98a541e23397",
   "metadata": {},
   "outputs": [
    {
     "data": {
      "text/plain": [
       "[100, 20, 25, 30, 35, 40, 'jan', 'feb', 40, 10, [1, 2, 3], [1, 2, 3]]"
      ]
     },
     "execution_count": 24,
     "metadata": {},
     "output_type": "execute_result"
    }
   ],
   "source": [
    "l.insert(len(l), [1, 2, 3])\n",
    "l"
   ]
  },
  {
   "cell_type": "code",
   "execution_count": 25,
   "id": "d92e82dc-1e1c-4b9e-91e3-83356c6cd727",
   "metadata": {},
   "outputs": [
    {
     "data": {
      "text/plain": [
       "[100, 20, 25, 30, 35, 40, 'jan', 'feb', 40, 10, [1, 2, 3]]"
      ]
     },
     "execution_count": 25,
     "metadata": {},
     "output_type": "execute_result"
    }
   ],
   "source": [
    "l.remove([1, 2, 3])\n",
    "l"
   ]
  },
  {
   "cell_type": "code",
   "execution_count": 26,
   "id": "0937f547-d76a-434f-9c8d-3732593b02c6",
   "metadata": {},
   "outputs": [
    {
     "data": {
      "text/plain": [
       "[1, 2, 3]"
      ]
     },
     "execution_count": 26,
     "metadata": {},
     "output_type": "execute_result"
    }
   ],
   "source": [
    "l.pop()"
   ]
  },
  {
   "cell_type": "code",
   "execution_count": 27,
   "id": "6a94efa5-cbc3-44f7-8596-05a436d605be",
   "metadata": {},
   "outputs": [
    {
     "data": {
      "text/plain": [
       "[100, 20, 25, 30, 35, 40, 'jan', 'feb', 40, 10]"
      ]
     },
     "execution_count": 27,
     "metadata": {},
     "output_type": "execute_result"
    }
   ],
   "source": [
    "l"
   ]
  },
  {
   "cell_type": "code",
   "execution_count": 28,
   "id": "99827fee-647c-4535-8e2b-10dc76bb19f8",
   "metadata": {},
   "outputs": [
    {
     "data": {
      "text/plain": [
       "10"
      ]
     },
     "execution_count": 28,
     "metadata": {},
     "output_type": "execute_result"
    }
   ],
   "source": [
    "l.pop()"
   ]
  },
  {
   "cell_type": "code",
   "execution_count": 29,
   "id": "39cd1057-9435-49b2-9f26-a9b1f0736004",
   "metadata": {},
   "outputs": [
    {
     "data": {
      "text/plain": [
       "[100, 20, 25, 30, 35, 40, 'jan', 'feb', 40]"
      ]
     },
     "execution_count": 29,
     "metadata": {},
     "output_type": "execute_result"
    }
   ],
   "source": [
    "l"
   ]
  },
  {
   "cell_type": "code",
   "execution_count": 34,
   "id": "9529dcf0-85e8-4e43-aa6c-bc2a6b7e9d2c",
   "metadata": {},
   "outputs": [],
   "source": [
    "l1 = [10, 3.4, '53n', True, 100, 20, 30, 40, 'jan', 'feb', 40, 10, 3.4, 'ten', True]"
   ]
  },
  {
   "cell_type": "code",
   "execution_count": 35,
   "id": "f24892f6-e756-4ad7-b539-9b4b50c5f1ba",
   "metadata": {},
   "outputs": [
    {
     "data": {
      "text/plain": [
       "3.4"
      ]
     },
     "execution_count": 35,
     "metadata": {},
     "output_type": "execute_result"
    }
   ],
   "source": [
    "l1.pop(True) # mean True =1 "
   ]
  },
  {
   "cell_type": "code",
   "execution_count": 36,
   "id": "fecf60d4-9dd6-4641-885e-447a3ffe0f43",
   "metadata": {},
   "outputs": [
    {
     "data": {
      "text/plain": [
       "[10, '53n', True, 100, 20, 30, 40, 'jan', 'feb', 40, 10, 3.4, 'ten', True]"
      ]
     },
     "execution_count": 36,
     "metadata": {},
     "output_type": "execute_result"
    }
   ],
   "source": [
    "l1"
   ]
  },
  {
   "cell_type": "code",
   "execution_count": 37,
   "id": "090c62e8-ce59-4b8d-8415-87d230710bb3",
   "metadata": {},
   "outputs": [
    {
     "data": {
      "text/plain": [
       "[100, 2, 39, 34, 20, 1000]"
      ]
     },
     "execution_count": 37,
     "metadata": {},
     "output_type": "execute_result"
    }
   ],
   "source": [
    "l3 = [100, 2, 39, 34, 20, 1000]\n",
    "l3"
   ]
  },
  {
   "cell_type": "code",
   "execution_count": 39,
   "id": "e7ebff0e-f7e9-433d-a30d-750d71174eb1",
   "metadata": {},
   "outputs": [
    {
     "data": {
      "text/plain": [
       "[2, 20, 34, 39, 100, 1000]"
      ]
     },
     "execution_count": 39,
     "metadata": {},
     "output_type": "execute_result"
    }
   ],
   "source": [
    "l3.sort() # Ascending\n",
    "l3"
   ]
  },
  {
   "cell_type": "code",
   "execution_count": 41,
   "id": "d0e3f7df-028b-4c9c-9a35-701481fecda0",
   "metadata": {},
   "outputs": [
    {
     "data": {
      "text/plain": [
       "[1000, 100, 39, 34, 20, 2]"
      ]
     },
     "execution_count": 41,
     "metadata": {},
     "output_type": "execute_result"
    }
   ],
   "source": [
    "l3.sort(reverse=True) # Descending\n",
    "l3"
   ]
  },
  {
   "cell_type": "code",
   "execution_count": 42,
   "id": "4fbae544-7a62-4394-bb2b-528374a3523c",
   "metadata": {},
   "outputs": [
    {
     "data": {
      "text/plain": [
       "[2, 2.3, True, 'ten', (1+2j)]"
      ]
     },
     "execution_count": 42,
     "metadata": {},
     "output_type": "execute_result"
    }
   ],
   "source": [
    "l4 = [2, 2.3, True, 'ten', 1+2j]\n",
    "l4"
   ]
  },
  {
   "cell_type": "code",
   "execution_count": 43,
   "id": "ea4ecff4-df1b-411d-938f-a21099b03895",
   "metadata": {},
   "outputs": [
    {
     "ename": "TypeError",
     "evalue": "'<' not supported between instances of 'str' and 'int'",
     "output_type": "error",
     "traceback": [
      "\u001b[1;31m---------------------------------------------------------------------------\u001b[0m",
      "\u001b[1;31mTypeError\u001b[0m                                 Traceback (most recent call last)",
      "Cell \u001b[1;32mIn[43], line 1\u001b[0m\n\u001b[1;32m----> 1\u001b[0m l4\u001b[38;5;241m.\u001b[39msort()\n",
      "\u001b[1;31mTypeError\u001b[0m: '<' not supported between instances of 'str' and 'int'"
     ]
    }
   ],
   "source": [
    "l4.sort()"
   ]
  },
  {
   "cell_type": "code",
   "execution_count": 48,
   "id": "eac847aa-5742-4ed4-b231-70d261b067d5",
   "metadata": {},
   "outputs": [
    {
     "data": {
      "text/plain": [
       "['c', 'd', 'b', 'a']"
      ]
     },
     "execution_count": 48,
     "metadata": {},
     "output_type": "execute_result"
    }
   ],
   "source": [
    "l5 = ['c', 'd', 'b', 'a']\n",
    "l5"
   ]
  },
  {
   "cell_type": "code",
   "execution_count": 49,
   "id": "ddf6d9f0-429f-42c3-b202-0af4a42e1bf6",
   "metadata": {},
   "outputs": [],
   "source": [
    "l5.sort()"
   ]
  },
  {
   "cell_type": "code",
   "execution_count": 50,
   "id": "6dd3dcfb-f9e5-42eb-876b-f8c24ac5940a",
   "metadata": {},
   "outputs": [
    {
     "data": {
      "text/plain": [
       "['a', 'b', 'c', 'd']"
      ]
     },
     "execution_count": 50,
     "metadata": {},
     "output_type": "execute_result"
    }
   ],
   "source": [
    "l5"
   ]
  },
  {
   "cell_type": "code",
   "execution_count": 51,
   "id": "4bc476ad-93c2-4910-af35-cee7c08b9b57",
   "metadata": {},
   "outputs": [
    {
     "data": {
      "text/plain": [
       "['d', 'c', 'b', 'a']"
      ]
     },
     "execution_count": 51,
     "metadata": {},
     "output_type": "execute_result"
    }
   ],
   "source": [
    "l5.sort(reverse=True)\n",
    "l5"
   ]
  },
  {
   "cell_type": "markdown",
   "id": "4da4d015-2d90-427b-8789-a79ef3905fcc",
   "metadata": {},
   "source": [
    "### Parameter and Hyperparameter"
   ]
  },
  {
   "cell_type": "markdown",
   "id": "b1de8890-0de8-4ea2-9d7e-299c9504deed",
   "metadata": {},
   "source": [
    "* Parameter (System given default parameter) | .sort()\n",
    "* Hyperparameter (User change the system parameter) | .sort(reverse=True)"
   ]
  },
  {
   "cell_type": "code",
   "execution_count": 52,
   "id": "db71b30d-fcc7-4628-8a1a-1d04e119d4de",
   "metadata": {},
   "outputs": [],
   "source": [
    "l1.reverse()"
   ]
  },
  {
   "cell_type": "code",
   "execution_count": 53,
   "id": "307ed25d-60ec-486e-98c8-91fee9f9c139",
   "metadata": {},
   "outputs": [
    {
     "data": {
      "text/plain": [
       "[True, 'ten', 3.4, 10, 40, 'feb', 'jan', 40, 30, 20, 100, True, '53n', 10]"
      ]
     },
     "execution_count": 53,
     "metadata": {},
     "output_type": "execute_result"
    }
   ],
   "source": [
    "l1"
   ]
  },
  {
   "cell_type": "code",
   "execution_count": 56,
   "id": "314c97cd-9a12-45b3-babe-92e3a8df7dfe",
   "metadata": {},
   "outputs": [
    {
     "data": {
      "text/plain": [
       "1"
      ]
     },
     "execution_count": 56,
     "metadata": {},
     "output_type": "execute_result"
    }
   ],
   "source": [
    "l1.count('ten')"
   ]
  },
  {
   "cell_type": "code",
   "execution_count": 63,
   "id": "ffa87c3a-5c71-443a-89dc-5683a1db60a7",
   "metadata": {},
   "outputs": [
    {
     "name": "stdout",
     "output_type": "stream",
     "text": [
      "100\n",
      "20\n",
      "25\n",
      "30\n",
      "35\n",
      "40\n",
      "jan\n",
      "feb\n",
      "40\n"
     ]
    }
   ],
   "source": [
    "for i in l:\n",
    "    print(i)"
   ]
  },
  {
   "cell_type": "code",
   "execution_count": 64,
   "id": "3da4a8d8-64fb-470a-a2af-ddc8f26adbe8",
   "metadata": {},
   "outputs": [
    {
     "data": {
      "text/plain": [
       "'jan'"
      ]
     },
     "execution_count": 64,
     "metadata": {},
     "output_type": "execute_result"
    }
   ],
   "source": [
    "l[6]"
   ]
  },
  {
   "cell_type": "code",
   "execution_count": 65,
   "id": "816c960c-3e9f-47bb-a363-6cb9e024fc95",
   "metadata": {},
   "outputs": [
    {
     "name": "stdout",
     "output_type": "stream",
     "text": [
      "j\n",
      "a\n",
      "n\n"
     ]
    }
   ],
   "source": [
    "print(l[6][0])\n",
    "print(l[6][1])\n",
    "print(l[6][2]) # Nested index"
   ]
  },
  {
   "cell_type": "markdown",
   "id": "95053757-6ff4-4159-ae45-f5d6a088e99e",
   "metadata": {},
   "source": [
    "### enumerate()"
   ]
  },
  {
   "cell_type": "code",
   "execution_count": 66,
   "id": "74107ec4-cf61-4793-a612-0fe10abcc99e",
   "metadata": {},
   "outputs": [
    {
     "name": "stdout",
     "output_type": "stream",
     "text": [
      "1000\n",
      "100\n",
      "39\n",
      "34\n",
      "20\n",
      "2\n"
     ]
    }
   ],
   "source": [
    "for i in l3:\n",
    "    print(i)"
   ]
  },
  {
   "cell_type": "code",
   "execution_count": 67,
   "id": "9e90da8d-1467-4e56-83a5-de515356082f",
   "metadata": {},
   "outputs": [
    {
     "name": "stdout",
     "output_type": "stream",
     "text": [
      "(0, 1000)\n",
      "(1, 100)\n",
      "(2, 39)\n",
      "(3, 34)\n",
      "(4, 20)\n",
      "(5, 2)\n"
     ]
    }
   ],
   "source": [
    "for i in enumerate(l3):\n",
    "    print(i)"
   ]
  },
  {
   "cell_type": "markdown",
   "id": "b2989d14-5209-41d6-aa6c-aa9827433db6",
   "metadata": {},
   "source": [
    "# All / Any\n",
    "* If 0 value is not present in the list false & any() =True\n",
    "* If 0 "
   ]
  },
  {
   "cell_type": "code",
   "execution_count": 1,
   "id": "6cee6041-b3dc-4158-b3d0-4685e9d4f7af",
   "metadata": {},
   "outputs": [],
   "source": [
    "L1 = [1, 2, 3, 4, 0]"
   ]
  },
  {
   "cell_type": "code",
   "execution_count": 69,
   "id": "b9a1585d-9882-4744-b53d-f0a0dd3c646d",
   "metadata": {},
   "outputs": [
    {
     "data": {
      "text/plain": [
       "False"
      ]
     },
     "execution_count": 69,
     "metadata": {},
     "output_type": "execute_result"
    }
   ],
   "source": [
    "all(L1)"
   ]
  },
  {
   "cell_type": "code",
   "execution_count": 71,
   "id": "41df4243-7506-4f2f-b9d2-f2010fc0c49d",
   "metadata": {},
   "outputs": [
    {
     "data": {
      "text/plain": [
       "True"
      ]
     },
     "execution_count": 71,
     "metadata": {},
     "output_type": "execute_result"
    }
   ],
   "source": [
    "any(L1) # Whenever we have 0 in the list any() -> True"
   ]
  },
  {
   "cell_type": "code",
   "execution_count": 72,
   "id": "fd808532-cab7-484f-b5a6-df7783e16625",
   "metadata": {},
   "outputs": [],
   "source": [
    "L1 = [1, 2, 3, 4]"
   ]
  },
  {
   "cell_type": "code",
   "execution_count": 73,
   "id": "0b942ed9-a78e-4817-a171-4c22c8612606",
   "metadata": {},
   "outputs": [
    {
     "data": {
      "text/plain": [
       "True"
      ]
     },
     "execution_count": 73,
     "metadata": {},
     "output_type": "execute_result"
    }
   ],
   "source": [
    "all(L1)"
   ]
  },
  {
   "cell_type": "code",
   "execution_count": 74,
   "id": "55080e47-0270-428b-b193-15628f4880c9",
   "metadata": {},
   "outputs": [
    {
     "data": {
      "text/plain": [
       "True"
      ]
     },
     "execution_count": 74,
     "metadata": {},
     "output_type": "execute_result"
    }
   ],
   "source": [
    "any(L1)"
   ]
  },
  {
   "cell_type": "markdown",
   "id": "0b1c9704-1b76-442f-8e86-880548d313fa",
   "metadata": {},
   "source": [
    "# Tuple & Set"
   ]
  },
  {
   "cell_type": "markdown",
   "id": "2e07e9aa-1e50-4d00-84dd-da4d05c72204",
   "metadata": {},
   "source": [
    "`Tuple -> ()`"
   ]
  },
  {
   "cell_type": "code",
   "execution_count": 2,
   "id": "70a548cd-8365-460c-a7cc-1c2418390a7f",
   "metadata": {},
   "outputs": [
    {
     "data": {
      "text/plain": [
       "()"
      ]
     },
     "execution_count": 2,
     "metadata": {},
     "output_type": "execute_result"
    }
   ],
   "source": [
    "t = ()\n",
    "t"
   ]
  },
  {
   "cell_type": "code",
   "execution_count": 3,
   "id": "6edb786b-219c-4788-8f38-10b107f2cce7",
   "metadata": {},
   "outputs": [
    {
     "data": {
      "text/plain": [
       "tuple"
      ]
     },
     "execution_count": 3,
     "metadata": {},
     "output_type": "execute_result"
    }
   ],
   "source": [
    "type(t)"
   ]
  },
  {
   "cell_type": "code",
   "execution_count": 4,
   "id": "ff77493a-1889-4e0a-9815-b6074cbe2125",
   "metadata": {},
   "outputs": [
    {
     "data": {
      "text/plain": [
       "(10, 20, 30)"
      ]
     },
     "execution_count": 4,
     "metadata": {},
     "output_type": "execute_result"
    }
   ],
   "source": [
    "t = (10, 20, 30)\n",
    "t"
   ]
  },
  {
   "cell_type": "code",
   "execution_count": 5,
   "id": "5796636b-e9a5-4563-af8e-b44fd0ebace2",
   "metadata": {},
   "outputs": [
    {
     "data": {
      "text/plain": [
       "1"
      ]
     },
     "execution_count": 5,
     "metadata": {},
     "output_type": "execute_result"
    }
   ],
   "source": [
    "t.count(10)"
   ]
  },
  {
   "cell_type": "code",
   "execution_count": 7,
   "id": "dff2de87-802a-49cc-9964-95ce84259384",
   "metadata": {},
   "outputs": [
    {
     "data": {
      "text/plain": [
       "(10, 20, 2.2, 'ten', True, (1+2j), 20)"
      ]
     },
     "execution_count": 7,
     "metadata": {},
     "output_type": "execute_result"
    }
   ],
   "source": [
    "t1 = (10, 20, 2.2, 'ten', True, 1+2j, 20)\n",
    "t1"
   ]
  },
  {
   "cell_type": "code",
   "execution_count": 8,
   "id": "359b8b0b-dbf6-4da5-8b31-018d623f0487",
   "metadata": {},
   "outputs": [
    {
     "data": {
      "text/plain": [
       "2"
      ]
     },
     "execution_count": 8,
     "metadata": {},
     "output_type": "execute_result"
    }
   ],
   "source": [
    "t1.count(20)"
   ]
  },
  {
   "cell_type": "code",
   "execution_count": 10,
   "id": "08ba2a9d-7b64-4ecd-8e1e-d8a1b1766dcb",
   "metadata": {},
   "outputs": [
    {
     "data": {
      "text/plain": [
       "1"
      ]
     },
     "execution_count": 10,
     "metadata": {},
     "output_type": "execute_result"
    }
   ],
   "source": [
    "t1.index(20) # give the index of the given value (if there is more than one same value then it gives the index of the first value index)"
   ]
  },
  {
   "cell_type": "code",
   "execution_count": 11,
   "id": "773fceb8-12d3-488c-a579-83d9de55bd2e",
   "metadata": {},
   "outputs": [
    {
     "data": {
      "text/plain": [
       "(10, 20, 30)"
      ]
     },
     "execution_count": 11,
     "metadata": {},
     "output_type": "execute_result"
    }
   ],
   "source": [
    "t"
   ]
  },
  {
   "cell_type": "code",
   "execution_count": 12,
   "id": "4f650d2f-b323-48fa-aeaf-4992b7d4b75c",
   "metadata": {},
   "outputs": [
    {
     "data": {
      "text/plain": [
       "10"
      ]
     },
     "execution_count": 12,
     "metadata": {},
     "output_type": "execute_result"
    }
   ],
   "source": [
    "t[0]"
   ]
  },
  {
   "cell_type": "code",
   "execution_count": 13,
   "id": "e7d98b6f-00cd-4961-9736-c25efc084e4e",
   "metadata": {},
   "outputs": [
    {
     "ename": "TypeError",
     "evalue": "'tuple' object does not support item assignment",
     "output_type": "error",
     "traceback": [
      "\u001b[1;31m---------------------------------------------------------------------------\u001b[0m",
      "\u001b[1;31mTypeError\u001b[0m                                 Traceback (most recent call last)",
      "Cell \u001b[1;32mIn[13], line 1\u001b[0m\n\u001b[1;32m----> 1\u001b[0m t[\u001b[38;5;241m0\u001b[39m] \u001b[38;5;241m=\u001b[39m \u001b[38;5;241m100\u001b[39m\n",
      "\u001b[1;31mTypeError\u001b[0m: 'tuple' object does not support item assignment"
     ]
    }
   ],
   "source": [
    "t[0] = 100 # As tuple is immutable that's why we can't change the value of the tuple"
   ]
  },
  {
   "cell_type": "markdown",
   "id": "bf1ee6ff-e4b1-430a-8e90-9f71c864c842",
   "metadata": {},
   "source": [
    "* List is mutable\n",
    "* Tuple is immutablee"
   ]
  },
  {
   "cell_type": "code",
   "execution_count": 14,
   "id": "9ccee3d3-a4ff-4c2e-9200-2f50f203a0a8",
   "metadata": {},
   "outputs": [
    {
     "data": {
      "text/plain": [
       "(1234, 'cizp45yi', 100000)"
      ]
     },
     "execution_count": 14,
     "metadata": {},
     "output_type": "execute_result"
    }
   ],
   "source": [
    "bank_account = (1234, 'cizp45yi', 100000)\n",
    "bank_account"
   ]
  },
  {
   "cell_type": "code",
   "execution_count": 15,
   "id": "ded477bb-4d37-41a4-969b-d9032934b167",
   "metadata": {},
   "outputs": [
    {
     "ename": "TypeError",
     "evalue": "'tuple' object does not support item assignment",
     "output_type": "error",
     "traceback": [
      "\u001b[1;31m---------------------------------------------------------------------------\u001b[0m",
      "\u001b[1;31mTypeError\u001b[0m                                 Traceback (most recent call last)",
      "Cell \u001b[1;32mIn[15], line 1\u001b[0m\n\u001b[1;32m----> 1\u001b[0m bank_account[\u001b[38;5;241m2\u001b[39m] \u001b[38;5;241m=\u001b[39m \u001b[38;5;241m200000\u001b[39m\n",
      "\u001b[1;31mTypeError\u001b[0m: 'tuple' object does not support item assignment"
     ]
    }
   ],
   "source": [
    "bank_account[2] = 200000 "
   ]
  },
  {
   "cell_type": "code",
   "execution_count": 16,
   "id": "f596e595-5adb-482b-9b89-996c1f6dfd78",
   "metadata": {},
   "outputs": [
    {
     "data": {
      "text/plain": [
       "(10, 20, 30)"
      ]
     },
     "execution_count": 16,
     "metadata": {},
     "output_type": "execute_result"
    }
   ],
   "source": [
    "t"
   ]
  },
  {
   "cell_type": "code",
   "execution_count": 17,
   "id": "c5381fc5-90b7-4a8e-a9fd-b763f0f874ea",
   "metadata": {},
   "outputs": [
    {
     "data": {
      "text/plain": [
       "(10, 20, 30, 10, 20, 30, 10, 20, 30)"
      ]
     },
     "execution_count": 17,
     "metadata": {},
     "output_type": "execute_result"
    }
   ],
   "source": [
    "t2 = t * 3\n",
    "t2"
   ]
  },
  {
   "cell_type": "code",
   "execution_count": 18,
   "id": "8e1d3121-fc63-4179-b4b5-d99440f39a14",
   "metadata": {},
   "outputs": [
    {
     "name": "stdout",
     "output_type": "stream",
     "text": [
      "10\n",
      "20\n",
      "30\n"
     ]
    }
   ],
   "source": [
    "for i in t:\n",
    "    print(i)"
   ]
  },
  {
   "cell_type": "code",
   "execution_count": 19,
   "id": "7ccaf721-dbca-45b4-8884-0ffdad55f36b",
   "metadata": {},
   "outputs": [
    {
     "name": "stdout",
     "output_type": "stream",
     "text": [
      "(0, 10)\n",
      "(1, 20)\n",
      "(2, 30)\n"
     ]
    }
   ],
   "source": [
    "for i in enumerate(t):\n",
    "    print(i)"
   ]
  },
  {
   "cell_type": "code",
   "execution_count": null,
   "id": "fd55fe0f-76b9-4688-bbc2-864c9f3154c9",
   "metadata": {},
   "outputs": [],
   "source": []
  },
  {
   "cell_type": "code",
   "execution_count": null,
   "id": "94608347-425f-4289-92a8-89494fda8b6e",
   "metadata": {},
   "outputs": [],
   "source": []
  },
  {
   "cell_type": "code",
   "execution_count": null,
   "id": "fae234b9-9edf-4f83-82e5-0323f515a751",
   "metadata": {},
   "outputs": [],
   "source": []
  },
  {
   "cell_type": "markdown",
   "id": "998da5f2-072c-4886-9313-74e3c9fcbc9c",
   "metadata": {},
   "source": [
    "## List\n",
    "\n",
    "* Mutable\n",
    "* Duplicte is allowed\n",
    "* append(), copy(), insert(), extend(), pop(), sort(), reverse()\n",
    "* remove the element\n",
    "* list is growable\n",
    "* multiple data type in a list\n",
    "* indexing and slicing allowed\n",
    "\n",
    "## Tuple\n",
    "* Immutable (unchangeable)\n",
    "* duplication is allowed\n",
    "* remove is not allowed\n",
    "* only 2 function will work (.index(), .count())"
   ]
  },
  {
   "cell_type": "markdown",
   "id": "a512f4e0-48c8-4be5-98c0-92b88a49c35d",
   "metadata": {},
   "source": [
    "# Set"
   ]
  },
  {
   "cell_type": "code",
   "execution_count": 34,
   "id": "16159f11-d414-4d15-bbc9-b10a4d56ff20",
   "metadata": {},
   "outputs": [
    {
     "data": {
      "text/plain": [
       "{}"
      ]
     },
     "execution_count": 34,
     "metadata": {},
     "output_type": "execute_result"
    }
   ],
   "source": [
    "s = {}\n",
    "s"
   ]
  },
  {
   "cell_type": "code",
   "execution_count": 21,
   "id": "4017fe8c-59aa-439b-9e4c-fc6974b22b4e",
   "metadata": {},
   "outputs": [
    {
     "data": {
      "text/plain": [
       "dict"
      ]
     },
     "execution_count": 21,
     "metadata": {},
     "output_type": "execute_result"
    }
   ],
   "source": [
    "type(s)"
   ]
  },
  {
   "cell_type": "markdown",
   "id": "0e41be42-c8be-4fe2-90c2-3dd201dec6a5",
   "metadata": {},
   "source": [
    "`How to define an empty set?`\n",
    "* Need to declare with `set()` to define an empty set."
   ]
  },
  {
   "cell_type": "code",
   "execution_count": 35,
   "id": "b5f5cfa4-02b9-4e96-bf76-92ee27ae1ec8",
   "metadata": {},
   "outputs": [
    {
     "data": {
      "text/plain": [
       "set()"
      ]
     },
     "execution_count": 35,
     "metadata": {},
     "output_type": "execute_result"
    }
   ],
   "source": [
    "s1 = set()\n",
    "s1"
   ]
  },
  {
   "cell_type": "code",
   "execution_count": 23,
   "id": "96b83d2a-6717-456f-ad78-881b25bac0a1",
   "metadata": {},
   "outputs": [
    {
     "data": {
      "text/plain": [
       "{10, 25, 40, 50, 90}"
      ]
     },
     "execution_count": 23,
     "metadata": {},
     "output_type": "execute_result"
    }
   ],
   "source": [
    "s2 = {90, 10, 50, 40, 25, 10, 50}\n",
    "s2"
   ]
  },
  {
   "cell_type": "code",
   "execution_count": 24,
   "id": "162eea90-da4d-4452-9a48-fbee3f454a49",
   "metadata": {},
   "outputs": [
    {
     "data": {
      "text/plain": [
       "set"
      ]
     },
     "execution_count": 24,
     "metadata": {},
     "output_type": "execute_result"
    }
   ],
   "source": [
    "type(s2)"
   ]
  },
  {
   "cell_type": "code",
   "execution_count": 25,
   "id": "72335634-937b-4334-8ed2-95af48eb91c0",
   "metadata": {},
   "outputs": [
    {
     "data": {
      "text/plain": [
       "{10, 25, 40, 50, 90}"
      ]
     },
     "execution_count": 25,
     "metadata": {},
     "output_type": "execute_result"
    }
   ],
   "source": [
    "s2"
   ]
  },
  {
   "cell_type": "code",
   "execution_count": 26,
   "id": "c5a606f2-82b3-41ab-acff-f64aeb9e2674",
   "metadata": {},
   "outputs": [
    {
     "data": {
      "text/plain": [
       "{10, 25, 40, 50, 90}"
      ]
     },
     "execution_count": 26,
     "metadata": {},
     "output_type": "execute_result"
    }
   ],
   "source": [
    "s3 = s2.copy()\n",
    "s3"
   ]
  },
  {
   "cell_type": "code",
   "execution_count": 27,
   "id": "3e6dec28-adf9-44fe-a44c-214a09e18d12",
   "metadata": {},
   "outputs": [
    {
     "data": {
      "text/plain": [
       "{3.4, 10, 25, 40, 50, 90}"
      ]
     },
     "execution_count": 27,
     "metadata": {},
     "output_type": "execute_result"
    }
   ],
   "source": [
    "s3.add(3.4)\n",
    "s3"
   ]
  },
  {
   "cell_type": "code",
   "execution_count": 28,
   "id": "ebe05fc7-e23d-4ac6-a5ea-9dc15ac22dfb",
   "metadata": {},
   "outputs": [
    {
     "data": {
      "text/plain": [
       "{10, 25, 3.4, 40, 50, 90, 'nit'}"
      ]
     },
     "execution_count": 28,
     "metadata": {},
     "output_type": "execute_result"
    }
   ],
   "source": [
    "s3.add('nit')\n",
    "s3"
   ]
  },
  {
   "cell_type": "code",
   "execution_count": 29,
   "id": "fb8b5db5-72f6-4022-917a-812ebc612522",
   "metadata": {},
   "outputs": [
    {
     "data": {
      "text/plain": [
       "{(1+2j), 10, 25, 3.4, 40, 50, 90, 'nit'}"
      ]
     },
     "execution_count": 29,
     "metadata": {},
     "output_type": "execute_result"
    }
   ],
   "source": [
    "s3.add(1+2j)\n",
    "s3"
   ]
  },
  {
   "cell_type": "code",
   "execution_count": 30,
   "id": "db34a780-8c6a-495a-9878-540abb68f4a7",
   "metadata": {},
   "outputs": [
    {
     "data": {
      "text/plain": [
       "{(1+2j), 10, 25, 3.4, 40, 50, 90, True, 'nit'}"
      ]
     },
     "execution_count": 30,
     "metadata": {},
     "output_type": "execute_result"
    }
   ],
   "source": [
    "s3.add(True)\n",
    "s3"
   ]
  },
  {
   "cell_type": "code",
   "execution_count": 32,
   "id": "d384598a-291c-4131-aba3-59d799d42a13",
   "metadata": {},
   "outputs": [
    {
     "name": "stdout",
     "output_type": "stream",
     "text": [
      "set()\n",
      "{50, 90, 40, 25, 10}\n",
      "{True, 3.4, (1+2j), 10, 'nit', 25, 90, 40, 50}\n"
     ]
    }
   ],
   "source": [
    "print(s)\n",
    "print(s2)\n",
    "print(s3)"
   ]
  },
  {
   "cell_type": "code",
   "execution_count": 36,
   "id": "9b55eb1a-cf88-4b76-9629-40a430ff0502",
   "metadata": {},
   "outputs": [
    {
     "ename": "TypeError",
     "evalue": "set.add() takes exactly one argument (2 given)",
     "output_type": "error",
     "traceback": [
      "\u001b[1;31m---------------------------------------------------------------------------\u001b[0m",
      "\u001b[1;31mTypeError\u001b[0m                                 Traceback (most recent call last)",
      "Cell \u001b[1;32mIn[36], line 1\u001b[0m\n\u001b[1;32m----> 1\u001b[0m s1\u001b[38;5;241m.\u001b[39madd(\u001b[38;5;241m1\u001b[39m, \u001b[38;5;241m2\u001b[39m)\n",
      "\u001b[1;31mTypeError\u001b[0m: set.add() takes exactly one argument (2 given)"
     ]
    }
   ],
   "source": [
    "s1.add(1, 2)"
   ]
  },
  {
   "cell_type": "markdown",
   "id": "458209e4-6a15-439c-ad9b-848b13a98408",
   "metadata": {},
   "source": [
    "### .add(value) will add the value to the set in random index"
   ]
  },
  {
   "cell_type": "code",
   "execution_count": 37,
   "id": "05543aa4-b555-493e-9782-4f98182cf719",
   "metadata": {},
   "outputs": [
    {
     "data": {
      "text/plain": [
       "{(1+2j), 10, 25, 3.4, 40, 50, 90, True, 'nit'}"
      ]
     },
     "execution_count": 37,
     "metadata": {},
     "output_type": "execute_result"
    }
   ],
   "source": [
    "s3"
   ]
  },
  {
   "cell_type": "code",
   "execution_count": 38,
   "id": "6048721d-5be4-414c-86c4-7fe2a9df3778",
   "metadata": {},
   "outputs": [
    {
     "ename": "KeyError",
     "evalue": "2000",
     "output_type": "error",
     "traceback": [
      "\u001b[1;31m---------------------------------------------------------------------------\u001b[0m",
      "\u001b[1;31mKeyError\u001b[0m                                  Traceback (most recent call last)",
      "Cell \u001b[1;32mIn[38], line 1\u001b[0m\n\u001b[1;32m----> 1\u001b[0m s3\u001b[38;5;241m.\u001b[39mremove(\u001b[38;5;241m2000\u001b[39m)\n",
      "\u001b[1;31mKeyError\u001b[0m: 2000"
     ]
    }
   ],
   "source": [
    "s3.remove(2000)"
   ]
  },
  {
   "cell_type": "code",
   "execution_count": 39,
   "id": "808b0587-20d3-43be-bf21-8e89c3c0e689",
   "metadata": {},
   "outputs": [
    {
     "data": {
      "text/plain": [
       "{10, 25, 3.4, 40, 50, 90, True, 'nit'}"
      ]
     },
     "execution_count": 39,
     "metadata": {},
     "output_type": "execute_result"
    }
   ],
   "source": [
    "s3.remove(1+2j)\n",
    "s3"
   ]
  },
  {
   "cell_type": "code",
   "execution_count": 40,
   "id": "7f602d61-a177-45dc-886b-192122afdab3",
   "metadata": {},
   "outputs": [
    {
     "data": {
      "text/plain": [
       "{10, 25, 3.4, 40, 50, 90, True, 'nit'}"
      ]
     },
     "execution_count": 40,
     "metadata": {},
     "output_type": "execute_result"
    }
   ],
   "source": [
    "s3"
   ]
  },
  {
   "cell_type": "code",
   "execution_count": 43,
   "id": "e0ff601b-d29b-4f44-9e60-2012f95be888",
   "metadata": {},
   "outputs": [
    {
     "data": {
      "text/plain": [
       "{25, 3.4, 40, 50, 90, True, 'nit'}"
      ]
     },
     "execution_count": 43,
     "metadata": {},
     "output_type": "execute_result"
    }
   ],
   "source": [
    "s3.discard(10)\n",
    "s3"
   ]
  },
  {
   "cell_type": "code",
   "execution_count": 44,
   "id": "80a52c45-be4b-4f89-8b02-535e7670bd7d",
   "metadata": {},
   "outputs": [
    {
     "data": {
      "text/plain": [
       "{25, 3.4, 40, 50, 90, True, 'nit'}"
      ]
     },
     "execution_count": 44,
     "metadata": {},
     "output_type": "execute_result"
    }
   ],
   "source": [
    "s3.discard(2000)\n",
    "s3"
   ]
  },
  {
   "cell_type": "markdown",
   "id": "1509661c-65d0-4cfc-94e8-569c5db72d56",
   "metadata": {},
   "source": [
    "### Diff between .remove(value) and .discard(value) in set\n",
    "* remove() will remove the if value if the value is present in the set, if not it will throw an error\n",
    "* discard() will remove if the value is present in the set, if not it will not throw any error"
   ]
  },
  {
   "cell_type": "code",
   "execution_count": 45,
   "id": "eb1c7772-2e25-4470-a71b-a6471395d392",
   "metadata": {},
   "outputs": [
    {
     "data": {
      "text/plain": [
       "True"
      ]
     },
     "execution_count": 45,
     "metadata": {},
     "output_type": "execute_result"
    }
   ],
   "source": [
    "s3.pop()"
   ]
  },
  {
   "cell_type": "code",
   "execution_count": 46,
   "id": "381d6ca6-af7c-4f70-b86b-2b0387d49037",
   "metadata": {},
   "outputs": [
    {
     "data": {
      "text/plain": [
       "{25, 3.4, 40, 50, 90, 'nit'}"
      ]
     },
     "execution_count": 46,
     "metadata": {},
     "output_type": "execute_result"
    }
   ],
   "source": [
    "s3"
   ]
  },
  {
   "cell_type": "code",
   "execution_count": 47,
   "id": "ba4a2e3f-6741-41c4-8d5d-31f59e357a10",
   "metadata": {},
   "outputs": [
    {
     "data": {
      "text/plain": [
       "3.4"
      ]
     },
     "execution_count": 47,
     "metadata": {},
     "output_type": "execute_result"
    }
   ],
   "source": [
    "s3.pop()"
   ]
  },
  {
   "cell_type": "markdown",
   "id": "d63366e1-176f-4df2-938c-903cab33c903",
   "metadata": {},
   "source": [
    "### .pop() removes value from random index"
   ]
  },
  {
   "cell_type": "code",
   "execution_count": 48,
   "id": "86d7fe41-df5c-4345-a34b-e03fd7f9938a",
   "metadata": {},
   "outputs": [
    {
     "ename": "TypeError",
     "evalue": "'set' object is not subscriptable",
     "output_type": "error",
     "traceback": [
      "\u001b[1;31m---------------------------------------------------------------------------\u001b[0m",
      "\u001b[1;31mTypeError\u001b[0m                                 Traceback (most recent call last)",
      "Cell \u001b[1;32mIn[48], line 1\u001b[0m\n\u001b[1;32m----> 1\u001b[0m s3[:]\n",
      "\u001b[1;31mTypeError\u001b[0m: 'set' object is not subscriptable"
     ]
    }
   ],
   "source": [
    "s3[:]"
   ]
  },
  {
   "cell_type": "code",
   "execution_count": 49,
   "id": "39fdae94-ffbe-4c99-9808-f5520034c221",
   "metadata": {},
   "outputs": [
    {
     "ename": "TypeError",
     "evalue": "'set' object is not subscriptable",
     "output_type": "error",
     "traceback": [
      "\u001b[1;31m---------------------------------------------------------------------------\u001b[0m",
      "\u001b[1;31mTypeError\u001b[0m                                 Traceback (most recent call last)",
      "Cell \u001b[1;32mIn[49], line 1\u001b[0m\n\u001b[1;32m----> 1\u001b[0m s3[\u001b[38;5;241m1\u001b[39m:]\n",
      "\u001b[1;31mTypeError\u001b[0m: 'set' object is not subscriptable"
     ]
    }
   ],
   "source": [
    "s3[1:]"
   ]
  },
  {
   "cell_type": "markdown",
   "id": "bd8f94d7-178d-4c12-b43c-a927833b2d91",
   "metadata": {},
   "source": [
    "### slicing is not allowed in set"
   ]
  },
  {
   "cell_type": "code",
   "execution_count": 50,
   "id": "ea6b9dce-e0fe-4e40-b611-e6cd64bd13c3",
   "metadata": {},
   "outputs": [
    {
     "ename": "TypeError",
     "evalue": "set.pop() takes no arguments (1 given)",
     "output_type": "error",
     "traceback": [
      "\u001b[1;31m---------------------------------------------------------------------------\u001b[0m",
      "\u001b[1;31mTypeError\u001b[0m                                 Traceback (most recent call last)",
      "Cell \u001b[1;32mIn[50], line 1\u001b[0m\n\u001b[1;32m----> 1\u001b[0m s3\u001b[38;5;241m.\u001b[39mpop(\u001b[38;5;241m0\u001b[39m)\n",
      "\u001b[1;31mTypeError\u001b[0m: set.pop() takes no arguments (1 given)"
     ]
    }
   ],
   "source": [
    "s3.pop(0)"
   ]
  },
  {
   "cell_type": "markdown",
   "id": "cc1ce7ca-d03a-43fb-9ff0-165c64685109",
   "metadata": {},
   "source": [
    "### In set indexing is not allowed"
   ]
  },
  {
   "cell_type": "code",
   "execution_count": 51,
   "id": "9ef23fa4-62f1-4900-b90f-29bc8394bd7e",
   "metadata": {},
   "outputs": [
    {
     "data": {
      "text/plain": [
       "True"
      ]
     },
     "execution_count": 51,
     "metadata": {},
     "output_type": "execute_result"
    }
   ],
   "source": [
    "40 in s3"
   ]
  },
  {
   "cell_type": "markdown",
   "id": "10bada9d-3bbf-44a9-8f07-07bca7292828",
   "metadata": {},
   "source": [
    "## Set Operation"
   ]
  },
  {
   "cell_type": "code",
   "execution_count": 52,
   "id": "66163bf9-98f9-48ff-8734-4d17ad496401",
   "metadata": {},
   "outputs": [],
   "source": [
    "a = {1, 2, 3, 4, 5}\n",
    "b = {4, 5, 6,7, 8}\n",
    "c = {8, 9, 10}"
   ]
  },
  {
   "cell_type": "code",
   "execution_count": 53,
   "id": "7437fb3e-9545-41dd-b62e-cc4423227c3d",
   "metadata": {},
   "outputs": [
    {
     "data": {
      "text/plain": [
       "set"
      ]
     },
     "execution_count": 53,
     "metadata": {},
     "output_type": "execute_result"
    }
   ],
   "source": [
    "type(c)"
   ]
  },
  {
   "cell_type": "markdown",
   "id": "cf50071f-1446-42c0-b066-d56f30b3fd55",
   "metadata": {},
   "source": [
    "### `Union Operations`"
   ]
  },
  {
   "cell_type": "code",
   "execution_count": 54,
   "id": "e0c7b7c6-3db8-4e6d-93bf-0a45de52d6c4",
   "metadata": {},
   "outputs": [
    {
     "data": {
      "text/plain": [
       "{1, 2, 3, 4, 5, 6, 7, 8}"
      ]
     },
     "execution_count": 54,
     "metadata": {},
     "output_type": "execute_result"
    }
   ],
   "source": [
    "a.union(b)"
   ]
  },
  {
   "cell_type": "code",
   "execution_count": 55,
   "id": "72f4bcfe-29fb-478d-bcf5-436599fc4ce8",
   "metadata": {},
   "outputs": [
    {
     "data": {
      "text/plain": [
       "{1, 2, 3, 4, 5, 6, 7, 8, 9, 10}"
      ]
     },
     "execution_count": 55,
     "metadata": {},
     "output_type": "execute_result"
    }
   ],
   "source": [
    "a.union(b, c)"
   ]
  },
  {
   "cell_type": "code",
   "execution_count": 56,
   "id": "2027b078-c3a9-491a-b5ab-9febbace28e1",
   "metadata": {},
   "outputs": [
    {
     "name": "stdout",
     "output_type": "stream",
     "text": [
      "{1, 2, 3, 4, 5}\n",
      "{4, 5, 6, 7, 8}\n",
      "{8, 9, 10}\n"
     ]
    }
   ],
   "source": [
    "print(a)\n",
    "print(b)\n",
    "print(c)"
   ]
  },
  {
   "cell_type": "code",
   "execution_count": 59,
   "id": "f3b93c1c-f0fa-43e7-9b91-de38a0a0ac76",
   "metadata": {},
   "outputs": [
    {
     "data": {
      "text/plain": [
       "{1, 2, 3, 4, 5, 6, 7, 8}"
      ]
     },
     "execution_count": 59,
     "metadata": {},
     "output_type": "execute_result"
    }
   ],
   "source": [
    "a | b # Same as .union()"
   ]
  },
  {
   "cell_type": "code",
   "execution_count": 60,
   "id": "7289e24a-a280-47b9-ba4b-0f8b1299d108",
   "metadata": {},
   "outputs": [
    {
     "data": {
      "text/plain": [
       "{4, 5, 6, 7, 8, 9, 10}"
      ]
     },
     "execution_count": 60,
     "metadata": {},
     "output_type": "execute_result"
    }
   ],
   "source": [
    "b | c"
   ]
  },
  {
   "cell_type": "code",
   "execution_count": 61,
   "id": "f5187efa-760f-4ccf-858c-09111c9dac27",
   "metadata": {},
   "outputs": [
    {
     "data": {
      "text/plain": [
       "{1, 2, 3, 4, 5, 6, 7, 8, 9, 10}"
      ]
     },
     "execution_count": 61,
     "metadata": {},
     "output_type": "execute_result"
    }
   ],
   "source": [
    "a | b | c"
   ]
  },
  {
   "cell_type": "code",
   "execution_count": 62,
   "id": "bd5743c6-f5e9-4f8b-b1c2-796b5ac9cdd1",
   "metadata": {},
   "outputs": [
    {
     "data": {
      "text/plain": [
       "{1, 2, 3, 4, 5, 8, 9, 10}"
      ]
     },
     "execution_count": 62,
     "metadata": {},
     "output_type": "execute_result"
    }
   ],
   "source": [
    "a | c"
   ]
  },
  {
   "cell_type": "code",
   "execution_count": 63,
   "id": "88464fb2-1378-41ad-a69b-e1883633e657",
   "metadata": {},
   "outputs": [
    {
     "data": {
      "text/plain": [
       "{1, 2, 3, 4, 5, 6, 7, 8, 9, 10}"
      ]
     },
     "execution_count": 63,
     "metadata": {},
     "output_type": "execute_result"
    }
   ],
   "source": [
    "a | c | b"
   ]
  },
  {
   "cell_type": "markdown",
   "id": "f10d0b5f-2a52-41ee-9c8c-9ed48c81e2f2",
   "metadata": {},
   "source": [
    "### `Intersection`"
   ]
  },
  {
   "cell_type": "code",
   "execution_count": 64,
   "id": "10202d2c-a65b-436e-b673-b0a4f14e06fb",
   "metadata": {},
   "outputs": [],
   "source": [
    "a = {1, 2, 3, 4, 5}\n",
    "b = {4, 5, 6,7, 8}\n",
    "c = {8, 9, 10}"
   ]
  },
  {
   "cell_type": "code",
   "execution_count": 65,
   "id": "9f241c08-3417-4c02-838e-4c55fb8765ef",
   "metadata": {},
   "outputs": [
    {
     "data": {
      "text/plain": [
       "{4, 5}"
      ]
     },
     "execution_count": 65,
     "metadata": {},
     "output_type": "execute_result"
    }
   ],
   "source": [
    "a.intersection(b)"
   ]
  },
  {
   "cell_type": "code",
   "execution_count": 66,
   "id": "f0c13d09-1739-4e95-80bf-8cbb05badf53",
   "metadata": {},
   "outputs": [
    {
     "data": {
      "text/plain": [
       "{8}"
      ]
     },
     "execution_count": 66,
     "metadata": {},
     "output_type": "execute_result"
    }
   ],
   "source": [
    "b.intersection(c)"
   ]
  },
  {
   "cell_type": "code",
   "execution_count": 68,
   "id": "0db39ea6-22f1-4aca-b49a-691e5820ac87",
   "metadata": {},
   "outputs": [
    {
     "data": {
      "text/plain": [
       "{4, 5}"
      ]
     },
     "execution_count": 68,
     "metadata": {},
     "output_type": "execute_result"
    }
   ],
   "source": [
    "a & b # both & and .intersection() are same"
   ]
  },
  {
   "cell_type": "code",
   "execution_count": 69,
   "id": "d8cc26bf-4ff0-4bac-bd9b-9d1d098c48a7",
   "metadata": {},
   "outputs": [
    {
     "data": {
      "text/plain": [
       "{8}"
      ]
     },
     "execution_count": 69,
     "metadata": {},
     "output_type": "execute_result"
    }
   ],
   "source": [
    "b & c"
   ]
  },
  {
   "cell_type": "markdown",
   "id": "4d3d63e5-f17b-4f7a-a4d7-f8ee30dfa2a1",
   "metadata": {},
   "source": [
    "### `Difference`"
   ]
  },
  {
   "cell_type": "code",
   "execution_count": 70,
   "id": "39a6b62a-45ac-40c2-8a87-4932d3d00464",
   "metadata": {},
   "outputs": [],
   "source": [
    "a = {1, 2, 3, 4, 5}\n",
    "b = {4, 5, 6,7, 8}\n",
    "c = {8, 9, 10}"
   ]
  },
  {
   "cell_type": "code",
   "execution_count": 71,
   "id": "e94af6d5-4d32-4bbe-8072-9c652882760e",
   "metadata": {},
   "outputs": [
    {
     "data": {
      "text/plain": [
       "{1, 2, 3}"
      ]
     },
     "execution_count": 71,
     "metadata": {},
     "output_type": "execute_result"
    }
   ],
   "source": [
    "a.difference(b)"
   ]
  },
  {
   "cell_type": "code",
   "execution_count": 72,
   "id": "0e5c0fc3-b514-4747-b281-4e07f4466fa0",
   "metadata": {},
   "outputs": [
    {
     "data": {
      "text/plain": [
       "{6, 7, 8}"
      ]
     },
     "execution_count": 72,
     "metadata": {},
     "output_type": "execute_result"
    }
   ],
   "source": [
    "b.difference(a)"
   ]
  },
  {
   "cell_type": "code",
   "execution_count": 74,
   "id": "b0ebd847-21d1-4c7c-9284-480c672155ac",
   "metadata": {},
   "outputs": [
    {
     "data": {
      "text/plain": [
       "{1, 2, 3}"
      ]
     },
     "execution_count": 74,
     "metadata": {},
     "output_type": "execute_result"
    }
   ],
   "source": [
    "a - b # Both ' - ' and .difference() are same"
   ]
  },
  {
   "cell_type": "code",
   "execution_count": 75,
   "id": "1307fc75-0a50-410d-9be5-433bb5093292",
   "metadata": {},
   "outputs": [
    {
     "data": {
      "text/plain": [
       "{4, 5, 6, 7}"
      ]
     },
     "execution_count": 75,
     "metadata": {},
     "output_type": "execute_result"
    }
   ],
   "source": [
    "b - c"
   ]
  },
  {
   "cell_type": "code",
   "execution_count": 76,
   "id": "de9a7df6-b3d6-4310-a6ff-50773b8333cb",
   "metadata": {},
   "outputs": [
    {
     "data": {
      "text/plain": [
       "{9, 10}"
      ]
     },
     "execution_count": 76,
     "metadata": {},
     "output_type": "execute_result"
    }
   ],
   "source": [
    "c  - b"
   ]
  },
  {
   "cell_type": "code",
   "execution_count": 77,
   "id": "446805e8-fd6b-461f-b3e7-a4d6eaa742b8",
   "metadata": {},
   "outputs": [
    {
     "data": {
      "text/plain": [
       "{1, 2, 3}"
      ]
     },
     "execution_count": 77,
     "metadata": {},
     "output_type": "execute_result"
    }
   ],
   "source": [
    "a - b - c"
   ]
  },
  {
   "cell_type": "markdown",
   "id": "2cf16570-6239-45ee-bf46-fa491ac38593",
   "metadata": {},
   "source": [
    "`Difference`: It gives the number from first set excluding the common one\n",
    "`Symmetric Difference` : It gives the number from both table excluding the common one"
   ]
  },
  {
   "cell_type": "markdown",
   "id": "5c7b67ad-b7f1-408b-82a3-62f87e6d67f6",
   "metadata": {},
   "source": [
    "### `Symmetric Difference`"
   ]
  },
  {
   "cell_type": "code",
   "execution_count": 1,
   "id": "ba25e248-40e0-45a8-ab9f-d971c0903c39",
   "metadata": {},
   "outputs": [],
   "source": [
    "a = {1, 2, 3, 4, 5}\n",
    "b = {4, 5, 6,7, 8}\n",
    "c = {8, 9, 10}"
   ]
  },
  {
   "cell_type": "code",
   "execution_count": 2,
   "id": "2aed8d8c-4776-4330-868a-8f7c2da73f50",
   "metadata": {},
   "outputs": [
    {
     "name": "stdout",
     "output_type": "stream",
     "text": [
      "{1, 2, 3, 4, 5}\n",
      "{4, 5, 6, 7, 8}\n",
      "{8, 9, 10}\n"
     ]
    }
   ],
   "source": [
    "print(a)\n",
    "print(b)\n",
    "print(c)"
   ]
  },
  {
   "cell_type": "code",
   "execution_count": 4,
   "id": "31b28f11-bcb1-454a-8565-f3b389c1cbfd",
   "metadata": {},
   "outputs": [
    {
     "data": {
      "text/plain": [
       "{1, 2, 3, 6, 7, 8}"
      ]
     },
     "execution_count": 4,
     "metadata": {},
     "output_type": "execute_result"
    }
   ],
   "source": [
    "a.symmetric_difference(b) # Gives the number excluding the the common one in both the set"
   ]
  },
  {
   "cell_type": "code",
   "execution_count": 5,
   "id": "c7aa7925-a8a4-4007-ae73-d09da05c49e2",
   "metadata": {},
   "outputs": [
    {
     "data": {
      "text/plain": [
       "{4, 5, 6, 7, 9, 10}"
      ]
     },
     "execution_count": 5,
     "metadata": {},
     "output_type": "execute_result"
    }
   ],
   "source": [
    "b^c"
   ]
  },
  {
   "cell_type": "code",
   "execution_count": 6,
   "id": "f2fbe2ce-f91e-457a-a7d3-7afe40318b3b",
   "metadata": {},
   "outputs": [
    {
     "data": {
      "text/plain": [
       "{1, 2, 3, 4, 5, 8, 9, 10}"
      ]
     },
     "execution_count": 6,
     "metadata": {},
     "output_type": "execute_result"
    }
   ],
   "source": [
    "a ^ c"
   ]
  },
  {
   "cell_type": "markdown",
   "id": "88c7eb54-98ea-44da-8d1e-ded5aa766074",
   "metadata": {},
   "source": [
    "### `Symmetric Difference Update`\n",
    "\n",
    "* It will update symmetric difference in-place"
   ]
  },
  {
   "cell_type": "code",
   "execution_count": 7,
   "id": "44eef9bc-b6a7-4586-b030-a7043c9852c2",
   "metadata": {},
   "outputs": [],
   "source": [
    "a.symmetric_difference_update(b)"
   ]
  },
  {
   "cell_type": "code",
   "execution_count": 8,
   "id": "1d5f39aa-edc4-457b-94dd-44469739ed39",
   "metadata": {},
   "outputs": [
    {
     "data": {
      "text/plain": [
       "{1, 2, 3, 6, 7, 8}"
      ]
     },
     "execution_count": 8,
     "metadata": {},
     "output_type": "execute_result"
    }
   ],
   "source": [
    "a"
   ]
  },
  {
   "cell_type": "markdown",
   "id": "51b31998-c20f-4edc-8b26-210d09420d06",
   "metadata": {},
   "source": [
    "# Superset, Subset, DisJoint"
   ]
  },
  {
   "cell_type": "code",
   "execution_count": 9,
   "id": "31bf8fc0-e767-4567-90f1-96a0df28b496",
   "metadata": {},
   "outputs": [],
   "source": [
    "s4 = {1, 2, 3, 4, 5, 6, 7, 8, 9}\n",
    "s5 = {3, 4, 5, 6, 7, 8}\n",
    "s6 = {10, 20, 30, 40}"
   ]
  },
  {
   "cell_type": "code",
   "execution_count": 10,
   "id": "9330969f-abd7-46f1-8127-7b91227a130e",
   "metadata": {},
   "outputs": [
    {
     "data": {
      "text/plain": [
       "True"
      ]
     },
     "execution_count": 10,
     "metadata": {},
     "output_type": "execute_result"
    }
   ],
   "source": [
    "s4.issuperset(s5)"
   ]
  },
  {
   "cell_type": "code",
   "execution_count": 11,
   "id": "17c2e8ea-8717-4b73-b543-318d44755ed8",
   "metadata": {},
   "outputs": [
    {
     "data": {
      "text/plain": [
       "True"
      ]
     },
     "execution_count": 11,
     "metadata": {},
     "output_type": "execute_result"
    }
   ],
   "source": [
    "s5.issubset(s4)"
   ]
  },
  {
   "cell_type": "code",
   "execution_count": 13,
   "id": "e3142de9-b541-4e17-98e3-8b0879ddcd33",
   "metadata": {},
   "outputs": [
    {
     "data": {
      "text/plain": [
       "True"
      ]
     },
     "execution_count": 13,
     "metadata": {},
     "output_type": "execute_result"
    }
   ],
   "source": [
    "s6.isdisjoint(s4) # means there is no relation"
   ]
  },
  {
   "cell_type": "code",
   "execution_count": 14,
   "id": "ae35f176-e097-422f-87d3-86b179ec43e8",
   "metadata": {},
   "outputs": [
    {
     "data": {
      "text/plain": [
       "False"
      ]
     },
     "execution_count": 14,
     "metadata": {},
     "output_type": "execute_result"
    }
   ],
   "source": [
    "s6.issubset(s5)"
   ]
  },
  {
   "cell_type": "code",
   "execution_count": 23,
   "id": "99087739-1109-4c48-9d48-9501518ff180",
   "metadata": {},
   "outputs": [],
   "source": [
    "s7 = {1, 2, 3, 4, 5, 6, 7, 8, 9}\n",
    "s8 = {15, 25, 35}\n",
    "s9 = {10, 20, 30, 40}"
   ]
  },
  {
   "cell_type": "code",
   "execution_count": 19,
   "id": "e44a6da5-2af8-4e5e-9d22-0228d29201e3",
   "metadata": {},
   "outputs": [
    {
     "data": {
      "text/plain": [
       "False"
      ]
     },
     "execution_count": 19,
     "metadata": {},
     "output_type": "execute_result"
    }
   ],
   "source": [
    "s7.issuperset(s8) # Every element must present in the super set to come true"
   ]
  },
  {
   "cell_type": "code",
   "execution_count": 20,
   "id": "fd0124c8-26f3-4321-99be-2d6744e25843",
   "metadata": {},
   "outputs": [
    {
     "data": {
      "text/plain": [
       "False"
      ]
     },
     "execution_count": 20,
     "metadata": {},
     "output_type": "execute_result"
    }
   ],
   "source": [
    "s8.issubset(s7)"
   ]
  },
  {
   "cell_type": "code",
   "execution_count": 25,
   "id": "6e2dfdda-0ec3-4565-92a7-b436d9b8f481",
   "metadata": {},
   "outputs": [
    {
     "data": {
      "text/plain": [
       "True"
      ]
     },
     "execution_count": 25,
     "metadata": {},
     "output_type": "execute_result"
    }
   ],
   "source": [
    "s7.isdisjoint(s8) # Every element must not match with superset to come true"
   ]
  },
  {
   "cell_type": "markdown",
   "id": "aa13d7d9-ed45-4be8-9f8c-97967fcde761",
   "metadata": {},
   "source": [
    "# Python Dictionary\n",
    "* Key and value pair\n",
    "* Keys will be mroe important than values\n",
    "* Dictionary is Mutable"
   ]
  },
  {
   "cell_type": "code",
   "execution_count": 26,
   "id": "fe9a40eb-8301-4320-b6f7-b98243d19b22",
   "metadata": {},
   "outputs": [
    {
     "data": {
      "text/plain": [
       "{1: 'one', 2: 'two', 3: 'Three', 'four': 4}"
      ]
     },
     "execution_count": 26,
     "metadata": {},
     "output_type": "execute_result"
    }
   ],
   "source": [
    "myDict = {\n",
    "    1: 'one',\n",
    "    2: 'two',\n",
    "    3: 'Three',\n",
    "    'four': 4\n",
    "}\n",
    "myDict"
   ]
  },
  {
   "cell_type": "code",
   "execution_count": 28,
   "id": "6249093d-aeb8-4273-85d8-5a5cf3a2df71",
   "metadata": {},
   "outputs": [
    {
     "data": {
      "text/plain": [
       "{1: 'one', 2: 'two', 3: 'Three', 'four': 4}"
      ]
     },
     "execution_count": 28,
     "metadata": {},
     "output_type": "execute_result"
    }
   ],
   "source": [
    "d2 = myDict.copy()\n",
    "d2"
   ]
  },
  {
   "cell_type": "code",
   "execution_count": 29,
   "id": "474addc7-4292-48db-bb24-71bd575cd11f",
   "metadata": {},
   "outputs": [
    {
     "data": {
      "text/plain": [
       "dict_items([(1, 'one'), (2, 'two'), (3, 'Three'), ('four', 4)])"
      ]
     },
     "execution_count": 29,
     "metadata": {},
     "output_type": "execute_result"
    }
   ],
   "source": [
    "myDict.items()"
   ]
  },
  {
   "cell_type": "code",
   "execution_count": 30,
   "id": "df9ae1c4-1868-433e-ad55-723fcca5dab2",
   "metadata": {},
   "outputs": [
    {
     "data": {
      "text/plain": [
       "4"
      ]
     },
     "execution_count": 30,
     "metadata": {},
     "output_type": "execute_result"
    }
   ],
   "source": [
    "len(myDict.items())"
   ]
  },
  {
   "cell_type": "code",
   "execution_count": 31,
   "id": "ba8e8560-ae0a-44af-b561-192273bca28f",
   "metadata": {},
   "outputs": [
    {
     "data": {
      "text/plain": [
       "4"
      ]
     },
     "execution_count": 31,
     "metadata": {},
     "output_type": "execute_result"
    }
   ],
   "source": [
    "myDict['four']"
   ]
  },
  {
   "cell_type": "code",
   "execution_count": 33,
   "id": "ee3a5f9a-e4d9-4bb0-a4b9-01e5b40e4248",
   "metadata": {},
   "outputs": [
    {
     "ename": "KeyError",
     "evalue": "'one'",
     "output_type": "error",
     "traceback": [
      "\u001b[1;31m---------------------------------------------------------------------------\u001b[0m",
      "\u001b[1;31mKeyError\u001b[0m                                  Traceback (most recent call last)",
      "Cell \u001b[1;32mIn[33], line 1\u001b[0m\n\u001b[1;32m----> 1\u001b[0m myDict[\u001b[38;5;124m'\u001b[39m\u001b[38;5;124mone\u001b[39m\u001b[38;5;124m'\u001b[39m]\n",
      "\u001b[1;31mKeyError\u001b[0m: 'one'"
     ]
    }
   ],
   "source": [
    "myDict['one']"
   ]
  },
  {
   "cell_type": "code",
   "execution_count": 34,
   "id": "c9be956c-4f24-4400-b3ed-811251ab8156",
   "metadata": {},
   "outputs": [
    {
     "data": {
      "text/plain": [
       "dict_keys([1, 2, 3, 'four'])"
      ]
     },
     "execution_count": 34,
     "metadata": {},
     "output_type": "execute_result"
    }
   ],
   "source": [
    "myDict.keys()"
   ]
  },
  {
   "cell_type": "code",
   "execution_count": 35,
   "id": "af5a574b-4dce-421b-b035-fd7e2420d6b4",
   "metadata": {},
   "outputs": [
    {
     "data": {
      "text/plain": [
       "dict_values(['one', 'two', 'Three', 4])"
      ]
     },
     "execution_count": 35,
     "metadata": {},
     "output_type": "execute_result"
    }
   ],
   "source": [
    "myDict.values()"
   ]
  },
  {
   "cell_type": "code",
   "execution_count": 36,
   "id": "c9e28596-d5b9-4f0b-a40d-1c6559a49cd8",
   "metadata": {},
   "outputs": [],
   "source": [
    "myDict['list'] = [1, 2, 3]"
   ]
  },
  {
   "cell_type": "code",
   "execution_count": 37,
   "id": "6b9634d1-ec00-415e-a2db-9cbb8f2f47ce",
   "metadata": {},
   "outputs": [
    {
     "data": {
      "text/plain": [
       "{1: 'one', 2: 'two', 3: 'Three', 'four': 4, 'list': [1, 2, 3]}"
      ]
     },
     "execution_count": 37,
     "metadata": {},
     "output_type": "execute_result"
    }
   ],
   "source": [
    "myDict"
   ]
  },
  {
   "cell_type": "code",
   "execution_count": 38,
   "id": "c1f50a6f-ebd0-4a8d-a9a3-127352246974",
   "metadata": {},
   "outputs": [
    {
     "data": {
      "text/plain": [
       "[1, 2, 3]"
      ]
     },
     "execution_count": 38,
     "metadata": {},
     "output_type": "execute_result"
    }
   ],
   "source": [
    "myDict['list']"
   ]
  },
  {
   "cell_type": "code",
   "execution_count": 39,
   "id": "9c712921-556f-4cc7-a690-3853f9ca7c56",
   "metadata": {},
   "outputs": [
    {
     "data": {
      "text/plain": [
       "dict_values(['one', 'two', 'Three', 4, [1, 2, 3]])"
      ]
     },
     "execution_count": 39,
     "metadata": {},
     "output_type": "execute_result"
    }
   ],
   "source": [
    "myDict.values()"
   ]
  },
  {
   "cell_type": "code",
   "execution_count": 40,
   "id": "a92ac675-ff7d-4653-9a5c-1891a69de6cf",
   "metadata": {},
   "outputs": [
    {
     "data": {
      "text/plain": [
       "[1, 2, 3]"
      ]
     },
     "execution_count": 40,
     "metadata": {},
     "output_type": "execute_result"
    }
   ],
   "source": [
    "myDict.pop('list')"
   ]
  },
  {
   "cell_type": "code",
   "execution_count": 41,
   "id": "f60b425e-636e-40ce-8057-252c5ac7015e",
   "metadata": {},
   "outputs": [
    {
     "data": {
      "text/plain": [
       "{1: 'one', 2: 'two', 3: 'Three', 'four': 4}"
      ]
     },
     "execution_count": 41,
     "metadata": {},
     "output_type": "execute_result"
    }
   ],
   "source": [
    "myDict"
   ]
  },
  {
   "cell_type": "code",
   "execution_count": 42,
   "id": "13be7d6a-6ad3-4695-b98c-c69dedcb4b1c",
   "metadata": {},
   "outputs": [
    {
     "data": {
      "text/plain": [
       "True"
      ]
     },
     "execution_count": 42,
     "metadata": {},
     "output_type": "execute_result"
    }
   ],
   "source": [
    "1 in myDict"
   ]
  },
  {
   "cell_type": "markdown",
   "id": "6ee948a9-e120-4d3d-8003-617b0387fbe6",
   "metadata": {},
   "source": [
    "# Range"
   ]
  },
  {
   "cell_type": "code",
   "execution_count": 43,
   "id": "cfe974c5-a1a7-4262-ac4d-75b8888b755b",
   "metadata": {},
   "outputs": [
    {
     "data": {
      "text/plain": [
       "range(0, 10)"
      ]
     },
     "execution_count": 43,
     "metadata": {},
     "output_type": "execute_result"
    }
   ],
   "source": [
    "range(10)"
   ]
  },
  {
   "cell_type": "code",
   "execution_count": 44,
   "id": "ec191197-4b59-4dfa-a92a-8ea54e7981f7",
   "metadata": {},
   "outputs": [
    {
     "data": {
      "text/plain": [
       "range(10, 20)"
      ]
     },
     "execution_count": 44,
     "metadata": {},
     "output_type": "execute_result"
    }
   ],
   "source": [
    "range(10, 20)"
   ]
  },
  {
   "cell_type": "code",
   "execution_count": 46,
   "id": "e8faff76-08af-4166-963d-3cf2e19e12d1",
   "metadata": {},
   "outputs": [
    {
     "data": {
      "text/plain": [
       "range(10, 20, 5)"
      ]
     },
     "execution_count": 46,
     "metadata": {},
     "output_type": "execute_result"
    }
   ],
   "source": [
    "range(10, 20, 5)"
   ]
  },
  {
   "cell_type": "code",
   "execution_count": 47,
   "id": "8ac93b90-a4cc-4d2a-860c-e5633ad69700",
   "metadata": {},
   "outputs": [
    {
     "data": {
      "text/plain": [
       "[0, 1, 2, 3, 4, 5, 6, 7, 8, 9]"
      ]
     },
     "execution_count": 47,
     "metadata": {},
     "output_type": "execute_result"
    }
   ],
   "source": [
    "list(range(10))"
   ]
  },
  {
   "cell_type": "code",
   "execution_count": 48,
   "id": "5197b61e-10c0-40cd-a7d0-a0071961dc3f",
   "metadata": {},
   "outputs": [
    {
     "data": {
      "text/plain": [
       "[10, 11, 12, 13, 14, 15, 16, 17, 18, 19]"
      ]
     },
     "execution_count": 48,
     "metadata": {},
     "output_type": "execute_result"
    }
   ],
   "source": [
    "list(range(10, 20))"
   ]
  },
  {
   "cell_type": "code",
   "execution_count": 49,
   "id": "37042274-d5d0-4a65-a77b-50dd6ace404d",
   "metadata": {},
   "outputs": [
    {
     "data": {
      "text/plain": [
       "[10, 15]"
      ]
     },
     "execution_count": 49,
     "metadata": {},
     "output_type": "execute_result"
    }
   ],
   "source": [
    "list(range(10, 20, 5))"
   ]
  },
  {
   "cell_type": "code",
   "execution_count": 50,
   "id": "67703781-9e5b-4111-9bdc-33c18af32ee5",
   "metadata": {},
   "outputs": [
    {
     "data": {
      "text/plain": [
       "range(10, 20)"
      ]
     },
     "execution_count": 50,
     "metadata": {},
     "output_type": "execute_result"
    }
   ],
   "source": [
    "r = range(10, 20)\n",
    "r"
   ]
  },
  {
   "cell_type": "code",
   "execution_count": 51,
   "id": "895030db-aab1-412b-9726-836a1958a633",
   "metadata": {},
   "outputs": [
    {
     "name": "stdout",
     "output_type": "stream",
     "text": [
      "10\n",
      "11\n",
      "12\n",
      "13\n",
      "14\n",
      "15\n",
      "16\n",
      "17\n",
      "18\n",
      "19\n"
     ]
    }
   ],
   "source": [
    "for i in r:\n",
    "    print(i)"
   ]
  },
  {
   "cell_type": "code",
   "execution_count": null,
   "id": "c0aab855-34ba-4e8a-baa4-20e51c35da42",
   "metadata": {},
   "outputs": [],
   "source": []
  }
 ],
 "metadata": {
  "kernelspec": {
   "display_name": "Python [conda env:base] *",
   "language": "python",
   "name": "conda-base-py"
  },
  "language_info": {
   "codemirror_mode": {
    "name": "ipython",
    "version": 3
   },
   "file_extension": ".py",
   "mimetype": "text/x-python",
   "name": "python",
   "nbconvert_exporter": "python",
   "pygments_lexer": "ipython3",
   "version": "3.13.5"
  }
 },
 "nbformat": 4,
 "nbformat_minor": 5
}
