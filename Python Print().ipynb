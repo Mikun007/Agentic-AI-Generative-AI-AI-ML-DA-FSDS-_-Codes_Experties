{
 "cells": [
  {
   "cell_type": "code",
   "execution_count": 1,
   "id": "bdf0220e-928d-4b23-80dd-c6d6ca2077ce",
   "metadata": {},
   "outputs": [
    {
     "data": {
      "text/plain": [
       "150"
      ]
     },
     "execution_count": 1,
     "metadata": {},
     "output_type": "execute_result"
    }
   ],
   "source": [
    "a = 100\n",
    "b = 150\n",
    "a\n",
    "b"
   ]
  },
  {
   "cell_type": "code",
   "execution_count": 2,
   "id": "e2f2d023-dfaf-48fc-ad35-bac16041a2b9",
   "metadata": {},
   "outputs": [
    {
     "name": "stdout",
     "output_type": "stream",
     "text": [
      "100\n",
      "150\n"
     ]
    }
   ],
   "source": [
    "print(a)\n",
    "print(b)"
   ]
  },
  {
   "cell_type": "code",
   "execution_count": 3,
   "id": "ada56a41-4604-471e-b3eb-9ce4a80af286",
   "metadata": {},
   "outputs": [
    {
     "name": "stdout",
     "output_type": "stream",
     "text": [
      "10\n",
      "10 20\n",
      "python\n",
      "10 20 python\n"
     ]
    }
   ],
   "source": [
    "print(10)\n",
    "print(10, 20)\n",
    "print('python')\n",
    "print(10, 20, 'python')"
   ]
  },
  {
   "cell_type": "code",
   "execution_count": 4,
   "id": "6754cbfd-3e0a-441d-958e-c8f823277837",
   "metadata": {},
   "outputs": [
    {
     "name": "stdout",
     "output_type": "stream",
     "text": [
      "50\n"
     ]
    }
   ],
   "source": [
    "num1 = 20\n",
    "num2 = 30\n",
    "add = num1 + num2\n",
    "print(add)"
   ]
  },
  {
   "cell_type": "markdown",
   "id": "02ea1bd2-7501-4ace-b2bd-b729bff819de",
   "metadata": {},
   "source": [
    "## Printing result with String"
   ]
  },
  {
   "cell_type": "code",
   "execution_count": 5,
   "id": "abfd665f-f07a-4b9f-881a-5a9580e82bac",
   "metadata": {},
   "outputs": [
    {
     "name": "stdout",
     "output_type": "stream",
     "text": [
      "The addition of 150 add 50 is= 200\n"
     ]
    }
   ],
   "source": [
    "num1 = 150\n",
    "num2 = 50\n",
    "\n",
    "add = num1 + num2\n",
    "print('The addition of', num1, 'add', num2, 'is=', add)"
   ]
  },
  {
   "cell_type": "code",
   "execution_count": 7,
   "id": "3ff2312e-de80-4a27-942b-3a3c924a63aa",
   "metadata": {},
   "outputs": [
    {
     "name": "stdout",
     "output_type": "stream",
     "text": [
      "My name is Mikun and i am 25 years old and from rgda\n"
     ]
    }
   ],
   "source": [
    "name = 'Mikun'\n",
    "age = 25\n",
    "city = 'rgda'\n",
    "print('My name is', name, 'and i am', age, 'years old and from', city)"
   ]
  },
  {
   "cell_type": "markdown",
   "id": "cbaf43bd-3dcc-4d95-a9bc-c834cc183705",
   "metadata": {},
   "source": [
    "## Print Format method"
   ]
  },
  {
   "cell_type": "code",
   "execution_count": 10,
   "id": "f3aa864c-863d-476c-aaf8-1cdd92d3a78d",
   "metadata": {},
   "outputs": [
    {
     "name": "stdout",
     "output_type": "stream",
     "text": [
      "The addition of 150 and 50 and 27 is= 227\n"
     ]
    }
   ],
   "source": [
    "num1 = 150\n",
    "num2 = 50\n",
    "num3 = 27\n",
    "add = num1 + num2 + num3\n",
    "\n",
    "print('The addition of {} and {} and {} is= {}'.format(num1, num2, num3, add))"
   ]
  },
  {
   "cell_type": "code",
   "execution_count": 11,
   "id": "34c80f7d-2349-48e1-8631-0cc4abdff37e",
   "metadata": {},
   "outputs": [
    {
     "name": "stdout",
     "output_type": "stream",
     "text": [
      "hello my name is Mikun, and i am 25 years old from rgda\n"
     ]
    }
   ],
   "source": [
    "name = 'Mikun'\n",
    "age = 25\n",
    "city = 'rgda'\n",
    "print('hello my name is {}, and i am {} years old from {}'.format(name, age, city))"
   ]
  },
  {
   "cell_type": "code",
   "execution_count": 12,
   "id": "a5751ac9-abd9-458e-b84e-41e13082ccf8",
   "metadata": {},
   "outputs": [
    {
     "name": "stdout",
     "output_type": "stream",
     "text": [
      "The avrage of 100, 25, and 333 is = 152.66666666666666 or 152.67\n"
     ]
    }
   ],
   "source": [
    "num1 = 100\n",
    "num2 = 25\n",
    "num3 = 333\n",
    "avg = (num1+num2+num3)/3\n",
    "avg1=round((num1+num2+num3)/3,2)\n",
    "\n",
    "print('The avrage of {}, {}, and {} is = {} or {}'.format(num1, num2, num3, avg, avg1))"
   ]
  },
  {
   "cell_type": "code",
   "execution_count": 14,
   "id": "f8d1e3d3-599b-425c-92b2-d3eb8c004449",
   "metadata": {},
   "outputs": [
    {
     "data": {
      "text/plain": [
       "152.67"
      ]
     },
     "execution_count": 14,
     "metadata": {},
     "output_type": "execute_result"
    }
   ],
   "source": [
    "round(avg, 2) # round of till 2 digit after decimal"
   ]
  },
  {
   "cell_type": "markdown",
   "id": "4d96ecef-9d49-4aa2-8568-f5996434647d",
   "metadata": {},
   "source": [
    "## More short format method(f string method)\n",
    "\n",
    "* Variable should be in curly braces\n",
    "* and write everything inside quots `''`\n",
    "* at strting simply add `f`"
   ]
  },
  {
   "cell_type": "code",
   "execution_count": 15,
   "id": "6a20c7ba-6f46-4a5a-8748-9f49348147ab",
   "metadata": {},
   "outputs": [
    {
     "name": "stdout",
     "output_type": "stream",
     "text": [
      "The addition of 20 and 30 is= 50\n"
     ]
    }
   ],
   "source": [
    "num1 = 20\n",
    "num2 = 30\n",
    "add = num1 + num2\n",
    "print(f\"The addition of {num1} and {num2} is= {add}\")"
   ]
  },
  {
   "cell_type": "code",
   "execution_count": 16,
   "id": "082fa273-e96c-43d3-a6f2-460402858bba",
   "metadata": {},
   "outputs": [
    {
     "name": "stdout",
     "output_type": "stream",
     "text": [
      "Hello my name is Mikun, and i am 25 year old, from rgda.\n"
     ]
    }
   ],
   "source": [
    "name = 'Mikun'\n",
    "age = 25\n",
    "city = 'rgda'\n",
    "print(f\"Hello my name is {name}, and i am {age} year old, from {city}.\")"
   ]
  },
  {
   "cell_type": "code",
   "execution_count": 17,
   "id": "9e83de02-a282-49e5-970a-21998a8e2e5a",
   "metadata": {},
   "outputs": [
    {
     "name": "stdout",
     "output_type": "stream",
     "text": [
      "The average of 100, 25 and 333 is = 152.67\n"
     ]
    }
   ],
   "source": [
    "num1 = 100\n",
    "num2 = 25\n",
    "num3 = 333\n",
    "avg = round((num1+num2+num3)/3,2)\n",
    "print(f\"The average of {num1}, {num2} and {num3} is = {avg}\")"
   ]
  },
  {
   "cell_type": "code",
   "execution_count": 19,
   "id": "313a234c-0735-44ff-9126-6369d389ebdd",
   "metadata": {},
   "outputs": [
    {
     "name": "stdout",
     "output_type": "stream",
     "text": [
      "The addition of 10 and 20 is= 30\n",
      "The addition of 10 and 20 is= 30\n",
      "The addition of 10 and 20 is= 30\n"
     ]
    }
   ],
   "source": [
    "# Combining all\n",
    "num1=10 \n",
    "num2=20 \n",
    "add = num1+ num2 \n",
    "print('The addition of',num1,'and',num2,'is=',add) \n",
    "print('The addition of {} and {} is= {}'.format(num1,num2,add)) \n",
    "print(f'The addition of {num1} and {num2} is= {add}')"
   ]
  },
  {
   "cell_type": "markdown",
   "id": "c720bf1c-7d07-4604-a6c4-3761f5a740c8",
   "metadata": {},
   "source": [
    "## End Statement"
   ]
  },
  {
   "cell_type": "code",
   "execution_count": 20,
   "id": "64efee60-f56e-4004-8cce-efe597f8e3f3",
   "metadata": {},
   "outputs": [
    {
     "name": "stdout",
     "output_type": "stream",
     "text": [
      "Hello\n",
      "Good morning\n"
     ]
    }
   ],
   "source": [
    "print('Hello')\n",
    "print(\"Good morning\")"
   ]
  },
  {
   "cell_type": "code",
   "execution_count": 21,
   "id": "e0e37a35-6d9d-46b1-a5d0-953e3dd5371c",
   "metadata": {},
   "outputs": [
    {
     "name": "stdout",
     "output_type": "stream",
     "text": [
      "Hello World\n"
     ]
    }
   ],
   "source": [
    "print(\"Hello\", end = \" \")\n",
    "print(\"World\")"
   ]
  },
  {
   "cell_type": "markdown",
   "id": "6e3880ee-dbcb-4904-89ef-2ad65005f6ce",
   "metadata": {},
   "source": [
    "# Separator\n",
    "* Here one print statement only we use\n",
    "* inside one print statement we have multiple values\n",
    "* we want to separate these multiple values with anything"
   ]
  },
  {
   "cell_type": "code",
   "execution_count": 22,
   "id": "4e0184b7-ecfb-4d31-b804-a99adad92088",
   "metadata": {},
   "outputs": [
    {
     "name": "stdout",
     "output_type": "stream",
     "text": [
      "hello--->hai--->how are you\n"
     ]
    }
   ],
   "source": [
    "print('hello', 'hai', 'how are you', sep='--->')"
   ]
  },
  {
   "cell_type": "code",
   "execution_count": 24,
   "id": "6154e676-20ce-48d2-b50f-ab9f5606feb3",
   "metadata": {},
   "outputs": [
    {
     "name": "stdout",
     "output_type": "stream",
     "text": [
      "hello@ hai@ how are you\n"
     ]
    }
   ],
   "source": [
    "print('hello', 'hai', 'how are you', sep='@ ')"
   ]
  },
  {
   "cell_type": "code",
   "execution_count": 25,
   "id": "02430e90-2cdb-4540-8c36-7d38b9f23b65",
   "metadata": {},
   "outputs": [
    {
     "name": "stdout",
     "output_type": "stream",
     "text": [
      "3 .\n",
      "3.\n"
     ]
    }
   ],
   "source": [
    "print(3, '.')\n",
    "print(3, '.', sep='')"
   ]
  },
  {
   "cell_type": "code",
   "execution_count": 26,
   "id": "9fb99bb3-244d-46af-8a05-c8eba51bd90c",
   "metadata": {},
   "outputs": [
    {
     "name": "stdout",
     "output_type": "stream",
     "text": [
      "1 2 3.\n"
     ]
    }
   ],
   "source": [
    "print(1,2,end=' ')\n",
    "print(3, '.', sep = '')"
   ]
  },
  {
   "cell_type": "code",
   "execution_count": null,
   "id": "abf0cd93-80e4-474a-a7c4-64b46d7db5cb",
   "metadata": {},
   "outputs": [],
   "source": []
  },
  {
   "cell_type": "code",
   "execution_count": null,
   "id": "dba652c8-7155-455f-8a70-a4d74cf0a0f1",
   "metadata": {},
   "outputs": [],
   "source": []
  },
  {
   "cell_type": "code",
   "execution_count": null,
   "id": "08db5464-f0da-423a-9422-484c7a9e287e",
   "metadata": {},
   "outputs": [],
   "source": []
  }
 ],
 "metadata": {
  "kernelspec": {
   "display_name": "Python [conda env:base] *",
   "language": "python",
   "name": "conda-base-py"
  },
  "language_info": {
   "codemirror_mode": {
    "name": "ipython",
    "version": 3
   },
   "file_extension": ".py",
   "mimetype": "text/x-python",
   "name": "python",
   "nbconvert_exporter": "python",
   "pygments_lexer": "ipython3",
   "version": "3.13.5"
  }
 },
 "nbformat": 4,
 "nbformat_minor": 5
}
