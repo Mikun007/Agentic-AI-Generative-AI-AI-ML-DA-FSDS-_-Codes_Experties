{
 "cells": [
  {
   "cell_type": "markdown",
   "id": "c225ef42-3fc7-4637-a050-d7a0a4cca425",
   "metadata": {},
   "source": [
    "# Tuple\n",
    "\n",
    "### Tuple Creation\n",
    "`Tuple -> declared as '()'`"
   ]
  },
  {
   "cell_type": "code",
   "execution_count": 9,
   "id": "edebc54d-268c-43fc-89fb-21630466b57a",
   "metadata": {},
   "outputs": [
    {
     "data": {
      "text/plain": [
       "()"
      ]
     },
     "execution_count": 9,
     "metadata": {},
     "output_type": "execute_result"
    }
   ],
   "source": [
    "t = () # Empty tuple\n",
    "t"
   ]
  },
  {
   "cell_type": "code",
   "execution_count": 10,
   "id": "3c7938e9-935c-46d9-bc52-635b83b3ca3e",
   "metadata": {},
   "outputs": [
    {
     "data": {
      "text/plain": [
       "(10, 30, 60)"
      ]
     },
     "execution_count": 10,
     "metadata": {},
     "output_type": "execute_result"
    }
   ],
   "source": [
    "tup2 = (10, 30, 60) # tuple of integers numbers\n",
    "tup2"
   ]
  },
  {
   "cell_type": "code",
   "execution_count": 11,
   "id": "2918a06a-5121-4282-93c1-0e9606fe40f3",
   "metadata": {},
   "outputs": [],
   "source": [
    "tup3 = (10.77, 30.66, 60.89) # tuple of float numbers"
   ]
  },
  {
   "cell_type": "code",
   "execution_count": 12,
   "id": "8ddbf82e-62ea-4c9e-9388-bb5f6c4acb1f",
   "metadata": {},
   "outputs": [],
   "source": [
    "tup4 = ('one', 'two', 'three') # tuple of strings"
   ]
  },
  {
   "cell_type": "code",
   "execution_count": 13,
   "id": "c9eeb4f7-4d2a-4607-9919-b2099d29e022",
   "metadata": {},
   "outputs": [
    {
     "data": {
      "text/plain": [
       "('Mikun', 25, (50, 100), (150, 90))"
      ]
     },
     "execution_count": 13,
     "metadata": {},
     "output_type": "execute_result"
    }
   ],
   "source": [
    "tup5 = ('Mikun', 25, (50,100), (150, 90)) # Nested tuples\n",
    "tup5"
   ]
  },
  {
   "cell_type": "code",
   "execution_count": 14,
   "id": "3aa869b8-3009-42da-94b8-4264572ca263",
   "metadata": {},
   "outputs": [],
   "source": [
    "tup6 = (100, 'Asif', 17.765) # Tuple of mixed data types"
   ]
  },
  {
   "cell_type": "code",
   "execution_count": 15,
   "id": "734ec8a8-b794-4b65-a9ba-2b7ac94b0297",
   "metadata": {},
   "outputs": [
    {
     "data": {
      "text/plain": [
       "('Asif', 25, [50, 100], [150, 90], {'David', 'John'}, (99, 22, 33))"
      ]
     },
     "execution_count": 15,
     "metadata": {},
     "output_type": "execute_result"
    }
   ],
   "source": [
    "tup7 = ('Asif', 25, [50, 100], [150, 90], {'John', 'David'}, (99, 22, 33))\n",
    "tup7"
   ]
  },
  {
   "cell_type": "code",
   "execution_count": 16,
   "id": "42f56b1a-e47e-48e1-9303-3738dffb52a5",
   "metadata": {},
   "outputs": [
    {
     "data": {
      "text/plain": [
       "6"
      ]
     },
     "execution_count": 16,
     "metadata": {},
     "output_type": "execute_result"
    }
   ],
   "source": [
    "len(tup7) "
   ]
  },
  {
   "cell_type": "code",
   "execution_count": 57,
   "id": "6c18909c-4299-4e3d-a696-c60c80d1d819",
   "metadata": {},
   "outputs": [
    {
     "data": {
      "text/plain": [
       "tuple"
      ]
     },
     "execution_count": 57,
     "metadata": {},
     "output_type": "execute_result"
    }
   ],
   "source": [
    "type(t)"
   ]
  },
  {
   "cell_type": "code",
   "execution_count": 58,
   "id": "0c5626f8-6770-417a-8a85-a49c536ac4e8",
   "metadata": {},
   "outputs": [
    {
     "data": {
      "text/plain": [
       "0"
      ]
     },
     "execution_count": 58,
     "metadata": {},
     "output_type": "execute_result"
    }
   ],
   "source": [
    "t.count(10)"
   ]
  },
  {
   "cell_type": "code",
   "execution_count": 59,
   "id": "eda04c9c-8d21-4e44-8968-367c94dfbb10",
   "metadata": {},
   "outputs": [
    {
     "data": {
      "text/plain": [
       "(10, 20, 2.2, 'ten', True, (1+2j), 20)"
      ]
     },
     "execution_count": 59,
     "metadata": {},
     "output_type": "execute_result"
    }
   ],
   "source": [
    "t1 = (10, 20, 2.2, 'ten', True, 1+2j, 20)\n",
    "t1"
   ]
  },
  {
   "cell_type": "code",
   "execution_count": 60,
   "id": "fe9d1f8a-0215-4cb2-a99d-661b6c31bdd4",
   "metadata": {},
   "outputs": [
    {
     "data": {
      "text/plain": [
       "2"
      ]
     },
     "execution_count": 60,
     "metadata": {},
     "output_type": "execute_result"
    }
   ],
   "source": [
    "t1.count(20)"
   ]
  },
  {
   "cell_type": "markdown",
   "id": "0433cffb-4f91-4eca-8313-9c5a49949360",
   "metadata": {},
   "source": [
    "### Tuple Indexing"
   ]
  },
  {
   "cell_type": "code",
   "execution_count": null,
   "id": "4d2e5265-d4bf-46d2-baa7-476bbf7b10ab",
   "metadata": {},
   "outputs": [],
   "source": [
    "# .index() give the index of the given value \n",
    "# If there is more than one same value then it will give the index of first value occured\n",
    "t1.index(20)"
   ]
  },
  {
   "cell_type": "code",
   "execution_count": 17,
   "id": "17855076-8e20-4c72-bf14-8444aa5fab7d",
   "metadata": {},
   "outputs": [
    {
     "data": {
      "text/plain": [
       "10"
      ]
     },
     "execution_count": 17,
     "metadata": {},
     "output_type": "execute_result"
    }
   ],
   "source": [
    "tup2[0] # Rettreive first element of the tuple"
   ]
  },
  {
   "cell_type": "code",
   "execution_count": 18,
   "id": "3016a246-8126-490a-80cd-e97de5e45624",
   "metadata": {},
   "outputs": [
    {
     "data": {
      "text/plain": [
       "'one'"
      ]
     },
     "execution_count": 18,
     "metadata": {},
     "output_type": "execute_result"
    }
   ],
   "source": [
    "tup4[0] # Retreive first element of the tuple"
   ]
  },
  {
   "cell_type": "code",
   "execution_count": 19,
   "id": "4c282a14-1ba3-4c90-b81f-e6e7fb995224",
   "metadata": {},
   "outputs": [
    {
     "data": {
      "text/plain": [
       "'o'"
      ]
     },
     "execution_count": 19,
     "metadata": {},
     "output_type": "execute_result"
    }
   ],
   "source": [
    "tup4[0][0] # Nested indexing - Access the first character of the first tuple element"
   ]
  },
  {
   "cell_type": "code",
   "execution_count": 20,
   "id": "b23972c0-d8a1-4bb1-8d17-cf15a7e6adad",
   "metadata": {},
   "outputs": [
    {
     "data": {
      "text/plain": [
       "'three'"
      ]
     },
     "execution_count": 20,
     "metadata": {},
     "output_type": "execute_result"
    }
   ],
   "source": [
    "tup4[-1] # Last item of the tuple"
   ]
  },
  {
   "cell_type": "code",
   "execution_count": 21,
   "id": "410b395f-b1a9-4be4-8993-b5a50fa1e7a8",
   "metadata": {},
   "outputs": [
    {
     "data": {
      "text/plain": [
       "(150, 90)"
      ]
     },
     "execution_count": 21,
     "metadata": {},
     "output_type": "execute_result"
    }
   ],
   "source": [
    "tup5[-1]"
   ]
  },
  {
   "cell_type": "markdown",
   "id": "9020f1ed-9075-4e2d-adc6-78fbd7736fe4",
   "metadata": {},
   "source": [
    "### Tuple Slicing"
   ]
  },
  {
   "cell_type": "code",
   "execution_count": 24,
   "id": "91d742a1-1140-4770-b071-17f6c50a0d46",
   "metadata": {},
   "outputs": [
    {
     "data": {
      "text/plain": [
       "('one', 'two', 'three')"
      ]
     },
     "execution_count": 24,
     "metadata": {},
     "output_type": "execute_result"
    }
   ],
   "source": [
    "mytuple = ('one', 'two', 'three', 'four', 'five', 'six', 'seven', 'eight')\n",
    "mytuple[0:3] # Return all items from 0th to 3rd index ( index: 0, 1, 2)"
   ]
  },
  {
   "cell_type": "code",
   "execution_count": 25,
   "id": "11659228-a137-46a2-8723-89a3c8133e12",
   "metadata": {},
   "outputs": [
    {
     "data": {
      "text/plain": [
       "('three', 'four', 'five')"
      ]
     },
     "execution_count": 25,
     "metadata": {},
     "output_type": "execute_result"
    }
   ],
   "source": [
    "mytuple[2:5] # List alll items from 2nd to th index ( index 2, 3, 4)"
   ]
  },
  {
   "cell_type": "code",
   "execution_count": 26,
   "id": "4de1ae33-2289-40ec-89e6-c18d3e070a4f",
   "metadata": {},
   "outputs": [
    {
     "data": {
      "text/plain": [
       "('one', 'two', 'three')"
      ]
     },
     "execution_count": 26,
     "metadata": {},
     "output_type": "execute_result"
    }
   ],
   "source": [
    "mytuple[:3] # Return first three items"
   ]
  },
  {
   "cell_type": "code",
   "execution_count": 27,
   "id": "d8fcc389-b401-43a8-a442-340e06391c53",
   "metadata": {},
   "outputs": [
    {
     "data": {
      "text/plain": [
       "('one', 'two')"
      ]
     },
     "execution_count": 27,
     "metadata": {},
     "output_type": "execute_result"
    }
   ],
   "source": [
    "mytuple[:2] # Return first two items"
   ]
  },
  {
   "cell_type": "code",
   "execution_count": 28,
   "id": "6466edcd-1db0-4675-abed-a9d2b8b9086f",
   "metadata": {},
   "outputs": [
    {
     "data": {
      "text/plain": [
       "('six', 'seven', 'eight')"
      ]
     },
     "execution_count": 28,
     "metadata": {},
     "output_type": "execute_result"
    }
   ],
   "source": [
    "mytuple[-3:] # Return last three items"
   ]
  },
  {
   "cell_type": "code",
   "execution_count": 29,
   "id": "d3383b5e-84aa-4935-9de2-3edb8fbfd7f1",
   "metadata": {},
   "outputs": [
    {
     "data": {
      "text/plain": [
       "('seven', 'eight')"
      ]
     },
     "execution_count": 29,
     "metadata": {},
     "output_type": "execute_result"
    }
   ],
   "source": [
    "mytuple[-2:] # Return last two items"
   ]
  },
  {
   "cell_type": "code",
   "execution_count": 30,
   "id": "75cd0f94-3a88-4035-83ca-4587dcb12214",
   "metadata": {},
   "outputs": [
    {
     "data": {
      "text/plain": [
       "'eight'"
      ]
     },
     "execution_count": 30,
     "metadata": {},
     "output_type": "execute_result"
    }
   ],
   "source": [
    "mytuple[-1] # Return last item of the tuple"
   ]
  },
  {
   "cell_type": "code",
   "execution_count": 31,
   "id": "301c7fa5-753f-4c72-bf96-defb8b4f775e",
   "metadata": {},
   "outputs": [
    {
     "data": {
      "text/plain": [
       "('one', 'two', 'three', 'four', 'five', 'six', 'seven', 'eight')"
      ]
     },
     "execution_count": 31,
     "metadata": {},
     "output_type": "execute_result"
    }
   ],
   "source": [
    "mytuple[:] # Return whole tuple"
   ]
  },
  {
   "cell_type": "markdown",
   "id": "dfd9e804-d819-40e7-8947-a7134f02206d",
   "metadata": {},
   "source": [
    "### Remove and Change items"
   ]
  },
  {
   "cell_type": "code",
   "execution_count": 32,
   "id": "9f188f50-8806-4610-89da-4ccad91d3d70",
   "metadata": {},
   "outputs": [
    {
     "data": {
      "text/plain": [
       "('one', 'two', 'three', 'four', 'five', 'six', 'seven', 'eight')"
      ]
     },
     "execution_count": 32,
     "metadata": {},
     "output_type": "execute_result"
    }
   ],
   "source": [
    "mytuple"
   ]
  },
  {
   "cell_type": "code",
   "execution_count": 34,
   "id": "150e4bb8-7860-49cc-91a7-84496ed45921",
   "metadata": {},
   "outputs": [
    {
     "ename": "TypeError",
     "evalue": "'tuple' object doesn't support item deletion",
     "output_type": "error",
     "traceback": [
      "\u001b[1;31m---------------------------------------------------------------------------\u001b[0m",
      "\u001b[1;31mTypeError\u001b[0m                                 Traceback (most recent call last)",
      "Cell \u001b[1;32mIn[34], line 2\u001b[0m\n\u001b[0;32m      1\u001b[0m \u001b[38;5;66;03m# Tuples are immutable means we can't DELETE tuple items\u001b[39;00m\n\u001b[1;32m----> 2\u001b[0m \u001b[38;5;28;01mdel\u001b[39;00m mytuple[\u001b[38;5;241m0\u001b[39m]\n",
      "\u001b[1;31mTypeError\u001b[0m: 'tuple' object doesn't support item deletion"
     ]
    }
   ],
   "source": [
    "# Tuples are immutable means we can't DELETE tuple items\n",
    "del mytuple[0]"
   ]
  },
  {
   "cell_type": "markdown",
   "id": "4c5792c6-6965-4a79-98f6-bc10a4835691",
   "metadata": {},
   "source": [
    "* `Mutable` : We can change, delete, add items within like 'List'\n",
    "* `Immutable` : We can't change, delete, add items that already declared like'Tuple'"
   ]
  },
  {
   "cell_type": "code",
   "execution_count": 33,
   "id": "dabd3243-15a0-49a0-ae0d-d1f32c719fd8",
   "metadata": {},
   "outputs": [
    {
     "ename": "TypeError",
     "evalue": "'tuple' object does not support item assignment",
     "output_type": "error",
     "traceback": [
      "\u001b[1;31m---------------------------------------------------------------------------\u001b[0m",
      "\u001b[1;31mTypeError\u001b[0m                                 Traceback (most recent call last)",
      "Cell \u001b[1;32mIn[33], line 2\u001b[0m\n\u001b[0;32m      1\u001b[0m \u001b[38;5;66;03m# Tuple are immutable which means we can't CHANGE tuple items\u001b[39;00m\n\u001b[1;32m----> 2\u001b[0m mytuple[\u001b[38;5;241m0\u001b[39m] \u001b[38;5;241m=\u001b[39m \u001b[38;5;241m1\u001b[39m\n",
      "\u001b[1;31mTypeError\u001b[0m: 'tuple' object does not support item assignment"
     ]
    }
   ],
   "source": [
    "# Tuple are immutable which means we can't CHANGE tuple items\n",
    "mytuple[0] = 1"
   ]
  },
  {
   "cell_type": "code",
   "execution_count": 35,
   "id": "1dd2be1e-0089-4078-b0a4-663718498e86",
   "metadata": {},
   "outputs": [],
   "source": [
    "# Deleteing entire tuple object is possible\n",
    "del mytuple"
   ]
  },
  {
   "cell_type": "markdown",
   "id": "2026c93a-a433-47b1-9c73-549cdc0e14f6",
   "metadata": {},
   "source": [
    "### Loop through a tuple"
   ]
  },
  {
   "cell_type": "code",
   "execution_count": 37,
   "id": "6c7931c9-5033-41e3-97e4-afaa7ff66de2",
   "metadata": {},
   "outputs": [
    {
     "data": {
      "text/plain": [
       "('one', 'two', 'three', 'four', 'five', 'six', 'seven', 'eight')"
      ]
     },
     "execution_count": 37,
     "metadata": {},
     "output_type": "execute_result"
    }
   ],
   "source": [
    "mytuple = ('one', 'two', 'three', 'four', 'five', 'six', 'seven', 'eight')\n",
    "mytuple"
   ]
  },
  {
   "cell_type": "code",
   "execution_count": 38,
   "id": "1137917c-4154-4020-a690-a92b36e1eee5",
   "metadata": {},
   "outputs": [
    {
     "name": "stdout",
     "output_type": "stream",
     "text": [
      "one\n",
      "two\n",
      "three\n",
      "four\n",
      "five\n",
      "six\n",
      "seven\n",
      "eight\n"
     ]
    }
   ],
   "source": [
    "for i in mytuple:\n",
    "    print(i)"
   ]
  },
  {
   "cell_type": "code",
   "execution_count": 39,
   "id": "65b99d38-ba71-4cb1-9010-de955260bfca",
   "metadata": {},
   "outputs": [
    {
     "name": "stdout",
     "output_type": "stream",
     "text": [
      "(0, 'one')\n",
      "(1, 'two')\n",
      "(2, 'three')\n",
      "(3, 'four')\n",
      "(4, 'five')\n",
      "(5, 'six')\n",
      "(6, 'seven')\n",
      "(7, 'eight')\n"
     ]
    }
   ],
   "source": [
    "for i in enumerate(mytuple):\n",
    "    print(i)"
   ]
  },
  {
   "cell_type": "markdown",
   "id": "b4c564b3-9e18-4c7d-87df-de87b32ef197",
   "metadata": {},
   "source": [
    "### Tuple Membership"
   ]
  },
  {
   "cell_type": "code",
   "execution_count": 40,
   "id": "19060741-02d6-44a7-9415-8d27b1dfe900",
   "metadata": {},
   "outputs": [
    {
     "data": {
      "text/plain": [
       "('one', 'two', 'three', 'four', 'five', 'six', 'seven', 'eight')"
      ]
     },
     "execution_count": 40,
     "metadata": {},
     "output_type": "execute_result"
    }
   ],
   "source": [
    "mytuple"
   ]
  },
  {
   "cell_type": "code",
   "execution_count": 41,
   "id": "be9461af-49d6-459f-9dfb-6e031b1cb12f",
   "metadata": {},
   "outputs": [
    {
     "data": {
      "text/plain": [
       "True"
      ]
     },
     "execution_count": 41,
     "metadata": {},
     "output_type": "execute_result"
    }
   ],
   "source": [
    "'one' in mytuple # Check if 'one' exist in the list"
   ]
  },
  {
   "cell_type": "code",
   "execution_count": 42,
   "id": "935d87a2-9d92-4332-8513-745673b254fb",
   "metadata": {},
   "outputs": [
    {
     "data": {
      "text/plain": [
       "False"
      ]
     },
     "execution_count": 42,
     "metadata": {},
     "output_type": "execute_result"
    }
   ],
   "source": [
    "'ten' in mytuple # Check if 'ten' exist in the list"
   ]
  },
  {
   "cell_type": "code",
   "execution_count": 43,
   "id": "064ce271-8b19-497a-80c9-2b38b3076006",
   "metadata": {},
   "outputs": [
    {
     "name": "stdout",
     "output_type": "stream",
     "text": [
      "Three is present in the tuple\n"
     ]
    }
   ],
   "source": [
    "if 'three' in mytuple: # Check if 'three' exist in the list\n",
    "    print(\"Three is present in the tuple\")\n",
    "else:\n",
    "    print(\"Three is not present in the tuple\")"
   ]
  },
  {
   "cell_type": "code",
   "execution_count": 44,
   "id": "5a8dce80-18c5-42b3-8334-4d0d5c6d39da",
   "metadata": {},
   "outputs": [
    {
     "name": "stdout",
     "output_type": "stream",
     "text": [
      "eleven is not present in the tuple\n"
     ]
    }
   ],
   "source": [
    "if 'eleven' in mytuple: # Check if 'eleven' exist in the list\n",
    "    print('eleven is present in the tuple')\n",
    "else:\n",
    "    print('eleven is not present in the tuple')"
   ]
  },
  {
   "cell_type": "markdown",
   "id": "eb85e4ad-1640-4220-8074-3638b1b5ce46",
   "metadata": {},
   "source": [
    "### Index Position"
   ]
  },
  {
   "cell_type": "code",
   "execution_count": 45,
   "id": "25b7ca62-b3b0-4aaa-bd30-3894f3ae60be",
   "metadata": {},
   "outputs": [
    {
     "data": {
      "text/plain": [
       "('one', 'two', 'three', 'four', 'five', 'six', 'seven', 'eight')"
      ]
     },
     "execution_count": 45,
     "metadata": {},
     "output_type": "execute_result"
    }
   ],
   "source": [
    "mytuple"
   ]
  },
  {
   "cell_type": "code",
   "execution_count": 46,
   "id": "f64dfa80-6acc-453f-89ca-cb80c5f916e4",
   "metadata": {},
   "outputs": [
    {
     "data": {
      "text/plain": [
       "0"
      ]
     },
     "execution_count": 46,
     "metadata": {},
     "output_type": "execute_result"
    }
   ],
   "source": [
    "mytuple.index('one') # Index of first element equal to 'one'"
   ]
  },
  {
   "cell_type": "code",
   "execution_count": 47,
   "id": "141ea5d0-716e-4864-ac5b-b313f5c80534",
   "metadata": {},
   "outputs": [
    {
     "data": {
      "text/plain": [
       "('one', 'two', 'three', 'four', 'five', 'six', 'seven', 'eight')"
      ]
     },
     "execution_count": 47,
     "metadata": {},
     "output_type": "execute_result"
    }
   ],
   "source": [
    "mytuple"
   ]
  },
  {
   "cell_type": "code",
   "execution_count": 48,
   "id": "cfec8eb2-fde4-48c2-8ceb-69e85ea49191",
   "metadata": {},
   "outputs": [
    {
     "data": {
      "text/plain": [
       "0"
      ]
     },
     "execution_count": 48,
     "metadata": {},
     "output_type": "execute_result"
    }
   ],
   "source": [
    "mytuple.index('one') # Index of first element equal to 'one'"
   ]
  },
  {
   "cell_type": "code",
   "execution_count": 49,
   "id": "1869e505-ba20-4807-a8b9-ae14556bcde9",
   "metadata": {},
   "outputs": [
    {
     "data": {
      "text/plain": [
       "4"
      ]
     },
     "execution_count": 49,
     "metadata": {},
     "output_type": "execute_result"
    }
   ],
   "source": [
    "mytuple.index('five') # Index of first element equal to 'five'"
   ]
  },
  {
   "cell_type": "code",
   "execution_count": 52,
   "id": "6f0acdd9-fd1b-4280-b98b-7f844deca875",
   "metadata": {},
   "outputs": [
    {
     "data": {
      "text/plain": [
       "('one', 'two', 'three', 'four', 'five', 'six', 'seven', 'eight')"
      ]
     },
     "execution_count": 52,
     "metadata": {},
     "output_type": "execute_result"
    }
   ],
   "source": [
    "mytuple1 = mytuple\n",
    "mytuple1"
   ]
  },
  {
   "cell_type": "code",
   "execution_count": 53,
   "id": "3da6a15e-7297-43fa-8895-65b169974665",
   "metadata": {},
   "outputs": [
    {
     "data": {
      "text/plain": [
       "0"
      ]
     },
     "execution_count": 53,
     "metadata": {},
     "output_type": "execute_result"
    }
   ],
   "source": [
    "mytuple1.index('one') # Index of first element equal to 'one'"
   ]
  },
  {
   "cell_type": "markdown",
   "id": "9c1528c3-3b6e-4e13-b8bf-1cee60b4cc57",
   "metadata": {},
   "source": [
    "# Sorting"
   ]
  },
  {
   "cell_type": "code",
   "execution_count": 54,
   "id": "2e7f500d-7196-4130-b28d-41f1939ea203",
   "metadata": {},
   "outputs": [],
   "source": [
    "mytuple2 = (42, 67, 99, 12, 6, 90, 67)"
   ]
  },
  {
   "cell_type": "code",
   "execution_count": 55,
   "id": "25077def-27d5-40c2-8187-0493456d1165",
   "metadata": {},
   "outputs": [
    {
     "data": {
      "text/plain": [
       "[6, 12, 42, 67, 67, 90, 99]"
      ]
     },
     "execution_count": 55,
     "metadata": {},
     "output_type": "execute_result"
    }
   ],
   "source": [
    "sorted(mytuple2) # Returns new sorted list and doesn't change original tuple"
   ]
  },
  {
   "cell_type": "code",
   "execution_count": 56,
   "id": "94db807d-3bbd-411c-b139-64b866de407c",
   "metadata": {},
   "outputs": [
    {
     "data": {
      "text/plain": [
       "[99, 90, 67, 67, 42, 12, 6]"
      ]
     },
     "execution_count": 56,
     "metadata": {},
     "output_type": "execute_result"
    }
   ],
   "source": [
    "sorted(mytuple2, reverse=True) # Sort in decending order"
   ]
  },
  {
   "cell_type": "code",
   "execution_count": null,
   "id": "f21f2cd9-036b-43f3-9f54-3eb577deccca",
   "metadata": {},
   "outputs": [],
   "source": []
  }
 ],
 "metadata": {
  "kernelspec": {
   "display_name": "Python [conda env:base] *",
   "language": "python",
   "name": "conda-base-py"
  },
  "language_info": {
   "codemirror_mode": {
    "name": "ipython",
    "version": 3
   },
   "file_extension": ".py",
   "mimetype": "text/x-python",
   "name": "python",
   "nbconvert_exporter": "python",
   "pygments_lexer": "ipython3",
   "version": "3.13.5"
  }
 },
 "nbformat": 4,
 "nbformat_minor": 5
}
