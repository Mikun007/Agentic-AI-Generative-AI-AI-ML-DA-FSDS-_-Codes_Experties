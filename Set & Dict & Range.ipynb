{
 "cells": [
  {
   "cell_type": "markdown",
   "id": "5c0f10ea-efad-4599-87d3-61e1b2bb37df",
   "metadata": {},
   "source": [
    "# Sets\n",
    "1. Unordered and Unindexed collection of items.\n",
    "2. Set elements are unique. Means duplicate elements are not allowed\n",
    "3. Set elements are immutable (cannot be changed)\n",
    "4. Set itself is mutable. We can add or remove items from it"
   ]
  },
  {
   "cell_type": "markdown",
   "id": "e3952f2f-c871-4964-a759-1024fdae787c",
   "metadata": {},
   "source": [
    "### Set Creation"
   ]
  },
  {
   "cell_type": "code",
   "execution_count": 1,
   "id": "727ec608-f3ee-4711-b7c7-14e8a986b91e",
   "metadata": {},
   "outputs": [
    {
     "data": {
      "text/plain": [
       "{1, 2, 3, 4, 5}"
      ]
     },
     "execution_count": 1,
     "metadata": {},
     "output_type": "execute_result"
    }
   ],
   "source": [
    "myset = {1, 2, 3, 4, 5}\n",
    "myset"
   ]
  },
  {
   "cell_type": "code",
   "execution_count": 2,
   "id": "46126387-bc52-4eed-8bef-505cf23b2218",
   "metadata": {},
   "outputs": [
    {
     "data": {
      "text/plain": [
       "5"
      ]
     },
     "execution_count": 2,
     "metadata": {},
     "output_type": "execute_result"
    }
   ],
   "source": [
    "len(myset)"
   ]
  },
  {
   "cell_type": "code",
   "execution_count": 3,
   "id": "d58034e5-03f5-4ed3-92cb-3462bd1e3884",
   "metadata": {},
   "outputs": [
    {
     "data": {
      "text/plain": [
       "{1, 2, 3, 4, 5}"
      ]
     },
     "execution_count": 3,
     "metadata": {},
     "output_type": "execute_result"
    }
   ],
   "source": [
    "my_set = {1, 1, 2, 2, 3, 4, 5, 5}\n",
    "my_set"
   ]
  },
  {
   "cell_type": "code",
   "execution_count": 4,
   "id": "6036d384-83c2-4310-9cd7-a0ed2d741914",
   "metadata": {},
   "outputs": [
    {
     "data": {
      "text/plain": [
       "{1.79, 2.08, 3.99, 4.56, 5.45}"
      ]
     },
     "execution_count": 4,
     "metadata": {},
     "output_type": "execute_result"
    }
   ],
   "source": [
    "myset1 = {1.79, 2.08, 3.99, 4.56, 5.45}\n",
    "myset1"
   ]
  },
  {
   "cell_type": "code",
   "execution_count": 5,
   "id": "5e1334bd-3bca-4d64-b03b-6535fd18d68f",
   "metadata": {},
   "outputs": [
    {
     "data": {
      "text/plain": [
       "{'Alice', 'Bob', 'Mikun'}"
      ]
     },
     "execution_count": 5,
     "metadata": {},
     "output_type": "execute_result"
    }
   ],
   "source": [
    "myset2 = {'Mikun', 'Alice', 'Bob'}\n",
    "myset2"
   ]
  },
  {
   "cell_type": "code",
   "execution_count": 6,
   "id": "ccf6b90d-70f6-4d4b-ab9a-e68f599b8c81",
   "metadata": {},
   "outputs": [
    {
     "data": {
      "text/plain": [
       "{(11, 22, 32), 10, 20, 'Hola'}"
      ]
     },
     "execution_count": 6,
     "metadata": {},
     "output_type": "execute_result"
    }
   ],
   "source": [
    "myset3 = {10, 20, 'Hola', (11, 22, 32)} # Mixed datatypes\n",
    "myset3"
   ]
  },
  {
   "cell_type": "markdown",
   "id": "e10af676-53bb-4464-8298-42fe6cece430",
   "metadata": {},
   "source": [
    "* `Set elements must be hashable`: Sets are implemented using hash tables, which require their elements to be hashable. A hashable object has a hash value that remains constant throughout its lifetime and can be compared to other objects for equality.\n",
    "\n",
    "* `Immutable objects are generally hashable`: Because their contents cannot change, immutable objects like tuples can reliably produce a consistent hash value.\n",
    "\n",
    "* `Mutable objects are generally not hashable`: If a mutable object's contents could change, its hash value would also change, which would break the integrity of the hash table used by sets. This would make it impossible to efficiently find, add, or remove elements from the set."
   ]
  },
  {
   "cell_type": "code",
   "execution_count": 7,
   "id": "d3389da3-65c5-4f09-ad9a-48681ce77dae",
   "metadata": {},
   "outputs": [
    {
     "ename": "TypeError",
     "evalue": "unhashable type: 'list'",
     "output_type": "error",
     "traceback": [
      "\u001b[1;31m---------------------------------------------------------------------------\u001b[0m",
      "\u001b[1;31mTypeError\u001b[0m                                 Traceback (most recent call last)",
      "Cell \u001b[1;32mIn[7], line 1\u001b[0m\n\u001b[1;32m----> 1\u001b[0m myset3 \u001b[38;5;241m=\u001b[39m {\u001b[38;5;241m10\u001b[39m, \u001b[38;5;241m20\u001b[39m, \u001b[38;5;124m\"\u001b[39m\u001b[38;5;124mHola\u001b[39m\u001b[38;5;124m\"\u001b[39m, [\u001b[38;5;241m11\u001b[39m, \u001b[38;5;241m22\u001b[39m, \u001b[38;5;241m32\u001b[39m]} \u001b[38;5;66;03m# Set doesn't allow mutable items like list\u001b[39;00m\n\u001b[0;32m      2\u001b[0m myset3\n",
      "\u001b[1;31mTypeError\u001b[0m: unhashable type: 'list'"
     ]
    }
   ],
   "source": [
    "myset3 = {10, 20, \"Hola\", [11, 22, 32]} # Set doesn't allow mutable items like list\n",
    "myset3"
   ]
  },
  {
   "cell_type": "code",
   "execution_count": 8,
   "id": "0d4b4f94-2e9f-43af-8a6e-e3a4d4c685e8",
   "metadata": {},
   "outputs": [
    {
     "name": "stdout",
     "output_type": "stream",
     "text": [
      "<class 'set'>\n"
     ]
    }
   ],
   "source": [
    "myset4 = set() # Create an empty set\n",
    "print(type(myset4))"
   ]
  },
  {
   "cell_type": "code",
   "execution_count": 9,
   "id": "ed7b74b4-c1c5-475b-84c5-0572c92db85b",
   "metadata": {},
   "outputs": [
    {
     "data": {
      "text/plain": [
       "{'four', 'one', 'three', 'two'}"
      ]
     },
     "execution_count": 9,
     "metadata": {},
     "output_type": "execute_result"
    }
   ],
   "source": [
    "my_set1 = set(('one', 'two', 'three', 'four'))\n",
    "my_set1"
   ]
  },
  {
   "cell_type": "markdown",
   "id": "b147adab-866f-471e-bc98-ea3a994cd6ac",
   "metadata": {},
   "source": [
    "### Loop through a set"
   ]
  },
  {
   "cell_type": "code",
   "execution_count": 10,
   "id": "2a7db18d-b872-4382-83f6-035dd9ffde9f",
   "metadata": {},
   "outputs": [
    {
     "name": "stdout",
     "output_type": "stream",
     "text": [
      "six\n",
      "four\n",
      "one\n",
      "five\n",
      "two\n",
      "three\n",
      "seven\n",
      "eight\n"
     ]
    }
   ],
   "source": [
    "myset = {'one', 'two', 'three', 'four', 'five', 'six', 'seven', 'eight'}\n",
    "\n",
    "for i in myset:\n",
    "    print(i)"
   ]
  },
  {
   "cell_type": "code",
   "execution_count": 11,
   "id": "74d6d1e4-284c-4211-acbd-93bbdb6a1c2d",
   "metadata": {},
   "outputs": [
    {
     "name": "stdout",
     "output_type": "stream",
     "text": [
      "(0, 'six')\n",
      "(1, 'four')\n",
      "(2, 'one')\n",
      "(3, 'five')\n",
      "(4, 'two')\n",
      "(5, 'three')\n",
      "(6, 'seven')\n",
      "(7, 'eight')\n"
     ]
    }
   ],
   "source": [
    "for i in enumerate(myset):\n",
    "    print(i)"
   ]
  },
  {
   "cell_type": "markdown",
   "id": "a94b6e42-2dc4-4939-9480-e6bff334d37b",
   "metadata": {},
   "source": [
    "### Set Membership"
   ]
  },
  {
   "cell_type": "code",
   "execution_count": 13,
   "id": "c89dfb83-0fe3-454d-9c23-e78433930025",
   "metadata": {},
   "outputs": [
    {
     "data": {
      "text/plain": [
       "{'eight', 'five', 'four', 'one', 'seven', 'six', 'three', 'two'}"
      ]
     },
     "execution_count": 13,
     "metadata": {},
     "output_type": "execute_result"
    }
   ],
   "source": [
    "myset"
   ]
  },
  {
   "cell_type": "code",
   "execution_count": 14,
   "id": "1d0029d3-1fb9-4179-bcfc-6386c607e6a7",
   "metadata": {},
   "outputs": [
    {
     "data": {
      "text/plain": [
       "True"
      ]
     },
     "execution_count": 14,
     "metadata": {},
     "output_type": "execute_result"
    }
   ],
   "source": [
    "'one' in myset # Check if 'one' exist in the set"
   ]
  },
  {
   "cell_type": "code",
   "execution_count": 15,
   "id": "6f649595-7616-41a5-a628-0d5b130dd56e",
   "metadata": {},
   "outputs": [
    {
     "data": {
      "text/plain": [
       "False"
      ]
     },
     "execution_count": 15,
     "metadata": {},
     "output_type": "execute_result"
    }
   ],
   "source": [
    "'ten' in myset # Check if 'ten' exist in the set"
   ]
  },
  {
   "cell_type": "code",
   "execution_count": 16,
   "id": "57a5c111-2f2b-480e-996b-5885477dde9a",
   "metadata": {},
   "outputs": [
    {
     "name": "stdout",
     "output_type": "stream",
     "text": [
      "Three is present in the set\n"
     ]
    }
   ],
   "source": [
    "if 'three' in myset: #Check if 'three' is exist in the set using if statement\n",
    "    print('Three is present in the set')\n",
    "else:\n",
    "    print('Three is not present in the set')"
   ]
  },
  {
   "cell_type": "markdown",
   "id": "f8666e42-4f0e-4834-950a-8fe3e7d6bf83",
   "metadata": {},
   "source": [
    "### Add and Remove Items "
   ]
  },
  {
   "cell_type": "code",
   "execution_count": 18,
   "id": "ff369f0e-5980-4595-942b-ad7626a4d99b",
   "metadata": {},
   "outputs": [
    {
     "data": {
      "text/plain": [
       "{'eight', 'five', 'four', 'one', 'seven', 'six', 'three', 'two'}"
      ]
     },
     "execution_count": 18,
     "metadata": {},
     "output_type": "execute_result"
    }
   ],
   "source": [
    "myset"
   ]
  },
  {
   "cell_type": "code",
   "execution_count": 19,
   "id": "ce6b752f-0df2-4ffe-a4f0-cdd46fced5f1",
   "metadata": {},
   "outputs": [
    {
     "data": {
      "text/plain": [
       "{'NINE', 'eight', 'five', 'four', 'one', 'seven', 'six', 'three', 'two'}"
      ]
     },
     "execution_count": 19,
     "metadata": {},
     "output_type": "execute_result"
    }
   ],
   "source": [
    "myset.add('NINE') # Adding item to a set using add() method\n",
    "myset"
   ]
  },
  {
   "cell_type": "code",
   "execution_count": 20,
   "id": "32488a59-6c2d-4667-855c-a67a4333e23a",
   "metadata": {},
   "outputs": [
    {
     "data": {
      "text/plain": [
       "{'ELEVEN',\n",
       " 'NINE',\n",
       " 'TEN',\n",
       " 'TWELVE',\n",
       " 'eight',\n",
       " 'five',\n",
       " 'four',\n",
       " 'one',\n",
       " 'seven',\n",
       " 'six',\n",
       " 'three',\n",
       " 'two'}"
      ]
     },
     "execution_count": 20,
     "metadata": {},
     "output_type": "execute_result"
    }
   ],
   "source": [
    "myset.update(['TEN', \"ELEVEN\", \"TWELVE\"])\n",
    "myset"
   ]
  },
  {
   "cell_type": "code",
   "execution_count": 21,
   "id": "3cfd21dd-761d-4730-b558-03bfefe6c686",
   "metadata": {},
   "outputs": [
    {
     "data": {
      "text/plain": [
       "{'ELEVEN',\n",
       " 'TEN',\n",
       " 'TWELVE',\n",
       " 'eight',\n",
       " 'five',\n",
       " 'four',\n",
       " 'one',\n",
       " 'seven',\n",
       " 'six',\n",
       " 'three',\n",
       " 'two'}"
      ]
     },
     "execution_count": 21,
     "metadata": {},
     "output_type": "execute_result"
    }
   ],
   "source": [
    "myset.remove(\"NINE\") # remove item in a set using remove() method\n",
    "myset"
   ]
  },
  {
   "cell_type": "code",
   "execution_count": 23,
   "id": "f5cb4fba-e7d8-41e3-b982-78ed466e0447",
   "metadata": {},
   "outputs": [
    {
     "data": {
      "text/plain": [
       "{'ELEVEN',\n",
       " 'TWELVE',\n",
       " 'eight',\n",
       " 'five',\n",
       " 'four',\n",
       " 'one',\n",
       " 'seven',\n",
       " 'six',\n",
       " 'three',\n",
       " 'two'}"
      ]
     },
     "execution_count": 23,
     "metadata": {},
     "output_type": "execute_result"
    }
   ],
   "source": [
    "myset.discard(\"TEN\") # remove item from a set using discard() method\n",
    "myset"
   ]
  },
  {
   "cell_type": "markdown",
   "id": "abf3bb26-7609-4d90-8427-6883fc434a54",
   "metadata": {},
   "source": [
    "#### Difference between remove(item) and discard(item)\n",
    "* remove(item): will remove the item if present in the set, if item is not present in the set it will throw an error\n",
    "* dicard(item): will remove the item if present in the set, if not it will not throw any error"
   ]
  },
  {
   "cell_type": "code",
   "execution_count": 24,
   "id": "7cdea685-009e-4b28-a4d0-6284f649ea3d",
   "metadata": {},
   "outputs": [
    {
     "data": {
      "text/plain": [
       "set()"
      ]
     },
     "execution_count": 24,
     "metadata": {},
     "output_type": "execute_result"
    }
   ],
   "source": [
    "myset.clear() # Delete all items in a set\n",
    "myset"
   ]
  },
  {
   "cell_type": "code",
   "execution_count": 25,
   "id": "ff2b0558-ca4b-4be7-a83e-78a0bfada4d7",
   "metadata": {},
   "outputs": [
    {
     "ename": "NameError",
     "evalue": "name 'myset' is not defined",
     "output_type": "error",
     "traceback": [
      "\u001b[1;31m---------------------------------------------------------------------------\u001b[0m",
      "\u001b[1;31mNameError\u001b[0m                                 Traceback (most recent call last)",
      "Cell \u001b[1;32mIn[25], line 2\u001b[0m\n\u001b[0;32m      1\u001b[0m \u001b[38;5;28;01mdel\u001b[39;00m myset \u001b[38;5;66;03m#Delete the set object\u001b[39;00m\n\u001b[1;32m----> 2\u001b[0m myset\n",
      "\u001b[1;31mNameError\u001b[0m: name 'myset' is not defined"
     ]
    }
   ],
   "source": [
    "del myset #Delete the set object\n",
    "myset"
   ]
  },
  {
   "cell_type": "markdown",
   "id": "3e94ce6c-03ac-4ec0-91bc-02744776e98a",
   "metadata": {},
   "source": [
    "### Copy Set"
   ]
  },
  {
   "cell_type": "code",
   "execution_count": 26,
   "id": "f2789a7f-1e27-46ba-8a52-2c090613935b",
   "metadata": {},
   "outputs": [
    {
     "data": {
      "text/plain": [
       "{'eight', 'five', 'four', 'one', 'seven', 'six', 'three', 'two'}"
      ]
     },
     "execution_count": 26,
     "metadata": {},
     "output_type": "execute_result"
    }
   ],
   "source": [
    "myset = {'one', 'two', 'three', 'four', 'five', 'six', 'seven', 'eight'} \n",
    "myset "
   ]
  },
  {
   "cell_type": "code",
   "execution_count": 27,
   "id": "bdc3a84e-70c4-43ed-8488-0688780fed68",
   "metadata": {},
   "outputs": [
    {
     "data": {
      "text/plain": [
       "{'eight', 'five', 'four', 'one', 'seven', 'six', 'three', 'two'}"
      ]
     },
     "execution_count": 27,
     "metadata": {},
     "output_type": "execute_result"
    }
   ],
   "source": [
    "myset1 = myset # Create a new reference 'myset1\"\n",
    "myset1"
   ]
  },
  {
   "cell_type": "code",
   "execution_count": 28,
   "id": "da4d5773-f4f3-4a3b-81ed-80dca74b9c98",
   "metadata": {},
   "outputs": [
    {
     "data": {
      "text/plain": [
       "(2341810941376, 2341810941376)"
      ]
     },
     "execution_count": 28,
     "metadata": {},
     "output_type": "execute_result"
    }
   ],
   "source": [
    "id(myset), id(myset1) # The address of both myset and myset1 will be same"
   ]
  },
  {
   "cell_type": "code",
   "execution_count": 29,
   "id": "502edf15-43d7-4012-84a9-ff91dc83668c",
   "metadata": {},
   "outputs": [
    {
     "data": {
      "text/plain": [
       "{'eight', 'five', 'four', 'one', 'seven', 'six', 'three', 'two'}"
      ]
     },
     "execution_count": 29,
     "metadata": {},
     "output_type": "execute_result"
    }
   ],
   "source": [
    "my_set = myset.copy() # Create a copy of the list\n",
    "my_set"
   ]
  },
  {
   "cell_type": "code",
   "execution_count": 30,
   "id": "450eb4a9-e9cb-4a0c-b74b-a483a939a5b5",
   "metadata": {},
   "outputs": [
    {
     "data": {
      "text/plain": [
       "(2341810943168, 2341810941376)"
      ]
     },
     "execution_count": 30,
     "metadata": {},
     "output_type": "execute_result"
    }
   ],
   "source": [
    "id(my_set), id(myset) # The address of my_set will be different from myset"
   ]
  },
  {
   "cell_type": "code",
   "execution_count": 31,
   "id": "0ffb4dc3-68f3-421b-8cda-a138ac0ea01e",
   "metadata": {},
   "outputs": [
    {
     "data": {
      "text/plain": [
       "{'eight', 'five', 'four', 'nine', 'one', 'seven', 'six', 'three', 'two'}"
      ]
     },
     "execution_count": 31,
     "metadata": {},
     "output_type": "execute_result"
    }
   ],
   "source": [
    "myset.add('nine')\n",
    "myset"
   ]
  },
  {
   "cell_type": "code",
   "execution_count": 32,
   "id": "b1599da6-26b6-4105-bbb9-381d8247cd3b",
   "metadata": {},
   "outputs": [
    {
     "data": {
      "text/plain": [
       "{'eight', 'five', 'four', 'nine', 'one', 'seven', 'six', 'three', 'two'}"
      ]
     },
     "execution_count": 32,
     "metadata": {},
     "output_type": "execute_result"
    }
   ],
   "source": [
    "myset1 # myset1 will be also impacted as it is pointing to the same set"
   ]
  },
  {
   "cell_type": "code",
   "execution_count": 33,
   "id": "d31ae21f-b33d-43bb-a971-e67da42d7049",
   "metadata": {},
   "outputs": [
    {
     "data": {
      "text/plain": [
       "{'eight', 'five', 'four', 'one', 'seven', 'six', 'three', 'two'}"
      ]
     },
     "execution_count": 33,
     "metadata": {},
     "output_type": "execute_result"
    }
   ],
   "source": [
    "my_set # Copy of the set won't be impacted dut to change made on the original set"
   ]
  },
  {
   "cell_type": "markdown",
   "id": "877c4978-11d7-4446-826a-1f354354c1f5",
   "metadata": {},
   "source": [
    "## Set Operation\n",
    "\n",
    "### Union"
   ]
  },
  {
   "cell_type": "code",
   "execution_count": 34,
   "id": "91311494-9992-4daa-a034-eeb0ab08057e",
   "metadata": {},
   "outputs": [],
   "source": [
    "A = {1, 2, 3, 4, 5}\n",
    "B = {4, 5, 6, 7, 8}\n",
    "C = {8, 9, 10}"
   ]
  },
  {
   "cell_type": "code",
   "execution_count": 35,
   "id": "d1d45ea3-493a-4610-be16-0cc59ec4d77e",
   "metadata": {},
   "outputs": [
    {
     "data": {
      "text/plain": [
       "{1, 2, 3, 4, 5, 6, 7, 8}"
      ]
     },
     "execution_count": 35,
     "metadata": {},
     "output_type": "execute_result"
    }
   ],
   "source": [
    "A | B # Will give elements from both set exccluding the Duplicates Values"
   ]
  },
  {
   "cell_type": "code",
   "execution_count": 36,
   "id": "4f93fb1c-49c4-420b-84d0-ee3d5b3947c2",
   "metadata": {},
   "outputs": [
    {
     "data": {
      "text/plain": [
       "{1, 2, 3, 4, 5, 6, 7, 8}"
      ]
     },
     "execution_count": 36,
     "metadata": {},
     "output_type": "execute_result"
    }
   ],
   "source": [
    "A.union(B)"
   ]
  },
  {
   "cell_type": "code",
   "execution_count": 37,
   "id": "5c655164-7a43-4883-adfd-16f2f11e75aa",
   "metadata": {},
   "outputs": [
    {
     "data": {
      "text/plain": [
       "{1, 2, 3, 4, 5, 6, 7, 8, 9, 10}"
      ]
     },
     "execution_count": 37,
     "metadata": {},
     "output_type": "execute_result"
    }
   ],
   "source": [
    "A | B | C # Union of A, B and C."
   ]
  },
  {
   "cell_type": "markdown",
   "id": "ccdec305-3d03-4b51-9c27-481111c21b15",
   "metadata": {},
   "source": [
    "NOTE:`Updates the set calling the update() method with union of A, B and C. `\n",
    "\n",
    "* Example below, Set A will be updated with union of A, B and C."
   ]
  },
  {
   "cell_type": "code",
   "execution_count": 39,
   "id": "ee235d9e-a4ca-4df8-a7b9-4e9a5327ceed",
   "metadata": {},
   "outputs": [
    {
     "data": {
      "text/plain": [
       "{1, 2, 3, 4, 5, 6, 7, 8, 9, 10}"
      ]
     },
     "execution_count": 39,
     "metadata": {},
     "output_type": "execute_result"
    }
   ],
   "source": [
    "A.update(B, C)\n",
    "A"
   ]
  },
  {
   "cell_type": "markdown",
   "id": "d9e4eede-95df-4076-b582-932034af941d",
   "metadata": {},
   "source": [
    "### InterSection"
   ]
  },
  {
   "cell_type": "code",
   "execution_count": 40,
   "id": "5765a44f-2565-41e0-97e6-6b55d01ade1f",
   "metadata": {},
   "outputs": [],
   "source": [
    "A = {1, 2, 3, 4, 5}\n",
    "B = {4, 5, 6, 7, 8}\n",
    "C = {8, 9, 10}"
   ]
  },
  {
   "cell_type": "code",
   "execution_count": 41,
   "id": "3a81a15d-06be-4da0-95d6-b692815ec9c8",
   "metadata": {},
   "outputs": [
    {
     "data": {
      "text/plain": [
       "{4, 5}"
      ]
     },
     "execution_count": 41,
     "metadata": {},
     "output_type": "execute_result"
    }
   ],
   "source": [
    "A & B # Intersection of A and B ( Common items in both sets )"
   ]
  },
  {
   "cell_type": "code",
   "execution_count": 42,
   "id": "f1e63c58-7d79-46e3-9919-3e9c566484f6",
   "metadata": {},
   "outputs": [
    {
     "data": {
      "text/plain": [
       "{4, 5}"
      ]
     },
     "execution_count": 42,
     "metadata": {},
     "output_type": "execute_result"
    }
   ],
   "source": [
    "A.intersection(B)"
   ]
  },
  {
   "cell_type": "markdown",
   "id": "8823d8f4-12e3-45aa-97d1-a340b44c5c3f",
   "metadata": {},
   "source": [
    "NOTE: `Calling the intersection_update() method with the intersection of A and B`\n",
    "* For example below set A will be updated with the intersection of A and B"
   ]
  },
  {
   "cell_type": "code",
   "execution_count": 44,
   "id": "0f181cfb-eac0-48ad-96d9-de225fd103d3",
   "metadata": {},
   "outputs": [
    {
     "data": {
      "text/plain": [
       "{4, 5}"
      ]
     },
     "execution_count": 44,
     "metadata": {},
     "output_type": "execute_result"
    }
   ],
   "source": [
    "A.intersection_update(B)\n",
    "A"
   ]
  },
  {
   "cell_type": "markdown",
   "id": "b71ccd7d-83ff-4023-a4f4-227b076d6813",
   "metadata": {},
   "source": [
    "### Difference"
   ]
  },
  {
   "cell_type": "code",
   "execution_count": 45,
   "id": "e56433a7-25f4-42cd-a7e2-24e8aeab6545",
   "metadata": {},
   "outputs": [],
   "source": [
    "A = {1, 2, 3, 4, 5}\n",
    "B = {4, 5, 6, 7, 8}"
   ]
  },
  {
   "cell_type": "code",
   "execution_count": 46,
   "id": "3da8d627-7270-4c2c-b49f-ea9cb63eeb79",
   "metadata": {},
   "outputs": [
    {
     "data": {
      "text/plain": [
       "{1, 2, 3}"
      ]
     },
     "execution_count": 46,
     "metadata": {},
     "output_type": "execute_result"
    }
   ],
   "source": [
    "A - B # Set of element that are only in A but not in B"
   ]
  },
  {
   "cell_type": "code",
   "execution_count": 47,
   "id": "06b58a93-37ef-4478-9374-c3975d765f88",
   "metadata": {},
   "outputs": [
    {
     "data": {
      "text/plain": [
       "{1, 2, 3}"
      ]
     },
     "execution_count": 47,
     "metadata": {},
     "output_type": "execute_result"
    }
   ],
   "source": [
    "A.difference(B)"
   ]
  },
  {
   "cell_type": "code",
   "execution_count": 48,
   "id": "e751bd41-f088-4f4a-a9f5-d92aaf2ff314",
   "metadata": {},
   "outputs": [
    {
     "data": {
      "text/plain": [
       "{6, 7, 8}"
      ]
     },
     "execution_count": 48,
     "metadata": {},
     "output_type": "execute_result"
    }
   ],
   "source": [
    "B - A # Set of element that are only in B but not in A"
   ]
  },
  {
   "cell_type": "code",
   "execution_count": 49,
   "id": "440a4cb3-1907-422b-b3c0-133c8c8d3206",
   "metadata": {},
   "outputs": [
    {
     "data": {
      "text/plain": [
       "{6, 7, 8}"
      ]
     },
     "execution_count": 49,
     "metadata": {},
     "output_type": "execute_result"
    }
   ],
   "source": [
    "B.difference(A)"
   ]
  },
  {
   "cell_type": "markdown",
   "id": "2aa47bad-f31e-4377-b16c-57b11b68e8c6",
   "metadata": {},
   "source": [
    "NOTE: `Calling the difference_update() method with the difference of set A and B.`\n",
    "* For below example set B will be updated with the difference of B and A"
   ]
  },
  {
   "cell_type": "code",
   "execution_count": 50,
   "id": "80235bff-6996-47fb-a0ad-889c38bdf161",
   "metadata": {},
   "outputs": [
    {
     "data": {
      "text/plain": [
       "{6, 7, 8}"
      ]
     },
     "execution_count": 50,
     "metadata": {},
     "output_type": "execute_result"
    }
   ],
   "source": [
    "B.difference_update(A)\n",
    "B"
   ]
  },
  {
   "cell_type": "markdown",
   "id": "12e9aa9a-f127-42d1-9bd3-6007fc0e42f3",
   "metadata": {},
   "source": [
    "### Symmetric Difference"
   ]
  },
  {
   "cell_type": "code",
   "execution_count": 51,
   "id": "dff801ed-0dfc-47c6-9907-5877b493e580",
   "metadata": {},
   "outputs": [],
   "source": [
    "A = {1, 2, 3, 4, 5}\n",
    "B = {4, 5, 6, 7, 8}"
   ]
  },
  {
   "cell_type": "code",
   "execution_count": 52,
   "id": "a4a91522-e730-4ed3-ad3a-c130637b87c0",
   "metadata": {},
   "outputs": [
    {
     "data": {
      "text/plain": [
       "{1, 2, 3, 6, 7, 8}"
      ]
     },
     "execution_count": 52,
     "metadata": {},
     "output_type": "execute_result"
    }
   ],
   "source": [
    "A ^ B # Symmetric difference (Set of element in A and B, but excluding the common between them)"
   ]
  },
  {
   "cell_type": "code",
   "execution_count": 53,
   "id": "53265a77-f1c9-40cf-97f9-ad44d84a5a53",
   "metadata": {},
   "outputs": [
    {
     "data": {
      "text/plain": [
       "{1, 2, 3, 6, 7, 8}"
      ]
     },
     "execution_count": 53,
     "metadata": {},
     "output_type": "execute_result"
    }
   ],
   "source": [
    "A.symmetric_difference(B)"
   ]
  },
  {
   "cell_type": "markdown",
   "id": "422fa960-1ffd-47a4-9ffb-ad5043306abc",
   "metadata": {},
   "source": [
    "NOTE: `Update the set calling the symmetric_difference_update() method with the set A and B`\n",
    "* For below example Set A will be updated with the symmetric difference of A ^ B."
   ]
  },
  {
   "cell_type": "code",
   "execution_count": 54,
   "id": "3ab523d0-0a79-4ba1-b3fb-8bb741869334",
   "metadata": {},
   "outputs": [
    {
     "data": {
      "text/plain": [
       "{1, 2, 3, 6, 7, 8}"
      ]
     },
     "execution_count": 54,
     "metadata": {},
     "output_type": "execute_result"
    }
   ],
   "source": [
    "A.symmetric_difference_update(B)\n",
    "A"
   ]
  },
  {
   "cell_type": "markdown",
   "id": "f5ce0677-0b0b-4d32-a5ad-38eb0bd79b14",
   "metadata": {},
   "source": [
    "# Subset, Superset and Disjoint "
   ]
  },
  {
   "cell_type": "code",
   "execution_count": 55,
   "id": "f3f8a090-aeaf-4c14-8a1e-02a18a181d4d",
   "metadata": {},
   "outputs": [],
   "source": [
    "A = {1,2,3,4,5,6,7,8,9} \n",
    "B = {3,4,5,6,7,8} \n",
    "C = {10,20,30,40}"
   ]
  },
  {
   "cell_type": "code",
   "execution_count": 56,
   "id": "657169a8-c22f-424f-8461-ebfc57e28108",
   "metadata": {},
   "outputs": [
    {
     "data": {
      "text/plain": [
       "True"
      ]
     },
     "execution_count": 56,
     "metadata": {},
     "output_type": "execute_result"
    }
   ],
   "source": [
    "B.issubset(A) # Set B is said to be the subset of set A if all elements of B are in A"
   ]
  },
  {
   "cell_type": "code",
   "execution_count": 57,
   "id": "a2d9f939-b7ff-4820-a8a8-9357f7f8130b",
   "metadata": {},
   "outputs": [
    {
     "data": {
      "text/plain": [
       "True"
      ]
     },
     "execution_count": 57,
     "metadata": {},
     "output_type": "execute_result"
    }
   ],
   "source": [
    "A.issuperset(B) # Set A is said to be the superset of set B if all element of B are in A"
   ]
  },
  {
   "cell_type": "code",
   "execution_count": 59,
   "id": "e2593f79-7ca7-4a40-badb-1fc37ae30a64",
   "metadata": {},
   "outputs": [
    {
     "data": {
      "text/plain": [
       "True"
      ]
     },
     "execution_count": 59,
     "metadata": {},
     "output_type": "execute_result"
    }
   ],
   "source": [
    "C.isdisjoint(A) # Two sets are said to be disjoint sets if they have no common element"
   ]
  },
  {
   "cell_type": "code",
   "execution_count": 60,
   "id": "27f162a0-3d36-4abf-873e-6ff970b8a781",
   "metadata": {},
   "outputs": [
    {
     "data": {
      "text/plain": [
       "False"
      ]
     },
     "execution_count": 60,
     "metadata": {},
     "output_type": "execute_result"
    }
   ],
   "source": [
    "B.isdisjoint(A)"
   ]
  },
  {
   "cell_type": "markdown",
   "id": "88f665f0-40eb-4f93-bc14-6e5c4af4c5b9",
   "metadata": {},
   "source": [
    "### Other built in functoin"
   ]
  },
  {
   "cell_type": "code",
   "execution_count": 61,
   "id": "0a0dfc38-994b-4a18-9103-ec66efeaed17",
   "metadata": {},
   "outputs": [
    {
     "data": {
      "text/plain": [
       "{1, 2, 3, 4, 5, 6, 7, 8, 9}"
      ]
     },
     "execution_count": 61,
     "metadata": {},
     "output_type": "execute_result"
    }
   ],
   "source": [
    "A"
   ]
  },
  {
   "cell_type": "code",
   "execution_count": 62,
   "id": "9609a8c9-ffbd-4f07-92f0-e90a90cc5a39",
   "metadata": {},
   "outputs": [
    {
     "data": {
      "text/plain": [
       "45"
      ]
     },
     "execution_count": 62,
     "metadata": {},
     "output_type": "execute_result"
    }
   ],
   "source": [
    "sum(A)"
   ]
  },
  {
   "cell_type": "code",
   "execution_count": 63,
   "id": "264e1556-7fb2-453a-a48d-c82d028151e6",
   "metadata": {},
   "outputs": [
    {
     "data": {
      "text/plain": [
       "9"
      ]
     },
     "execution_count": 63,
     "metadata": {},
     "output_type": "execute_result"
    }
   ],
   "source": [
    "max(A)"
   ]
  },
  {
   "cell_type": "code",
   "execution_count": 64,
   "id": "35cfe916-9fd6-48b2-ac60-9fe71c8c44c5",
   "metadata": {},
   "outputs": [
    {
     "data": {
      "text/plain": [
       "1"
      ]
     },
     "execution_count": 64,
     "metadata": {},
     "output_type": "execute_result"
    }
   ],
   "source": [
    "min(A)"
   ]
  },
  {
   "cell_type": "code",
   "execution_count": 65,
   "id": "8cbc7b20-d70f-4020-8ec4-7af3a4ac2507",
   "metadata": {},
   "outputs": [
    {
     "data": {
      "text/plain": [
       "9"
      ]
     },
     "execution_count": 65,
     "metadata": {},
     "output_type": "execute_result"
    }
   ],
   "source": [
    "len(A)"
   ]
  },
  {
   "cell_type": "code",
   "execution_count": 66,
   "id": "a0c198fc-078c-4172-92bd-4c8195a5459b",
   "metadata": {},
   "outputs": [
    {
     "data": {
      "text/plain": [
       "[(0, 1), (1, 2), (2, 3), (3, 4), (4, 5), (5, 6), (6, 7), (7, 8), (8, 9)]"
      ]
     },
     "execution_count": 66,
     "metadata": {},
     "output_type": "execute_result"
    }
   ],
   "source": [
    "list(enumerate(A))"
   ]
  },
  {
   "cell_type": "code",
   "execution_count": 67,
   "id": "86d5aa3e-e642-436b-bb33-4319acd09af2",
   "metadata": {},
   "outputs": [
    {
     "data": {
      "text/plain": [
       "[9, 8, 7, 6, 5, 4, 3, 2, 1]"
      ]
     },
     "execution_count": 67,
     "metadata": {},
     "output_type": "execute_result"
    }
   ],
   "source": [
    "D = sorted(A, reverse=True)\n",
    "D"
   ]
  },
  {
   "cell_type": "code",
   "execution_count": 68,
   "id": "9626e4fa-ebdf-4e46-91e8-6a1670f52500",
   "metadata": {},
   "outputs": [
    {
     "data": {
      "text/plain": [
       "[1, 2, 3, 4, 5, 6, 7, 8, 9]"
      ]
     },
     "execution_count": 68,
     "metadata": {},
     "output_type": "execute_result"
    }
   ],
   "source": [
    "sorted(D)"
   ]
  },
  {
   "cell_type": "markdown",
   "id": "b47340c4-cf6d-4787-97fc-3f5388a09adb",
   "metadata": {},
   "source": [
    "# Dictionary\n",
    "* Dictionary is mutable data type in python.\n",
    "* A python dictionary is a collection of key and value pairs separed by a colon (:) and enclosed in curly braces {}.\n",
    "* Keys must be unique in a dictionary, duplicate values are allowed"
   ]
  },
  {
   "cell_type": "markdown",
   "id": "71dc6030-9647-41cb-8a4a-18a2aa830f74",
   "metadata": {},
   "source": [
    "### Create Dictionary"
   ]
  },
  {
   "cell_type": "code",
   "execution_count": 69,
   "id": "9b0fc622-237a-4a6a-8620-f1a53ddccf11",
   "metadata": {},
   "outputs": [
    {
     "data": {
      "text/plain": [
       "{}"
      ]
     },
     "execution_count": 69,
     "metadata": {},
     "output_type": "execute_result"
    }
   ],
   "source": [
    "mydict = dict() # Empty dictionary\n",
    "mydict"
   ]
  },
  {
   "cell_type": "code",
   "execution_count": 70,
   "id": "71771cba-dd2c-4a77-a625-faf5a3670337",
   "metadata": {},
   "outputs": [
    {
     "data": {
      "text/plain": [
       "{}"
      ]
     },
     "execution_count": 70,
     "metadata": {},
     "output_type": "execute_result"
    }
   ],
   "source": [
    "mydict = {}\n",
    "mydict"
   ]
  },
  {
   "cell_type": "code",
   "execution_count": 71,
   "id": "ce248db3-9984-4f12-95d7-96ad1035f0a1",
   "metadata": {},
   "outputs": [
    {
     "data": {
      "text/plain": [
       "{1: 'one', 2: 'two', 3: 'three'}"
      ]
     },
     "execution_count": 71,
     "metadata": {},
     "output_type": "execute_result"
    }
   ],
   "source": [
    "mydict = {1: 'one', 2: 'two', 3:'three'} # dictioanry with integer keys\n",
    "mydict"
   ]
  },
  {
   "cell_type": "code",
   "execution_count": 72,
   "id": "2338faef-7556-44ad-89d5-4a6d9b914150",
   "metadata": {},
   "outputs": [
    {
     "data": {
      "text/plain": [
       "{1: 'one', 2: 'two', 3: 'three'}"
      ]
     },
     "execution_count": 72,
     "metadata": {},
     "output_type": "execute_result"
    }
   ],
   "source": [
    "mydict = dict({1: 'one', 2: 'two', 3:'three'})\n",
    "mydict"
   ]
  },
  {
   "cell_type": "code",
   "execution_count": 74,
   "id": "ce1841bf-7c4b-4cc9-a102-edf96428a7a0",
   "metadata": {},
   "outputs": [
    {
     "data": {
      "text/plain": [
       "{'A': 'one', 'B': 'two', 'C': 'three'}"
      ]
     },
     "execution_count": 74,
     "metadata": {},
     "output_type": "execute_result"
    }
   ],
   "source": [
    "mydict = {'A': 'one', 'B': 'two', 'C': 'three'}\n",
    "mydict"
   ]
  },
  {
   "cell_type": "code",
   "execution_count": 75,
   "id": "2bbc02e8-fb17-4af1-810f-c69c2d51a88b",
   "metadata": {},
   "outputs": [
    {
     "data": {
      "text/plain": [
       "{1: 'one', 'A': 'two', 3: 'three'}"
      ]
     },
     "execution_count": 75,
     "metadata": {},
     "output_type": "execute_result"
    }
   ],
   "source": [
    "mydict = {1: 'one', 'A': 'two', 3: 'three'}\n",
    "mydict"
   ]
  },
  {
   "cell_type": "code",
   "execution_count": 76,
   "id": "f317f684-7966-47dc-8f0a-0fcca7a98e03",
   "metadata": {},
   "outputs": [
    {
     "data": {
      "text/plain": [
       "dict_values(['one', 'two', 'three'])"
      ]
     },
     "execution_count": 76,
     "metadata": {},
     "output_type": "execute_result"
    }
   ],
   "source": [
    "mydict.values() # Return dictionary values using values() method"
   ]
  },
  {
   "cell_type": "code",
   "execution_count": 77,
   "id": "2ae61051-cadb-4fda-bf45-41b3d67509f8",
   "metadata": {},
   "outputs": [
    {
     "data": {
      "text/plain": [
       "dict_keys([1, 'A', 3])"
      ]
     },
     "execution_count": 77,
     "metadata": {},
     "output_type": "execute_result"
    }
   ],
   "source": [
    "mydict.keys() # Returns dictionary keys using keys( ) method"
   ]
  },
  {
   "cell_type": "code",
   "execution_count": 78,
   "id": "d8d25068-0f17-4a0a-8a3a-b9a539de5083",
   "metadata": {},
   "outputs": [
    {
     "data": {
      "text/plain": [
       "dict_items([(1, 'one'), ('A', 'two'), (3, 'three')])"
      ]
     },
     "execution_count": 78,
     "metadata": {},
     "output_type": "execute_result"
    }
   ],
   "source": [
    "mydict.items() # Access each key-value pair within a dictionary"
   ]
  },
  {
   "cell_type": "code",
   "execution_count": 79,
   "id": "3787c20a-2dbf-4e1d-b20d-09d5d91e78c2",
   "metadata": {},
   "outputs": [
    {
     "data": {
      "text/plain": [
       "{1: 'one', 2: 'two', 'A': ['Mikun', 'Alice', 'Bob']}"
      ]
     },
     "execution_count": 79,
     "metadata": {},
     "output_type": "execute_result"
    }
   ],
   "source": [
    "mydict = {1: 'one', 2:'two', 'A':[\"Mikun\", \"Alice\", \"Bob\"]}\n",
    "mydict"
   ]
  },
  {
   "cell_type": "code",
   "execution_count": 80,
   "id": "9c0dec5d-aca5-4b95-b493-4bc63c2c84d8",
   "metadata": {},
   "outputs": [
    {
     "data": {
      "text/plain": [
       "{1: 'one',\n",
       " 2: 'two',\n",
       " 'A': ['Mikun', 'Alice', 'Bob'],\n",
       " 'B': ('Bat Man', 'Spider Man', 'Iron man')}"
      ]
     },
     "execution_count": 80,
     "metadata": {},
     "output_type": "execute_result"
    }
   ],
   "source": [
    "mydict = {  \n",
    "    1: 'one',\n",
    "    2: 'two',\n",
    "    'A': [\"Mikun\", \"Alice\", \"Bob\"],\n",
    "    'B': (\"Bat Man\", \"Spider Man\", \"Iron man\")\n",
    "}\n",
    "mydict"
   ]
  },
  {
   "cell_type": "code",
   "execution_count": 81,
   "id": "4d02ce29-73b5-4da6-8156-15daccb8b439",
   "metadata": {},
   "outputs": [
    {
     "data": {
      "text/plain": [
       "{'a': None, 'b': None, 'c': None, 'd': None}"
      ]
     },
     "execution_count": 81,
     "metadata": {},
     "output_type": "execute_result"
    }
   ],
   "source": [
    "keys = {'a', 'b', 'c', 'd'}\n",
    "mydict3 = dict.fromkeys(keys) # create a dictionary from a sequence of keys\n",
    "mydict3"
   ]
  },
  {
   "cell_type": "code",
   "execution_count": 83,
   "id": "383afe94-032f-4357-bd61-30c499e45921",
   "metadata": {},
   "outputs": [
    {
     "data": {
      "text/plain": [
       "{'a': 10, 'b': 10, 'c': 10, 'd': 10}"
      ]
     },
     "execution_count": 83,
     "metadata": {},
     "output_type": "execute_result"
    }
   ],
   "source": [
    "keys = {'a', 'b', 'c', 'd'}\n",
    "value = 10\n",
    "mydict3 = dict.fromkeys(keys, value) # Create a dictionary from a sequence of keys and value\n",
    "mydict3"
   ]
  },
  {
   "cell_type": "code",
   "execution_count": 84,
   "id": "7396be2b-1494-4d8f-9cd0-567a1a5dd8fa",
   "metadata": {},
   "outputs": [
    {
     "data": {
      "text/plain": [
       "{'a': [10, 20, 30], 'b': [10, 20, 30], 'c': [10, 20, 30], 'd': [10, 20, 30]}"
      ]
     },
     "execution_count": 84,
     "metadata": {},
     "output_type": "execute_result"
    }
   ],
   "source": [
    "keys = {'a', 'b', 'c', 'd'}\n",
    "value = [10, 20, 30]\n",
    "mydict3 = dict.fromkeys(keys, value)\n",
    "mydict3"
   ]
  },
  {
   "cell_type": "code",
   "execution_count": 85,
   "id": "9d6eea4b-ef7a-480c-b824-2527988b5449",
   "metadata": {},
   "outputs": [
    {
     "data": {
      "text/plain": [
       "{'a': [10, 20, 30, 40],\n",
       " 'b': [10, 20, 30, 40],\n",
       " 'c': [10, 20, 30, 40],\n",
       " 'd': [10, 20, 30, 40]}"
      ]
     },
     "execution_count": 85,
     "metadata": {},
     "output_type": "execute_result"
    }
   ],
   "source": [
    "value.append(40)\n",
    "mydict3"
   ]
  },
  {
   "cell_type": "markdown",
   "id": "c3c43d3d-00da-45cd-9d3a-3617688729b1",
   "metadata": {},
   "source": [
    "### Accessing Items"
   ]
  },
  {
   "cell_type": "code",
   "execution_count": 86,
   "id": "5f74c7c2-cf82-476a-b40c-cf5b5402a333",
   "metadata": {},
   "outputs": [
    {
     "data": {
      "text/plain": [
       "{1: 'one', 2: 'two', 3: 'three', 4: 'four'}"
      ]
     },
     "execution_count": 86,
     "metadata": {},
     "output_type": "execute_result"
    }
   ],
   "source": [
    "mydict = {1:'one' , 2:'two' , 3:'three' , 4:'four'} \n",
    "mydict"
   ]
  },
  {
   "cell_type": "code",
   "execution_count": 87,
   "id": "64a07e6c-c616-405d-8ec8-a4596e65c74e",
   "metadata": {},
   "outputs": [
    {
     "data": {
      "text/plain": [
       "'one'"
      ]
     },
     "execution_count": 87,
     "metadata": {},
     "output_type": "execute_result"
    }
   ],
   "source": [
    "mydict[1] # Access item using key"
   ]
  },
  {
   "cell_type": "code",
   "execution_count": 88,
   "id": "1bbc073a-b2be-4985-a017-9ad808457ae1",
   "metadata": {},
   "outputs": [
    {
     "data": {
      "text/plain": [
       "'one'"
      ]
     },
     "execution_count": 88,
     "metadata": {},
     "output_type": "execute_result"
    }
   ],
   "source": [
    "mydict.get(1) # Access item using get() method"
   ]
  },
  {
   "cell_type": "code",
   "execution_count": 89,
   "id": "091497c3-6949-4351-93dd-85de212fe1f8",
   "metadata": {},
   "outputs": [
    {
     "data": {
      "text/plain": [
       "'one'"
      ]
     },
     "execution_count": 89,
     "metadata": {},
     "output_type": "execute_result"
    }
   ],
   "source": [
    "mydict.get(1) # Access item using get() method"
   ]
  },
  {
   "cell_type": "code",
   "execution_count": 91,
   "id": "90c6eadb-ebf3-44cf-918d-ab643f0f9450",
   "metadata": {},
   "outputs": [
    {
     "data": {
      "text/plain": [
       "{'Name': 'Mikun', 'ID': 72, 'DOB': 2000, 'job': 'Analyst'}"
      ]
     },
     "execution_count": 91,
     "metadata": {},
     "output_type": "execute_result"
    }
   ],
   "source": [
    "mydict1 = {'Name': 'Mikun', 'ID': 72, 'DOB': 2000, 'job': 'Analyst'}\n",
    "mydict1"
   ]
  },
  {
   "cell_type": "code",
   "execution_count": 93,
   "id": "87d6d29e-6e7a-4e91-824c-7d776461e5c9",
   "metadata": {},
   "outputs": [
    {
     "data": {
      "text/plain": [
       "'Mikun'"
      ]
     },
     "execution_count": 93,
     "metadata": {},
     "output_type": "execute_result"
    }
   ],
   "source": [
    "mydict1['Name'] # Access item using key"
   ]
  },
  {
   "cell_type": "code",
   "execution_count": 94,
   "id": "edc9e24d-3d30-43a1-89eb-0a7957459b09",
   "metadata": {},
   "outputs": [
    {
     "data": {
      "text/plain": [
       "'Analyst'"
      ]
     },
     "execution_count": 94,
     "metadata": {},
     "output_type": "execute_result"
    }
   ],
   "source": [
    "mydict1.get('job') # Access item using get() method"
   ]
  },
  {
   "cell_type": "markdown",
   "id": "177c75c1-ccae-4bfd-8a25-397b1d367b5f",
   "metadata": {},
   "source": [
    "### Add, Remove and Change items"
   ]
  },
  {
   "cell_type": "code",
   "execution_count": 106,
   "id": "b2cd103a-8073-4f97-a7de-3777d961994b",
   "metadata": {},
   "outputs": [
    {
     "data": {
      "text/plain": [
       "{'Name': 'Mikun', 'ID': 72, 'DOB': 2000, 'Address': 'Odisha'}"
      ]
     },
     "execution_count": 106,
     "metadata": {},
     "output_type": "execute_result"
    }
   ],
   "source": [
    "mydict1 = {'Name': 'Mikun', 'ID': 72, 'DOB': 2000, 'Address': 'Odisha'}\n",
    "mydict1"
   ]
  },
  {
   "cell_type": "code",
   "execution_count": 96,
   "id": "dedbf34f-8596-4067-a9e3-3f96344450d8",
   "metadata": {},
   "outputs": [
    {
     "data": {
      "text/plain": [
       "{'Name': 'Mikun', 'ID': 72, 'DOB': 1999, 'Address': 'Rayagada'}"
      ]
     },
     "execution_count": 96,
     "metadata": {},
     "output_type": "execute_result"
    }
   ],
   "source": [
    "mydict1['DOB'] =1999 # Changin Dictionary Items\n",
    "mydict1[\"Address\"] = \"Rayagada\"\n",
    "mydict1"
   ]
  },
  {
   "cell_type": "code",
   "execution_count": 97,
   "id": "d9568698-5a42-4b9e-9a8f-d895353cf6da",
   "metadata": {},
   "outputs": [
    {
     "data": {
      "text/plain": [
       "{'Name': 'Mikun', 'ID': 72, 'DOB': 1995, 'Address': 'Rayagada'}"
      ]
     },
     "execution_count": 97,
     "metadata": {},
     "output_type": "execute_result"
    }
   ],
   "source": [
    "dict1 = {\"DOB\": 1995}\n",
    "mydict1.update(dict1)\n",
    "mydict1"
   ]
  },
  {
   "cell_type": "code",
   "execution_count": 98,
   "id": "2687f649-7a4e-47e9-bb18-c8defba6ef16",
   "metadata": {},
   "outputs": [
    {
     "data": {
      "text/plain": [
       "{'Name': 'Mikun',\n",
       " 'ID': 72,\n",
       " 'DOB': 1995,\n",
       " 'Address': 'Rayagada',\n",
       " 'Job': 'Analyst'}"
      ]
     },
     "execution_count": 98,
     "metadata": {},
     "output_type": "execute_result"
    }
   ],
   "source": [
    "mydict1['Job'] = 'Analyst' #Adding items in the dicitonary\n",
    "mydict1"
   ]
  },
  {
   "cell_type": "code",
   "execution_count": 99,
   "id": "ba8edfbe-4b50-475a-86e9-a0b9745b2942",
   "metadata": {},
   "outputs": [
    {
     "data": {
      "text/plain": [
       "{'Name': 'Mikun', 'ID': 72, 'DOB': 1995, 'Address': 'Rayagada'}"
      ]
     },
     "execution_count": 99,
     "metadata": {},
     "output_type": "execute_result"
    }
   ],
   "source": [
    "mydict1.pop('Job') # Removing items in the dictionary using pop method\n",
    "mydict1"
   ]
  },
  {
   "cell_type": "code",
   "execution_count": 107,
   "id": "9bfb37af-3e73-4973-a4cf-b5ca361f1394",
   "metadata": {},
   "outputs": [
    {
     "data": {
      "text/plain": [
       "('Address', 'Odisha')"
      ]
     },
     "execution_count": 107,
     "metadata": {},
     "output_type": "execute_result"
    }
   ],
   "source": [
    "mydict1.popitem() # The lsit item is removed (from python v3.7)"
   ]
  },
  {
   "cell_type": "code",
   "execution_count": 108,
   "id": "c978f482-9b30-4b3b-ad26-7885d935a428",
   "metadata": {},
   "outputs": [
    {
     "data": {
      "text/plain": [
       "{'Name': 'Mikun', 'ID': 72, 'DOB': 2000}"
      ]
     },
     "execution_count": 108,
     "metadata": {},
     "output_type": "execute_result"
    }
   ],
   "source": [
    "mydict1"
   ]
  },
  {
   "cell_type": "code",
   "execution_count": 109,
   "id": "d00973ef-5a5c-45ad-b081-a74c2013d5f2",
   "metadata": {},
   "outputs": [
    {
     "data": {
      "text/plain": [
       "{'Name': 'Mikun', 'DOB': 2000}"
      ]
     },
     "execution_count": 109,
     "metadata": {},
     "output_type": "execute_result"
    }
   ],
   "source": [
    "del[mydict1[\"ID\"]] # Removing item using del method\n",
    "mydict1"
   ]
  },
  {
   "cell_type": "code",
   "execution_count": 110,
   "id": "3693d9d8-5673-4fce-9236-6f82da50f719",
   "metadata": {},
   "outputs": [
    {
     "data": {
      "text/plain": [
       "{}"
      ]
     },
     "execution_count": 110,
     "metadata": {},
     "output_type": "execute_result"
    }
   ],
   "source": [
    "mydict1.clear() # Delete all items of the dictionary using clear method\n",
    "mydict1"
   ]
  },
  {
   "cell_type": "code",
   "execution_count": 111,
   "id": "31d68d44-cbda-4462-a9db-ed87106f16fe",
   "metadata": {},
   "outputs": [
    {
     "ename": "NameError",
     "evalue": "name 'mydict1' is not defined",
     "output_type": "error",
     "traceback": [
      "\u001b[1;31m---------------------------------------------------------------------------\u001b[0m",
      "\u001b[1;31mNameError\u001b[0m                                 Traceback (most recent call last)",
      "Cell \u001b[1;32mIn[111], line 2\u001b[0m\n\u001b[0;32m      1\u001b[0m \u001b[38;5;28;01mdel\u001b[39;00m mydict1 \u001b[38;5;66;03m# Delete the dictionary object\u001b[39;00m\n\u001b[1;32m----> 2\u001b[0m mydict1\n",
      "\u001b[1;31mNameError\u001b[0m: name 'mydict1' is not defined"
     ]
    }
   ],
   "source": [
    "del mydict1 # Delete the dictionary object\n",
    "mydict1"
   ]
  },
  {
   "cell_type": "markdown",
   "id": "6dc1ba7f-42b7-4aae-a45c-a907393e86d9",
   "metadata": {},
   "source": [
    "### Copy Dictionary"
   ]
  },
  {
   "cell_type": "code",
   "execution_count": 113,
   "id": "d6d2ce71-1f43-4150-85b4-9db9bfb6a510",
   "metadata": {},
   "outputs": [
    {
     "data": {
      "text/plain": [
       "{'Name': 'Mikun', 'ID': 72, 'DOB': 2000, 'Address': 'Odisha'}"
      ]
     },
     "execution_count": 113,
     "metadata": {},
     "output_type": "execute_result"
    }
   ],
   "source": [
    "mydict = {'Name': 'Mikun', 'ID': 72, 'DOB': 2000, 'Address': 'Odisha'}\n",
    "mydict"
   ]
  },
  {
   "cell_type": "code",
   "execution_count": 114,
   "id": "e8cfad3c-04bd-4358-9634-ca07ccac389b",
   "metadata": {},
   "outputs": [],
   "source": [
    "mydict1 = mydict # Create a new reference 'mudict1'"
   ]
  },
  {
   "cell_type": "code",
   "execution_count": 115,
   "id": "f0ad9916-7952-417c-be6e-3cdb59193d38",
   "metadata": {},
   "outputs": [
    {
     "data": {
      "text/plain": [
       "(2341830722368, 2341830722368)"
      ]
     },
     "execution_count": 115,
     "metadata": {},
     "output_type": "execute_result"
    }
   ],
   "source": [
    "id(mydict), id(mydict1)"
   ]
  },
  {
   "cell_type": "code",
   "execution_count": 116,
   "id": "a7ce8007-b873-410c-a2ec-e5463b9aacd7",
   "metadata": {},
   "outputs": [],
   "source": [
    "mydict2 = mydict.copy()"
   ]
  },
  {
   "cell_type": "code",
   "execution_count": 117,
   "id": "cea82a1e-4241-4b38-bc44-f7a2b23c6dc4",
   "metadata": {},
   "outputs": [
    {
     "data": {
      "text/plain": [
       "2341829943744"
      ]
     },
     "execution_count": 117,
     "metadata": {},
     "output_type": "execute_result"
    }
   ],
   "source": [
    "id(mydict2)"
   ]
  },
  {
   "cell_type": "code",
   "execution_count": 119,
   "id": "65cab099-3b57-41d5-8111-04148df32184",
   "metadata": {},
   "outputs": [
    {
     "name": "stdout",
     "output_type": "stream",
     "text": [
      "if the mydict and mydict1 address is same: True\n",
      "if the mydict and mydict2 address is same: False\n"
     ]
    }
   ],
   "source": [
    "print(f\"if the mydict and mydict1 address is same: {id(mydict) == id(mydict1)}\")\n",
    "print(f\"if the mydict and mydict2 address is same: {id(mydict) == id(mydict2)}\")"
   ]
  },
  {
   "cell_type": "code",
   "execution_count": 122,
   "id": "251af143-1b04-4ea0-a104-cce94bfd0529",
   "metadata": {},
   "outputs": [],
   "source": [
    "mydict[\"Address\"] = \"Bangalore\""
   ]
  },
  {
   "cell_type": "code",
   "execution_count": 123,
   "id": "3d086843-e766-464f-8ba2-db5d03f20160",
   "metadata": {},
   "outputs": [
    {
     "data": {
      "text/plain": [
       "{'Name': 'Mikun', 'ID': 72, 'DOB': 2000, 'Address': 'Bangalore'}"
      ]
     },
     "execution_count": 123,
     "metadata": {},
     "output_type": "execute_result"
    }
   ],
   "source": [
    "mydict"
   ]
  },
  {
   "cell_type": "code",
   "execution_count": 124,
   "id": "51c899a7-f3d7-46dc-b88d-3535ab615cef",
   "metadata": {},
   "outputs": [
    {
     "data": {
      "text/plain": [
       "{'Name': 'Mikun', 'ID': 72, 'DOB': 2000, 'Address': 'Bangalore'}"
      ]
     },
     "execution_count": 124,
     "metadata": {},
     "output_type": "execute_result"
    }
   ],
   "source": [
    "mydict1"
   ]
  },
  {
   "cell_type": "code",
   "execution_count": 125,
   "id": "4f79790a-aa65-40cf-8b91-e8025e9b60ae",
   "metadata": {},
   "outputs": [
    {
     "data": {
      "text/plain": [
       "{'Name': 'Mikun', 'ID': 72, 'DOB': 2000, 'Address': 'Odisha'}"
      ]
     },
     "execution_count": 125,
     "metadata": {},
     "output_type": "execute_result"
    }
   ],
   "source": [
    "mydict2"
   ]
  },
  {
   "cell_type": "markdown",
   "id": "5d62bdf8-59c6-4539-9097-d09e20aaf13c",
   "metadata": {},
   "source": [
    "### Loop through a dictionary"
   ]
  },
  {
   "cell_type": "code",
   "execution_count": 126,
   "id": "23830ec9-3dba-412c-a624-15d1b1fbe27f",
   "metadata": {},
   "outputs": [
    {
     "data": {
      "text/plain": [
       "{'Name': 'Mikun', 'ID': 72, 'DOB': 2000, 'Address': 'Odisha'}"
      ]
     },
     "execution_count": 126,
     "metadata": {},
     "output_type": "execute_result"
    }
   ],
   "source": [
    "mydict1 = {'Name': 'Mikun', 'ID': 72, 'DOB': 2000, 'Address': 'Odisha'}\n",
    "mydict1"
   ]
  },
  {
   "cell_type": "code",
   "execution_count": 127,
   "id": "58d0dd07-491b-4d5b-b129-141ca693ee7a",
   "metadata": {},
   "outputs": [
    {
     "name": "stdout",
     "output_type": "stream",
     "text": [
      "Name : Mikun\n",
      "ID : 72\n",
      "DOB : 2000\n",
      "Address : Odisha\n"
     ]
    }
   ],
   "source": [
    "for i in mydict1:\n",
    "    print(i, ':', mydict1[i]) # key and value pair"
   ]
  },
  {
   "cell_type": "code",
   "execution_count": 128,
   "id": "6a82b324-bef8-41f6-ac24-c111ea8e7381",
   "metadata": {},
   "outputs": [
    {
     "name": "stdout",
     "output_type": "stream",
     "text": [
      "Mikun\n",
      "72\n",
      "2000\n",
      "Odisha\n"
     ]
    }
   ],
   "source": [
    "for i in mydict1:\n",
    "    print(mydict1[i]) # Dictinoary items"
   ]
  },
  {
   "cell_type": "markdown",
   "id": "3ceb0f29-af4e-4469-8c0c-81c2faf485f6",
   "metadata": {},
   "source": [
    "### Dictionary Membership"
   ]
  },
  {
   "cell_type": "code",
   "execution_count": 129,
   "id": "2f815ba2-f444-43a5-aead-142be6dbe9c7",
   "metadata": {},
   "outputs": [
    {
     "data": {
      "text/plain": [
       "{'Name': 'Mikun', 'ID': 72, 'DOB': 2000, 'Address': 'Odisha'}"
      ]
     },
     "execution_count": 129,
     "metadata": {},
     "output_type": "execute_result"
    }
   ],
   "source": [
    "mydict1 = {'Name': 'Mikun', 'ID': 72, 'DOB': 2000, 'Address': 'Odisha'}\n",
    "mydict1"
   ]
  },
  {
   "cell_type": "code",
   "execution_count": 130,
   "id": "622eb622-9338-48ae-beae-584becbfba96",
   "metadata": {},
   "outputs": [
    {
     "data": {
      "text/plain": [
       "True"
      ]
     },
     "execution_count": 130,
     "metadata": {},
     "output_type": "execute_result"
    }
   ],
   "source": [
    "'Name' in mydict1"
   ]
  },
  {
   "cell_type": "code",
   "execution_count": 132,
   "id": "9e763b61-564d-42f8-8373-7f9b167fe36f",
   "metadata": {},
   "outputs": [
    {
     "data": {
      "text/plain": [
       "False"
      ]
     },
     "execution_count": 132,
     "metadata": {},
     "output_type": "execute_result"
    }
   ],
   "source": [
    "'Mikun' in mydict1"
   ]
  },
  {
   "cell_type": "code",
   "execution_count": 133,
   "id": "c0112727-d1cc-4489-b8a6-e547b0b4be3b",
   "metadata": {},
   "outputs": [
    {
     "data": {
      "text/plain": [
       "True"
      ]
     },
     "execution_count": 133,
     "metadata": {},
     "output_type": "execute_result"
    }
   ],
   "source": [
    "'ID' in mydict1"
   ]
  },
  {
   "cell_type": "code",
   "execution_count": 134,
   "id": "78eaaaa7-6091-487f-b797-2a1c71cc5a66",
   "metadata": {},
   "outputs": [
    {
     "data": {
      "text/plain": [
       "True"
      ]
     },
     "execution_count": 134,
     "metadata": {},
     "output_type": "execute_result"
    }
   ],
   "source": [
    "'Address' in mydict1"
   ]
  },
  {
   "cell_type": "code",
   "execution_count": 135,
   "id": "d89ac3c9-1dc7-4003-bb3c-46f9a150b5f2",
   "metadata": {},
   "outputs": [
    {
     "data": {
      "text/plain": [
       "'Odisha'"
      ]
     },
     "execution_count": 135,
     "metadata": {},
     "output_type": "execute_result"
    }
   ],
   "source": [
    "mydict1.pop('Address')"
   ]
  },
  {
   "cell_type": "code",
   "execution_count": 136,
   "id": "7949b3c6-fe33-41e1-bb8e-29c01be94a8b",
   "metadata": {},
   "outputs": [
    {
     "data": {
      "text/plain": [
       "{'Name': 'Mikun', 'ID': 72, 'DOB': 2000}"
      ]
     },
     "execution_count": 136,
     "metadata": {},
     "output_type": "execute_result"
    }
   ],
   "source": [
    "mydict1"
   ]
  },
  {
   "cell_type": "code",
   "execution_count": 137,
   "id": "9c702516-c3d8-441d-a849-f8743eb2fa5a",
   "metadata": {},
   "outputs": [
    {
     "data": {
      "text/plain": [
       "False"
      ]
     },
     "execution_count": 137,
     "metadata": {},
     "output_type": "execute_result"
    }
   ],
   "source": [
    "'Address' in mydict1"
   ]
  },
  {
   "cell_type": "markdown",
   "id": "4307c45a-b19d-4f60-badc-3a3c62acf002",
   "metadata": {},
   "source": [
    "## All / Any\n",
    "The all() method returns:\n",
    "* True - If all keys of the dictionary are true\n",
    "* False - If any key of the dictionary is false\n",
    "\n",
    "The any() function returns True if any key of the dictionary is True, if not, any() returns false"
   ]
  },
  {
   "cell_type": "code",
   "execution_count": 138,
   "id": "d42eb107-70ec-4391-83d0-c943668ff3c3",
   "metadata": {},
   "outputs": [
    {
     "data": {
      "text/plain": [
       "{'Name': 'Mikun', 'ID': 72, 'DOB': 2000, 'job': 'Analyst'}"
      ]
     },
     "execution_count": 138,
     "metadata": {},
     "output_type": "execute_result"
    }
   ],
   "source": [
    "mydict1 = {'Name': 'Mikun', 'ID': 72, 'DOB': 2000, 'job': 'Analyst'}\n",
    "mydict1"
   ]
  },
  {
   "cell_type": "code",
   "execution_count": 139,
   "id": "205fc2c5-a9bc-4bf2-8e60-a6a34a9ffde1",
   "metadata": {},
   "outputs": [
    {
     "data": {
      "text/plain": [
       "True"
      ]
     },
     "execution_count": 139,
     "metadata": {},
     "output_type": "execute_result"
    }
   ],
   "source": [
    "all(mydict1)"
   ]
  },
  {
   "cell_type": "code",
   "execution_count": 141,
   "id": "639bccc5-0dae-4871-9f72-98431e0150fa",
   "metadata": {},
   "outputs": [
    {
     "data": {
      "text/plain": [
       "{'Name': 'Mikun', 'ID': 72, 'DOB': 2000, 'job': 'Analyst', 'Bool': False}"
      ]
     },
     "execution_count": 141,
     "metadata": {},
     "output_type": "execute_result"
    }
   ],
   "source": [
    "mydict1['Bool'] = False\n",
    "mydict1"
   ]
  },
  {
   "cell_type": "code",
   "execution_count": 142,
   "id": "fe0635ce-12b7-4f27-8131-443c699653f1",
   "metadata": {},
   "outputs": [
    {
     "data": {
      "text/plain": [
       "True"
      ]
     },
     "execution_count": 142,
     "metadata": {},
     "output_type": "execute_result"
    }
   ],
   "source": [
    "all(mydict1)"
   ]
  },
  {
   "cell_type": "code",
   "execution_count": 143,
   "id": "a5595898-2459-428f-a71b-48597482386e",
   "metadata": {},
   "outputs": [
    {
     "data": {
      "text/plain": [
       "{'Name': 'Mikun',\n",
       " 'ID': 72,\n",
       " 'DOB': 2000,\n",
       " 'job': 'Analyst',\n",
       " 'Bool': False,\n",
       " 0: True}"
      ]
     },
     "execution_count": 143,
     "metadata": {},
     "output_type": "execute_result"
    }
   ],
   "source": [
    "mydict1[0] = True\n",
    "mydict1"
   ]
  },
  {
   "cell_type": "code",
   "execution_count": 144,
   "id": "b808ab51-879f-47ab-af06-99fa13836b09",
   "metadata": {},
   "outputs": [
    {
     "data": {
      "text/plain": [
       "False"
      ]
     },
     "execution_count": 144,
     "metadata": {},
     "output_type": "execute_result"
    }
   ],
   "source": [
    "all(mydict1)"
   ]
  },
  {
   "cell_type": "code",
   "execution_count": 145,
   "id": "0dfdb8a9-a1bb-4098-8a57-1e3be94be419",
   "metadata": {},
   "outputs": [
    {
     "data": {
      "text/plain": [
       "True"
      ]
     },
     "execution_count": 145,
     "metadata": {},
     "output_type": "execute_result"
    }
   ],
   "source": [
    "any(mydict1)"
   ]
  },
  {
   "cell_type": "markdown",
   "id": "10790f90-aff0-4189-9815-bbe65fb74090",
   "metadata": {},
   "source": [
    "# Range"
   ]
  },
  {
   "cell_type": "code",
   "execution_count": 146,
   "id": "74cf7500-f349-4fc9-aba1-c9a4da34eb19",
   "metadata": {},
   "outputs": [
    {
     "data": {
      "text/plain": [
       "range(0, 10)"
      ]
     },
     "execution_count": 146,
     "metadata": {},
     "output_type": "execute_result"
    }
   ],
   "source": [
    "range(10)"
   ]
  },
  {
   "cell_type": "code",
   "execution_count": 147,
   "id": "d97d40cd-62a4-4b1c-bb43-2731fc45b825",
   "metadata": {},
   "outputs": [
    {
     "data": {
      "text/plain": [
       "range(10, 20)"
      ]
     },
     "execution_count": 147,
     "metadata": {},
     "output_type": "execute_result"
    }
   ],
   "source": [
    "range(10, 20)"
   ]
  },
  {
   "cell_type": "code",
   "execution_count": 148,
   "id": "47eb382b-016f-4efe-abe1-a5f15c2090a2",
   "metadata": {},
   "outputs": [
    {
     "data": {
      "text/plain": [
       "range(10, 20, 30)"
      ]
     },
     "execution_count": 148,
     "metadata": {},
     "output_type": "execute_result"
    }
   ],
   "source": [
    "range(10, 20, 30)"
   ]
  },
  {
   "cell_type": "code",
   "execution_count": null,
   "id": "a937e290-c981-4ca2-b1a7-1a16749b6c07",
   "metadata": {},
   "outputs": [],
   "source": []
  }
 ],
 "metadata": {
  "kernelspec": {
   "display_name": "Python [conda env:base] *",
   "language": "python",
   "name": "conda-base-py"
  },
  "language_info": {
   "codemirror_mode": {
    "name": "ipython",
    "version": 3
   },
   "file_extension": ".py",
   "mimetype": "text/x-python",
   "name": "python",
   "nbconvert_exporter": "python",
   "pygments_lexer": "ipython3",
   "version": "3.13.5"
  }
 },
 "nbformat": 4,
 "nbformat_minor": 5
}
