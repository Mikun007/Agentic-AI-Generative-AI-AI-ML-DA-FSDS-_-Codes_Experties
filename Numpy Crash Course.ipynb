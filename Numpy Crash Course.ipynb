{
 "cells": [
  {
   "cell_type": "code",
   "execution_count": 1,
   "id": "0d2e694d-f4f7-42ec-9253-1ad261ac1320",
   "metadata": {},
   "outputs": [],
   "source": [
    "import numpy as np"
   ]
  },
  {
   "cell_type": "code",
   "execution_count": 2,
   "id": "ea3795f5-5ce1-4ad5-88d2-cff6d53ff942",
   "metadata": {},
   "outputs": [
    {
     "data": {
      "text/plain": [
       "'2.1.3'"
      ]
     },
     "execution_count": 2,
     "metadata": {},
     "output_type": "execute_result"
    }
   ],
   "source": [
    "np.__version__"
   ]
  },
  {
   "cell_type": "markdown",
   "id": "87adbc84-ad76-48a6-b6e8-709b018013e9",
   "metadata": {},
   "source": [
    "### Creating List"
   ]
  },
  {
   "cell_type": "code",
   "execution_count": 3,
   "id": "c1410449-cb3a-41da-b373-a1ad9b43410e",
   "metadata": {},
   "outputs": [
    {
     "data": {
      "text/plain": [
       "[0, 1, 2, 3, 4, 5]"
      ]
     },
     "execution_count": 3,
     "metadata": {},
     "output_type": "execute_result"
    }
   ],
   "source": [
    "my_list = [0, 1, 2, 3, 4, 5]\n",
    "my_list"
   ]
  },
  {
   "cell_type": "code",
   "execution_count": 5,
   "id": "db51b8e6-c83c-49da-bc85-6188092475a3",
   "metadata": {},
   "outputs": [
    {
     "data": {
      "text/plain": [
       "list"
      ]
     },
     "execution_count": 5,
     "metadata": {},
     "output_type": "execute_result"
    }
   ],
   "source": [
    "type(my_list)"
   ]
  },
  {
   "cell_type": "markdown",
   "id": "d188d017-0281-471c-a1cb-d75f82307de6",
   "metadata": {},
   "source": [
    "### 1-D Array"
   ]
  },
  {
   "cell_type": "code",
   "execution_count": 6,
   "id": "180815a3-6935-4e78-bfa2-366d075566d0",
   "metadata": {},
   "outputs": [
    {
     "data": {
      "text/plain": [
       "array([0, 1, 2, 3, 4, 5])"
      ]
     },
     "execution_count": 6,
     "metadata": {},
     "output_type": "execute_result"
    }
   ],
   "source": [
    "# Converting  list to array\n",
    "arr = np.array(my_list)\n",
    "arr"
   ]
  },
  {
   "cell_type": "code",
   "execution_count": 7,
   "id": "344069df-4637-4261-9286-b3f0b9e83846",
   "metadata": {},
   "outputs": [
    {
     "data": {
      "text/plain": [
       "numpy.ndarray"
      ]
     },
     "execution_count": 7,
     "metadata": {},
     "output_type": "execute_result"
    }
   ],
   "source": [
    "type(arr)"
   ]
  },
  {
   "cell_type": "code",
   "execution_count": 8,
   "id": "223d7c40-435c-4692-9d18-b9fe376e0c61",
   "metadata": {},
   "outputs": [
    {
     "data": {
      "text/plain": [
       "list"
      ]
     },
     "execution_count": 8,
     "metadata": {},
     "output_type": "execute_result"
    }
   ],
   "source": [
    "type(my_list)"
   ]
  },
  {
   "cell_type": "markdown",
   "id": "a0c9231c-3972-475c-b3b1-7e212d63fdca",
   "metadata": {},
   "source": [
    "## `np.arange(start, stop, step)`\n",
    "* similar to range() function where it gives an array instead of a list\n",
    "* gives an evenly spaced values with specified interval"
   ]
  },
  {
   "cell_type": "code",
   "execution_count": 9,
   "id": "bfbd6a7c-c2aa-4dd4-9738-63c29d37ac8b",
   "metadata": {},
   "outputs": [
    {
     "data": {
      "text/plain": [
       "array([0, 1, 2, 3, 4, 5, 6, 7, 8, 9])"
      ]
     },
     "execution_count": 9,
     "metadata": {},
     "output_type": "execute_result"
    }
   ],
   "source": [
    "np.arange(10)"
   ]
  },
  {
   "cell_type": "code",
   "execution_count": 10,
   "id": "4be691f3-450e-40d4-b57b-fd587b3f5358",
   "metadata": {},
   "outputs": [
    {
     "data": {
      "text/plain": [
       "array([ 0,  1,  2,  3,  4,  5,  6,  7,  8,  9, 10, 11, 12, 13, 14, 15, 16,\n",
       "       17, 18, 19])"
      ]
     },
     "execution_count": 10,
     "metadata": {},
     "output_type": "execute_result"
    }
   ],
   "source": [
    "np.arange(20)"
   ]
  },
  {
   "cell_type": "code",
   "execution_count": 14,
   "id": "086ba98b-59cb-44fc-9c6d-88801769805c",
   "metadata": {},
   "outputs": [
    {
     "data": {
      "text/plain": [
       "array([0., 1., 2., 3., 4.])"
      ]
     },
     "execution_count": 14,
     "metadata": {},
     "output_type": "execute_result"
    }
   ],
   "source": [
    "np.arange(5.0)"
   ]
  },
  {
   "cell_type": "code",
   "execution_count": 15,
   "id": "343ccf1f-d4aa-40e1-8227-aed4c90a99b7",
   "metadata": {},
   "outputs": [
    {
     "data": {
      "text/plain": [
       "array([0, 1, 2, 3, 4])"
      ]
     },
     "execution_count": 15,
     "metadata": {},
     "output_type": "execute_result"
    }
   ],
   "source": [
    "np.arange(0, 5)"
   ]
  },
  {
   "cell_type": "code",
   "execution_count": 17,
   "id": "376db517-ca1e-4150-8840-4677be4766ad",
   "metadata": {},
   "outputs": [
    {
     "data": {
      "text/plain": [
       "array([10, 11, 12, 13, 14, 15, 16, 17, 18, 19])"
      ]
     },
     "execution_count": 17,
     "metadata": {},
     "output_type": "execute_result"
    }
   ],
   "source": [
    "np.arange(10, 20)"
   ]
  },
  {
   "cell_type": "code",
   "execution_count": 19,
   "id": "6a859572-237e-4b2b-8d7e-7e3a556468a7",
   "metadata": {},
   "outputs": [
    {
     "data": {
      "text/plain": [
       "array([], dtype=int64)"
      ]
     },
     "execution_count": 19,
     "metadata": {},
     "output_type": "execute_result"
    }
   ],
   "source": [
    "np.arange(20, 10) # 1st arg > 2nd arg"
   ]
  },
  {
   "cell_type": "code",
   "execution_count": 20,
   "id": "ca483f28-b395-406b-95cf-7379f76370f7",
   "metadata": {},
   "outputs": [
    {
     "data": {
      "text/plain": [
       "array([-20, -19, -18, -17, -16, -15, -14, -13, -12, -11, -10,  -9,  -8,\n",
       "        -7,  -6,  -5,  -4,  -3,  -2,  -1,   0,   1,   2,   3,   4,   5,\n",
       "         6,   7,   8,   9])"
      ]
     },
     "execution_count": 20,
     "metadata": {},
     "output_type": "execute_result"
    }
   ],
   "source": [
    "np.arange(-20, 10)"
   ]
  },
  {
   "cell_type": "code",
   "execution_count": 21,
   "id": "a2949894-4e76-4e5b-979c-f6b8aacee41e",
   "metadata": {},
   "outputs": [
    {
     "data": {
      "text/plain": [
       "array([-16, -15, -14, -13, -12, -11, -10,  -9,  -8,  -7,  -6,  -5,  -4,\n",
       "        -3,  -2,  -1,   0,   1,   2,   3,   4,   5,   6,   7,   8,   9])"
      ]
     },
     "execution_count": 21,
     "metadata": {},
     "output_type": "execute_result"
    }
   ],
   "source": [
    "np.arange(-16, 10)"
   ]
  },
  {
   "cell_type": "code",
   "execution_count": 22,
   "id": "f75a5870-3f98-41d0-aa0b-a1e559c9f76b",
   "metadata": {},
   "outputs": [
    {
     "data": {
      "text/plain": [
       "array([-30, -29, -28, -27, -26, -25, -24, -23, -22, -21, -20, -19, -18,\n",
       "       -17, -16, -15, -14, -13, -12, -11, -10,  -9,  -8,  -7,  -6,  -5,\n",
       "        -4,  -3,  -2,  -1,   0,   1,   2,   3,   4,   5,   6,   7,   8,\n",
       "         9,  10,  11,  12,  13,  14,  15,  16,  17,  18,  19])"
      ]
     },
     "execution_count": 22,
     "metadata": {},
     "output_type": "execute_result"
    }
   ],
   "source": [
    "ar = np.arange(-30, 20)\n",
    "ar"
   ]
  },
  {
   "cell_type": "code",
   "execution_count": 23,
   "id": "c286b5a8-b0e0-4be5-af6e-31ce543c3ca3",
   "metadata": {},
   "outputs": [
    {
     "ename": "TypeError",
     "evalue": "arange() requires stop to be specified.",
     "output_type": "error",
     "traceback": [
      "\u001b[1;31m---------------------------------------------------------------------------\u001b[0m",
      "\u001b[1;31mTypeError\u001b[0m                                 Traceback (most recent call last)",
      "Cell \u001b[1;32mIn[23], line 1\u001b[0m\n\u001b[1;32m----> 1\u001b[0m np\u001b[38;5;241m.\u001b[39marange()\n",
      "\u001b[1;31mTypeError\u001b[0m: arange() requires stop to be specified."
     ]
    }
   ],
   "source": [
    "np.arange()"
   ]
  },
  {
   "cell_type": "code",
   "execution_count": 24,
   "id": "1da4aee9-517d-4d72-a5b8-1585d36ba31e",
   "metadata": {},
   "outputs": [
    {
     "data": {
      "text/plain": [
       "array([10, 15, 20, 25])"
      ]
     },
     "execution_count": 24,
     "metadata": {},
     "output_type": "execute_result"
    }
   ],
   "source": [
    "np.arange(10, 30, 5) # start, stop, step"
   ]
  },
  {
   "cell_type": "code",
   "execution_count": 25,
   "id": "9811d033-3a4f-4799-8867-829cda79f286",
   "metadata": {},
   "outputs": [
    {
     "data": {
      "text/plain": [
       "array([0, 3, 6, 9])"
      ]
     },
     "execution_count": 25,
     "metadata": {},
     "output_type": "execute_result"
    }
   ],
   "source": [
    "np.arange(0, 10, 3)"
   ]
  },
  {
   "cell_type": "code",
   "execution_count": 28,
   "id": "b8700245-1c3b-4444-b02d-6682635e6157",
   "metadata": {},
   "outputs": [
    {
     "ename": "TypeError",
     "evalue": "Cannot interpret '8' as a data type",
     "output_type": "error",
     "traceback": [
      "\u001b[1;31m---------------------------------------------------------------------------\u001b[0m",
      "\u001b[1;31mTypeError\u001b[0m                                 Traceback (most recent call last)",
      "Cell \u001b[1;32mIn[28], line 1\u001b[0m\n\u001b[1;32m----> 1\u001b[0m np\u001b[38;5;241m.\u001b[39marange(\u001b[38;5;241m10\u001b[39m, \u001b[38;5;241m30\u001b[39m, \u001b[38;5;241m5\u001b[39m, \u001b[38;5;241m8\u001b[39m)\n",
      "\u001b[1;31mTypeError\u001b[0m: Cannot interpret '8' as a data type"
     ]
    }
   ],
   "source": [
    "np.arange(10, 30, 5, 8) # max 3 argument can be pass in arange()"
   ]
  },
  {
   "cell_type": "markdown",
   "id": "248ea385-36bb-4a12-98bd-f9a49b15124a",
   "metadata": {},
   "source": [
    "## `np.zeros( shape, dtype)`\n",
    "* Use to creating an array with specified shape and datatype with all the element filled with zeros\n",
    "* shape:\n",
    "  * for 1-D array we use only one element like np.zeros(10)\n",
    "  * for 2-D array we use a tuple like np.zeros((2, 2))\n",
    "* dtype: int, float"
   ]
  },
  {
   "cell_type": "code",
   "execution_count": 85,
   "id": "a42baa44-759e-4e94-9390-20dc4646499a",
   "metadata": {},
   "outputs": [
    {
     "data": {
      "text/plain": [
       "array([0., 0., 0., 0., 0., 0., 0., 0., 0., 0.])"
      ]
     },
     "execution_count": 85,
     "metadata": {},
     "output_type": "execute_result"
    }
   ],
   "source": [
    "np.zeros(10) # parameter tuning"
   ]
  },
  {
   "cell_type": "code",
   "execution_count": 31,
   "id": "ce76e680-7e86-42a4-8028-88de004bb550",
   "metadata": {},
   "outputs": [
    {
     "data": {
      "text/plain": [
       "array([0, 0, 0, 0, 0, 0, 0, 0, 0, 0])"
      ]
     },
     "execution_count": 31,
     "metadata": {},
     "output_type": "execute_result"
    }
   ],
   "source": [
    "np.zeros(10, dtype=int) # hyperparameter tuning"
   ]
  },
  {
   "cell_type": "markdown",
   "id": "de46decc-5276-4317-9ab0-6a0031032141",
   "metadata": {},
   "source": [
    "`2-D Array`"
   ]
  },
  {
   "cell_type": "code",
   "execution_count": 33,
   "id": "abfbe5e6-5162-40d9-a545-d2e1bfd72033",
   "metadata": {},
   "outputs": [
    {
     "data": {
      "text/plain": [
       "array([[0, 0],\n",
       "       [0, 0]])"
      ]
     },
     "execution_count": 33,
     "metadata": {},
     "output_type": "execute_result"
    }
   ],
   "source": [
    "np.zeros((2,2), dtype=int)"
   ]
  },
  {
   "cell_type": "code",
   "execution_count": 35,
   "id": "88e59b77-3638-4292-9105-8231b8a063a0",
   "metadata": {},
   "outputs": [
    {
     "name": "stdout",
     "output_type": "stream",
     "text": [
      "[[0. 0.]\n",
      " [0. 0.]]\n",
      "___________________\n",
      "<class 'numpy.ndarray'>\n"
     ]
    }
   ],
   "source": [
    "zero = np.zeros([2,2])\n",
    "print(zero)\n",
    "\n",
    "print(\"___________________\")\n",
    "\n",
    "print(type(zero))"
   ]
  },
  {
   "cell_type": "code",
   "execution_count": 36,
   "id": "670904d0-afdf-4710-85df-306ad0692f05",
   "metadata": {},
   "outputs": [
    {
     "data": {
      "text/plain": [
       "array([[0., 0., 0., 0., 0., 0., 0., 0., 0., 0.],\n",
       "       [0., 0., 0., 0., 0., 0., 0., 0., 0., 0.]])"
      ]
     },
     "execution_count": 36,
     "metadata": {},
     "output_type": "execute_result"
    }
   ],
   "source": [
    "np.zeros((2, 10))"
   ]
  },
  {
   "cell_type": "code",
   "execution_count": 37,
   "id": "b8474923-d838-451b-9c48-343f63bf608f",
   "metadata": {},
   "outputs": [
    {
     "data": {
      "text/plain": [
       "array([[0, 0, 0, 0, 0, 0, 0, 0, 0, 0],\n",
       "       [0, 0, 0, 0, 0, 0, 0, 0, 0, 0],\n",
       "       [0, 0, 0, 0, 0, 0, 0, 0, 0, 0],\n",
       "       [0, 0, 0, 0, 0, 0, 0, 0, 0, 0],\n",
       "       [0, 0, 0, 0, 0, 0, 0, 0, 0, 0],\n",
       "       [0, 0, 0, 0, 0, 0, 0, 0, 0, 0],\n",
       "       [0, 0, 0, 0, 0, 0, 0, 0, 0, 0],\n",
       "       [0, 0, 0, 0, 0, 0, 0, 0, 0, 0],\n",
       "       [0, 0, 0, 0, 0, 0, 0, 0, 0, 0],\n",
       "       [0, 0, 0, 0, 0, 0, 0, 0, 0, 0]])"
      ]
     },
     "execution_count": 37,
     "metadata": {},
     "output_type": "execute_result"
    }
   ],
   "source": [
    "np.zeros((10, 10), dtype=int)"
   ]
  },
  {
   "cell_type": "markdown",
   "id": "2a5a4011-f7a5-4380-8ef3-d0ffcb8f51fa",
   "metadata": {},
   "source": [
    "## `np.ones(shape, dtype)`\n",
    "* Use to create an array with specified shape and datatype with all the element filed with ones.\n",
    "* shape:\n",
    "  * for 1-D array we use only one element like np.zeros(10)\n",
    "  * for 2-D array we use a tuple like np.zeros((2, 2))\n",
    "* dtype: int, float"
   ]
  },
  {
   "cell_type": "code",
   "execution_count": 38,
   "id": "73f26dea-0367-454b-8393-60b80eada745",
   "metadata": {},
   "outputs": [
    {
     "data": {
      "text/plain": [
       "array([1., 1., 1.])"
      ]
     },
     "execution_count": 38,
     "metadata": {},
     "output_type": "execute_result"
    }
   ],
   "source": [
    "np.ones(3)"
   ]
  },
  {
   "cell_type": "code",
   "execution_count": 39,
   "id": "fc3f7d0a-5dc4-4c69-9115-4b5b5fd9c265",
   "metadata": {},
   "outputs": [
    {
     "data": {
      "text/plain": [
       "array([1, 1, 1])"
      ]
     },
     "execution_count": 39,
     "metadata": {},
     "output_type": "execute_result"
    }
   ],
   "source": [
    "np.ones(3, dtype=int)"
   ]
  },
  {
   "cell_type": "code",
   "execution_count": 41,
   "id": "6aecbabe-b5fc-4841-980e-e5f88aa7c0bd",
   "metadata": {},
   "outputs": [
    {
     "data": {
      "text/plain": [
       "array([[1, 1, 1],\n",
       "       [1, 1, 1],\n",
       "       [1, 1, 1]])"
      ]
     },
     "execution_count": 41,
     "metadata": {},
     "output_type": "execute_result"
    }
   ],
   "source": [
    "np.ones((3,3), dtype=int)"
   ]
  },
  {
   "cell_type": "markdown",
   "id": "bbf9ab5e-1729-4005-9105-9822059afcfd",
   "metadata": {},
   "source": [
    "# np.random "
   ]
  },
  {
   "cell_type": "markdown",
   "id": "704922e8-15c5-49b5-a172-60b7e168083a",
   "metadata": {},
   "source": [
    "## `np.random.rand(rows, column)`\n",
    "* It creates an array of specified shape and populate with random float numbers\n",
    "* if one argument then only column will take\n",
    "* if two argument then 1st will be row and 2nd will be column"
   ]
  },
  {
   "cell_type": "code",
   "execution_count": 45,
   "id": "09d55698-d5d0-4e04-a590-5e022b403e3a",
   "metadata": {},
   "outputs": [],
   "source": [
    "import random"
   ]
  },
  {
   "cell_type": "code",
   "execution_count": 51,
   "id": "d89de315-b2d9-48d7-a1fb-81948369cd3e",
   "metadata": {
    "scrolled": true
   },
   "outputs": [
    {
     "ename": "AttributeError",
     "evalue": "module 'random' has no attribute 'rand'",
     "output_type": "error",
     "traceback": [
      "\u001b[1;31m---------------------------------------------------------------------------\u001b[0m",
      "\u001b[1;31mAttributeError\u001b[0m                            Traceback (most recent call last)",
      "Cell \u001b[1;32mIn[51], line 1\u001b[0m\n\u001b[1;32m----> 1\u001b[0m random\u001b[38;5;241m.\u001b[39mrand(\u001b[38;5;241m2\u001b[39m,\u001b[38;5;241m3\u001b[39m)\n",
      "\u001b[1;31mAttributeError\u001b[0m: module 'random' has no attribute 'rand'"
     ]
    }
   ],
   "source": [
    "random.rand(2,3)"
   ]
  },
  {
   "cell_type": "code",
   "execution_count": 86,
   "id": "d0cfab2c-8e38-430d-a71f-a09e96234d66",
   "metadata": {},
   "outputs": [
    {
     "data": {
      "text/plain": [
       "30"
      ]
     },
     "execution_count": 86,
     "metadata": {},
     "output_type": "execute_result"
    }
   ],
   "source": [
    "random.randint(10, 30)"
   ]
  },
  {
   "cell_type": "code",
   "execution_count": 87,
   "id": "21a0bf66-f191-4b98-b269-ff751caa29c0",
   "metadata": {},
   "outputs": [
    {
     "data": {
      "text/plain": [
       "0.7807492677643696"
      ]
     },
     "execution_count": 87,
     "metadata": {},
     "output_type": "execute_result"
    }
   ],
   "source": [
    "random.random()"
   ]
  },
  {
   "cell_type": "code",
   "execution_count": 48,
   "id": "5c889410-402a-485a-9238-2a7e88d30e0e",
   "metadata": {},
   "outputs": [
    {
     "data": {
      "text/plain": [
       "array([[0.65982039, 0.37511189, 0.57650751],\n",
       "       [0.42579496, 0.32277368, 0.49889422]])"
      ]
     },
     "execution_count": 48,
     "metadata": {},
     "output_type": "execute_result"
    }
   ],
   "source": [
    "np.random.rand(2,3)"
   ]
  },
  {
   "cell_type": "code",
   "execution_count": 52,
   "id": "9038cbb2-5cbd-47d1-89ad-5950212c7f00",
   "metadata": {},
   "outputs": [
    {
     "data": {
      "text/plain": [
       "array([0.64248463, 0.01109981, 0.95661866, 0.34528521, 0.3918712 ])"
      ]
     },
     "execution_count": 52,
     "metadata": {},
     "output_type": "execute_result"
    }
   ],
   "source": [
    "np.random.rand(5)"
   ]
  },
  {
   "cell_type": "code",
   "execution_count": 54,
   "id": "4db42b69-4d6b-4c9d-870f-09ca14e9a88c",
   "metadata": {},
   "outputs": [
    {
     "data": {
      "text/plain": [
       "array([[0.78180204, 0.95027989, 0.75996809, 0.82797489, 0.54518545],\n",
       "       [0.54912073, 0.89456665, 0.39016794, 0.30178344, 0.38069784],\n",
       "       [0.93972253, 0.41059533, 0.79645251, 0.4423218 , 0.94692445]])"
      ]
     },
     "execution_count": 54,
     "metadata": {},
     "output_type": "execute_result"
    }
   ],
   "source": [
    "np.random.rand(3, 5)"
   ]
  },
  {
   "cell_type": "markdown",
   "id": "5ef0e3a1-5bd6-451f-a8dd-20781f346212",
   "metadata": {},
   "source": [
    "## `np.random.randint(low, high, size)`\n",
    "* low: takes lowest number compare to high\n",
    "* high: takes highest number compare to low\n",
    "* size: array size\n",
    "  * one integer for 1D array\n",
    "  * two integer for 2D array\n",
    "* dtype: int, float"
   ]
  },
  {
   "cell_type": "code",
   "execution_count": 55,
   "id": "978546f5-59a0-417a-aeac-7744d40f30cb",
   "metadata": {},
   "outputs": [
    {
     "data": {
      "text/plain": [
       "5"
      ]
     },
     "execution_count": 55,
     "metadata": {},
     "output_type": "execute_result"
    }
   ],
   "source": [
    "np.random.randint(4, 6)"
   ]
  },
  {
   "cell_type": "code",
   "execution_count": 56,
   "id": "21d8ae6c-a458-4cb3-b728-378c4db8d568",
   "metadata": {},
   "outputs": [
    {
     "data": {
      "text/plain": [
       "array([18, 17, 15,  3], dtype=int32)"
      ]
     },
     "execution_count": 56,
     "metadata": {},
     "output_type": "execute_result"
    }
   ],
   "source": [
    "np.random.randint(2, 20, 4) # 2nd argument is exclusive"
   ]
  },
  {
   "cell_type": "code",
   "execution_count": 59,
   "id": "88c70525-290c-406b-92e1-13d6537a228a",
   "metadata": {},
   "outputs": [
    {
     "ename": "ValueError",
     "evalue": "low >= high",
     "output_type": "error",
     "traceback": [
      "\u001b[1;31m---------------------------------------------------------------------------\u001b[0m",
      "\u001b[1;31mValueError\u001b[0m                                Traceback (most recent call last)",
      "Cell \u001b[1;32mIn[59], line 1\u001b[0m\n\u001b[1;32m----> 1\u001b[0m np\u001b[38;5;241m.\u001b[39mrandom\u001b[38;5;241m.\u001b[39mrandint(\u001b[38;5;241m30\u001b[39m, \u001b[38;5;241m20\u001b[39m, \u001b[38;5;241m10\u001b[39m)\n",
      "File \u001b[1;32mnumpy\\\\random\\\\mtrand.pyx:796\u001b[0m, in \u001b[0;36mnumpy.random.mtrand.RandomState.randint\u001b[1;34m()\u001b[0m\n",
      "File \u001b[1;32mnumpy\\\\random\\\\_bounded_integers.pyx:1425\u001b[0m, in \u001b[0;36mnumpy.random._bounded_integers._rand_int32\u001b[1;34m()\u001b[0m\n",
      "\u001b[1;31mValueError\u001b[0m: low >= high"
     ]
    }
   ],
   "source": [
    "np.random.randint(30, 20, 10) # 1st argument > 2nd argument"
   ]
  },
  {
   "cell_type": "code",
   "execution_count": 60,
   "id": "dfa054c4-23df-47a6-beb0-6277de9d8b8a",
   "metadata": {},
   "outputs": [
    {
     "data": {
      "text/plain": [
       "array([  6, -26,  16, -28, -24, -11,  -8, -30,   4,  17], dtype=int32)"
      ]
     },
     "execution_count": 60,
     "metadata": {},
     "output_type": "execute_result"
    }
   ],
   "source": [
    "np.random.randint(-30, 20, 10)"
   ]
  },
  {
   "cell_type": "code",
   "execution_count": 63,
   "id": "2e2ef47f-6594-4151-b253-3f7acebaf32c",
   "metadata": {},
   "outputs": [
    {
     "ename": "TypeError",
     "evalue": "Cannot interpret '5' as a data type",
     "output_type": "error",
     "traceback": [
      "\u001b[1;31m---------------------------------------------------------------------------\u001b[0m",
      "\u001b[1;31mTypeError\u001b[0m                                 Traceback (most recent call last)",
      "Cell \u001b[1;32mIn[63], line 1\u001b[0m\n\u001b[1;32m----> 1\u001b[0m np\u001b[38;5;241m.\u001b[39mrandom\u001b[38;5;241m.\u001b[39mrandint(\u001b[38;5;241m-\u001b[39m\u001b[38;5;241m30\u001b[39m, \u001b[38;5;241m20\u001b[39m, \u001b[38;5;241m10\u001b[39m, \u001b[38;5;241m5\u001b[39m)\n",
      "File \u001b[1;32mnumpy\\\\random\\\\mtrand.pyx:777\u001b[0m, in \u001b[0;36mnumpy.random.mtrand.RandomState.randint\u001b[1;34m()\u001b[0m\n",
      "\u001b[1;31mTypeError\u001b[0m: Cannot interpret '5' as a data type"
     ]
    }
   ],
   "source": [
    "np.random.randint(-30, 20, 10, 5)"
   ]
  },
  {
   "cell_type": "code",
   "execution_count": 65,
   "id": "f0025054-bb69-4474-98f7-24ba4228a994",
   "metadata": {},
   "outputs": [
    {
     "data": {
      "text/plain": [
       "array([[25, 36, 30, 32, 31, 27, 37, 23, 37, 18],\n",
       "       [34, 26, 17, 24, 22, 33, 33, 29, 19, 27],\n",
       "       [13, 12, 36, 24, 16, 37, 14, 36, 26, 36],\n",
       "       [10, 22, 18, 39, 18, 33, 11, 33, 35, 32],\n",
       "       [32, 28, 26, 16, 13, 20, 26, 30, 30, 29],\n",
       "       [24, 23, 15, 26, 38, 37, 20, 35, 34, 34],\n",
       "       [11, 17, 18, 33, 22, 18, 37, 21, 21, 14],\n",
       "       [29, 32, 39, 27, 27, 22, 26, 37, 38, 14],\n",
       "       [29, 39, 29, 18, 19, 26, 30, 28, 24, 26],\n",
       "       [39, 30, 12, 12, 23, 12, 24, 20, 22, 34]], dtype=int32)"
      ]
     },
     "execution_count": 65,
     "metadata": {},
     "output_type": "execute_result"
    }
   ],
   "source": [
    "np.random.randint(10, 40, (10, 10)) # 10x10 matrix"
   ]
  },
  {
   "cell_type": "code",
   "execution_count": 66,
   "id": "beb4249a-f8d1-42f7-bc21-1ab73e7f952c",
   "metadata": {},
   "outputs": [
    {
     "data": {
      "text/plain": [
       "array([[ 2, 49, 54, 13, 75, 76, 40, 51, 50, 39, 25, 28],\n",
       "       [22, 67, 13,  3, 54, 51, 93, 78, 12, 95, 21, 74],\n",
       "       [17,  9, 75, 75, 37, 43, 86, 22, 76, 26, 31, 95],\n",
       "       [92, 51, 89, 67, 29, 62, 89, 69, 79, 12, 53, 58],\n",
       "       [16, 79, 23, 57, 98, 52, 33, 62, 58,  4, 82, 88],\n",
       "       [47, 93, 36, 31, 14, 43, 35, 80, 32, 76, 91, 90],\n",
       "       [65, 88, 75, 17,  9, 54, 38, 57, 50, 25, 73,  9],\n",
       "       [12, 64, 36, 85, 98, 89, 25, 83, 19, 69, 83,  6],\n",
       "       [88, 39, 74, 62, 49, 61,  1, 82, 11, 70, 90, 39],\n",
       "       [10, 31, 68, 51, 38, 71, 39, 80, 97, 25, 18, 61],\n",
       "       [38, 99, 97, 91, 45, 34, 71, 65, 64,  9, 23, 35],\n",
       "       [72,  3, 20,  1, 37, 23, 24, 16,  5, 48,  1, 67]], dtype=int32)"
      ]
     },
     "execution_count": 66,
     "metadata": {},
     "output_type": "execute_result"
    }
   ],
   "source": [
    "np.random.randint(1, 100, (12, 12)) # 12x12 matrix"
   ]
  },
  {
   "cell_type": "markdown",
   "id": "e7517bf0-28b4-414e-8669-2e85b4ee33b7",
   "metadata": {},
   "source": [
    "## `.reshape(row, column)`\n",
    "* Changing the shape of an array without altering the data"
   ]
  },
  {
   "cell_type": "code",
   "execution_count": 67,
   "id": "f9932d92-6c1d-48db-b78f-c8453a200fd9",
   "metadata": {},
   "outputs": [
    {
     "data": {
      "text/plain": [
       "array([0, 1, 2, 3, 4, 5])"
      ]
     },
     "execution_count": 67,
     "metadata": {},
     "output_type": "execute_result"
    }
   ],
   "source": [
    "arr"
   ]
  },
  {
   "cell_type": "code",
   "execution_count": 68,
   "id": "b7316bfa-c666-477f-8d0b-ac10ae6137db",
   "metadata": {},
   "outputs": [
    {
     "data": {
      "text/plain": [
       "array([ 1,  2,  3,  4,  5,  6,  7,  8,  9, 10, 11, 12])"
      ]
     },
     "execution_count": 68,
     "metadata": {},
     "output_type": "execute_result"
    }
   ],
   "source": [
    "np.arange(1, 13)"
   ]
  },
  {
   "cell_type": "code",
   "execution_count": 88,
   "id": "08053585-fdb1-43e0-a7ff-88aaa3c453d1",
   "metadata": {},
   "outputs": [
    {
     "data": {
      "text/plain": [
       "array([[ 1,  2,  3,  4],\n",
       "       [ 5,  6,  7,  8],\n",
       "       [ 9, 10, 11, 12]])"
      ]
     },
     "execution_count": 88,
     "metadata": {},
     "output_type": "execute_result"
    }
   ],
   "source": [
    "np.arange(1,13).reshape(3, 4)"
   ]
  },
  {
   "cell_type": "code",
   "execution_count": 73,
   "id": "50c2f693-4cfb-43ed-b61f-b3e570bcf306",
   "metadata": {},
   "outputs": [
    {
     "data": {
      "text/plain": [
       "array([[0, 1, 2],\n",
       "       [3, 4, 5]])"
      ]
     },
     "execution_count": 73,
     "metadata": {},
     "output_type": "execute_result"
    }
   ],
   "source": [
    "arr.reshape(2,3)"
   ]
  },
  {
   "cell_type": "code",
   "execution_count": 74,
   "id": "73634c0f-eaeb-4e77-9dcf-b52eb8a3bf26",
   "metadata": {},
   "outputs": [
    {
     "ename": "ValueError",
     "evalue": "cannot reshape array of size 12 into shape (1,16)",
     "output_type": "error",
     "traceback": [
      "\u001b[1;31m---------------------------------------------------------------------------\u001b[0m",
      "\u001b[1;31mValueError\u001b[0m                                Traceback (most recent call last)",
      "Cell \u001b[1;32mIn[74], line 1\u001b[0m\n\u001b[1;32m----> 1\u001b[0m np\u001b[38;5;241m.\u001b[39marange(\u001b[38;5;241m1\u001b[39m, \u001b[38;5;241m13\u001b[39m)\u001b[38;5;241m.\u001b[39mreshape(\u001b[38;5;241m1\u001b[39m, \u001b[38;5;241m16\u001b[39m)\n",
      "\u001b[1;31mValueError\u001b[0m: cannot reshape array of size 12 into shape (1,16)"
     ]
    }
   ],
   "source": [
    "np.arange(1, 13).reshape(1, 16)"
   ]
  },
  {
   "cell_type": "code",
   "execution_count": 75,
   "id": "fbf3cabd-f336-4b1e-9cf8-7f7750bc4470",
   "metadata": {},
   "outputs": [
    {
     "data": {
      "text/plain": [
       "array([[ 1,  2,  3,  4,  5,  6,  7,  8,  9, 10, 11, 12]])"
      ]
     },
     "execution_count": 75,
     "metadata": {},
     "output_type": "execute_result"
    }
   ],
   "source": [
    "np.arange(1, 13).reshape(1,12)"
   ]
  },
  {
   "cell_type": "code",
   "execution_count": 76,
   "id": "e6189fa6-1444-4ca0-9a7c-3d9b9ca55d3b",
   "metadata": {},
   "outputs": [
    {
     "data": {
      "text/plain": [
       "array([[ 1],\n",
       "       [ 2],\n",
       "       [ 3],\n",
       "       [ 4],\n",
       "       [ 5],\n",
       "       [ 6],\n",
       "       [ 7],\n",
       "       [ 8],\n",
       "       [ 9],\n",
       "       [10],\n",
       "       [11],\n",
       "       [12]])"
      ]
     },
     "execution_count": 76,
     "metadata": {},
     "output_type": "execute_result"
    }
   ],
   "source": [
    "np.arange(1, 13).reshape(12, 1)"
   ]
  },
  {
   "cell_type": "markdown",
   "id": "958b0ac2-51d1-4292-8652-02d8c14f79a1",
   "metadata": {},
   "source": [
    "## `Slicing in matrix`"
   ]
  },
  {
   "cell_type": "code",
   "execution_count": 77,
   "id": "1668d299-95fb-48dc-8aab-54b0794a5422",
   "metadata": {},
   "outputs": [
    {
     "data": {
      "text/plain": [
       "array([[12, 13, 16, 16],\n",
       "       [13, 14, 14, 12],\n",
       "       [15, 16, 18, 11],\n",
       "       [10, 10, 12, 10],\n",
       "       [16, 14, 18, 19]], dtype=int32)"
      ]
     },
     "execution_count": 77,
     "metadata": {},
     "output_type": "execute_result"
    }
   ],
   "source": [
    "b = np.random.randint(10, 20, (5, 4))\n",
    "b"
   ]
  },
  {
   "cell_type": "code",
   "execution_count": 78,
   "id": "03513b7c-9d11-45d8-bc52-d13ea9eabd6b",
   "metadata": {},
   "outputs": [
    {
     "data": {
      "text/plain": [
       "numpy.ndarray"
      ]
     },
     "execution_count": 78,
     "metadata": {},
     "output_type": "execute_result"
    }
   ],
   "source": [
    "type(b)"
   ]
  },
  {
   "cell_type": "code",
   "execution_count": 80,
   "id": "29b41ec6-53a5-47f9-a6cb-8ba9c4256710",
   "metadata": {},
   "outputs": [
    {
     "data": {
      "text/plain": [
       "array([[12, 13, 16, 16],\n",
       "       [13, 14, 14, 12],\n",
       "       [15, 16, 18, 11],\n",
       "       [10, 10, 12, 10],\n",
       "       [16, 14, 18, 19]], dtype=int32)"
      ]
     },
     "execution_count": 80,
     "metadata": {},
     "output_type": "execute_result"
    }
   ],
   "source": [
    "b[:]"
   ]
  },
  {
   "cell_type": "code",
   "execution_count": 81,
   "id": "8968d354-b0bf-458e-8f00-240ac803625d",
   "metadata": {},
   "outputs": [
    {
     "data": {
      "text/plain": [
       "array([12, 13, 16, 16], dtype=int32)"
      ]
     },
     "execution_count": 81,
     "metadata": {},
     "output_type": "execute_result"
    }
   ],
   "source": [
    "b[0]"
   ]
  },
  {
   "cell_type": "code",
   "execution_count": 84,
   "id": "ae8fd3a1-c5c8-4cc9-9e31-26aaa9edfe79",
   "metadata": {},
   "outputs": [
    {
     "data": {
      "text/plain": [
       "np.int32(16)"
      ]
     },
     "execution_count": 84,
     "metadata": {},
     "output_type": "execute_result"
    }
   ],
   "source": [
    "b[0][3]"
   ]
  },
  {
   "cell_type": "code",
   "execution_count": null,
   "id": "8e8b0276-2fe5-4367-bdb8-1388f7252114",
   "metadata": {},
   "outputs": [],
   "source": []
  },
  {
   "cell_type": "code",
   "execution_count": null,
   "id": "817ecf85-c9ca-4aa4-b99d-ffe2f18f0262",
   "metadata": {},
   "outputs": [],
   "source": []
  },
  {
   "cell_type": "code",
   "execution_count": null,
   "id": "07e37182-1b71-4ea7-a6ea-d2201ce8e157",
   "metadata": {},
   "outputs": [],
   "source": []
  }
 ],
 "metadata": {
  "kernelspec": {
   "display_name": "Python [conda env:base] *",
   "language": "python",
   "name": "conda-base-py"
  },
  "language_info": {
   "codemirror_mode": {
    "name": "ipython",
    "version": 3
   },
   "file_extension": ".py",
   "mimetype": "text/x-python",
   "name": "python",
   "nbconvert_exporter": "python",
   "pygments_lexer": "ipython3",
   "version": "3.13.5"
  }
 },
 "nbformat": 4,
 "nbformat_minor": 5
}
