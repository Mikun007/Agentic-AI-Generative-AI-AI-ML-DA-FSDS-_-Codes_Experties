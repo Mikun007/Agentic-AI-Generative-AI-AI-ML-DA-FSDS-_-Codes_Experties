{
 "cells": [
  {
   "cell_type": "code",
   "execution_count": 7,
   "id": "0123b1fb-8bbf-4151-b57b-67be9246c3cd",
   "metadata": {},
   "outputs": [
    {
     "data": {
      "text/plain": [
       "'abc def ghi    '"
      ]
     },
     "execution_count": 7,
     "metadata": {},
     "output_type": "execute_result"
    }
   ],
   "source": [
    "txt = \"   abc def ghi    \"\n",
    "txt.lstrip()"
   ]
  },
  {
   "cell_type": "code",
   "execution_count": 9,
   "id": "5a150878-7242-44b7-817a-2b5a3fd8c929",
   "metadata": {},
   "outputs": [
    {
     "data": {
      "text/plain": [
       "'abc def ghi'"
      ]
     },
     "execution_count": 9,
     "metadata": {},
     "output_type": "execute_result"
    }
   ],
   "source": [
    "txt = \"   abc def ghi   \"\n",
    "txt.strip()"
   ]
  },
  {
   "cell_type": "markdown",
   "id": "3027a091-5c27-4868-a810-89c64626d303",
   "metadata": {},
   "source": [
    "## Using Escape Character"
   ]
  },
  {
   "cell_type": "code",
   "execution_count": 10,
   "id": "3a2b5b26-15f3-4c8c-93ab-77a81b18ff10",
   "metadata": {},
   "outputs": [
    {
     "ename": "SyntaxError",
     "evalue": "invalid syntax (1437321561.py, line 2)",
     "output_type": "error",
     "traceback": [
      "\u001b[1;36m  Cell \u001b[1;32mIn[10], line 2\u001b[1;36m\u001b[0m\n\u001b[1;33m    mystr = \"My favorite TV series is\"Game of Thrones\"\"\u001b[0m\n\u001b[1;37m                                      ^\u001b[0m\n\u001b[1;31mSyntaxError\u001b[0m\u001b[1;31m:\u001b[0m invalid syntax\n"
     ]
    }
   ],
   "source": [
    "# Uisng double quotes in the string is not allowed.\n",
    "mystr = \"My favorite TV series is\"Game of Thrones\"\""
   ]
  },
  {
   "cell_type": "markdown",
   "id": "2d0268f2-5675-4c01-a583-954f9e680927",
   "metadata": {},
   "source": [
    "### Using double quoutes (\"\") inside a double quotes can give you error, so to show double quotes inside a double quote string we can use escape character."
   ]
  },
  {
   "cell_type": "code",
   "execution_count": 11,
   "id": "d13da6bd-2d87-4ad7-8fc7-64812d15be5f",
   "metadata": {},
   "outputs": [
    {
     "name": "stdout",
     "output_type": "stream",
     "text": [
      "My favorite series is \"Game of Thrones\"\n"
     ]
    }
   ],
   "source": [
    "#Using escape character to allow illegal Characters\n",
    "mystr = \"My favorite series is \\\"Game of Thrones\\\"\"\n",
    "print(mystr)"
   ]
  },
  {
   "cell_type": "markdown",
   "id": "e95cf4e0-38e8-4919-960f-b4ff756e5e27",
   "metadata": {},
   "source": [
    "# List\n",
    "1. List is an ordered sequence of items.\n",
    "2. We can have different data types under a list. e.g we can have integer, float and string items in a same list."
   ]
  },
  {
   "cell_type": "markdown",
   "id": "70d3318b-9590-43a5-9f93-f178103959d7",
   "metadata": {},
   "source": [
    "### List Creation"
   ]
  },
  {
   "cell_type": "code",
   "execution_count": 12,
   "id": "46998f39-bba0-4946-91b6-821d9af86d51",
   "metadata": {},
   "outputs": [
    {
     "name": "stdout",
     "output_type": "stream",
     "text": [
      "<class 'list'>\n"
     ]
    }
   ],
   "source": [
    "# An Empty string\n",
    "list1 = []\n",
    "print(type(list1))"
   ]
  },
  {
   "cell_type": "code",
   "execution_count": 13,
   "id": "bfd29229-0111-4394-b1a7-4579c7d7e0ad",
   "metadata": {},
   "outputs": [],
   "source": [
    "list2 = [10, 30, 60] # list of integers numbers\n",
    "list3 = [10.77, 30.66, 60.89] # list of float numbers\n",
    "list4 = ['one', 'two', 'three'] # list of strings"
   ]
  },
  {
   "cell_type": "code",
   "execution_count": 14,
   "id": "9f9d2570-fa48-40f3-a4be-1db99a406368",
   "metadata": {},
   "outputs": [],
   "source": [
    "list5 = ['Mikun', 25, [50,100], [150, 90]] #Nested lists\n",
    "list6 = [100, 'Mikun', 17.765] # list of mixed data types\n",
    "list7 = ['Mikun', 25, [50, 100], [150, 90], {'Alice', 'Bob'}]"
   ]
  },
  {
   "cell_type": "code",
   "execution_count": 15,
   "id": "3a4c1854-9c08-4f8a-b997-8c4224aa9a3a",
   "metadata": {},
   "outputs": [
    {
     "data": {
      "text/plain": [
       "3"
      ]
     },
     "execution_count": 15,
     "metadata": {},
     "output_type": "execute_result"
    }
   ],
   "source": [
    "len(list6) # Length of list"
   ]
  },
  {
   "cell_type": "code",
   "execution_count": 16,
   "id": "7152725c-6c05-4047-a312-05b5d5f1d058",
   "metadata": {},
   "outputs": [
    {
     "name": "stdout",
     "output_type": "stream",
     "text": [
      "10\n",
      "one\n",
      "o\n",
      "three\n",
      "[150, 90]\n"
     ]
    }
   ],
   "source": [
    "print(list2[0])\n",
    "print(list4[0])\n",
    "print(list4[0][0])\n",
    "print(list4[-1])\n",
    "print(list5[-1])"
   ]
  },
  {
   "cell_type": "markdown",
   "id": "8aec2ca2-5063-4c20-a29c-8b3198894703",
   "metadata": {},
   "source": [
    "# List Slicing"
   ]
  },
  {
   "cell_type": "code",
   "execution_count": 17,
   "id": "53860ab9-24c0-41ce-8e59-63dfc39b44cf",
   "metadata": {},
   "outputs": [
    {
     "data": {
      "text/plain": [
       "['one', 'two', 'three', 'four', 'five', 'six', 'seven', 'eight']"
      ]
     },
     "execution_count": 17,
     "metadata": {},
     "output_type": "execute_result"
    }
   ],
   "source": [
    "mylist = ['one', 'two', 'three', 'four', 'five', 'six', 'seven', 'eight']\n",
    "mylist"
   ]
  },
  {
   "cell_type": "code",
   "execution_count": 20,
   "id": "b36d91ad-2950-489b-a11c-8afa6630f3f3",
   "metadata": {},
   "outputs": [
    {
     "data": {
      "text/plain": [
       "['one', 'two', 'three']"
      ]
     },
     "execution_count": 20,
     "metadata": {},
     "output_type": "execute_result"
    }
   ],
   "source": [
    "mylist[0:3] # Returns all items between 0 and 3 means index(0, 1, 2)"
   ]
  },
  {
   "cell_type": "code",
   "execution_count": 21,
   "id": "6749003f-fe35-4b64-83ff-8528050e3446",
   "metadata": {},
   "outputs": [
    {
     "data": {
      "text/plain": [
       "['three', 'four', 'five']"
      ]
     },
     "execution_count": 21,
     "metadata": {},
     "output_type": "execute_result"
    }
   ],
   "source": [
    "mylist[2:5] # Returns all items between 2 and 5 means index(2, 3, 4)"
   ]
  },
  {
   "cell_type": "code",
   "execution_count": 22,
   "id": "950f68a1-c18c-4cae-bae0-3bfd6b648c07",
   "metadata": {},
   "outputs": [
    {
     "data": {
      "text/plain": [
       "['one', 'two', 'three']"
      ]
     },
     "execution_count": 22,
     "metadata": {},
     "output_type": "execute_result"
    }
   ],
   "source": [
    "mylist[:3] # Returns first 3 element"
   ]
  },
  {
   "cell_type": "code",
   "execution_count": 23,
   "id": "bc53aa55-642e-499e-a239-955a56370b88",
   "metadata": {},
   "outputs": [
    {
     "data": {
      "text/plain": [
       "['six', 'seven', 'eight']"
      ]
     },
     "execution_count": 23,
     "metadata": {},
     "output_type": "execute_result"
    }
   ],
   "source": [
    "mylist[-3:] # Returns last 3 element"
   ]
  },
  {
   "cell_type": "code",
   "execution_count": 24,
   "id": "1692c1fc-b247-4abf-8735-b133427fdbb9",
   "metadata": {},
   "outputs": [
    {
     "data": {
      "text/plain": [
       "['seven', 'eight']"
      ]
     },
     "execution_count": 24,
     "metadata": {},
     "output_type": "execute_result"
    }
   ],
   "source": [
    "mylist[-2:] # Returns last 2 element"
   ]
  },
  {
   "cell_type": "code",
   "execution_count": 26,
   "id": "a2ac3824-81fe-42a3-871a-295c88c03655",
   "metadata": {},
   "outputs": [
    {
     "name": "stdout",
     "output_type": "stream",
     "text": [
      "This returns last element: eight\n",
      "This returns all element: ['one', 'two', 'three', 'four', 'five', 'six', 'seven', 'eight']\n"
     ]
    }
   ],
   "source": [
    "print(f\"This returns last element: {mylist[-1]}\") # Returns last item of the list\n",
    "print(f\"This returns all element: {mylist[:]}\") # Returns whole list"
   ]
  },
  {
   "cell_type": "markdown",
   "id": "367dd150-21d4-4ea7-89a6-9ddbd8579b5f",
   "metadata": {},
   "source": [
    "# Add, Remove & Change Items"
   ]
  },
  {
   "cell_type": "code",
   "execution_count": 27,
   "id": "a12d4ff7-6c9f-44d5-b303-3cc50154db7d",
   "metadata": {},
   "outputs": [
    {
     "data": {
      "text/plain": [
       "['one', 'two', 'three', 'four', 'five', 'six', 'seven', 'eight']"
      ]
     },
     "execution_count": 27,
     "metadata": {},
     "output_type": "execute_result"
    }
   ],
   "source": [
    "mylist"
   ]
  },
  {
   "cell_type": "markdown",
   "id": "b61d21a9-978d-417b-9019-0b4b6fe45432",
   "metadata": {},
   "source": [
    "### .append() -> adds the item to the end of the list"
   ]
  },
  {
   "cell_type": "code",
   "execution_count": 28,
   "id": "43201408-163a-4221-b942-a3056d64d6a5",
   "metadata": {},
   "outputs": [
    {
     "data": {
      "text/plain": [
       "['one', 'two', 'three', 'four', 'five', 'six', 'seven', 'eight', 'nine']"
      ]
     },
     "execution_count": 28,
     "metadata": {},
     "output_type": "execute_result"
    }
   ],
   "source": [
    "mylist.append('nine')\n",
    "mylist"
   ]
  },
  {
   "cell_type": "markdown",
   "id": "0286706b-4bcb-463b-ba58-d2481005ee17",
   "metadata": {},
   "source": [
    "### .insert(index, value) -> adds the item to dedicated index"
   ]
  },
  {
   "cell_type": "code",
   "execution_count": 29,
   "id": "738f7150-6209-4744-8ed2-3db9a52d4898",
   "metadata": {},
   "outputs": [
    {
     "data": {
      "text/plain": [
       "['one', 'two', 'three', 'four', 'five', 'six', 'seven', 'eight', 'nine', 'ten']"
      ]
     },
     "execution_count": 29,
     "metadata": {},
     "output_type": "execute_result"
    }
   ],
   "source": [
    "mylist.insert(9, 'ten')\n",
    "mylist"
   ]
  },
  {
   "cell_type": "code",
   "execution_count": 30,
   "id": "c8a1104b-9e6d-4766-92cb-f32e2b0073df",
   "metadata": {},
   "outputs": [
    {
     "data": {
      "text/plain": [
       "['one',\n",
       " 'ONE',\n",
       " 'two',\n",
       " 'three',\n",
       " 'four',\n",
       " 'five',\n",
       " 'six',\n",
       " 'seven',\n",
       " 'eight',\n",
       " 'nine',\n",
       " 'ten']"
      ]
     },
     "execution_count": 30,
     "metadata": {},
     "output_type": "execute_result"
    }
   ],
   "source": [
    "mylist.insert(1, 'ONE') # Add item at index location 1\n",
    "mylist"
   ]
  },
  {
   "cell_type": "markdown",
   "id": "5417de5b-3a1e-4b59-8499-86c1a5399f2e",
   "metadata": {},
   "source": [
    "### .remove(value) -> removes the first given value from the list"
   ]
  },
  {
   "cell_type": "code",
   "execution_count": 31,
   "id": "b64ba29b-b099-480e-85e3-c1d3e838e9ec",
   "metadata": {},
   "outputs": [
    {
     "data": {
      "text/plain": [
       "['one', 'two', 'three', 'four', 'five', 'six', 'seven', 'eight', 'nine', 'ten']"
      ]
     },
     "execution_count": 31,
     "metadata": {},
     "output_type": "execute_result"
    }
   ],
   "source": [
    "mylist.remove('ONE') # Remove item 'ONE'\n",
    "mylist"
   ]
  },
  {
   "cell_type": "markdown",
   "id": "ba172578-1de6-4b32-94fd-90991403996e",
   "metadata": {},
   "source": [
    "### .pop() -> removes last items of the list"
   ]
  },
  {
   "cell_type": "code",
   "execution_count": 32,
   "id": "41a8412f-714f-43a0-a896-bbfe30db20c5",
   "metadata": {},
   "outputs": [
    {
     "data": {
      "text/plain": [
       "['one', 'two', 'three', 'four', 'five', 'six', 'seven', 'eight', 'nine']"
      ]
     },
     "execution_count": 32,
     "metadata": {},
     "output_type": "execute_result"
    }
   ],
   "source": [
    "mylist.pop() # Remove last items of the lsit\n",
    "mylist"
   ]
  },
  {
   "cell_type": "markdown",
   "id": "d651f67d-cb02-489e-920b-55c69aa1b7c7",
   "metadata": {},
   "source": [
    "### .pop(index) -> remoes the value based on the given index from the list"
   ]
  },
  {
   "cell_type": "code",
   "execution_count": 33,
   "id": "f912458a-1de6-42ed-b330-8dc72d8c7bd2",
   "metadata": {},
   "outputs": [
    {
     "data": {
      "text/plain": [
       "['one', 'two', 'three', 'four', 'five', 'six', 'seven', 'eight']"
      ]
     },
     "execution_count": 33,
     "metadata": {},
     "output_type": "execute_result"
    }
   ],
   "source": [
    "mylist.pop(8) # Remove item at index location 8\n",
    "mylist"
   ]
  },
  {
   "cell_type": "code",
   "execution_count": 34,
   "id": "66cff9fd-973f-4d14-98f6-0bec3a7e954f",
   "metadata": {},
   "outputs": [
    {
     "data": {
      "text/plain": [
       "['one', 'two', 'three', 'four', 'five', 'six', 'seven']"
      ]
     },
     "execution_count": 34,
     "metadata": {},
     "output_type": "execute_result"
    }
   ],
   "source": [
    "del mylist[7] # Remove item at index location 7\n",
    "mylist"
   ]
  },
  {
   "cell_type": "markdown",
   "id": "f9b5351d-f275-4709-b015-120938bbf98b",
   "metadata": {},
   "source": [
    "### How to change one index value from the list\n",
    "\n",
    "`Note: Please notice in: `\n",
    "* `.insert() -> the item in that index previous is'nt removed rather there in upper index`\n",
    "* `mylist[0] -> this actually changes the given index value so previous value is removed from that index`"
   ]
  },
  {
   "cell_type": "code",
   "execution_count": 35,
   "id": "3386c2b7-0bf7-4329-9701-07392dba8ed4",
   "metadata": {},
   "outputs": [
    {
     "data": {
      "text/plain": [
       "[1, 2, 3, 'four', 'five', 'six', 'seven']"
      ]
     },
     "execution_count": 35,
     "metadata": {},
     "output_type": "execute_result"
    }
   ],
   "source": [
    "# change value of the string\n",
    "mylist[0] = 1\n",
    "mylist[1] = 2\n",
    "mylist[2] = 3\n",
    "mylist"
   ]
  },
  {
   "cell_type": "code",
   "execution_count": 36,
   "id": "f4d3239d-4c84-42f2-a16f-e196e2dd19bd",
   "metadata": {},
   "outputs": [
    {
     "data": {
      "text/plain": [
       "[]"
      ]
     },
     "execution_count": 36,
     "metadata": {},
     "output_type": "execute_result"
    }
   ],
   "source": [
    "mylist.clear() # Empty list / Delete all items in the list\n",
    "mylist"
   ]
  },
  {
   "cell_type": "code",
   "execution_count": 38,
   "id": "fcfb7b67-4207-4962-bc2b-cabc6111eb1f",
   "metadata": {},
   "outputs": [
    {
     "ename": "NameError",
     "evalue": "name 'mylist' is not defined",
     "output_type": "error",
     "traceback": [
      "\u001b[1;31m---------------------------------------------------------------------------\u001b[0m",
      "\u001b[1;31mNameError\u001b[0m                                 Traceback (most recent call last)",
      "Cell \u001b[1;32mIn[38], line 2\u001b[0m\n\u001b[0;32m      1\u001b[0m \u001b[38;5;28;01mdel\u001b[39;00m mylist \u001b[38;5;66;03m# Delete the whoel list\u001b[39;00m\n\u001b[1;32m----> 2\u001b[0m mylist\n",
      "\u001b[1;31mNameError\u001b[0m: name 'mylist' is not defined"
     ]
    }
   ],
   "source": [
    "del mylist # Delete the whoel list\n",
    "mylist"
   ]
  },
  {
   "cell_type": "markdown",
   "id": "81d7af08-a0f4-43bb-b580-c8f17c8bc3cb",
   "metadata": {},
   "source": [
    "## Copy List"
   ]
  },
  {
   "cell_type": "code",
   "execution_count": 40,
   "id": "186b8188-a988-4eac-9501-22fd4643e5ea",
   "metadata": {},
   "outputs": [],
   "source": [
    "mylist = ['one', 'two', 'three', 'four', 'five', 'six', 'seven', 'eight', 'nine']"
   ]
  },
  {
   "cell_type": "code",
   "execution_count": 41,
   "id": "fa428392-18f4-4f36-90b3-cd5ceca2e84e",
   "metadata": {},
   "outputs": [],
   "source": [
    "mylist1 = mylist # Create a new reference 'mylist1'"
   ]
  },
  {
   "cell_type": "code",
   "execution_count": 43,
   "id": "48699064-994b-4d54-94fb-2ce5c44ba518",
   "metadata": {},
   "outputs": [
    {
     "name": "stdout",
     "output_type": "stream",
     "text": [
      "1705895837056 1705895837056\n"
     ]
    }
   ],
   "source": [
    "print(id(mylist), id(mylist1)) # The address of both mylist and mylist1 will be same"
   ]
  },
  {
   "cell_type": "code",
   "execution_count": 44,
   "id": "eb64befa-d123-4045-945d-03324f111cbb",
   "metadata": {},
   "outputs": [],
   "source": [
    "mylist2 = mylist.copy() # Create a copy of the list"
   ]
  },
  {
   "cell_type": "code",
   "execution_count": 45,
   "id": "b18215d8-f9db-41d9-9d0e-ac7042450170",
   "metadata": {},
   "outputs": [
    {
     "data": {
      "text/plain": [
       "1705899811456"
      ]
     },
     "execution_count": 45,
     "metadata": {},
     "output_type": "execute_result"
    }
   ],
   "source": [
    "id(mylist2) # The address of mylist will be different from mylist because mylist2 has copied the value"
   ]
  },
  {
   "cell_type": "code",
   "execution_count": 46,
   "id": "3980643d-b406-4fe2-bf87-e900367437a2",
   "metadata": {},
   "outputs": [
    {
     "data": {
      "text/plain": [
       "[1, 'two', 'three', 'four', 'five', 'six', 'seven', 'eight', 'nine']"
      ]
     },
     "execution_count": 46,
     "metadata": {},
     "output_type": "execute_result"
    }
   ],
   "source": [
    "mylist[0] = 1\n",
    "mylist"
   ]
  },
  {
   "cell_type": "code",
   "execution_count": 47,
   "id": "2b723ccf-a71a-4b7c-a69e-74136979addb",
   "metadata": {},
   "outputs": [
    {
     "data": {
      "text/plain": [
       "[1, 'two', 'three', 'four', 'five', 'six', 'seven', 'eight', 'nine']"
      ]
     },
     "execution_count": 47,
     "metadata": {},
     "output_type": "execute_result"
    }
   ],
   "source": [
    "mylist1 # mylist 1 will be also impacted as it is pointing to the same address of the list"
   ]
  },
  {
   "cell_type": "code",
   "execution_count": 48,
   "id": "93710f81-b4cf-4f50-b6f1-464bc17c6ea8",
   "metadata": {},
   "outputs": [
    {
     "data": {
      "text/plain": [
       "[1, 2, 'three', 'four', 'five', 'six', 'seven', 'eight', 'nine']"
      ]
     },
     "execution_count": 48,
     "metadata": {},
     "output_type": "execute_result"
    }
   ],
   "source": [
    "mylist1[1] = 2\n",
    "mylist1"
   ]
  },
  {
   "cell_type": "code",
   "execution_count": 49,
   "id": "b988de8a-e9a8-4d71-9535-f3da4ca474b1",
   "metadata": {},
   "outputs": [
    {
     "data": {
      "text/plain": [
       "[1, 2, 'three', 'four', 'five', 'six', 'seven', 'eight', 'nine']"
      ]
     },
     "execution_count": 49,
     "metadata": {},
     "output_type": "execute_result"
    }
   ],
   "source": [
    "mylist"
   ]
  },
  {
   "cell_type": "code",
   "execution_count": 52,
   "id": "a7511c82-2685-43e2-be32-998b5222934f",
   "metadata": {},
   "outputs": [
    {
     "data": {
      "text/plain": [
       "['one', 'two', 'three', 'four', 'five', 'six', 'seven', 'eight', 'nine']"
      ]
     },
     "execution_count": 52,
     "metadata": {},
     "output_type": "execute_result"
    }
   ],
   "source": [
    "mylist2 # mylist two is not affected because the list address is different"
   ]
  },
  {
   "cell_type": "markdown",
   "id": "9e19b0d8-f91c-45a8-86b7-bb77cb6975a1",
   "metadata": {},
   "source": [
    "### Join Lists"
   ]
  },
  {
   "cell_type": "code",
   "execution_count": 53,
   "id": "37c24fe3-0000-494d-ac58-210d907c9d29",
   "metadata": {},
   "outputs": [],
   "source": [
    "list1 = ['one', 'two', 'three', 'four']\n",
    "list2 = ['five', 'six', 'seven', 'eight']"
   ]
  },
  {
   "cell_type": "code",
   "execution_count": 54,
   "id": "b99c81a6-5585-46ba-b6a7-589e7827e007",
   "metadata": {},
   "outputs": [
    {
     "data": {
      "text/plain": [
       "['one', 'two', 'three', 'four', 'five', 'six', 'seven', 'eight']"
      ]
     },
     "execution_count": 54,
     "metadata": {},
     "output_type": "execute_result"
    }
   ],
   "source": [
    "list3 = list1+list2 # Join two lists by '+' operator\n",
    "list3"
   ]
  },
  {
   "cell_type": "code",
   "execution_count": 55,
   "id": "eb7453bd-8e01-49d0-8323-c38a6588cc85",
   "metadata": {},
   "outputs": [
    {
     "data": {
      "text/plain": [
       "['one', 'two', 'three', 'four', 'five', 'six', 'seven', 'eight']"
      ]
     },
     "execution_count": 55,
     "metadata": {},
     "output_type": "execute_result"
    }
   ],
   "source": [
    "list1.extend(list2) # Append lsit2 with list1\n",
    "list1"
   ]
  },
  {
   "cell_type": "markdown",
   "id": "008d1bb9-13bd-48d8-8547-65fdafe431a4",
   "metadata": {},
   "source": [
    "## List Membership"
   ]
  },
  {
   "cell_type": "code",
   "execution_count": 56,
   "id": "e41bc98e-dbb5-4c52-a817-85aa51843490",
   "metadata": {},
   "outputs": [
    {
     "data": {
      "text/plain": [
       "['one', 'two', 'three', 'four', 'five', 'six', 'seven', 'eight']"
      ]
     },
     "execution_count": 56,
     "metadata": {},
     "output_type": "execute_result"
    }
   ],
   "source": [
    "list1"
   ]
  },
  {
   "cell_type": "code",
   "execution_count": 57,
   "id": "1e3d3d98-e3f6-442d-87cb-c2961661782a",
   "metadata": {},
   "outputs": [
    {
     "data": {
      "text/plain": [
       "True"
      ]
     },
     "execution_count": 57,
     "metadata": {},
     "output_type": "execute_result"
    }
   ],
   "source": [
    "'one' in list1 # Check if 'one' exist in the list"
   ]
  },
  {
   "cell_type": "code",
   "execution_count": 58,
   "id": "a426215a-3e2f-423e-83cf-bbbb463a22f6",
   "metadata": {},
   "outputs": [
    {
     "data": {
      "text/plain": [
       "False"
      ]
     },
     "execution_count": 58,
     "metadata": {},
     "output_type": "execute_result"
    }
   ],
   "source": [
    "'ten' in list1 # Check if 'ten' exist in the list"
   ]
  },
  {
   "cell_type": "code",
   "execution_count": 60,
   "id": "b521e245-5542-486c-a502-74b6080c883d",
   "metadata": {},
   "outputs": [
    {
     "name": "stdout",
     "output_type": "stream",
     "text": [
      "Three is present in the list\n"
     ]
    }
   ],
   "source": [
    "if 'three' in list1: # Check if 'three' exist in the lsit\n",
    "    print('Three is present in the list')\n",
    "else:\n",
    "    print(\"Three is not present in the list\")"
   ]
  },
  {
   "cell_type": "code",
   "execution_count": 61,
   "id": "a8b00932-909c-4c02-8574-e3d176b0de29",
   "metadata": {},
   "outputs": [
    {
     "name": "stdout",
     "output_type": "stream",
     "text": [
      "eleven not present in the list\n"
     ]
    }
   ],
   "source": [
    "if 'elevent' in list1: # Check if 'elevent exist in the list\n",
    "    print('eleven present in the list')\n",
    "else:\n",
    "    print('eleven not present in the list')"
   ]
  },
  {
   "cell_type": "markdown",
   "id": "d074636f-cba3-4435-ade6-ffb4b4898c41",
   "metadata": {},
   "source": [
    "## Reverse & Sort List"
   ]
  },
  {
   "cell_type": "markdown",
   "id": "069cbe95-8cc2-42ee-9c9e-28fc6ffcf62f",
   "metadata": {},
   "source": [
    "`.reverse()`"
   ]
  },
  {
   "cell_type": "code",
   "execution_count": 62,
   "id": "df73b596-39d6-49f9-a40a-f94910241c2f",
   "metadata": {},
   "outputs": [
    {
     "data": {
      "text/plain": [
       "['one', 'two', 'three', 'four', 'five', 'six', 'seven', 'eight']"
      ]
     },
     "execution_count": 62,
     "metadata": {},
     "output_type": "execute_result"
    }
   ],
   "source": [
    "list1"
   ]
  },
  {
   "cell_type": "code",
   "execution_count": 63,
   "id": "97bdc0ad-a391-4d5a-a2f3-c4c64f87b912",
   "metadata": {},
   "outputs": [
    {
     "data": {
      "text/plain": [
       "['eight', 'seven', 'six', 'five', 'four', 'three', 'two', 'one']"
      ]
     },
     "execution_count": 63,
     "metadata": {},
     "output_type": "execute_result"
    }
   ],
   "source": [
    "list1.reverse() # REverse the lsit\n",
    "list1"
   ]
  },
  {
   "cell_type": "code",
   "execution_count": 64,
   "id": "a0036be5-e440-4608-aaa3-7b076d30389a",
   "metadata": {},
   "outputs": [
    {
     "data": {
      "text/plain": [
       "['one', 'two', 'three', 'four', 'five', 'six', 'seven', 'eight']"
      ]
     },
     "execution_count": 64,
     "metadata": {},
     "output_type": "execute_result"
    }
   ],
   "source": [
    "# Other way of reversing\n",
    "list1  = list1[::-1] \n",
    "list1"
   ]
  },
  {
   "cell_type": "markdown",
   "id": "403596da-770c-4b06-bd44-5c09e6198d93",
   "metadata": {},
   "source": [
    "`.sort() and sorted()`\n",
    "* `.sort() => sorts the original array`\n",
    "* `sorted() => returns the sorted array and doesn't change the original array.`"
   ]
  },
  {
   "cell_type": "code",
   "execution_count": 65,
   "id": "172eedd0-7ac4-4fcc-b2a3-c41b47b347c3",
   "metadata": {},
   "outputs": [
    {
     "data": {
      "text/plain": [
       "[2, 5, 9, 12, 34, 88, 99]"
      ]
     },
     "execution_count": 65,
     "metadata": {},
     "output_type": "execute_result"
    }
   ],
   "source": [
    "mylist3 = [9, 5, 2, 99, 12, 88, 34]\n",
    "mylist3.sort() # Sort list in ascending order\n",
    "mylist3"
   ]
  },
  {
   "cell_type": "code",
   "execution_count": 66,
   "id": "0bdc84d5-15c6-4ddc-ab2b-1de12bb4e80f",
   "metadata": {},
   "outputs": [
    {
     "data": {
      "text/plain": [
       "[99, 88, 34, 12, 9, 5, 2]"
      ]
     },
     "execution_count": 66,
     "metadata": {},
     "output_type": "execute_result"
    }
   ],
   "source": [
    "mylist3 = [9, 5, 2, 99, 12, 88, 34]\n",
    "mylist3.sort(reverse=True) # Sort list in descending order\n",
    "mylist3"
   ]
  },
  {
   "cell_type": "code",
   "execution_count": 67,
   "id": "37a64bc4-7bb3-452f-a785-3f9a321a0dde",
   "metadata": {},
   "outputs": [
    {
     "data": {
      "text/plain": [
       "[11, 21, 33, 65, 88, 98]"
      ]
     },
     "execution_count": 67,
     "metadata": {},
     "output_type": "execute_result"
    }
   ],
   "source": [
    "mylist4 = [88, 65, 33, 21, 11, 98]\n",
    "sorted(mylist4) # It returns a new sorted lsit and doesn't change the original list"
   ]
  },
  {
   "cell_type": "code",
   "execution_count": 68,
   "id": "290d6999-fba5-4a37-928d-47ae05d8e071",
   "metadata": {},
   "outputs": [
    {
     "data": {
      "text/plain": [
       "[88, 65, 33, 21, 11, 98]"
      ]
     },
     "execution_count": 68,
     "metadata": {},
     "output_type": "execute_result"
    }
   ],
   "source": [
    "mylist4"
   ]
  },
  {
   "cell_type": "markdown",
   "id": "25e9b33a-e983-4c6c-8e83-455072d989ef",
   "metadata": {},
   "source": [
    "## Loop through a list"
   ]
  },
  {
   "cell_type": "code",
   "execution_count": 69,
   "id": "7f1f8229-1e89-468e-bcad-f3ef77152f3a",
   "metadata": {},
   "outputs": [
    {
     "data": {
      "text/plain": [
       "['one', 'two', 'three', 'four', 'five', 'six', 'seven', 'eight']"
      ]
     },
     "execution_count": 69,
     "metadata": {},
     "output_type": "execute_result"
    }
   ],
   "source": [
    "list1"
   ]
  },
  {
   "cell_type": "code",
   "execution_count": 70,
   "id": "5773c88f-2b04-4521-b0e8-98af4dfba20f",
   "metadata": {},
   "outputs": [
    {
     "name": "stdout",
     "output_type": "stream",
     "text": [
      "one\n",
      "two\n",
      "three\n",
      "four\n",
      "five\n",
      "six\n",
      "seven\n",
      "eight\n"
     ]
    }
   ],
   "source": [
    "for i in list1:\n",
    "    print(i)"
   ]
  },
  {
   "cell_type": "markdown",
   "id": "4b8ea765-1115-4f11-9687-4aeba472b8d3",
   "metadata": {},
   "source": [
    "`enumerate()`\n",
    "* Here the elements of the list is paired with their index number like (0, 'one')"
   ]
  },
  {
   "cell_type": "code",
   "execution_count": 71,
   "id": "5586f35e-36b6-4b40-9d95-26c035296338",
   "metadata": {},
   "outputs": [
    {
     "name": "stdout",
     "output_type": "stream",
     "text": [
      "(0, 'one')\n",
      "(1, 'two')\n",
      "(2, 'three')\n",
      "(3, 'four')\n",
      "(4, 'five')\n",
      "(5, 'six')\n",
      "(6, 'seven')\n",
      "(7, 'eight')\n"
     ]
    }
   ],
   "source": [
    "for i in enumerate(list1):\n",
    "    print(i)"
   ]
  },
  {
   "cell_type": "markdown",
   "id": "078a4f36-2b1b-4ee7-844c-fb4e0a3f26cb",
   "metadata": {},
   "source": [
    "## Count\n",
    "* list.count(value) will give the number of time the value occured in the given list"
   ]
  },
  {
   "cell_type": "code",
   "execution_count": 72,
   "id": "52e6ac77-8710-4cef-998d-e9a75881efc9",
   "metadata": {},
   "outputs": [
    {
     "data": {
      "text/plain": [
       "['one', 'two', 'three', 'four', 'one', 'one', 'two', 'three']"
      ]
     },
     "execution_count": 72,
     "metadata": {},
     "output_type": "execute_result"
    }
   ],
   "source": [
    "list10 = ['one', 'two', 'three', 'four', 'one', 'one', 'two', 'three']\n",
    "list10"
   ]
  },
  {
   "cell_type": "code",
   "execution_count": 73,
   "id": "fcf0639d-4895-40a4-87f1-b12435230624",
   "metadata": {},
   "outputs": [
    {
     "data": {
      "text/plain": [
       "3"
      ]
     },
     "execution_count": 73,
     "metadata": {},
     "output_type": "execute_result"
    }
   ],
   "source": [
    "list10.count('one') # Number of times items 'one' occured in the list."
   ]
  },
  {
   "cell_type": "code",
   "execution_count": 74,
   "id": "5fa650de-a29b-4e50-ac30-73e1b9762d9e",
   "metadata": {},
   "outputs": [
    {
     "data": {
      "text/plain": [
       "2"
      ]
     },
     "execution_count": 74,
     "metadata": {},
     "output_type": "execute_result"
    }
   ],
   "source": [
    "list10.count('two') "
   ]
  },
  {
   "cell_type": "markdown",
   "id": "ed5ba6ea-d00d-424a-bf6b-a49ef657ce1b",
   "metadata": {},
   "source": [
    "## All / Any\n",
    "The all() method returns:\n",
    "* True - If all elements in a list are true\n",
    "* False - If all element in a list is false\n",
    "\n",
    "The any() function returns True if any element in the list is True. If not, ano() returns False"
   ]
  },
  {
   "cell_type": "code",
   "execution_count": 75,
   "id": "b5786c6f-4b84-4295-ad5d-0fd352b477d0",
   "metadata": {},
   "outputs": [],
   "source": [
    "L1 = [1, 2, 3, 4, 0]"
   ]
  },
  {
   "cell_type": "code",
   "execution_count": 76,
   "id": "6b5d2739-9d75-4e11-b60e-0b3c3e34ea4d",
   "metadata": {},
   "outputs": [
    {
     "data": {
      "text/plain": [
       "False"
      ]
     },
     "execution_count": 76,
     "metadata": {},
     "output_type": "execute_result"
    }
   ],
   "source": [
    "all(L1) # Will return false as one value is false (value 0)"
   ]
  },
  {
   "cell_type": "code",
   "execution_count": 77,
   "id": "4b6572dd-0c63-4c85-a6c5-4cd9da8e429e",
   "metadata": {},
   "outputs": [
    {
     "data": {
      "text/plain": [
       "True"
      ]
     },
     "execution_count": 77,
     "metadata": {},
     "output_type": "execute_result"
    }
   ],
   "source": [
    "any(L1) # Will return Treu as we hve items in teh list with True value"
   ]
  },
  {
   "cell_type": "code",
   "execution_count": 78,
   "id": "27342f9d-6c75-4b50-83ce-ccc8489ded5f",
   "metadata": {},
   "outputs": [],
   "source": [
    "L2 = [1, 2, 3, 4, True, False]"
   ]
  },
  {
   "cell_type": "code",
   "execution_count": 79,
   "id": "be7d7f86-4899-411b-a9fe-d2199ef8a397",
   "metadata": {},
   "outputs": [
    {
     "data": {
      "text/plain": [
       "False"
      ]
     },
     "execution_count": 79,
     "metadata": {},
     "output_type": "execute_result"
    }
   ],
   "source": [
    "all(L2) # Returns false as one value is false"
   ]
  },
  {
   "cell_type": "code",
   "execution_count": null,
   "id": "c163db4f-91f7-450e-bf08-cbceea2e107f",
   "metadata": {},
   "outputs": [],
   "source": [
    "any(L2) # @ill Return Treu as we have items "
   ]
  }
 ],
 "metadata": {
  "kernelspec": {
   "display_name": "Python [conda env:base] *",
   "language": "python",
   "name": "conda-base-py"
  },
  "language_info": {
   "codemirror_mode": {
    "name": "ipython",
    "version": 3
   },
   "file_extension": ".py",
   "mimetype": "text/x-python",
   "name": "python",
   "nbconvert_exporter": "python",
   "pygments_lexer": "ipython3",
   "version": "3.13.5"
  }
 },
 "nbformat": 4,
 "nbformat_minor": 5
}
