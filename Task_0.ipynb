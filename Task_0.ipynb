{
 "cells": [
  {
   "cell_type": "markdown",
   "id": "34f9ce79-95de-4ced-8db6-8361b560f7a3",
   "metadata": {},
   "source": [
    "## Data type Assignment"
   ]
  },
  {
   "cell_type": "code",
   "execution_count": 2,
   "id": "463d3aeb-6e55-4b0a-81d6-8c111ee328da",
   "metadata": {},
   "outputs": [
    {
     "name": "stdout",
     "output_type": "stream",
     "text": [
      "20 <class 'int'> 0x7ff9de0cb608\n"
     ]
    }
   ],
   "source": [
    "p =20\n",
    "q = 20\n",
    "r = q\n",
    "\n",
    "print(p, type(p), hex(id(p))) # Here id(p)-> address of p in integer format\n",
    "                              # hex() -> convert the integer to the address"
   ]
  },
  {
   "cell_type": "code",
   "execution_count": 3,
   "id": "45c498cb-e828-40ec-9910-328339ec3213",
   "metadata": {},
   "outputs": [
    {
     "name": "stdout",
     "output_type": "stream",
     "text": [
      "20 <class 'int'> 0x7ff9de0cb608\n"
     ]
    }
   ],
   "source": [
    "print(q, type(q), hex(id(q)))"
   ]
  },
  {
   "cell_type": "code",
   "execution_count": 4,
   "id": "e49e6e29-cdab-4040-ad70-0d6ac56e1288",
   "metadata": {},
   "outputs": [
    {
     "name": "stdout",
     "output_type": "stream",
     "text": [
      "20 <class 'int'> 0x7ff9de0cb608\n"
     ]
    }
   ],
   "source": [
    "print(r, type(r), hex(id(r)))"
   ]
  },
  {
   "cell_type": "markdown",
   "id": "1f098929-5d84-45c2-8d69-0328e64c750f",
   "metadata": {},
   "source": [
    "## Variable Assignment"
   ]
  },
  {
   "cell_type": "code",
   "execution_count": 5,
   "id": "937943ef-8607-4390-be03-655cf6b36c6e",
   "metadata": {},
   "outputs": [
    {
     "name": "stdout",
     "output_type": "stream",
     "text": [
      "10\n",
      "2.57\n",
      "Python Language\n"
     ]
    }
   ],
   "source": [
    "intvar = 10\n",
    "floatvar = 2.57\n",
    "strvar = \"Python Language\"\n",
    "\n",
    "print(intvar)\n",
    "print(floatvar)\n",
    "print(strvar)"
   ]
  },
  {
   "cell_type": "markdown",
   "id": "9e69462a-66ba-44bc-b045-2246ac9c1a30",
   "metadata": {},
   "source": [
    "## Multiple Assignments"
   ]
  },
  {
   "cell_type": "code",
   "execution_count": 6,
   "id": "43d61334-8c1a-4abd-a350-10192ea09778",
   "metadata": {},
   "outputs": [
    {
     "name": "stdout",
     "output_type": "stream",
     "text": [
      "10\n",
      "2.57\n",
      "Python Language\n"
     ]
    }
   ],
   "source": [
    "intvar, floatvar, strvar = 10, 2.57, \"Python Language\"\n",
    "print(intvar)\n",
    "print(floatvar)\n",
    "print(strvar)"
   ]
  },
  {
   "cell_type": "markdown",
   "id": "505af13d-30bb-4f03-92ce-f0218d500ce5",
   "metadata": {},
   "source": [
    "# Data Types\n",
    "\n",
    "## Numeric"
   ]
  },
  {
   "cell_type": "code",
   "execution_count": 8,
   "id": "ca9e684a-7934-48dd-8528-6e741cf830a1",
   "metadata": {},
   "outputs": [],
   "source": [
    "import sys"
   ]
  },
  {
   "cell_type": "code",
   "execution_count": 10,
   "id": "f2662772-6d21-4e84-bc65-f1882a04bd3d",
   "metadata": {},
   "outputs": [
    {
     "name": "stdout",
     "output_type": "stream",
     "text": [
      "10\n",
      "<class 'int'>\n",
      "28\n",
      "10  is Integer? True\n"
     ]
    }
   ],
   "source": [
    "val1 = 10 # Integer data type\n",
    "print(val1)\n",
    "print(type(val1)) # Object type find using type() function\n",
    "print(sys.getsizeof(val1)) # finding the size of the given object in byte using getsizeof()\n",
    "\n",
    "# Checking if the val1(object) is an instance of int(classinfo)\n",
    "print(val1, \" is Integer?\", isinstance(val1, int))"
   ]
  },
  {
   "cell_type": "code",
   "execution_count": 11,
   "id": "4b0e01a9-39c4-4792-9310-45972c1622e8",
   "metadata": {},
   "outputs": [
    {
     "name": "stdout",
     "output_type": "stream",
     "text": [
      "92.78\n",
      "<class 'float'>\n",
      "24\n",
      "92.78  is float? True\n"
     ]
    }
   ],
   "source": [
    "val2 = 92.78\n",
    "print(val2)\n",
    "print(type(val2))\n",
    "print(sys.getsizeof(val2))\n",
    "print(val2, \" is float?\", isinstance(val2, float))"
   ]
  },
  {
   "cell_type": "code",
   "execution_count": 12,
   "id": "33b2e9ee-7af2-46bf-ad11-0e678f66a4ab",
   "metadata": {},
   "outputs": [
    {
     "name": "stdout",
     "output_type": "stream",
     "text": [
      "(25+10j)\n",
      "<class 'complex'>\n",
      "32\n",
      "(25+10j)  is complex? True\n"
     ]
    }
   ],
   "source": [
    "val3 = 25 + 10J # Complex data type\n",
    "print(val3)\n",
    "print(type(val3))\n",
    "print(sys.getsizeof(val3))\n",
    "print(val3, \" is complex?\", isinstance(val3, complex))"
   ]
  },
  {
   "cell_type": "code",
   "execution_count": 15,
   "id": "aa316f68-4f7a-4b12-b061-502f04a19d77",
   "metadata": {},
   "outputs": [
    {
     "name": "stdout",
     "output_type": "stream",
     "text": [
      "Size of integer object in bytes:  28\n",
      "Size of float object in bytes:  24\n",
      "Size of float complex in bytes:  32\n"
     ]
    }
   ],
   "source": [
    "print(\"Size of integer object in bytes: \", sys.getsizeof(int()))\n",
    "print(\"Size of float object in bytes: \", sys.getsizeof(float()))\n",
    "print(\"Size of float complex in bytes: \", sys.getsizeof(complex()))"
   ]
  },
  {
   "cell_type": "markdown",
   "id": "c5a2aae8-e7ca-4192-8b03-f0ad18a0f6c9",
   "metadata": {},
   "source": [
    "# Boolean\n",
    "\n",
    "Boolean data type can have only two possible values <b>true</b> or <b>false</b>"
   ]
  },
  {
   "cell_type": "code",
   "execution_count": 16,
   "id": "4fa845f1-cb55-4727-a08c-e29f7a1048aa",
   "metadata": {},
   "outputs": [],
   "source": [
    "bool1 = True\n",
    "bool2 = False"
   ]
  },
  {
   "cell_type": "code",
   "execution_count": 18,
   "id": "92c567cc-616b-4a5f-a401-166276cfb393",
   "metadata": {},
   "outputs": [
    {
     "name": "stdout",
     "output_type": "stream",
     "text": [
      "<class 'bool'> <class 'bool'>\n"
     ]
    }
   ],
   "source": [
    "print(type(bool1), type(bool2))"
   ]
  },
  {
   "cell_type": "code",
   "execution_count": 19,
   "id": "9e237960-4445-486c-837c-dd94d84889e0",
   "metadata": {},
   "outputs": [
    {
     "data": {
      "text/plain": [
       "True"
      ]
     },
     "execution_count": 19,
     "metadata": {},
     "output_type": "execute_result"
    }
   ],
   "source": [
    "isinstance(bool1, bool)"
   ]
  },
  {
   "cell_type": "code",
   "execution_count": 20,
   "id": "6e536503-8ee8-44ee-8ca9-8bb3d468988c",
   "metadata": {},
   "outputs": [
    {
     "name": "stdout",
     "output_type": "stream",
     "text": [
      "False True False False\n"
     ]
    }
   ],
   "source": [
    "print(bool(0), bool(1), bool(None), bool(False))"
   ]
  },
  {
   "cell_type": "markdown",
   "id": "4aca9c65-3f62-4428-8ade-fe5452b57848",
   "metadata": {},
   "source": [
    "# String\n",
    "\n",
    "### String Creation"
   ]
  },
  {
   "cell_type": "code",
   "execution_count": 51,
   "id": "ea2e1815-2be1-457c-9435-72ae3fc20666",
   "metadata": {},
   "outputs": [
    {
     "name": "stdout",
     "output_type": "stream",
     "text": [
      "HELLO PYTHON\n"
     ]
    }
   ],
   "source": [
    "str1 = \"HELLO PYTHON\" # String Using double quotes\n",
    "\n",
    "print(str1)"
   ]
  },
  {
   "cell_type": "code",
   "execution_count": 23,
   "id": "ecacc546-6b81-46f5-99cf-61909c4f9afd",
   "metadata": {},
   "outputs": [
    {
     "name": "stdout",
     "output_type": "stream",
     "text": [
      "Hello World\n"
     ]
    }
   ],
   "source": [
    "mystr = \"Hello World\" # String Using single quotes\n",
    "print(mystr)"
   ]
  },
  {
   "cell_type": "code",
   "execution_count": 24,
   "id": "0a2ce1a8-cb44-4aaa-bd48-bac09df3f8f5",
   "metadata": {},
   "outputs": [
    {
     "name": "stdout",
     "output_type": "stream",
     "text": [
      "Hello\n",
      "            World\n"
     ]
    }
   ],
   "source": [
    "mystr = \"\"\"Hello\n",
    "            World\"\"\" # Define string using triple quotes\n",
    "print(mystr)"
   ]
  },
  {
   "cell_type": "code",
   "execution_count": 28,
   "id": "14c23c71-1134-42c8-8d3e-3c964489ef98",
   "metadata": {},
   "outputs": [
    {
     "name": "stdout",
     "output_type": "stream",
     "text": [
      "Happy Diwali Everyone\n"
     ]
    }
   ],
   "source": [
    "mystr = ('Happy '\n",
    "         'Diwali '\n",
    "         'Everyone')\n",
    "print(mystr)"
   ]
  },
  {
   "cell_type": "code",
   "execution_count": 27,
   "id": "a042c63a-ba92-4e75-a3fe-d6859b52ef3e",
   "metadata": {},
   "outputs": [
    {
     "data": {
      "text/plain": [
       "'Hello Hello Hello Hello Hello Hello Hello Hello Hello Hello Hello Hello Hello Hello Hello Hello Hello Hello Hello Hello Hello Hello Hello Hello Hello Hello Hello Hello Hello Hello Hello Hello Hello Hello Hello Hello Hello Hello Hello Hello Hello Hello Hello Hello Hello Hello Hello Hello Hello Hello Hello Hello Hello Hello Hello Hello Hello Hello Hello Hello Hello Hello Hello Hello Hello Hello Hello Hello Hello Hello Hello Hello Hello Hello Hello Hello Hello Hello Hello Hello Hello Hello Hello Hello Hello Hello Hello Hello Hello Hello Hello Hello Hello Hello Hello Hello Hello Hello Hello Hello '"
      ]
     },
     "execution_count": 27,
     "metadata": {},
     "output_type": "execute_result"
    }
   ],
   "source": [
    "mystr2 = 'Hello '\n",
    "mystr2 = mystr2*100\n",
    "mystr2"
   ]
  },
  {
   "cell_type": "code",
   "execution_count": 29,
   "id": "8fa6c91d-c4a6-431f-ba64-c89588012311",
   "metadata": {},
   "outputs": [
    {
     "data": {
      "text/plain": [
       "600"
      ]
     },
     "execution_count": 29,
     "metadata": {},
     "output_type": "execute_result"
    }
   ],
   "source": [
    "len(mystr2) # To find the length of the string"
   ]
  },
  {
   "cell_type": "markdown",
   "id": "3cb55966-ef74-4d12-84e2-f7274383a6de",
   "metadata": {},
   "source": [
    "## String Indexing"
   ]
  },
  {
   "cell_type": "code",
   "execution_count": 30,
   "id": "dec57eae-c2d6-41a9-9f62-c276ed127525",
   "metadata": {},
   "outputs": [
    {
     "data": {
      "text/plain": [
       "'HELLO PYTHON'"
      ]
     },
     "execution_count": 30,
     "metadata": {},
     "output_type": "execute_result"
    }
   ],
   "source": [
    "str1"
   ]
  },
  {
   "cell_type": "code",
   "execution_count": 31,
   "id": "8e1138bb-43f8-4b3a-9ae6-20b5bb844517",
   "metadata": {},
   "outputs": [
    {
     "data": {
      "text/plain": [
       "'H'"
      ]
     },
     "execution_count": 31,
     "metadata": {},
     "output_type": "execute_result"
    }
   ],
   "source": [
    "str1[0] # Gives first character of str1"
   ]
  },
  {
   "cell_type": "code",
   "execution_count": 32,
   "id": "02a26c6b-950f-470b-9e63-3588533eecbc",
   "metadata": {},
   "outputs": [
    {
     "data": {
      "text/plain": [
       "'N'"
      ]
     },
     "execution_count": 32,
     "metadata": {},
     "output_type": "execute_result"
    }
   ],
   "source": [
    "str1[len(str1)-1] # Using len function defining the last character of str1"
   ]
  },
  {
   "cell_type": "code",
   "execution_count": 33,
   "id": "e89cefc0-96c3-4db3-a9eb-b75419205fdc",
   "metadata": {},
   "outputs": [
    {
     "data": {
      "text/plain": [
       "'N'"
      ]
     },
     "execution_count": 33,
     "metadata": {},
     "output_type": "execute_result"
    }
   ],
   "source": [
    "str1[-1] # Other way of finding the last character"
   ]
  },
  {
   "cell_type": "code",
   "execution_count": 34,
   "id": "4ef8be66-57c7-45ae-b335-bc987b5e8273",
   "metadata": {},
   "outputs": [
    {
     "data": {
      "text/plain": [
       "'P'"
      ]
     },
     "execution_count": 34,
     "metadata": {},
     "output_type": "execute_result"
    }
   ],
   "source": [
    "str1[6] # Fectch 7th element of the string"
   ]
  },
  {
   "cell_type": "code",
   "execution_count": 36,
   "id": "1b7cd8cd-b47a-4f97-a7ab-82ddd1750557",
   "metadata": {},
   "outputs": [
    {
     "data": {
      "text/plain": [
       "' '"
      ]
     },
     "execution_count": 36,
     "metadata": {},
     "output_type": "execute_result"
    }
   ],
   "source": [
    "str1[5] # Because there is 'space' at the 6th place"
   ]
  },
  {
   "cell_type": "markdown",
   "id": "667bb61c-8215-4f3a-b7b1-d019dc3079b4",
   "metadata": {},
   "source": [
    "## String Slicing"
   ]
  },
  {
   "cell_type": "code",
   "execution_count": 38,
   "id": "bb41de35-19f8-4e0d-ab69-0c7175ab55d8",
   "metadata": {},
   "outputs": [
    {
     "data": {
      "text/plain": [
       "'HELLO'"
      ]
     },
     "execution_count": 38,
     "metadata": {},
     "output_type": "execute_result"
    }
   ],
   "source": [
    "str1[0:5] # String slicing method -> Fetch all characters from 0 to 4 str1[m: (n-1)]"
   ]
  },
  {
   "cell_type": "code",
   "execution_count": 39,
   "id": "60aa5980-f7ea-47e7-ab8c-5bd1bf55f85c",
   "metadata": {},
   "outputs": [
    {
     "data": {
      "text/plain": [
       "'PYTHON'"
      ]
     },
     "execution_count": 39,
     "metadata": {},
     "output_type": "execute_result"
    }
   ],
   "source": [
    "str1[6: 12]"
   ]
  },
  {
   "cell_type": "code",
   "execution_count": 43,
   "id": "0bc20a38-8732-49e4-be77-23d0d7e0fb65",
   "metadata": {},
   "outputs": [
    {
     "data": {
      "text/plain": [
       "' PYTHON'"
      ]
     },
     "execution_count": 43,
     "metadata": {},
     "output_type": "execute_result"
    }
   ],
   "source": [
    "str1[-7:] # Retreive last 7 characters of the string"
   ]
  },
  {
   "cell_type": "code",
   "execution_count": 44,
   "id": "ad6c6fe7-628e-40b7-9823-c6244caf512a",
   "metadata": {},
   "outputs": [
    {
     "data": {
      "text/plain": [
       "'HELLO '"
      ]
     },
     "execution_count": 44,
     "metadata": {},
     "output_type": "execute_result"
    }
   ],
   "source": [
    "str1[:6] # Retrieve first 6 character"
   ]
  },
  {
   "cell_type": "markdown",
   "id": "308c8d07-a48c-4e0d-856e-41a76b052007",
   "metadata": {},
   "source": [
    "## Update & Delete String"
   ]
  },
  {
   "cell_type": "code",
   "execution_count": 45,
   "id": "8d609162-c33b-4f6b-9757-f614f50fd352",
   "metadata": {},
   "outputs": [
    {
     "data": {
      "text/plain": [
       "'HELLO PYTHON'"
      ]
     },
     "execution_count": 45,
     "metadata": {},
     "output_type": "execute_result"
    }
   ],
   "source": [
    "str1"
   ]
  },
  {
   "cell_type": "code",
   "execution_count": 47,
   "id": "6d85ad93-1c1f-451a-a4aa-dfe0d13d4b67",
   "metadata": {},
   "outputs": [
    {
     "ename": "TypeError",
     "evalue": "'str' object does not support item assignment",
     "output_type": "error",
     "traceback": [
      "\u001b[1;31m---------------------------------------------------------------------------\u001b[0m",
      "\u001b[1;31mTypeError\u001b[0m                                 Traceback (most recent call last)",
      "Cell \u001b[1;32mIn[47], line 2\u001b[0m\n\u001b[0;32m      1\u001b[0m \u001b[38;5;66;03m# Strings are immutable which means elements of a string cannot be changed once it is declared\u001b[39;00m\n\u001b[1;32m----> 2\u001b[0m str1[\u001b[38;5;241m0\u001b[39m:\u001b[38;5;241m5\u001b[39m] \u001b[38;5;241m=\u001b[39m  \u001b[38;5;124m'\u001b[39m\u001b[38;5;124mHOLAA\u001b[39m\u001b[38;5;124m'\u001b[39m\n",
      "\u001b[1;31mTypeError\u001b[0m: 'str' object does not support item assignment"
     ]
    }
   ],
   "source": [
    "# Strings are immutable which means elements of a string cannot be changed once it is declared\n",
    "str1[0:5] =  'HOLAA' # Here we are trying change the element means a substring which can't be possible"
   ]
  },
  {
   "cell_type": "code",
   "execution_count": 48,
   "id": "dc070bae-a411-491a-9861-4c5b2279ecc9",
   "metadata": {},
   "outputs": [
    {
     "ename": "NameError",
     "evalue": "name 'str1' is not defined",
     "output_type": "error",
     "traceback": [
      "\u001b[1;31m---------------------------------------------------------------------------\u001b[0m",
      "\u001b[1;31mNameError\u001b[0m                                 Traceback (most recent call last)",
      "Cell \u001b[1;32mIn[48], line 2\u001b[0m\n\u001b[0;32m      1\u001b[0m \u001b[38;5;28;01mdel\u001b[39;00m str1 \u001b[38;5;66;03m# Delete a string\u001b[39;00m\n\u001b[1;32m----> 2\u001b[0m \u001b[38;5;28mprint\u001b[39m(str1)\n",
      "\u001b[1;31mNameError\u001b[0m: name 'str1' is not defined"
     ]
    }
   ],
   "source": [
    "del str1 # Delete a string\n",
    "print(str1)"
   ]
  },
  {
   "cell_type": "markdown",
   "id": "16d512bd-606b-42c6-8593-05e204b0dd81",
   "metadata": {},
   "source": [
    "## String concatenation"
   ]
  },
  {
   "cell_type": "code",
   "execution_count": 50,
   "id": "ff9f9bb6-12ef-4344-a83c-b73e05ba5745",
   "metadata": {},
   "outputs": [
    {
     "name": "stdout",
     "output_type": "stream",
     "text": [
      "Hello Everyone\n"
     ]
    }
   ],
   "source": [
    "# String concatenation\n",
    "s1 = \"Hello \"\n",
    "s2 = \"Everyone\"\n",
    "s3 = s1 + s2\n",
    "print(s3)"
   ]
  },
  {
   "cell_type": "code",
   "execution_count": null,
   "id": "fc9c35d3-35d9-495b-9a88-8c5dffab071a",
   "metadata": {},
   "outputs": [],
   "source": []
  }
 ],
 "metadata": {
  "kernelspec": {
   "display_name": "Python [conda env:base] *",
   "language": "python",
   "name": "conda-base-py"
  },
  "language_info": {
   "codemirror_mode": {
    "name": "ipython",
    "version": 3
   },
   "file_extension": ".py",
   "mimetype": "text/x-python",
   "name": "python",
   "nbconvert_exporter": "python",
   "pygments_lexer": "ipython3",
   "version": "3.13.5"
  }
 },
 "nbformat": 4,
 "nbformat_minor": 5
}
