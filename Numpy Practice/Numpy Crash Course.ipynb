{
 "cells": [
  {
   "cell_type": "code",
   "execution_count": 3,
   "id": "0d2e694d-f4f7-42ec-9253-1ad261ac1320",
   "metadata": {},
   "outputs": [],
   "source": [
    "import numpy as np"
   ]
  },
  {
   "cell_type": "code",
   "execution_count": 4,
   "id": "ea3795f5-5ce1-4ad5-88d2-cff6d53ff942",
   "metadata": {},
   "outputs": [
    {
     "data": {
      "text/plain": [
       "'2.1.3'"
      ]
     },
     "execution_count": 4,
     "metadata": {},
     "output_type": "execute_result"
    }
   ],
   "source": [
    "np.__version__"
   ]
  },
  {
   "cell_type": "markdown",
   "id": "87adbc84-ad76-48a6-b6e8-709b018013e9",
   "metadata": {},
   "source": [
    "### Creating List"
   ]
  },
  {
   "cell_type": "code",
   "execution_count": 5,
   "id": "c1410449-cb3a-41da-b373-a1ad9b43410e",
   "metadata": {},
   "outputs": [
    {
     "data": {
      "text/plain": [
       "[0, 1, 2, 3, 4, 5]"
      ]
     },
     "execution_count": 5,
     "metadata": {},
     "output_type": "execute_result"
    }
   ],
   "source": [
    "my_list = [0, 1, 2, 3, 4, 5]\n",
    "my_list"
   ]
  },
  {
   "cell_type": "code",
   "execution_count": 6,
   "id": "db51b8e6-c83c-49da-bc85-6188092475a3",
   "metadata": {},
   "outputs": [
    {
     "data": {
      "text/plain": [
       "list"
      ]
     },
     "execution_count": 6,
     "metadata": {},
     "output_type": "execute_result"
    }
   ],
   "source": [
    "type(my_list)"
   ]
  },
  {
   "cell_type": "markdown",
   "id": "d188d017-0281-471c-a1cb-d75f82307de6",
   "metadata": {},
   "source": [
    "### 1-D Array"
   ]
  },
  {
   "cell_type": "code",
   "execution_count": 7,
   "id": "180815a3-6935-4e78-bfa2-366d075566d0",
   "metadata": {},
   "outputs": [
    {
     "data": {
      "text/plain": [
       "array([0, 1, 2, 3, 4, 5])"
      ]
     },
     "execution_count": 7,
     "metadata": {},
     "output_type": "execute_result"
    }
   ],
   "source": [
    "# Converting  list to array\n",
    "arr = np.array(my_list)\n",
    "arr"
   ]
  },
  {
   "cell_type": "code",
   "execution_count": 8,
   "id": "344069df-4637-4261-9286-b3f0b9e83846",
   "metadata": {},
   "outputs": [
    {
     "data": {
      "text/plain": [
       "numpy.ndarray"
      ]
     },
     "execution_count": 8,
     "metadata": {},
     "output_type": "execute_result"
    }
   ],
   "source": [
    "type(arr)"
   ]
  },
  {
   "cell_type": "code",
   "execution_count": 9,
   "id": "223d7c40-435c-4692-9d18-b9fe376e0c61",
   "metadata": {},
   "outputs": [
    {
     "data": {
      "text/plain": [
       "list"
      ]
     },
     "execution_count": 9,
     "metadata": {},
     "output_type": "execute_result"
    }
   ],
   "source": [
    "type(my_list)"
   ]
  },
  {
   "cell_type": "markdown",
   "id": "a0c9231c-3972-475c-b3b1-7e212d63fdca",
   "metadata": {},
   "source": [
    "## `np.arange(start, stop, step)`\n",
    "* similar to range() function where it gives an array instead of a list\n",
    "* gives an evenly spaced values with specified interval"
   ]
  },
  {
   "cell_type": "code",
   "execution_count": 10,
   "id": "bfbd6a7c-c2aa-4dd4-9738-63c29d37ac8b",
   "metadata": {},
   "outputs": [
    {
     "data": {
      "text/plain": [
       "array([0, 1, 2, 3, 4, 5, 6, 7, 8, 9])"
      ]
     },
     "execution_count": 10,
     "metadata": {},
     "output_type": "execute_result"
    }
   ],
   "source": [
    "np.arange(10)"
   ]
  },
  {
   "cell_type": "code",
   "execution_count": 11,
   "id": "4be691f3-450e-40d4-b57b-fd587b3f5358",
   "metadata": {},
   "outputs": [
    {
     "data": {
      "text/plain": [
       "array([ 0,  1,  2,  3,  4,  5,  6,  7,  8,  9, 10, 11, 12, 13, 14, 15, 16,\n",
       "       17, 18, 19])"
      ]
     },
     "execution_count": 11,
     "metadata": {},
     "output_type": "execute_result"
    }
   ],
   "source": [
    "np.arange(20)"
   ]
  },
  {
   "cell_type": "code",
   "execution_count": 12,
   "id": "086ba98b-59cb-44fc-9c6d-88801769805c",
   "metadata": {},
   "outputs": [
    {
     "data": {
      "text/plain": [
       "array([0., 1., 2., 3., 4.])"
      ]
     },
     "execution_count": 12,
     "metadata": {},
     "output_type": "execute_result"
    }
   ],
   "source": [
    "np.arange(5.0)"
   ]
  },
  {
   "cell_type": "code",
   "execution_count": 13,
   "id": "343ccf1f-d4aa-40e1-8227-aed4c90a99b7",
   "metadata": {},
   "outputs": [
    {
     "data": {
      "text/plain": [
       "array([0, 1, 2, 3, 4])"
      ]
     },
     "execution_count": 13,
     "metadata": {},
     "output_type": "execute_result"
    }
   ],
   "source": [
    "np.arange(0, 5)"
   ]
  },
  {
   "cell_type": "code",
   "execution_count": 14,
   "id": "376db517-ca1e-4150-8840-4677be4766ad",
   "metadata": {},
   "outputs": [
    {
     "data": {
      "text/plain": [
       "array([10, 11, 12, 13, 14, 15, 16, 17, 18, 19])"
      ]
     },
     "execution_count": 14,
     "metadata": {},
     "output_type": "execute_result"
    }
   ],
   "source": [
    "np.arange(10, 20)"
   ]
  },
  {
   "cell_type": "code",
   "execution_count": 15,
   "id": "6a859572-237e-4b2b-8d7e-7e3a556468a7",
   "metadata": {},
   "outputs": [
    {
     "data": {
      "text/plain": [
       "array([], dtype=int64)"
      ]
     },
     "execution_count": 15,
     "metadata": {},
     "output_type": "execute_result"
    }
   ],
   "source": [
    "np.arange(20, 10) # 1st arg > 2nd arg"
   ]
  },
  {
   "cell_type": "code",
   "execution_count": 16,
   "id": "ca483f28-b395-406b-95cf-7379f76370f7",
   "metadata": {},
   "outputs": [
    {
     "data": {
      "text/plain": [
       "array([-20, -19, -18, -17, -16, -15, -14, -13, -12, -11, -10,  -9,  -8,\n",
       "        -7,  -6,  -5,  -4,  -3,  -2,  -1,   0,   1,   2,   3,   4,   5,\n",
       "         6,   7,   8,   9])"
      ]
     },
     "execution_count": 16,
     "metadata": {},
     "output_type": "execute_result"
    }
   ],
   "source": [
    "np.arange(-20, 10)"
   ]
  },
  {
   "cell_type": "code",
   "execution_count": 17,
   "id": "a2949894-4e76-4e5b-979c-f6b8aacee41e",
   "metadata": {},
   "outputs": [
    {
     "data": {
      "text/plain": [
       "array([-16, -15, -14, -13, -12, -11, -10,  -9,  -8,  -7,  -6,  -5,  -4,\n",
       "        -3,  -2,  -1,   0,   1,   2,   3,   4,   5,   6,   7,   8,   9])"
      ]
     },
     "execution_count": 17,
     "metadata": {},
     "output_type": "execute_result"
    }
   ],
   "source": [
    "np.arange(-16, 10)"
   ]
  },
  {
   "cell_type": "code",
   "execution_count": 18,
   "id": "f75a5870-3f98-41d0-aa0b-a1e559c9f76b",
   "metadata": {},
   "outputs": [
    {
     "data": {
      "text/plain": [
       "array([-30, -29, -28, -27, -26, -25, -24, -23, -22, -21, -20, -19, -18,\n",
       "       -17, -16, -15, -14, -13, -12, -11, -10,  -9,  -8,  -7,  -6,  -5,\n",
       "        -4,  -3,  -2,  -1,   0,   1,   2,   3,   4,   5,   6,   7,   8,\n",
       "         9,  10,  11,  12,  13,  14,  15,  16,  17,  18,  19])"
      ]
     },
     "execution_count": 18,
     "metadata": {},
     "output_type": "execute_result"
    }
   ],
   "source": [
    "ar = np.arange(-30, 20)\n",
    "ar"
   ]
  },
  {
   "cell_type": "code",
   "execution_count": 19,
   "id": "c286b5a8-b0e0-4be5-af6e-31ce543c3ca3",
   "metadata": {},
   "outputs": [
    {
     "ename": "TypeError",
     "evalue": "arange() requires stop to be specified.",
     "output_type": "error",
     "traceback": [
      "\u001b[1;31m---------------------------------------------------------------------------\u001b[0m",
      "\u001b[1;31mTypeError\u001b[0m                                 Traceback (most recent call last)",
      "Cell \u001b[1;32mIn[19], line 1\u001b[0m\n\u001b[1;32m----> 1\u001b[0m np\u001b[38;5;241m.\u001b[39marange()\n",
      "\u001b[1;31mTypeError\u001b[0m: arange() requires stop to be specified."
     ]
    }
   ],
   "source": [
    "np.arange()"
   ]
  },
  {
   "cell_type": "code",
   "execution_count": 20,
   "id": "1da4aee9-517d-4d72-a5b8-1585d36ba31e",
   "metadata": {},
   "outputs": [
    {
     "data": {
      "text/plain": [
       "array([10, 15, 20, 25])"
      ]
     },
     "execution_count": 20,
     "metadata": {},
     "output_type": "execute_result"
    }
   ],
   "source": [
    "np.arange(10, 30, 5) # start, stop, step"
   ]
  },
  {
   "cell_type": "code",
   "execution_count": 21,
   "id": "9811d033-3a4f-4799-8867-829cda79f286",
   "metadata": {},
   "outputs": [
    {
     "data": {
      "text/plain": [
       "array([0, 3, 6, 9])"
      ]
     },
     "execution_count": 21,
     "metadata": {},
     "output_type": "execute_result"
    }
   ],
   "source": [
    "np.arange(0, 10, 3)"
   ]
  },
  {
   "cell_type": "code",
   "execution_count": 22,
   "id": "b8700245-1c3b-4444-b02d-6682635e6157",
   "metadata": {},
   "outputs": [
    {
     "ename": "TypeError",
     "evalue": "Cannot interpret '8' as a data type",
     "output_type": "error",
     "traceback": [
      "\u001b[1;31m---------------------------------------------------------------------------\u001b[0m",
      "\u001b[1;31mTypeError\u001b[0m                                 Traceback (most recent call last)",
      "Cell \u001b[1;32mIn[22], line 1\u001b[0m\n\u001b[1;32m----> 1\u001b[0m np\u001b[38;5;241m.\u001b[39marange(\u001b[38;5;241m10\u001b[39m, \u001b[38;5;241m30\u001b[39m, \u001b[38;5;241m5\u001b[39m, \u001b[38;5;241m8\u001b[39m)\n",
      "\u001b[1;31mTypeError\u001b[0m: Cannot interpret '8' as a data type"
     ]
    }
   ],
   "source": [
    "np.arange(10, 30, 5, 8) # max 3 argument can be pass in arange()"
   ]
  },
  {
   "cell_type": "markdown",
   "id": "248ea385-36bb-4a12-98bd-f9a49b15124a",
   "metadata": {},
   "source": [
    "## `np.zeros( shape, dtype)`\n",
    "* Use to creating an array with specified shape and datatype with all the element filled with zeros\n",
    "* shape:\n",
    "  * for 1-D array we use only one element like np.zeros(10)\n",
    "  * for 2-D array we use a tuple like np.zeros((2, 2))\n",
    "* dtype: int, float"
   ]
  },
  {
   "cell_type": "code",
   "execution_count": 23,
   "id": "a42baa44-759e-4e94-9390-20dc4646499a",
   "metadata": {},
   "outputs": [
    {
     "data": {
      "text/plain": [
       "array([0., 0., 0., 0., 0., 0., 0., 0., 0., 0.])"
      ]
     },
     "execution_count": 23,
     "metadata": {},
     "output_type": "execute_result"
    }
   ],
   "source": [
    "np.zeros(10) # parameter tuning"
   ]
  },
  {
   "cell_type": "code",
   "execution_count": 24,
   "id": "ce76e680-7e86-42a4-8028-88de004bb550",
   "metadata": {},
   "outputs": [
    {
     "data": {
      "text/plain": [
       "array([0, 0, 0, 0, 0, 0, 0, 0, 0, 0])"
      ]
     },
     "execution_count": 24,
     "metadata": {},
     "output_type": "execute_result"
    }
   ],
   "source": [
    "np.zeros(10, dtype=int) # hyperparameter tuning"
   ]
  },
  {
   "cell_type": "markdown",
   "id": "de46decc-5276-4317-9ab0-6a0031032141",
   "metadata": {},
   "source": [
    "`2-D Array`"
   ]
  },
  {
   "cell_type": "code",
   "execution_count": 25,
   "id": "abfbe5e6-5162-40d9-a545-d2e1bfd72033",
   "metadata": {},
   "outputs": [
    {
     "data": {
      "text/plain": [
       "array([[0, 0],\n",
       "       [0, 0]])"
      ]
     },
     "execution_count": 25,
     "metadata": {},
     "output_type": "execute_result"
    }
   ],
   "source": [
    "np.zeros((2,2), dtype=int)"
   ]
  },
  {
   "cell_type": "code",
   "execution_count": 26,
   "id": "88e59b77-3638-4292-9105-8231b8a063a0",
   "metadata": {},
   "outputs": [
    {
     "name": "stdout",
     "output_type": "stream",
     "text": [
      "[[0. 0.]\n",
      " [0. 0.]]\n",
      "___________________\n",
      "<class 'numpy.ndarray'>\n"
     ]
    }
   ],
   "source": [
    "zero = np.zeros([2,2])\n",
    "print(zero)\n",
    "\n",
    "print(\"___________________\")\n",
    "\n",
    "print(type(zero))"
   ]
  },
  {
   "cell_type": "code",
   "execution_count": 27,
   "id": "670904d0-afdf-4710-85df-306ad0692f05",
   "metadata": {},
   "outputs": [
    {
     "data": {
      "text/plain": [
       "array([[0., 0., 0., 0., 0., 0., 0., 0., 0., 0.],\n",
       "       [0., 0., 0., 0., 0., 0., 0., 0., 0., 0.]])"
      ]
     },
     "execution_count": 27,
     "metadata": {},
     "output_type": "execute_result"
    }
   ],
   "source": [
    "np.zeros((2, 10))"
   ]
  },
  {
   "cell_type": "code",
   "execution_count": 28,
   "id": "b8474923-d838-451b-9c48-343f63bf608f",
   "metadata": {},
   "outputs": [
    {
     "data": {
      "text/plain": [
       "array([[0, 0, 0, 0, 0, 0, 0, 0, 0, 0],\n",
       "       [0, 0, 0, 0, 0, 0, 0, 0, 0, 0],\n",
       "       [0, 0, 0, 0, 0, 0, 0, 0, 0, 0],\n",
       "       [0, 0, 0, 0, 0, 0, 0, 0, 0, 0],\n",
       "       [0, 0, 0, 0, 0, 0, 0, 0, 0, 0],\n",
       "       [0, 0, 0, 0, 0, 0, 0, 0, 0, 0],\n",
       "       [0, 0, 0, 0, 0, 0, 0, 0, 0, 0],\n",
       "       [0, 0, 0, 0, 0, 0, 0, 0, 0, 0],\n",
       "       [0, 0, 0, 0, 0, 0, 0, 0, 0, 0],\n",
       "       [0, 0, 0, 0, 0, 0, 0, 0, 0, 0]])"
      ]
     },
     "execution_count": 28,
     "metadata": {},
     "output_type": "execute_result"
    }
   ],
   "source": [
    "np.zeros((10, 10), dtype=int)"
   ]
  },
  {
   "cell_type": "markdown",
   "id": "2a5a4011-f7a5-4380-8ef3-d0ffcb8f51fa",
   "metadata": {},
   "source": [
    "## `np.ones(shape, dtype)`\n",
    "* Use to create an array with specified shape and datatype with all the element filed with ones.\n",
    "* shape:\n",
    "  * for 1-D array we use only one element like np.zeros(10)\n",
    "  * for 2-D array we use a tuple like np.zeros((2, 2))\n",
    "* dtype: int, float"
   ]
  },
  {
   "cell_type": "code",
   "execution_count": 29,
   "id": "73f26dea-0367-454b-8393-60b80eada745",
   "metadata": {},
   "outputs": [
    {
     "data": {
      "text/plain": [
       "array([1., 1., 1.])"
      ]
     },
     "execution_count": 29,
     "metadata": {},
     "output_type": "execute_result"
    }
   ],
   "source": [
    "np.ones(3)"
   ]
  },
  {
   "cell_type": "code",
   "execution_count": 30,
   "id": "fc3f7d0a-5dc4-4c69-9115-4b5b5fd9c265",
   "metadata": {},
   "outputs": [
    {
     "data": {
      "text/plain": [
       "array([1, 1, 1])"
      ]
     },
     "execution_count": 30,
     "metadata": {},
     "output_type": "execute_result"
    }
   ],
   "source": [
    "np.ones(3, dtype=int)"
   ]
  },
  {
   "cell_type": "code",
   "execution_count": 31,
   "id": "6aecbabe-b5fc-4841-980e-e5f88aa7c0bd",
   "metadata": {},
   "outputs": [
    {
     "data": {
      "text/plain": [
       "array([[1, 1, 1],\n",
       "       [1, 1, 1],\n",
       "       [1, 1, 1]])"
      ]
     },
     "execution_count": 31,
     "metadata": {},
     "output_type": "execute_result"
    }
   ],
   "source": [
    "np.ones((3,3), dtype=int)"
   ]
  },
  {
   "cell_type": "markdown",
   "id": "bbf9ab5e-1729-4005-9105-9822059afcfd",
   "metadata": {},
   "source": [
    "# np.random "
   ]
  },
  {
   "cell_type": "markdown",
   "id": "704922e8-15c5-49b5-a172-60b7e168083a",
   "metadata": {},
   "source": [
    "## `np.random.rand(rows, column)`\n",
    "* It creates an array of specified shape and populate with random float numbers\n",
    "* if one argument then only column will take\n",
    "* if two argument then 1st will be row and 2nd will be column"
   ]
  },
  {
   "cell_type": "code",
   "execution_count": 32,
   "id": "09d55698-d5d0-4e04-a590-5e022b403e3a",
   "metadata": {},
   "outputs": [],
   "source": [
    "import random"
   ]
  },
  {
   "cell_type": "code",
   "execution_count": 33,
   "id": "d89de315-b2d9-48d7-a1fb-81948369cd3e",
   "metadata": {
    "scrolled": true
   },
   "outputs": [
    {
     "ename": "AttributeError",
     "evalue": "module 'random' has no attribute 'rand'",
     "output_type": "error",
     "traceback": [
      "\u001b[1;31m---------------------------------------------------------------------------\u001b[0m",
      "\u001b[1;31mAttributeError\u001b[0m                            Traceback (most recent call last)",
      "Cell \u001b[1;32mIn[33], line 1\u001b[0m\n\u001b[1;32m----> 1\u001b[0m random\u001b[38;5;241m.\u001b[39mrand(\u001b[38;5;241m2\u001b[39m,\u001b[38;5;241m3\u001b[39m)\n",
      "\u001b[1;31mAttributeError\u001b[0m: module 'random' has no attribute 'rand'"
     ]
    }
   ],
   "source": [
    "random.rand(2,3)"
   ]
  },
  {
   "cell_type": "code",
   "execution_count": 34,
   "id": "d0cfab2c-8e38-430d-a71f-a09e96234d66",
   "metadata": {},
   "outputs": [
    {
     "data": {
      "text/plain": [
       "24"
      ]
     },
     "execution_count": 34,
     "metadata": {},
     "output_type": "execute_result"
    }
   ],
   "source": [
    "random.randint(10, 30)"
   ]
  },
  {
   "cell_type": "code",
   "execution_count": 35,
   "id": "21a0bf66-f191-4b98-b269-ff751caa29c0",
   "metadata": {},
   "outputs": [
    {
     "data": {
      "text/plain": [
       "0.6275622321985799"
      ]
     },
     "execution_count": 35,
     "metadata": {},
     "output_type": "execute_result"
    }
   ],
   "source": [
    "random.random()"
   ]
  },
  {
   "cell_type": "code",
   "execution_count": 36,
   "id": "5c889410-402a-485a-9238-2a7e88d30e0e",
   "metadata": {},
   "outputs": [
    {
     "data": {
      "text/plain": [
       "array([[0.76450492, 0.29374819, 0.12473224],\n",
       "       [0.36050237, 0.95391464, 0.00723225]])"
      ]
     },
     "execution_count": 36,
     "metadata": {},
     "output_type": "execute_result"
    }
   ],
   "source": [
    "np.random.rand(2,3)"
   ]
  },
  {
   "cell_type": "code",
   "execution_count": 37,
   "id": "9038cbb2-5cbd-47d1-89ad-5950212c7f00",
   "metadata": {},
   "outputs": [
    {
     "data": {
      "text/plain": [
       "array([0.00420344, 0.06328442, 0.93961924, 0.37906493, 0.49254592])"
      ]
     },
     "execution_count": 37,
     "metadata": {},
     "output_type": "execute_result"
    }
   ],
   "source": [
    "np.random.rand(5)"
   ]
  },
  {
   "cell_type": "code",
   "execution_count": 38,
   "id": "4db42b69-4d6b-4c9d-870f-09ca14e9a88c",
   "metadata": {},
   "outputs": [
    {
     "data": {
      "text/plain": [
       "array([[0.84727829, 0.44124125, 0.79187655, 0.98317582, 0.50934011],\n",
       "       [0.40466593, 0.66356672, 0.8515597 , 0.66063477, 0.56894571],\n",
       "       [0.29780322, 0.54493631, 0.67972944, 0.26977591, 0.08942215]])"
      ]
     },
     "execution_count": 38,
     "metadata": {},
     "output_type": "execute_result"
    }
   ],
   "source": [
    "np.random.rand(3, 5)"
   ]
  },
  {
   "cell_type": "markdown",
   "id": "5ef0e3a1-5bd6-451f-a8dd-20781f346212",
   "metadata": {},
   "source": [
    "## `np.random.randint(low, high, size)`\n",
    "* low: takes lowest number compare to high\n",
    "* high: takes highest number compare to low\n",
    "* size: array size\n",
    "  * one integer for 1D array\n",
    "  * two integer for 2D array\n",
    "* dtype: int, float"
   ]
  },
  {
   "cell_type": "code",
   "execution_count": 39,
   "id": "978546f5-59a0-417a-aeac-7744d40f30cb",
   "metadata": {},
   "outputs": [
    {
     "data": {
      "text/plain": [
       "4"
      ]
     },
     "execution_count": 39,
     "metadata": {},
     "output_type": "execute_result"
    }
   ],
   "source": [
    "np.random.randint(4, 6)"
   ]
  },
  {
   "cell_type": "code",
   "execution_count": 40,
   "id": "21d8ae6c-a458-4cb3-b728-378c4db8d568",
   "metadata": {},
   "outputs": [
    {
     "data": {
      "text/plain": [
       "array([ 7,  3, 19, 17], dtype=int32)"
      ]
     },
     "execution_count": 40,
     "metadata": {},
     "output_type": "execute_result"
    }
   ],
   "source": [
    "np.random.randint(2, 20, 4) # 2nd argument is exclusive"
   ]
  },
  {
   "cell_type": "code",
   "execution_count": 41,
   "id": "88c70525-290c-406b-92e1-13d6537a228a",
   "metadata": {},
   "outputs": [
    {
     "ename": "ValueError",
     "evalue": "low >= high",
     "output_type": "error",
     "traceback": [
      "\u001b[1;31m---------------------------------------------------------------------------\u001b[0m",
      "\u001b[1;31mValueError\u001b[0m                                Traceback (most recent call last)",
      "Cell \u001b[1;32mIn[41], line 1\u001b[0m\n\u001b[1;32m----> 1\u001b[0m np\u001b[38;5;241m.\u001b[39mrandom\u001b[38;5;241m.\u001b[39mrandint(\u001b[38;5;241m30\u001b[39m, \u001b[38;5;241m20\u001b[39m, \u001b[38;5;241m10\u001b[39m)\n",
      "File \u001b[1;32mnumpy\\\\random\\\\mtrand.pyx:796\u001b[0m, in \u001b[0;36mnumpy.random.mtrand.RandomState.randint\u001b[1;34m()\u001b[0m\n",
      "File \u001b[1;32mnumpy\\\\random\\\\_bounded_integers.pyx:1425\u001b[0m, in \u001b[0;36mnumpy.random._bounded_integers._rand_int32\u001b[1;34m()\u001b[0m\n",
      "\u001b[1;31mValueError\u001b[0m: low >= high"
     ]
    }
   ],
   "source": [
    "np.random.randint(30, 20, 10) # 1st argument > 2nd argument"
   ]
  },
  {
   "cell_type": "code",
   "execution_count": 42,
   "id": "dfa054c4-23df-47a6-beb0-6277de9d8b8a",
   "metadata": {},
   "outputs": [
    {
     "data": {
      "text/plain": [
       "array([-12,   0, -29, -22, -29,   2, -30, -28,   9,   4], dtype=int32)"
      ]
     },
     "execution_count": 42,
     "metadata": {},
     "output_type": "execute_result"
    }
   ],
   "source": [
    "np.random.randint(-30, 20, 10)"
   ]
  },
  {
   "cell_type": "code",
   "execution_count": 43,
   "id": "2e2ef47f-6594-4151-b253-3f7acebaf32c",
   "metadata": {},
   "outputs": [
    {
     "ename": "TypeError",
     "evalue": "Cannot interpret '5' as a data type",
     "output_type": "error",
     "traceback": [
      "\u001b[1;31m---------------------------------------------------------------------------\u001b[0m",
      "\u001b[1;31mTypeError\u001b[0m                                 Traceback (most recent call last)",
      "Cell \u001b[1;32mIn[43], line 1\u001b[0m\n\u001b[1;32m----> 1\u001b[0m np\u001b[38;5;241m.\u001b[39mrandom\u001b[38;5;241m.\u001b[39mrandint(\u001b[38;5;241m-\u001b[39m\u001b[38;5;241m30\u001b[39m, \u001b[38;5;241m20\u001b[39m, \u001b[38;5;241m10\u001b[39m, \u001b[38;5;241m5\u001b[39m)\n",
      "File \u001b[1;32mnumpy\\\\random\\\\mtrand.pyx:777\u001b[0m, in \u001b[0;36mnumpy.random.mtrand.RandomState.randint\u001b[1;34m()\u001b[0m\n",
      "\u001b[1;31mTypeError\u001b[0m: Cannot interpret '5' as a data type"
     ]
    }
   ],
   "source": [
    "np.random.randint(-30, 20, 10, 5)"
   ]
  },
  {
   "cell_type": "code",
   "execution_count": 44,
   "id": "f0025054-bb69-4474-98f7-24ba4228a994",
   "metadata": {},
   "outputs": [
    {
     "data": {
      "text/plain": [
       "array([[24, 34, 38, 30, 34, 33, 14, 35, 39, 22],\n",
       "       [10, 21, 14, 36, 21, 38, 36, 36, 34, 20],\n",
       "       [33, 35, 13, 38, 21, 15, 35, 27, 35, 16],\n",
       "       [29, 14, 29, 26, 23, 27, 21, 36, 20, 38],\n",
       "       [20, 20, 18, 33, 31, 27, 39, 28, 13, 23],\n",
       "       [19, 24, 14, 29, 24, 34, 39, 25, 27, 39],\n",
       "       [18, 24, 25, 13, 12, 17, 32, 19, 36, 31],\n",
       "       [30, 36, 10, 19, 14, 36, 14, 15, 38, 22],\n",
       "       [17, 12, 21, 38, 38, 38, 29, 20, 27, 34],\n",
       "       [27, 31, 31, 35, 10, 24, 39, 33, 31, 11]], dtype=int32)"
      ]
     },
     "execution_count": 44,
     "metadata": {},
     "output_type": "execute_result"
    }
   ],
   "source": [
    "np.random.randint(10, 40, (10, 10)) # 10x10 matrix"
   ]
  },
  {
   "cell_type": "code",
   "execution_count": 45,
   "id": "beb4249a-f8d1-42f7-bc21-1ab73e7f952c",
   "metadata": {},
   "outputs": [
    {
     "data": {
      "text/plain": [
       "array([[14, 59, 17, 56, 11, 56, 35, 42, 37,  6, 57, 81],\n",
       "       [88, 25, 57, 68, 22, 71, 97,  7,  3, 57, 24, 39],\n",
       "       [72, 21, 30,  1, 60,  8, 69, 63, 50, 37,  9, 72],\n",
       "       [42, 86, 78, 70, 15, 59, 57, 17, 89,  3, 69, 49],\n",
       "       [13, 81, 43, 44, 14, 65, 70, 56, 58, 53,  9, 40],\n",
       "       [12, 57, 10, 81, 13, 83, 30, 53,  4, 24, 63, 59],\n",
       "       [66,  8, 79,  1, 94, 84, 78, 26, 48, 19, 10, 74],\n",
       "       [38, 66, 10, 96, 37, 22, 14, 35,  7, 61, 71, 42],\n",
       "       [55, 59, 39, 51, 42, 33, 40, 64, 69, 56, 40, 99],\n",
       "       [49, 89, 44, 85, 56, 25, 75, 25,  4, 60, 66, 54],\n",
       "       [98, 90,  6, 23, 62, 44, 65, 85, 67, 61, 38, 44],\n",
       "       [27, 17, 86, 14, 49, 45, 52, 95, 33, 40, 73, 25]], dtype=int32)"
      ]
     },
     "execution_count": 45,
     "metadata": {},
     "output_type": "execute_result"
    }
   ],
   "source": [
    "np.random.randint(1, 100, (12, 12)) # 12x12 matrix"
   ]
  },
  {
   "cell_type": "markdown",
   "id": "e7517bf0-28b4-414e-8669-2e85b4ee33b7",
   "metadata": {},
   "source": [
    "## `.reshape(row, column)`\n",
    "* Changing the shape of an array without altering the data"
   ]
  },
  {
   "cell_type": "code",
   "execution_count": 46,
   "id": "f9932d92-6c1d-48db-b78f-c8453a200fd9",
   "metadata": {},
   "outputs": [
    {
     "data": {
      "text/plain": [
       "array([0, 1, 2, 3, 4, 5])"
      ]
     },
     "execution_count": 46,
     "metadata": {},
     "output_type": "execute_result"
    }
   ],
   "source": [
    "arr"
   ]
  },
  {
   "cell_type": "code",
   "execution_count": 47,
   "id": "b7316bfa-c666-477f-8d0b-ac10ae6137db",
   "metadata": {},
   "outputs": [
    {
     "data": {
      "text/plain": [
       "array([ 1,  2,  3,  4,  5,  6,  7,  8,  9, 10, 11, 12])"
      ]
     },
     "execution_count": 47,
     "metadata": {},
     "output_type": "execute_result"
    }
   ],
   "source": [
    "np.arange(1, 13)"
   ]
  },
  {
   "cell_type": "code",
   "execution_count": 48,
   "id": "08053585-fdb1-43e0-a7ff-88aaa3c453d1",
   "metadata": {},
   "outputs": [
    {
     "data": {
      "text/plain": [
       "array([[ 1,  2,  3,  4],\n",
       "       [ 5,  6,  7,  8],\n",
       "       [ 9, 10, 11, 12]])"
      ]
     },
     "execution_count": 48,
     "metadata": {},
     "output_type": "execute_result"
    }
   ],
   "source": [
    "np.arange(1,13).reshape(3, 4)"
   ]
  },
  {
   "cell_type": "code",
   "execution_count": 49,
   "id": "50c2f693-4cfb-43ed-b61f-b3e570bcf306",
   "metadata": {},
   "outputs": [
    {
     "data": {
      "text/plain": [
       "array([[0, 1, 2],\n",
       "       [3, 4, 5]])"
      ]
     },
     "execution_count": 49,
     "metadata": {},
     "output_type": "execute_result"
    }
   ],
   "source": [
    "arr.reshape(2,3)"
   ]
  },
  {
   "cell_type": "code",
   "execution_count": 50,
   "id": "73634c0f-eaeb-4e77-9dcf-b52eb8a3bf26",
   "metadata": {},
   "outputs": [
    {
     "ename": "ValueError",
     "evalue": "cannot reshape array of size 12 into shape (1,16)",
     "output_type": "error",
     "traceback": [
      "\u001b[1;31m---------------------------------------------------------------------------\u001b[0m",
      "\u001b[1;31mValueError\u001b[0m                                Traceback (most recent call last)",
      "Cell \u001b[1;32mIn[50], line 1\u001b[0m\n\u001b[1;32m----> 1\u001b[0m np\u001b[38;5;241m.\u001b[39marange(\u001b[38;5;241m1\u001b[39m, \u001b[38;5;241m13\u001b[39m)\u001b[38;5;241m.\u001b[39mreshape(\u001b[38;5;241m1\u001b[39m, \u001b[38;5;241m16\u001b[39m)\n",
      "\u001b[1;31mValueError\u001b[0m: cannot reshape array of size 12 into shape (1,16)"
     ]
    }
   ],
   "source": [
    "np.arange(1, 13).reshape(1, 16)"
   ]
  },
  {
   "cell_type": "code",
   "execution_count": 51,
   "id": "fbf3cabd-f336-4b1e-9cf8-7f7750bc4470",
   "metadata": {},
   "outputs": [
    {
     "data": {
      "text/plain": [
       "array([[ 1,  2,  3,  4,  5,  6,  7,  8,  9, 10, 11, 12]])"
      ]
     },
     "execution_count": 51,
     "metadata": {},
     "output_type": "execute_result"
    }
   ],
   "source": [
    "np.arange(1, 13).reshape(1,12)"
   ]
  },
  {
   "cell_type": "code",
   "execution_count": 52,
   "id": "e6189fa6-1444-4ca0-9a7c-3d9b9ca55d3b",
   "metadata": {},
   "outputs": [
    {
     "data": {
      "text/plain": [
       "array([[ 1],\n",
       "       [ 2],\n",
       "       [ 3],\n",
       "       [ 4],\n",
       "       [ 5],\n",
       "       [ 6],\n",
       "       [ 7],\n",
       "       [ 8],\n",
       "       [ 9],\n",
       "       [10],\n",
       "       [11],\n",
       "       [12]])"
      ]
     },
     "execution_count": 52,
     "metadata": {},
     "output_type": "execute_result"
    }
   ],
   "source": [
    "np.arange(1, 13).reshape(12, 1)"
   ]
  },
  {
   "cell_type": "markdown",
   "id": "958b0ac2-51d1-4292-8652-02d8c14f79a1",
   "metadata": {},
   "source": [
    "## `Slicing in matrix`"
   ]
  },
  {
   "cell_type": "code",
   "execution_count": 53,
   "id": "1668d299-95fb-48dc-8aab-54b0794a5422",
   "metadata": {},
   "outputs": [
    {
     "data": {
      "text/plain": [
       "array([[12, 17, 18, 18],\n",
       "       [19, 19, 18, 18],\n",
       "       [15, 18, 14, 19],\n",
       "       [16, 13, 18, 15],\n",
       "       [12, 19, 10, 17]], dtype=int32)"
      ]
     },
     "execution_count": 53,
     "metadata": {},
     "output_type": "execute_result"
    }
   ],
   "source": [
    "b = np.random.randint(10, 20, (5, 4))\n",
    "b"
   ]
  },
  {
   "cell_type": "code",
   "execution_count": 54,
   "id": "03513b7c-9d11-45d8-bc52-d13ea9eabd6b",
   "metadata": {},
   "outputs": [
    {
     "data": {
      "text/plain": [
       "numpy.ndarray"
      ]
     },
     "execution_count": 54,
     "metadata": {},
     "output_type": "execute_result"
    }
   ],
   "source": [
    "type(b)"
   ]
  },
  {
   "cell_type": "code",
   "execution_count": 55,
   "id": "29b41ec6-53a5-47f9-a6cb-8ba9c4256710",
   "metadata": {},
   "outputs": [
    {
     "data": {
      "text/plain": [
       "array([[12, 17, 18, 18],\n",
       "       [19, 19, 18, 18],\n",
       "       [15, 18, 14, 19],\n",
       "       [16, 13, 18, 15],\n",
       "       [12, 19, 10, 17]], dtype=int32)"
      ]
     },
     "execution_count": 55,
     "metadata": {},
     "output_type": "execute_result"
    }
   ],
   "source": [
    "b[:]"
   ]
  },
  {
   "cell_type": "code",
   "execution_count": 56,
   "id": "8968d354-b0bf-458e-8f00-240ac803625d",
   "metadata": {},
   "outputs": [
    {
     "data": {
      "text/plain": [
       "array([12, 17, 18, 18], dtype=int32)"
      ]
     },
     "execution_count": 56,
     "metadata": {},
     "output_type": "execute_result"
    }
   ],
   "source": [
    "b[0]"
   ]
  },
  {
   "cell_type": "code",
   "execution_count": 57,
   "id": "ae8fd3a1-c5c8-4cc9-9e31-26aaa9edfe79",
   "metadata": {},
   "outputs": [
    {
     "data": {
      "text/plain": [
       "np.int32(18)"
      ]
     },
     "execution_count": 57,
     "metadata": {},
     "output_type": "execute_result"
    }
   ],
   "source": [
    "b[0][3]"
   ]
  },
  {
   "cell_type": "code",
   "execution_count": 58,
   "id": "8e8b0276-2fe5-4367-bdb8-1388f7252114",
   "metadata": {},
   "outputs": [
    {
     "data": {
      "text/plain": [
       "array([[12, 17, 18, 18],\n",
       "       [19, 19, 18, 18],\n",
       "       [15, 18, 14, 19],\n",
       "       [16, 13, 18, 15],\n",
       "       [12, 19, 10, 17]], dtype=int32)"
      ]
     },
     "execution_count": 58,
     "metadata": {},
     "output_type": "execute_result"
    }
   ],
   "source": [
    "b"
   ]
  },
  {
   "cell_type": "code",
   "execution_count": 59,
   "id": "817ecf85-c9ca-4aa4-b99d-ffe2f18f0262",
   "metadata": {},
   "outputs": [
    {
     "data": {
      "text/plain": [
       "array([[19, 19, 18, 18],\n",
       "       [15, 18, 14, 19]], dtype=int32)"
      ]
     },
     "execution_count": 59,
     "metadata": {},
     "output_type": "execute_result"
    }
   ],
   "source": [
    "b[1:3]"
   ]
  },
  {
   "cell_type": "code",
   "execution_count": 60,
   "id": "07e37182-1b71-4ea7-a6ea-d2201ce8e157",
   "metadata": {},
   "outputs": [
    {
     "data": {
      "text/plain": [
       "np.int32(18)"
      ]
     },
     "execution_count": 60,
     "metadata": {},
     "output_type": "execute_result"
    }
   ],
   "source": [
    "b[1,3]"
   ]
  },
  {
   "cell_type": "code",
   "execution_count": 61,
   "id": "c924e802-0d9f-4e08-95f8-21b1ef498d3a",
   "metadata": {},
   "outputs": [
    {
     "data": {
      "text/plain": [
       "np.int32(18)"
      ]
     },
     "execution_count": 61,
     "metadata": {},
     "output_type": "execute_result"
    }
   ],
   "source": [
    "b[0,3]"
   ]
  },
  {
   "cell_type": "code",
   "execution_count": 62,
   "id": "b5228525-6ed4-48d8-81c5-410e33fc1f3c",
   "metadata": {},
   "outputs": [
    {
     "data": {
      "text/plain": [
       "array([[19, 19, 18, 18]], dtype=int32)"
      ]
     },
     "execution_count": 62,
     "metadata": {},
     "output_type": "execute_result"
    }
   ],
   "source": [
    "b[1:2]"
   ]
  },
  {
   "cell_type": "code",
   "execution_count": 63,
   "id": "d5ded967-4ced-4591-a5bc-61e3fa296e2e",
   "metadata": {},
   "outputs": [
    {
     "data": {
      "text/plain": [
       "np.int32(18)"
      ]
     },
     "execution_count": 63,
     "metadata": {},
     "output_type": "execute_result"
    }
   ],
   "source": [
    "b[1,-1]"
   ]
  },
  {
   "cell_type": "code",
   "execution_count": 64,
   "id": "1ca92baf-49be-4f7f-bd1b-e350ad47be15",
   "metadata": {},
   "outputs": [
    {
     "data": {
      "text/plain": [
       "array([[12, 17, 18, 18],\n",
       "       [19, 19, 18, 18],\n",
       "       [15, 18, 14, 19]], dtype=int32)"
      ]
     },
     "execution_count": 64,
     "metadata": {},
     "output_type": "execute_result"
    }
   ],
   "source": [
    "b[0:-2]"
   ]
  },
  {
   "cell_type": "code",
   "execution_count": 65,
   "id": "689f0017-21d3-47c4-b5a9-92f5f7f26c97",
   "metadata": {},
   "outputs": [
    {
     "data": {
      "text/plain": [
       "array([[12, 17, 18, 18],\n",
       "       [19, 19, 18, 18],\n",
       "       [15, 18, 14, 19],\n",
       "       [16, 13, 18, 15],\n",
       "       [12, 19, 10, 17]], dtype=int32)"
      ]
     },
     "execution_count": 65,
     "metadata": {},
     "output_type": "execute_result"
    }
   ],
   "source": [
    "b"
   ]
  },
  {
   "cell_type": "code",
   "execution_count": 66,
   "id": "081051f5-cf1c-48c9-887e-2bffc862847c",
   "metadata": {},
   "outputs": [
    {
     "data": {
      "text/plain": [
       "np.int32(18)"
      ]
     },
     "execution_count": 66,
     "metadata": {},
     "output_type": "execute_result"
    }
   ],
   "source": [
    "b[-5, 3]"
   ]
  },
  {
   "cell_type": "code",
   "execution_count": 67,
   "id": "d3bcf1b1-0090-4685-9db6-189d1783df66",
   "metadata": {},
   "outputs": [
    {
     "data": {
      "text/plain": [
       "np.int32(17)"
      ]
     },
     "execution_count": 67,
     "metadata": {},
     "output_type": "execute_result"
    }
   ],
   "source": [
    "b[-5, -3]"
   ]
  },
  {
   "cell_type": "markdown",
   "id": "27cf97b2-9a59-4546-9f44-6161f9cec4d0",
   "metadata": {},
   "source": [
    "# Operations"
   ]
  },
  {
   "cell_type": "code",
   "execution_count": 68,
   "id": "2a91ba4a-2169-4e7b-b7a2-6a191ae628ee",
   "metadata": {},
   "outputs": [
    {
     "data": {
      "text/plain": [
       "array([[11, 23, 59, 26, 30, 94, 30, 52, 33, 94],\n",
       "       [63, 99, 59, 26, 63, 31, 19, 60, 24, 38],\n",
       "       [94, 89, 58, 30,  1,  8, 43, 38, 80, 60],\n",
       "       [67, 40, 38, 20, 81, 23, 30, 58, 89, 41],\n",
       "       [ 4, 63, 41, 58, 50,  0, 50,  8, 50, 66],\n",
       "       [10, 90, 32, 48, 24, 82, 12, 21, 12, 83],\n",
       "       [50, 31, 33, 37, 88, 59, 41, 26,  1, 32],\n",
       "       [42, 78, 94, 75, 20, 98, 26, 49, 23, 58],\n",
       "       [59, 49, 90, 48, 78, 90, 42, 31, 14, 46],\n",
       "       [32, 93, 62, 91, 12, 19, 63, 99, 23, 14]], dtype=int32)"
      ]
     },
     "execution_count": 68,
     "metadata": {},
     "output_type": "execute_result"
    }
   ],
   "source": [
    "arr2 = np.random.randint(0,100,(10,10))\n",
    "arr2"
   ]
  },
  {
   "cell_type": "code",
   "execution_count": 69,
   "id": "a9cd99c2-2749-4224-a553-18bd57ab04eb",
   "metadata": {},
   "outputs": [
    {
     "data": {
      "text/plain": [
       "array([0, 1, 2, 3, 4, 5])"
      ]
     },
     "execution_count": 69,
     "metadata": {},
     "output_type": "execute_result"
    }
   ],
   "source": [
    "arr"
   ]
  },
  {
   "cell_type": "code",
   "execution_count": 70,
   "id": "9011774e-963f-4629-a082-84da144785b1",
   "metadata": {},
   "outputs": [
    {
     "data": {
      "text/plain": [
       "array([0, 1, 2, 3])"
      ]
     },
     "execution_count": 70,
     "metadata": {},
     "output_type": "execute_result"
    }
   ],
   "source": [
    "arr[:4]"
   ]
  },
  {
   "cell_type": "code",
   "execution_count": 71,
   "id": "af89b182-30e9-4a1e-a7fe-21677c7cd3c6",
   "metadata": {},
   "outputs": [
    {
     "data": {
      "text/plain": [
       "array([[11, 23, 59, 26, 30, 94, 30, 52, 33, 94],\n",
       "       [63, 99, 59, 26, 63, 31, 19, 60, 24, 38],\n",
       "       [94, 89, 58, 30,  1,  8, 43, 38, 80, 60],\n",
       "       [67, 40, 38, 20, 81, 23, 30, 58, 89, 41],\n",
       "       [ 4, 63, 41, 58, 50,  0, 50,  8, 50, 66],\n",
       "       [10, 90, 32, 48, 24, 82, 12, 21, 12, 83],\n",
       "       [50, 31, 33, 37, 88, 59, 41, 26,  1, 32],\n",
       "       [42, 78, 94, 75, 20, 98, 26, 49, 23, 58],\n",
       "       [59, 49, 90, 48, 78, 90, 42, 31, 14, 46],\n",
       "       [32, 93, 62, 91, 12, 19, 63, 99, 23, 14]], dtype=int32)"
      ]
     },
     "execution_count": 71,
     "metadata": {},
     "output_type": "execute_result"
    }
   ],
   "source": [
    "arr2"
   ]
  },
  {
   "cell_type": "code",
   "execution_count": 72,
   "id": "065999e3-b9b9-4ddf-895d-766a2ea9b971",
   "metadata": {},
   "outputs": [
    {
     "data": {
      "text/plain": [
       "array([[11, 23, 59, 26, 30, 94, 30, 52, 33, 94],\n",
       "       [94, 89, 58, 30,  1,  8, 43, 38, 80, 60],\n",
       "       [ 4, 63, 41, 58, 50,  0, 50,  8, 50, 66],\n",
       "       [50, 31, 33, 37, 88, 59, 41, 26,  1, 32],\n",
       "       [59, 49, 90, 48, 78, 90, 42, 31, 14, 46]], dtype=int32)"
      ]
     },
     "execution_count": 72,
     "metadata": {},
     "output_type": "execute_result"
    }
   ],
   "source": [
    "arr2[::2]"
   ]
  },
  {
   "cell_type": "code",
   "execution_count": 73,
   "id": "32b430e2-537f-41a8-8cfe-dbce957ac583",
   "metadata": {},
   "outputs": [
    {
     "data": {
      "text/plain": [
       "array([[32, 93, 62, 91, 12, 19, 63, 99, 23, 14],\n",
       "       [59, 49, 90, 48, 78, 90, 42, 31, 14, 46],\n",
       "       [42, 78, 94, 75, 20, 98, 26, 49, 23, 58],\n",
       "       [50, 31, 33, 37, 88, 59, 41, 26,  1, 32],\n",
       "       [10, 90, 32, 48, 24, 82, 12, 21, 12, 83],\n",
       "       [ 4, 63, 41, 58, 50,  0, 50,  8, 50, 66],\n",
       "       [67, 40, 38, 20, 81, 23, 30, 58, 89, 41],\n",
       "       [94, 89, 58, 30,  1,  8, 43, 38, 80, 60],\n",
       "       [63, 99, 59, 26, 63, 31, 19, 60, 24, 38],\n",
       "       [11, 23, 59, 26, 30, 94, 30, 52, 33, 94]], dtype=int32)"
      ]
     },
     "execution_count": 73,
     "metadata": {},
     "output_type": "execute_result"
    }
   ],
   "source": [
    "arr2[::-1]"
   ]
  },
  {
   "cell_type": "code",
   "execution_count": 74,
   "id": "e20e973e-821f-42f8-ac00-e357a2167aeb",
   "metadata": {},
   "outputs": [
    {
     "data": {
      "text/plain": [
       "array([[32, 93, 62, 91, 12, 19, 63, 99, 23, 14],\n",
       "       [42, 78, 94, 75, 20, 98, 26, 49, 23, 58],\n",
       "       [10, 90, 32, 48, 24, 82, 12, 21, 12, 83],\n",
       "       [67, 40, 38, 20, 81, 23, 30, 58, 89, 41],\n",
       "       [63, 99, 59, 26, 63, 31, 19, 60, 24, 38]], dtype=int32)"
      ]
     },
     "execution_count": 74,
     "metadata": {},
     "output_type": "execute_result"
    }
   ],
   "source": [
    "arr2[::-2]"
   ]
  },
  {
   "cell_type": "code",
   "execution_count": 75,
   "id": "31a5e3d9-3d39-4b5e-852d-0b8256c56adf",
   "metadata": {},
   "outputs": [
    {
     "data": {
      "text/plain": [
       "array([[32, 93, 62, 91, 12, 19, 63, 99, 23, 14],\n",
       "       [50, 31, 33, 37, 88, 59, 41, 26,  1, 32],\n",
       "       [67, 40, 38, 20, 81, 23, 30, 58, 89, 41],\n",
       "       [11, 23, 59, 26, 30, 94, 30, 52, 33, 94]], dtype=int32)"
      ]
     },
     "execution_count": 75,
     "metadata": {},
     "output_type": "execute_result"
    }
   ],
   "source": [
    "arr2[::-3]"
   ]
  },
  {
   "cell_type": "code",
   "execution_count": 76,
   "id": "ca3c0cd8-72e9-401d-ae5d-905450f865f0",
   "metadata": {},
   "outputs": [
    {
     "data": {
      "text/plain": [
       "array([[11, 23, 59, 26, 30, 94, 30, 52, 33, 94],\n",
       "       [67, 40, 38, 20, 81, 23, 30, 58, 89, 41]], dtype=int32)"
      ]
     },
     "execution_count": 76,
     "metadata": {},
     "output_type": "execute_result"
    }
   ],
   "source": [
    "arr2[0:5:3]"
   ]
  },
  {
   "cell_type": "code",
   "execution_count": 77,
   "id": "c57b92f5-515a-4212-8504-10eb25ab9118",
   "metadata": {},
   "outputs": [
    {
     "data": {
      "text/plain": [
       "array([0, 1, 2, 3, 4, 5])"
      ]
     },
     "execution_count": 77,
     "metadata": {},
     "output_type": "execute_result"
    }
   ],
   "source": [
    "arr"
   ]
  },
  {
   "cell_type": "code",
   "execution_count": 78,
   "id": "ad48be0c-67ed-4daf-8937-bfe37061e30b",
   "metadata": {},
   "outputs": [
    {
     "data": {
      "text/plain": [
       "np.float64(2.5)"
      ]
     },
     "execution_count": 78,
     "metadata": {},
     "output_type": "execute_result"
    }
   ],
   "source": [
    "arr.mean()"
   ]
  },
  {
   "cell_type": "code",
   "execution_count": 79,
   "id": "d793a3dc-f55e-496a-acd5-d5a6fdc8cdab",
   "metadata": {},
   "outputs": [
    {
     "ename": "AttributeError",
     "evalue": "'numpy.ndarray' object has no attribute 'median'",
     "output_type": "error",
     "traceback": [
      "\u001b[1;31m---------------------------------------------------------------------------\u001b[0m",
      "\u001b[1;31mAttributeError\u001b[0m                            Traceback (most recent call last)",
      "Cell \u001b[1;32mIn[79], line 1\u001b[0m\n\u001b[1;32m----> 1\u001b[0m arr\u001b[38;5;241m.\u001b[39mmedian()\n",
      "\u001b[1;31mAttributeError\u001b[0m: 'numpy.ndarray' object has no attribute 'median'"
     ]
    }
   ],
   "source": [
    "arr.median()"
   ]
  },
  {
   "cell_type": "markdown",
   "id": "5bcce0bd-45be-4753-b11d-dc52bf762592",
   "metadata": {},
   "source": [
    "* '*' means import all the function internally"
   ]
  },
  {
   "cell_type": "code",
   "execution_count": 80,
   "id": "4d87e264-1ae7-4aca-8987-966b60dbf52a",
   "metadata": {},
   "outputs": [],
   "source": [
    "from numpy import *"
   ]
  },
  {
   "cell_type": "code",
   "execution_count": 81,
   "id": "d6d7e65f-24b1-4aa0-9f2b-4ed1bff2b3ac",
   "metadata": {},
   "outputs": [
    {
     "data": {
      "text/plain": [
       "np.float64(2.5)"
      ]
     },
     "execution_count": 81,
     "metadata": {},
     "output_type": "execute_result"
    }
   ],
   "source": [
    "median(arr)"
   ]
  },
  {
   "cell_type": "markdown",
   "id": "bdc901e3-9d2b-420e-aea4-6b1031b2da54",
   "metadata": {},
   "source": [
    "# Indexing"
   ]
  },
  {
   "cell_type": "code",
   "execution_count": null,
   "id": "1365ba48-8a26-45fd-b144-10db7863ee62",
   "metadata": {},
   "outputs": [],
   "source": []
  },
  {
   "cell_type": "code",
   "execution_count": null,
   "id": "296ec7bd-4274-4622-ad32-95a7181c5be9",
   "metadata": {},
   "outputs": [],
   "source": []
  },
  {
   "cell_type": "code",
   "execution_count": null,
   "id": "215f6be3-b05e-444f-a8ed-71abba301470",
   "metadata": {},
   "outputs": [],
   "source": []
  },
  {
   "cell_type": "code",
   "execution_count": null,
   "id": "85e90c35-b1a1-4210-a654-4aa53915d15e",
   "metadata": {},
   "outputs": [],
   "source": []
  },
  {
   "cell_type": "code",
   "execution_count": null,
   "id": "f0c4b3f2-d0d7-48bc-bba2-9b18a9266b3f",
   "metadata": {},
   "outputs": [],
   "source": []
  },
  {
   "cell_type": "code",
   "execution_count": null,
   "id": "038e8fc0-98bb-4faa-b9a4-5c85bf97eb5f",
   "metadata": {},
   "outputs": [],
   "source": []
  },
  {
   "cell_type": "code",
   "execution_count": null,
   "id": "fc9e90ed-c4cb-4226-94c1-331873c9499b",
   "metadata": {},
   "outputs": [],
   "source": []
  },
  {
   "cell_type": "code",
   "execution_count": null,
   "id": "78c02f53-7eba-4dab-ab08-47ee54ffdaf4",
   "metadata": {},
   "outputs": [],
   "source": []
  },
  {
   "cell_type": "code",
   "execution_count": null,
   "id": "c8f25809-e5ca-4fdf-89e7-19c82cb3a9e6",
   "metadata": {},
   "outputs": [],
   "source": []
  },
  {
   "cell_type": "code",
   "execution_count": null,
   "id": "e3e2dc24-8626-44cf-9d00-4cbb08631870",
   "metadata": {},
   "outputs": [],
   "source": []
  },
  {
   "cell_type": "code",
   "execution_count": null,
   "id": "8cf9f0b8-626c-4518-a115-f59ec01d1486",
   "metadata": {},
   "outputs": [],
   "source": []
  },
  {
   "cell_type": "code",
   "execution_count": null,
   "id": "49c6aa49-b680-45e4-8ad8-4fd668cfd989",
   "metadata": {},
   "outputs": [],
   "source": []
  },
  {
   "cell_type": "code",
   "execution_count": null,
   "id": "0841d82f-da33-4572-9ebb-456e92319ac7",
   "metadata": {},
   "outputs": [],
   "source": []
  },
  {
   "cell_type": "code",
   "execution_count": null,
   "id": "fa3e21ab-5466-4db8-91d9-66c479c4d162",
   "metadata": {},
   "outputs": [],
   "source": []
  },
  {
   "cell_type": "code",
   "execution_count": null,
   "id": "b058f811-9a1a-42f2-b9f8-eae0f39bc283",
   "metadata": {},
   "outputs": [],
   "source": []
  },
  {
   "cell_type": "code",
   "execution_count": null,
   "id": "c47fdda2-97e5-43c1-8242-11cc467cce4b",
   "metadata": {},
   "outputs": [],
   "source": []
  },
  {
   "cell_type": "code",
   "execution_count": null,
   "id": "cfeb02b6-c3c4-4c89-b0ab-04136a31a1c7",
   "metadata": {},
   "outputs": [],
   "source": []
  },
  {
   "cell_type": "code",
   "execution_count": null,
   "id": "958f3655-a590-4de7-a46d-4786b384ed91",
   "metadata": {},
   "outputs": [],
   "source": []
  },
  {
   "cell_type": "code",
   "execution_count": null,
   "id": "a9e5f395-d281-449a-9bb0-c80f92c9defa",
   "metadata": {},
   "outputs": [],
   "source": []
  },
  {
   "cell_type": "code",
   "execution_count": null,
   "id": "162a4380-bc32-4a4f-b8a3-982a7e592b81",
   "metadata": {},
   "outputs": [],
   "source": []
  }
 ],
 "metadata": {
  "kernelspec": {
   "display_name": "Python [conda env:base] *",
   "language": "python",
   "name": "conda-base-py"
  },
  "language_info": {
   "codemirror_mode": {
    "name": "ipython",
    "version": 3
   },
   "file_extension": ".py",
   "mimetype": "text/x-python",
   "name": "python",
   "nbconvert_exporter": "python",
   "pygments_lexer": "ipython3",
   "version": "3.13.5"
  }
 },
 "nbformat": 4,
 "nbformat_minor": 5
}
