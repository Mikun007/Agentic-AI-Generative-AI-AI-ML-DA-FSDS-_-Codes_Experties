{
 "cells": [
  {
   "cell_type": "markdown",
   "id": "f1db4dc0-65be-49c0-b101-38bf0fd4c3ad",
   "metadata": {},
   "source": [
    "# Creating Numpy array"
   ]
  },
  {
   "cell_type": "code",
   "execution_count": 1,
   "id": "fede347c-f957-41ca-91d9-9055efe0a655",
   "metadata": {},
   "outputs": [],
   "source": [
    "import numpy as np"
   ]
  },
  {
   "cell_type": "code",
   "execution_count": 2,
   "id": "97e78599-ba9e-400b-9733-f8c7f8ad7f40",
   "metadata": {},
   "outputs": [
    {
     "data": {
      "text/plain": [
       "array([  2,   4,  56, 422,  32,   1])"
      ]
     },
     "execution_count": 2,
     "metadata": {},
     "output_type": "execute_result"
    }
   ],
   "source": [
    "np.array([2, 4, 56, 422, 32, 1]) # 1D Array"
   ]
  },
  {
   "cell_type": "code",
   "execution_count": 3,
   "id": "e3b9d64b-f71e-4a20-b2a8-f22e5519aedf",
   "metadata": {},
   "outputs": [
    {
     "name": "stdout",
     "output_type": "stream",
     "text": [
      "[  2   4  56 422  32   1]\n"
     ]
    }
   ],
   "source": [
    "a = np.array([2, 4, 56, 422, 32, 1])\n",
    "print(a)"
   ]
  },
  {
   "cell_type": "code",
   "execution_count": 4,
   "id": "606e528a-16a2-45a3-a760-515317f6ef85",
   "metadata": {},
   "outputs": [
    {
     "data": {
      "text/plain": [
       "numpy.ndarray"
      ]
     },
     "execution_count": 4,
     "metadata": {},
     "output_type": "execute_result"
    }
   ],
   "source": [
    "type(a)"
   ]
  },
  {
   "cell_type": "code",
   "execution_count": 5,
   "id": "0bdeecb5-3b85-4aea-9892-64919eb3a80f",
   "metadata": {},
   "outputs": [
    {
     "name": "stdout",
     "output_type": "stream",
     "text": [
      "[[45 34 22  2]\n",
      " [24 55  3 22]]\n"
     ]
    }
   ],
   "source": [
    "new = np.array([[45, 34, 22, 2], [24, 55, 3, 22]])\n",
    "print(new)"
   ]
  },
  {
   "cell_type": "code",
   "execution_count": 7,
   "id": "9767c8b7-950e-48ac-bdb3-c3ada1ac3dec",
   "metadata": {},
   "outputs": [
    {
     "data": {
      "text/plain": [
       "array([[  2,   3,  33,   4,  45],\n",
       "       [ 23,  45,  56,  66,   2],\n",
       "       [357, 523,  32,  34,   2],\n",
       "       [ 23,  32,  44,  33, 234]])"
      ]
     },
     "execution_count": 7,
     "metadata": {},
     "output_type": "execute_result"
    }
   ],
   "source": [
    "# 3D Array # Tensor\n",
    "np.array([[2, 3, 33, 4, 45], [23, 45, 56, 66, 2], [357, 523, 32, 34, 2], [23, 32, 44, 33, 234]])"
   ]
  },
  {
   "cell_type": "markdown",
   "id": "93f25cd3-9b34-4491-b3d7-505c352c7214",
   "metadata": {},
   "source": [
    "## dtype\n",
    "* The desired data-type for the array. If not given then the type willbe determined as the minimum type required to hold the object in the sequence."
   ]
  },
  {
   "cell_type": "code",
   "execution_count": 8,
   "id": "e7f2efda-596d-43a1-ba20-485ad7d2b564",
   "metadata": {},
   "outputs": [
    {
     "data": {
      "text/plain": [
       "array([11., 23., 44.])"
      ]
     },
     "execution_count": 8,
     "metadata": {},
     "output_type": "execute_result"
    }
   ],
   "source": [
    "np.array([11, 23, 44], dtype=float)"
   ]
  },
  {
   "cell_type": "code",
   "execution_count": 9,
   "id": "b64364d6-e5c1-4489-8269-d37937fdedf2",
   "metadata": {},
   "outputs": [
    {
     "data": {
      "text/plain": [
       "array([ True,  True,  True])"
      ]
     },
     "execution_count": 9,
     "metadata": {},
     "output_type": "execute_result"
    }
   ],
   "source": [
    "np.array([11, 23, 44], dtype=bool) # Here True becoz, python treats Non-zero as True"
   ]
  },
  {
   "cell_type": "code",
   "execution_count": 11,
   "id": "68c69914-1726-46e7-9ac4-bc6acb00e605",
   "metadata": {},
   "outputs": [
    {
     "data": {
      "text/plain": [
       "array([11.+0.j, 23.+0.j, 44.+0.j])"
      ]
     },
     "execution_count": 11,
     "metadata": {},
     "output_type": "execute_result"
    }
   ],
   "source": [
    "np.array([11, 23, 44], dtype=complex)"
   ]
  },
  {
   "cell_type": "markdown",
   "id": "71e36028-1e91-4721-9e60-02a5a454af41",
   "metadata": {},
   "source": [
    "## Numpy Array Vs Python Seqences\n",
    "* NumPy arrays have a fixed size at creation, unilike python lists(which can grow dynamically). Changing the size of an ndarray will create a new array and delete the original.\n",
    "\n",
    "* The element in a NumPy array are all required to be of the same data type, and thus will be the same size in memory.\n",
    "\n",
    "* NumPy arrays facilitate advanced mathematical and other types of operations on large numbers of data. Typically, such operations are executed more efficiently and with less code than is possible using python's built in sequences.\n",
    "\n",
    "* A growing plethora of scientific and mathematical python-based packages are using NumPy array; though these typically support python-sequence input, they convert such input to Numpy Arrays prior to processing, and they often output NumPy arays."
   ]
  },
  {
   "cell_type": "markdown",
   "id": "319efb2d-894e-4446-a4c9-c7554d7f1c78",
   "metadata": {},
   "source": [
    "## arange\n",
    "\n",
    "arange can be called with a varying number of positional arguments"
   ]
  },
  {
   "cell_type": "code",
   "execution_count": 12,
   "id": "8cb04749-6f38-443c-bb50-8fd5361ea113",
   "metadata": {},
   "outputs": [
    {
     "data": {
      "text/plain": [
       "array([ 1,  2,  3,  4,  5,  6,  7,  8,  9, 10, 11, 12, 13, 14, 15, 16, 17,\n",
       "       18, 19, 20, 21, 22, 23, 24])"
      ]
     },
     "execution_count": 12,
     "metadata": {},
     "output_type": "execute_result"
    }
   ],
   "source": [
    "np.arange(1, 25) # from 1 - 24 "
   ]
  },
  {
   "cell_type": "code",
   "execution_count": 13,
   "id": "264f01e8-cf51-42db-b95b-40f633c26af4",
   "metadata": {},
   "outputs": [
    {
     "data": {
      "text/plain": [
       "array([ 1,  3,  5,  7,  9, 11, 13, 15, 17, 19, 21, 23])"
      ]
     },
     "execution_count": 13,
     "metadata": {},
     "output_type": "execute_result"
    }
   ],
   "source": [
    "np.arange(1, 25, 2) # strides--> alternate numbers"
   ]
  },
  {
   "cell_type": "markdown",
   "id": "917909a4-998e-429b-98c5-15f8b5f68d02",
   "metadata": {},
   "source": [
    "## reshape \n",
    "Both of number products should be equal to number of items present inside the array"
   ]
  },
  {
   "cell_type": "code",
   "execution_count": 14,
   "id": "6a8c106a-6eae-4c7e-a833-cda649d6398e",
   "metadata": {},
   "outputs": [
    {
     "data": {
      "text/plain": [
       "array([[ 1,  2],\n",
       "       [ 3,  4],\n",
       "       [ 5,  6],\n",
       "       [ 7,  8],\n",
       "       [ 9, 10]])"
      ]
     },
     "execution_count": 14,
     "metadata": {},
     "output_type": "execute_result"
    }
   ],
   "source": [
    "np.arange(1, 11).reshape(5,2) # converted 5 rows and 2 columns"
   ]
  },
  {
   "cell_type": "code",
   "execution_count": 17,
   "id": "0d593e6b-c358-4e3e-be41-d32786082dee",
   "metadata": {},
   "outputs": [
    {
     "data": {
      "text/plain": [
       "array([[ 1,  2,  3,  4,  5],\n",
       "       [ 6,  7,  8,  9, 10]])"
      ]
     },
     "execution_count": 17,
     "metadata": {},
     "output_type": "execute_result"
    }
   ],
   "source": [
    "np.arange(1,11).reshape(2,5) #converted 2 rows and 5 coulumns"
   ]
  },
  {
   "cell_type": "code",
   "execution_count": 18,
   "id": "81f72f63-bbc5-46d1-88c2-03a1e9d4ee57",
   "metadata": {},
   "outputs": [
    {
     "data": {
      "text/plain": [
       "array([[ 1,  2,  3,  4],\n",
       "       [ 5,  6,  7,  8],\n",
       "       [ 9, 10, 11, 12]])"
      ]
     },
     "execution_count": 18,
     "metadata": {},
     "output_type": "execute_result"
    }
   ],
   "source": [
    "np.arange(1, 13).reshape(3,4) # converted 3 rows and 4 columns"
   ]
  },
  {
   "cell_type": "markdown",
   "id": "48b181c7-83a5-49b7-a2ba-31683b204b19",
   "metadata": {},
   "source": [
    "## Ones and Zeros\n",
    "You can initialize the values and create values. ex: in deep learning weight shape"
   ]
  },
  {
   "cell_type": "code",
   "execution_count": 20,
   "id": "460b27f6-f04c-44ba-8433-11df9c8b54a6",
   "metadata": {},
   "outputs": [
    {
     "data": {
      "text/plain": [
       "array([[1., 1., 1., 1.],\n",
       "       [1., 1., 1., 1.],\n",
       "       [1., 1., 1., 1.]])"
      ]
     },
     "execution_count": 20,
     "metadata": {},
     "output_type": "execute_result"
    }
   ],
   "source": [
    "# np.ones and np.zeros\n",
    "np.ones((3,4)) # we have to mention inside tuple"
   ]
  },
  {
   "cell_type": "code",
   "execution_count": 22,
   "id": "42fbdc4b-fdd0-45c2-ad90-33b2af691dd8",
   "metadata": {},
   "outputs": [
    {
     "data": {
      "text/plain": [
       "array([[0., 0., 0., 0.],\n",
       "       [0., 0., 0., 0.],\n",
       "       [0., 0., 0., 0.]])"
      ]
     },
     "execution_count": 22,
     "metadata": {},
     "output_type": "execute_result"
    }
   ],
   "source": [
    "np.zeros((3,4))"
   ]
  },
  {
   "cell_type": "code",
   "execution_count": 23,
   "id": "162fd1aa-a705-431d-898b-b9ec54b88af3",
   "metadata": {},
   "outputs": [
    {
     "data": {
      "text/plain": [
       "array([[0.66071226, 0.54278794, 0.4935543 ],\n",
       "       [0.23525824, 0.71318558, 0.82965164],\n",
       "       [0.52439257, 0.15716262, 0.76418503],\n",
       "       [0.54705435, 0.42709934, 0.08687002]])"
      ]
     },
     "execution_count": 23,
     "metadata": {},
     "output_type": "execute_result"
    }
   ],
   "source": [
    "# another type ---> random()\n",
    "np.random.random((4,3))"
   ]
  },
  {
   "cell_type": "markdown",
   "id": "92072504-94b1-464a-b653-86a98ccc8b78",
   "metadata": {},
   "source": [
    "## linspace\n",
    "It is also called as Linearly space, Linearly separable, in a given range at equal distnace it creates points."
   ]
  },
  {
   "cell_type": "code",
   "execution_count": 24,
   "id": "eb8a0730-718b-41e1-9639-cee02a8cf587",
   "metadata": {},
   "outputs": [
    {
     "data": {
      "text/plain": [
       "array([-10.        ,  -7.77777778,  -5.55555556,  -3.33333333,\n",
       "        -1.11111111,   1.11111111,   3.33333333,   5.55555556,\n",
       "         7.77777778,  10.        ])"
      ]
     },
     "execution_count": 24,
     "metadata": {},
     "output_type": "execute_result"
    }
   ],
   "source": [
    "np.linspace(-10, 10, 10) # here: lower range, upper range, number of items to generate"
   ]
  },
  {
   "cell_type": "markdown",
   "id": "81896ad3-f7d9-44dc-bc8c-e1d05aed6130",
   "metadata": {},
   "source": [
    "## identity\n",
    "Indentity matrix is that diagonal items will be ones and everything will be zeros"
   ]
  },
  {
   "cell_type": "code",
   "execution_count": 25,
   "id": "9169de3e-809a-4208-a9ac-1fc180bbf49e",
   "metadata": {},
   "outputs": [
    {
     "data": {
      "text/plain": [
       "array([[1., 0., 0.],\n",
       "       [0., 1., 0.],\n",
       "       [0., 0., 1.]])"
      ]
     },
     "execution_count": 25,
     "metadata": {},
     "output_type": "execute_result"
    }
   ],
   "source": [
    "# Creating the indentity matrix\n",
    "np.identity(3)"
   ]
  },
  {
   "cell_type": "code",
   "execution_count": 26,
   "id": "850aeb39-306c-43fb-a0ad-a7ba34a425fc",
   "metadata": {},
   "outputs": [
    {
     "data": {
      "text/plain": [
       "array([[1., 0., 0., 0., 0., 0.],\n",
       "       [0., 1., 0., 0., 0., 0.],\n",
       "       [0., 0., 1., 0., 0., 0.],\n",
       "       [0., 0., 0., 1., 0., 0.],\n",
       "       [0., 0., 0., 0., 1., 0.],\n",
       "       [0., 0., 0., 0., 0., 1.]])"
      ]
     },
     "execution_count": 26,
     "metadata": {},
     "output_type": "execute_result"
    }
   ],
   "source": [
    "np.identity(6)"
   ]
  },
  {
   "cell_type": "code",
   "execution_count": 27,
   "id": "24fb2f07-bec2-4945-8796-860c9def6819",
   "metadata": {},
   "outputs": [
    {
     "data": {
      "text/plain": [
       "array([[1., 0., 0., 0., 0., 0.],\n",
       "       [0., 1., 0., 0., 0., 0.],\n",
       "       [0., 0., 1., 0., 0., 0.],\n",
       "       [0., 0., 0., 1., 0., 0.],\n",
       "       [0., 0., 0., 0., 1., 0.],\n",
       "       [0., 0., 0., 0., 0., 1.]])"
      ]
     },
     "execution_count": 27,
     "metadata": {},
     "output_type": "execute_result"
    }
   ],
   "source": [
    "np.eye(6)"
   ]
  },
  {
   "cell_type": "markdown",
   "id": "941827fe-0c82-40cc-afb1-bd4a06267b83",
   "metadata": {},
   "source": [
    "## Array Attributes"
   ]
  },
  {
   "cell_type": "code",
   "execution_count": 28,
   "id": "7b76ba0b-c9d2-443b-a295-494ab9ee605c",
   "metadata": {},
   "outputs": [
    {
     "data": {
      "text/plain": [
       "array([0, 1, 2, 3, 4, 5, 6, 7, 8, 9])"
      ]
     },
     "execution_count": 28,
     "metadata": {},
     "output_type": "execute_result"
    }
   ],
   "source": [
    "a1 = np.arange(10) # 1D\n",
    "a1"
   ]
  },
  {
   "cell_type": "code",
   "execution_count": 29,
   "id": "0e186580-60fe-4d52-8e95-8f8ca7160d0c",
   "metadata": {},
   "outputs": [
    {
     "data": {
      "text/plain": [
       "array([[ 0.,  1.,  2.,  3.],\n",
       "       [ 4.,  5.,  6.,  7.],\n",
       "       [ 8.,  9., 10., 11.]])"
      ]
     },
     "execution_count": 29,
     "metadata": {},
     "output_type": "execute_result"
    }
   ],
   "source": [
    "a2 = np.arange(12, dtype=float).reshape(3,4) # Matrix\n",
    "a2"
   ]
  },
  {
   "cell_type": "code",
   "execution_count": 30,
   "id": "2b893d97-9952-4f6d-85ef-a48d4efc1f9e",
   "metadata": {},
   "outputs": [
    {
     "data": {
      "text/plain": [
       "array([[[0, 1],\n",
       "        [2, 3]],\n",
       "\n",
       "       [[4, 5],\n",
       "        [6, 7]]])"
      ]
     },
     "execution_count": 30,
     "metadata": {},
     "output_type": "execute_result"
    }
   ],
   "source": [
    "a3 = np.arange(8).reshape(2,2,2) # 3D ==> Tensor\n",
    "a3"
   ]
  },
  {
   "cell_type": "markdown",
   "id": "30a861f2-7c4d-4a10-b51f-a3212c65d07d",
   "metadata": {},
   "source": [
    "## ndim\n",
    "To findout given arrays number of dimensions"
   ]
  },
  {
   "cell_type": "code",
   "execution_count": 31,
   "id": "795b749a-5e0a-4ef8-b0c2-4031adf5067f",
   "metadata": {},
   "outputs": [
    {
     "data": {
      "text/plain": [
       "1"
      ]
     },
     "execution_count": 31,
     "metadata": {},
     "output_type": "execute_result"
    }
   ],
   "source": [
    "a1.ndim"
   ]
  },
  {
   "cell_type": "code",
   "execution_count": 32,
   "id": "20cac554-1455-414f-82f1-453e36a62071",
   "metadata": {},
   "outputs": [
    {
     "data": {
      "text/plain": [
       "2"
      ]
     },
     "execution_count": 32,
     "metadata": {},
     "output_type": "execute_result"
    }
   ],
   "source": [
    "a2.ndim"
   ]
  },
  {
   "cell_type": "code",
   "execution_count": 33,
   "id": "d07a3bac-b47d-4e83-86fa-07d3051d975b",
   "metadata": {},
   "outputs": [
    {
     "data": {
      "text/plain": [
       "3"
      ]
     },
     "execution_count": 33,
     "metadata": {},
     "output_type": "execute_result"
    }
   ],
   "source": [
    "a3.ndim"
   ]
  },
  {
   "cell_type": "markdown",
   "id": "3e2f93c9-5391-47f2-a268-22c14ff71635",
   "metadata": {},
   "source": [
    "## Size\n",
    "gives number of items"
   ]
  },
  {
   "cell_type": "code",
   "execution_count": 34,
   "id": "ae53f82b-357d-4bc0-86f5-7d76c0672f88",
   "metadata": {},
   "outputs": [
    {
     "data": {
      "text/plain": [
       "array([[[0, 1],\n",
       "        [2, 3]],\n",
       "\n",
       "       [[4, 5],\n",
       "        [6, 7]]])"
      ]
     },
     "execution_count": 34,
     "metadata": {},
     "output_type": "execute_result"
    }
   ],
   "source": [
    "a3"
   ]
  },
  {
   "cell_type": "code",
   "execution_count": 35,
   "id": "00a2d507-97f9-439b-b437-d3d4c841bb3f",
   "metadata": {},
   "outputs": [
    {
     "data": {
      "text/plain": [
       "8"
      ]
     },
     "execution_count": 35,
     "metadata": {},
     "output_type": "execute_result"
    }
   ],
   "source": [
    "a3.size # it has 8 items. like shape : 2,2,2 = 8"
   ]
  },
  {
   "cell_type": "code",
   "execution_count": 36,
   "id": "1cbc466c-b690-45db-a321-9e70314a191e",
   "metadata": {},
   "outputs": [
    {
     "data": {
      "text/plain": [
       "array([[ 0.,  1.,  2.,  3.],\n",
       "       [ 4.,  5.,  6.,  7.],\n",
       "       [ 8.,  9., 10., 11.]])"
      ]
     },
     "execution_count": 36,
     "metadata": {},
     "output_type": "execute_result"
    }
   ],
   "source": [
    "a2"
   ]
  },
  {
   "cell_type": "code",
   "execution_count": 37,
   "id": "8b9bed93-c8bc-4705-96df-1b317011f505",
   "metadata": {},
   "outputs": [
    {
     "data": {
      "text/plain": [
       "12"
      ]
     },
     "execution_count": 37,
     "metadata": {},
     "output_type": "execute_result"
    }
   ],
   "source": [
    "a2.size "
   ]
  },
  {
   "cell_type": "markdown",
   "id": "844e518e-ab40-43bf-ad69-b931223d1339",
   "metadata": {},
   "source": [
    "## items size\n",
    "memory occumpied by the items"
   ]
  },
  {
   "cell_type": "code",
   "execution_count": 38,
   "id": "1ee4ebb5-a8c7-4d00-9e3f-1490244cb4d2",
   "metadata": {},
   "outputs": [
    {
     "data": {
      "text/plain": [
       "array([0, 1, 2, 3, 4, 5, 6, 7, 8, 9])"
      ]
     },
     "execution_count": 38,
     "metadata": {},
     "output_type": "execute_result"
    }
   ],
   "source": [
    "a1"
   ]
  },
  {
   "cell_type": "code",
   "execution_count": 39,
   "id": "fb1539e2-19fd-4fc7-aba6-a13c0ba54d39",
   "metadata": {},
   "outputs": [
    {
     "data": {
      "text/plain": [
       "8"
      ]
     },
     "execution_count": 39,
     "metadata": {},
     "output_type": "execute_result"
    }
   ],
   "source": [
    "a1.itemsize # bytes"
   ]
  },
  {
   "cell_type": "code",
   "execution_count": 40,
   "id": "52fa5527-ad49-4870-87fb-2221e941e8fb",
   "metadata": {},
   "outputs": [
    {
     "data": {
      "text/plain": [
       "8"
      ]
     },
     "execution_count": 40,
     "metadata": {},
     "output_type": "execute_result"
    }
   ],
   "source": [
    "a2.itemsize"
   ]
  },
  {
   "cell_type": "code",
   "execution_count": 41,
   "id": "0716baa1-cdaf-4665-95be-d5638bc521cf",
   "metadata": {},
   "outputs": [
    {
     "data": {
      "text/plain": [
       "8"
      ]
     },
     "execution_count": 41,
     "metadata": {},
     "output_type": "execute_result"
    }
   ],
   "source": [
    "a3.itemsize"
   ]
  },
  {
   "cell_type": "markdown",
   "id": "1254eb7b-174a-4e36-9299-426df838aaea",
   "metadata": {},
   "source": [
    "## dtype\n",
    "gives data type of the item"
   ]
  },
  {
   "cell_type": "code",
   "execution_count": 42,
   "id": "d5764536-5f17-45dc-b720-bd1321ee1a03",
   "metadata": {},
   "outputs": [
    {
     "name": "stdout",
     "output_type": "stream",
     "text": [
      "int64\n",
      "float64\n",
      "int64\n"
     ]
    }
   ],
   "source": [
    "print(a1.dtype)\n",
    "print(a2.dtype)\n",
    "print(a3.dtype)"
   ]
  },
  {
   "cell_type": "markdown",
   "id": "8745950e-20ec-4479-8e18-ec3f7731d0b3",
   "metadata": {},
   "source": [
    "## Changing Data Type"
   ]
  },
  {
   "cell_type": "code",
   "execution_count": 43,
   "id": "de5c7a88-abac-4e53-907d-14fadead3983",
   "metadata": {},
   "outputs": [
    {
     "data": {
      "text/plain": [
       "array([33. , 22. ,  2.5])"
      ]
     },
     "execution_count": 43,
     "metadata": {},
     "output_type": "execute_result"
    }
   ],
   "source": [
    "# astype\n",
    "x = np.array([33, 22, 2.5])\n",
    "x"
   ]
  },
  {
   "cell_type": "code",
   "execution_count": 44,
   "id": "893a2230-1322-4c70-9667-814152beb019",
   "metadata": {},
   "outputs": [
    {
     "data": {
      "text/plain": [
       "array([33, 22,  2])"
      ]
     },
     "execution_count": 44,
     "metadata": {},
     "output_type": "execute_result"
    }
   ],
   "source": [
    "x.astype(int)"
   ]
  },
  {
   "cell_type": "markdown",
   "id": "49a7ee6f-a833-4495-9a80-fe05f23fada9",
   "metadata": {},
   "source": [
    "## Array operations"
   ]
  },
  {
   "cell_type": "code",
   "execution_count": 46,
   "id": "bc1897ec-ba7a-424f-9b43-f7346107a295",
   "metadata": {},
   "outputs": [],
   "source": [
    "z1 = np.arange(12).reshape(3,4)\n",
    "z2 = np.arange(12, 24).reshape(3,4)"
   ]
  },
  {
   "cell_type": "code",
   "execution_count": 47,
   "id": "e64bde13-17f3-4404-b2bb-6178d852a5ad",
   "metadata": {},
   "outputs": [
    {
     "data": {
      "text/plain": [
       "array([[ 0,  1,  2,  3],\n",
       "       [ 4,  5,  6,  7],\n",
       "       [ 8,  9, 10, 11]])"
      ]
     },
     "execution_count": 47,
     "metadata": {},
     "output_type": "execute_result"
    }
   ],
   "source": [
    "z1"
   ]
  },
  {
   "cell_type": "code",
   "execution_count": 48,
   "id": "ebfaf149-efb9-47a1-9af7-7e711fd2429b",
   "metadata": {},
   "outputs": [
    {
     "data": {
      "text/plain": [
       "array([[12, 13, 14, 15],\n",
       "       [16, 17, 18, 19],\n",
       "       [20, 21, 22, 23]])"
      ]
     },
     "execution_count": 48,
     "metadata": {},
     "output_type": "execute_result"
    }
   ],
   "source": [
    "z2"
   ]
  },
  {
   "cell_type": "markdown",
   "id": "d41eb540-e344-4edc-890a-3eef1454cff0",
   "metadata": {},
   "source": [
    "## Scalar Operations\n",
    "Scalar oprations on Numpy arrays include performing addition or subtraction, or multiplication on each element of a Numpy array."
   ]
  },
  {
   "cell_type": "code",
   "execution_count": 49,
   "id": "3e4a29b3-3af6-4b69-ac1f-91a4eba27886",
   "metadata": {},
   "outputs": [
    {
     "data": {
      "text/plain": [
       "array([[ 2,  3,  4,  5],\n",
       "       [ 6,  7,  8,  9],\n",
       "       [10, 11, 12, 13]])"
      ]
     },
     "execution_count": 49,
     "metadata": {},
     "output_type": "execute_result"
    }
   ],
   "source": [
    "# arihmetic\n",
    "z1 + 2"
   ]
  },
  {
   "cell_type": "code",
   "execution_count": 50,
   "id": "77022b3e-669d-4615-8db3-7d3b45dd3450",
   "metadata": {},
   "outputs": [
    {
     "data": {
      "text/plain": [
       "array([[-2, -1,  0,  1],\n",
       "       [ 2,  3,  4,  5],\n",
       "       [ 6,  7,  8,  9]])"
      ]
     },
     "execution_count": 50,
     "metadata": {},
     "output_type": "execute_result"
    }
   ],
   "source": [
    "# subtraction\n",
    "z1 - 2"
   ]
  },
  {
   "cell_type": "code",
   "execution_count": 51,
   "id": "7d2bf549-6567-4145-b0c6-85be7cbe1c93",
   "metadata": {},
   "outputs": [
    {
     "data": {
      "text/plain": [
       "array([[ 0,  2,  4,  6],\n",
       "       [ 8, 10, 12, 14],\n",
       "       [16, 18, 20, 22]])"
      ]
     },
     "execution_count": 51,
     "metadata": {},
     "output_type": "execute_result"
    }
   ],
   "source": [
    "# Multiplication\n",
    "z1 * 2"
   ]
  },
  {
   "cell_type": "code",
   "execution_count": 52,
   "id": "d8b259ec-4ddc-4b90-8659-0e97a4182f38",
   "metadata": {},
   "outputs": [
    {
     "data": {
      "text/plain": [
       "array([[0, 1, 0, 1],\n",
       "       [0, 1, 0, 1],\n",
       "       [0, 1, 0, 1]])"
      ]
     },
     "execution_count": 52,
     "metadata": {},
     "output_type": "execute_result"
    }
   ],
   "source": [
    "# Modulo\n",
    "z1%2"
   ]
  },
  {
   "cell_type": "markdown",
   "id": "d9fe58a6-9bfd-4912-9981-3d36ff6fd313",
   "metadata": {},
   "source": [
    "## relational Operators\n",
    "The relational operators are also known as comparison operators, their main function is to return either a true or false based on the values of operands."
   ]
  },
  {
   "cell_type": "code",
   "execution_count": 53,
   "id": "1e1247db-91ca-4c02-a379-7ec00078a888",
   "metadata": {},
   "outputs": [
    {
     "data": {
      "text/plain": [
       "array([[12, 13, 14, 15],\n",
       "       [16, 17, 18, 19],\n",
       "       [20, 21, 22, 23]])"
      ]
     },
     "execution_count": 53,
     "metadata": {},
     "output_type": "execute_result"
    }
   ],
   "source": [
    "z2"
   ]
  },
  {
   "cell_type": "code",
   "execution_count": 54,
   "id": "f5ea88ed-c6a5-4753-a597-d10e7b169498",
   "metadata": {},
   "outputs": [
    {
     "data": {
      "text/plain": [
       "array([[ True,  True,  True,  True],\n",
       "       [ True,  True,  True,  True],\n",
       "       [ True,  True,  True,  True]])"
      ]
     },
     "execution_count": 54,
     "metadata": {},
     "output_type": "execute_result"
    }
   ],
   "source": [
    "z2 > 2 # if 2 is greater than everything gives True"
   ]
  },
  {
   "cell_type": "code",
   "execution_count": 55,
   "id": "af60091b-8c41-4b64-b7a4-a8175be71e13",
   "metadata": {},
   "outputs": [
    {
     "data": {
      "text/plain": [
       "array([[False, False, False, False],\n",
       "       [False, False, False, False],\n",
       "       [False,  True,  True,  True]])"
      ]
     },
     "execution_count": 55,
     "metadata": {},
     "output_type": "execute_result"
    }
   ],
   "source": [
    "z2 > 20"
   ]
  },
  {
   "cell_type": "markdown",
   "id": "23d2339d-b43f-4587-b6e7-3e3e55da2496",
   "metadata": {},
   "source": [
    "## Vector Operation\n",
    "We can apply on both numpy array"
   ]
  },
  {
   "cell_type": "code",
   "execution_count": 56,
   "id": "0cffcea3-fde8-4b03-a12a-9fa7e436e61a",
   "metadata": {},
   "outputs": [
    {
     "data": {
      "text/plain": [
       "array([[ 0,  1,  2,  3],\n",
       "       [ 4,  5,  6,  7],\n",
       "       [ 8,  9, 10, 11]])"
      ]
     },
     "execution_count": 56,
     "metadata": {},
     "output_type": "execute_result"
    }
   ],
   "source": [
    "z1"
   ]
  },
  {
   "cell_type": "code",
   "execution_count": 57,
   "id": "c8d729d5-cc66-44e3-8e7d-0f285fffa905",
   "metadata": {},
   "outputs": [
    {
     "data": {
      "text/plain": [
       "array([[12, 13, 14, 15],\n",
       "       [16, 17, 18, 19],\n",
       "       [20, 21, 22, 23]])"
      ]
     },
     "execution_count": 57,
     "metadata": {},
     "output_type": "execute_result"
    }
   ],
   "source": [
    "z2"
   ]
  },
  {
   "cell_type": "code",
   "execution_count": 58,
   "id": "0993c890-2196-48dc-b0ea-377bbe53cc65",
   "metadata": {},
   "outputs": [
    {
     "data": {
      "text/plain": [
       "array([[12, 14, 16, 18],\n",
       "       [20, 22, 24, 26],\n",
       "       [28, 30, 32, 34]])"
      ]
     },
     "execution_count": 58,
     "metadata": {},
     "output_type": "execute_result"
    }
   ],
   "source": [
    "# Arithmatic\n",
    "z1 + z2 #both numpy array shape is same, we can add item wise"
   ]
  },
  {
   "cell_type": "code",
   "execution_count": 59,
   "id": "21b9a085-a460-4f8c-94ae-f1f68f873a58",
   "metadata": {},
   "outputs": [
    {
     "data": {
      "text/plain": [
       "array([[  0,  13,  28,  45],\n",
       "       [ 64,  85, 108, 133],\n",
       "       [160, 189, 220, 253]])"
      ]
     },
     "execution_count": 59,
     "metadata": {},
     "output_type": "execute_result"
    }
   ],
   "source": [
    "z1 * z2"
   ]
  },
  {
   "cell_type": "code",
   "execution_count": 60,
   "id": "2819d867-b810-4488-b3f2-b1193dadfcac",
   "metadata": {},
   "outputs": [
    {
     "data": {
      "text/plain": [
       "array([[-12, -12, -12, -12],\n",
       "       [-12, -12, -12, -12],\n",
       "       [-12, -12, -12, -12]])"
      ]
     },
     "execution_count": 60,
     "metadata": {},
     "output_type": "execute_result"
    }
   ],
   "source": [
    "z1 - z2"
   ]
  },
  {
   "cell_type": "code",
   "execution_count": 61,
   "id": "d2c2257f-360e-4b66-a082-ea084f1c851f",
   "metadata": {},
   "outputs": [
    {
     "data": {
      "text/plain": [
       "array([[0.        , 0.07692308, 0.14285714, 0.2       ],\n",
       "       [0.25      , 0.29411765, 0.33333333, 0.36842105],\n",
       "       [0.4       , 0.42857143, 0.45454545, 0.47826087]])"
      ]
     },
     "execution_count": 61,
     "metadata": {},
     "output_type": "execute_result"
    }
   ],
   "source": [
    "z1/z2"
   ]
  },
  {
   "cell_type": "markdown",
   "id": "deebb6c1-f80d-4000-97f4-35d30e58af0a",
   "metadata": {},
   "source": [
    "## Array Functions"
   ]
  },
  {
   "cell_type": "code",
   "execution_count": 64,
   "id": "d6645d52-7e25-4499-9fda-c6dc87798b9a",
   "metadata": {},
   "outputs": [
    {
     "data": {
      "text/plain": [
       "array([[53., 90., 53.],\n",
       "       [35., 85., 77.],\n",
       "       [59., 84., 37.]])"
      ]
     },
     "execution_count": 64,
     "metadata": {},
     "output_type": "execute_result"
    }
   ],
   "source": [
    "k1 = np.random.random((3,3))\n",
    "k1 = np.round(k1*100)\n",
    "k1"
   ]
  },
  {
   "cell_type": "code",
   "execution_count": 65,
   "id": "6cb0f365-fead-4d4f-ae4c-0814ee3702e1",
   "metadata": {},
   "outputs": [
    {
     "data": {
      "text/plain": [
       "np.float64(90.0)"
      ]
     },
     "execution_count": 65,
     "metadata": {},
     "output_type": "execute_result"
    }
   ],
   "source": [
    "# Max\n",
    "np.max(k1)"
   ]
  },
  {
   "cell_type": "code",
   "execution_count": 66,
   "id": "31f117f2-33e1-49c1-8de0-a6b2f42d4c40",
   "metadata": {},
   "outputs": [
    {
     "data": {
      "text/plain": [
       "np.float64(35.0)"
      ]
     },
     "execution_count": 66,
     "metadata": {},
     "output_type": "execute_result"
    }
   ],
   "source": [
    "# min\n",
    "np.min(k1)"
   ]
  },
  {
   "cell_type": "code",
   "execution_count": 67,
   "id": "5144adde-0706-4eb1-98c4-96dd13d7e50a",
   "metadata": {},
   "outputs": [
    {
     "data": {
      "text/plain": [
       "np.float64(573.0)"
      ]
     },
     "execution_count": 67,
     "metadata": {},
     "output_type": "execute_result"
    }
   ],
   "source": [
    "# sum\n",
    "np.sum(k1)"
   ]
  },
  {
   "cell_type": "code",
   "execution_count": 68,
   "id": "4b91acbd-eed7-4afb-83ba-b43cc241410b",
   "metadata": {},
   "outputs": [
    {
     "data": {
      "text/plain": [
       "np.float64(1.0619521918929e+16)"
      ]
     },
     "execution_count": 68,
     "metadata": {},
     "output_type": "execute_result"
    }
   ],
   "source": [
    "# prod ---> Multiplication\n",
    "np.prod(k1)"
   ]
  },
  {
   "cell_type": "markdown",
   "id": "9b1f70b5-fa23-498a-861d-d743ee972bdd",
   "metadata": {},
   "source": [
    "## In Numpy \n",
    "* 0 = column\n",
    "* 1 = row"
   ]
  },
  {
   "cell_type": "code",
   "execution_count": 69,
   "id": "eaba3c8f-c261-4118-86e8-6b25ef698ff3",
   "metadata": {},
   "outputs": [
    {
     "data": {
      "text/plain": [
       "array([90., 85., 84.])"
      ]
     },
     "execution_count": 69,
     "metadata": {},
     "output_type": "execute_result"
    }
   ],
   "source": [
    "# if we want maximum of every row\n",
    "np.max(k1, axis=1)"
   ]
  },
  {
   "cell_type": "code",
   "execution_count": 70,
   "id": "e4dd05a2-6fef-4211-bc1d-98a5c20f3217",
   "metadata": {},
   "outputs": [
    {
     "data": {
      "text/plain": [
       "array([59., 90., 77.])"
      ]
     },
     "execution_count": 70,
     "metadata": {},
     "output_type": "execute_result"
    }
   ],
   "source": [
    "# maximum of every column\n",
    "np.max(k1, axis=0)"
   ]
  },
  {
   "cell_type": "code",
   "execution_count": 71,
   "id": "e8b18b1b-0cb3-415b-859d-8b5f7e2d892a",
   "metadata": {},
   "outputs": [
    {
     "data": {
      "text/plain": [
       "array([109445., 642600., 150997.])"
      ]
     },
     "execution_count": 71,
     "metadata": {},
     "output_type": "execute_result"
    }
   ],
   "source": [
    "# product of every column\n",
    "np.prod(k1, axis=0)"
   ]
  },
  {
   "cell_type": "markdown",
   "id": "1cb0e904-1734-480b-ab8e-edffecd18ac7",
   "metadata": {},
   "source": [
    "## statistics related functions"
   ]
  },
  {
   "cell_type": "code",
   "execution_count": 72,
   "id": "9e7c5ed3-dad4-4bb1-bd7f-accdddcc2191",
   "metadata": {},
   "outputs": [
    {
     "data": {
      "text/plain": [
       "array([[53., 90., 53.],\n",
       "       [35., 85., 77.],\n",
       "       [59., 84., 37.]])"
      ]
     },
     "execution_count": 72,
     "metadata": {},
     "output_type": "execute_result"
    }
   ],
   "source": [
    "# mean\n",
    "k1"
   ]
  },
  {
   "cell_type": "code",
   "execution_count": 73,
   "id": "6117936a-bb8d-40b9-8e9e-44d61aa04626",
   "metadata": {},
   "outputs": [
    {
     "data": {
      "text/plain": [
       "np.float64(63.666666666666664)"
      ]
     },
     "execution_count": 73,
     "metadata": {},
     "output_type": "execute_result"
    }
   ],
   "source": [
    "np.mean(k1)"
   ]
  },
  {
   "cell_type": "code",
   "execution_count": 74,
   "id": "844a6129-a015-47d1-8068-8d4a5fb30d6d",
   "metadata": {},
   "outputs": [
    {
     "data": {
      "text/plain": [
       "array([49.        , 86.33333333, 55.66666667])"
      ]
     },
     "execution_count": 74,
     "metadata": {},
     "output_type": "execute_result"
    }
   ],
   "source": [
    "# mean of every coulumn\n",
    "k1.mean(axis=0)"
   ]
  },
  {
   "cell_type": "code",
   "execution_count": 75,
   "id": "3e954030-7577-4959-84a7-460f80e45316",
   "metadata": {},
   "outputs": [
    {
     "data": {
      "text/plain": [
       "np.float64(59.0)"
      ]
     },
     "execution_count": 75,
     "metadata": {},
     "output_type": "execute_result"
    }
   ],
   "source": [
    "# median\n",
    "np.median(k1)"
   ]
  },
  {
   "cell_type": "code",
   "execution_count": 76,
   "id": "94b2b068-cd01-4364-8624-68ecd905829f",
   "metadata": {},
   "outputs": [
    {
     "data": {
      "text/plain": [
       "array([53., 77., 59.])"
      ]
     },
     "execution_count": 76,
     "metadata": {},
     "output_type": "execute_result"
    }
   ],
   "source": [
    "np.median(k1, axis=1)"
   ]
  },
  {
   "cell_type": "code",
   "execution_count": 77,
   "id": "73624eaf-d988-4778-89e2-ad4c5ae1deb4",
   "metadata": {},
   "outputs": [
    {
     "data": {
      "text/plain": [
       "np.float64(19.78214683327705)"
      ]
     },
     "execution_count": 77,
     "metadata": {},
     "output_type": "execute_result"
    }
   ],
   "source": [
    "# Standard deviation\n",
    "np.std(k1)"
   ]
  },
  {
   "cell_type": "code",
   "execution_count": 78,
   "id": "ae1ee148-d9e4-479c-a016-1b5672855107",
   "metadata": {},
   "outputs": [
    {
     "data": {
      "text/plain": [
       "array([10.19803903,  2.62466929, 16.43843734])"
      ]
     },
     "execution_count": 78,
     "metadata": {},
     "output_type": "execute_result"
    }
   ],
   "source": [
    "np.std(k1, axis=0)"
   ]
  },
  {
   "cell_type": "code",
   "execution_count": 80,
   "id": "7c6e62bb-aeb5-487c-a526-441be4ff1149",
   "metadata": {},
   "outputs": [
    {
     "data": {
      "text/plain": [
       "array([17.44196727, 21.92917894, 19.20069443])"
      ]
     },
     "execution_count": 80,
     "metadata": {},
     "output_type": "execute_result"
    }
   ],
   "source": [
    "np.std(k1, axis=1)"
   ]
  },
  {
   "cell_type": "code",
   "execution_count": 79,
   "id": "457962f1-7d94-4ceb-9f90-1f9ef862b9a4",
   "metadata": {},
   "outputs": [
    {
     "data": {
      "text/plain": [
       "np.float64(391.33333333333326)"
      ]
     },
     "execution_count": 79,
     "metadata": {},
     "output_type": "execute_result"
    }
   ],
   "source": [
    "# Variance\n",
    "np.var(k1)"
   ]
  },
  {
   "cell_type": "markdown",
   "id": "07eb8b32-1841-4588-8c82-19b17ed77afe",
   "metadata": {},
   "source": [
    "## Indexing and slicing"
   ]
  },
  {
   "cell_type": "code",
   "execution_count": 81,
   "id": "228c7c3a-7b15-40f1-bb07-9832a6ecc692",
   "metadata": {},
   "outputs": [],
   "source": [
    "p1 = np.arange(10)\n",
    "p2 = np.arange(12).reshape(3,4)\n",
    "p3 = np.arange(8).reshape(2,2,2)"
   ]
  },
  {
   "cell_type": "code",
   "execution_count": 82,
   "id": "0f264f0c-1be8-479d-a3be-ddbb4be0e5ca",
   "metadata": {},
   "outputs": [
    {
     "data": {
      "text/plain": [
       "array([0, 1, 2, 3, 4, 5, 6, 7, 8, 9])"
      ]
     },
     "execution_count": 82,
     "metadata": {},
     "output_type": "execute_result"
    }
   ],
   "source": [
    "p1"
   ]
  },
  {
   "cell_type": "code",
   "execution_count": 83,
   "id": "2f80880a-05a1-4371-bb77-bef51ea22b71",
   "metadata": {},
   "outputs": [
    {
     "data": {
      "text/plain": [
       "array([[ 0,  1,  2,  3],\n",
       "       [ 4,  5,  6,  7],\n",
       "       [ 8,  9, 10, 11]])"
      ]
     },
     "execution_count": 83,
     "metadata": {},
     "output_type": "execute_result"
    }
   ],
   "source": [
    "p2"
   ]
  },
  {
   "cell_type": "code",
   "execution_count": 84,
   "id": "9b8b55ec-6b53-4e47-9467-828a268d888b",
   "metadata": {},
   "outputs": [
    {
     "data": {
      "text/plain": [
       "array([[[0, 1],\n",
       "        [2, 3]],\n",
       "\n",
       "       [[4, 5],\n",
       "        [6, 7]]])"
      ]
     },
     "execution_count": 84,
     "metadata": {},
     "output_type": "execute_result"
    }
   ],
   "source": [
    "p3"
   ]
  },
  {
   "cell_type": "markdown",
   "id": "9aaede60-b6ce-4c77-b8d4-ebc3cda13e19",
   "metadata": {},
   "source": [
    "### Indexing on 1D array"
   ]
  },
  {
   "cell_type": "code",
   "execution_count": 85,
   "id": "bbb5fd7c-b84d-467c-82df-06285cd699b7",
   "metadata": {},
   "outputs": [
    {
     "data": {
      "text/plain": [
       "array([0, 1, 2, 3, 4, 5, 6, 7, 8, 9])"
      ]
     },
     "execution_count": 85,
     "metadata": {},
     "output_type": "execute_result"
    }
   ],
   "source": [
    "p1"
   ]
  },
  {
   "cell_type": "code",
   "execution_count": 86,
   "id": "de634f86-9964-4ef4-a6bc-3efa771b483a",
   "metadata": {},
   "outputs": [
    {
     "data": {
      "text/plain": [
       "np.int64(9)"
      ]
     },
     "execution_count": 86,
     "metadata": {},
     "output_type": "execute_result"
    }
   ],
   "source": [
    "# fetching last item\n",
    "p1[-1]"
   ]
  },
  {
   "cell_type": "code",
   "execution_count": 87,
   "id": "0e284d60-897f-4e98-be3e-928dd4a9314d",
   "metadata": {},
   "outputs": [
    {
     "data": {
      "text/plain": [
       "np.int64(0)"
      ]
     },
     "execution_count": 87,
     "metadata": {},
     "output_type": "execute_result"
    }
   ],
   "source": [
    "# fetching fist item\n",
    "p1[0]"
   ]
  },
  {
   "cell_type": "markdown",
   "id": "766184d6-d887-456c-8b37-1dce0f1e97c8",
   "metadata": {},
   "source": [
    "### Indexing on 2d Array"
   ]
  },
  {
   "cell_type": "code",
   "execution_count": 88,
   "id": "67e332a5-86e5-4a8a-bed3-99ecf1954365",
   "metadata": {},
   "outputs": [
    {
     "data": {
      "text/plain": [
       "array([[ 0,  1,  2,  3],\n",
       "       [ 4,  5,  6,  7],\n",
       "       [ 8,  9, 10, 11]])"
      ]
     },
     "execution_count": 88,
     "metadata": {},
     "output_type": "execute_result"
    }
   ],
   "source": [
    "p2"
   ]
  },
  {
   "cell_type": "code",
   "execution_count": 89,
   "id": "3f7540d1-8df1-4a97-b585-5cd00e020e65",
   "metadata": {},
   "outputs": [
    {
     "data": {
      "text/plain": [
       "np.int64(6)"
      ]
     },
     "execution_count": 89,
     "metadata": {},
     "output_type": "execute_result"
    }
   ],
   "source": [
    "# fetching desired element: 6\n",
    "p2[1,2] #here 1 = row(second), 2 = column(third), because it starts from zero"
   ]
  },
  {
   "cell_type": "code",
   "execution_count": 90,
   "id": "411745c1-519d-4e14-ae61-a871ec6820fd",
   "metadata": {},
   "outputs": [
    {
     "data": {
      "text/plain": [
       "np.int64(11)"
      ]
     },
     "execution_count": 90,
     "metadata": {},
     "output_type": "execute_result"
    }
   ],
   "source": [
    "# fetching desired element : 11\n",
    "p2[2,3] # row = 2, column = 3"
   ]
  },
  {
   "cell_type": "code",
   "execution_count": 91,
   "id": "95ce9eab-9700-4a81-b385-f390f1cabfc9",
   "metadata": {},
   "outputs": [
    {
     "data": {
      "text/plain": [
       "np.int64(4)"
      ]
     },
     "execution_count": 91,
     "metadata": {},
     "output_type": "execute_result"
    }
   ],
   "source": [
    "# fetching desired element : 4\n",
    "p2[1, 0] # row = 1, column = 0"
   ]
  },
  {
   "cell_type": "markdown",
   "id": "2c83ce30-1f60-4a9a-9523-fffb07bad9c2",
   "metadata": {},
   "source": [
    "### Indexing on 3D (Tensors)"
   ]
  },
  {
   "cell_type": "code",
   "execution_count": 92,
   "id": "098610a0-07ff-407d-b0df-71d21b4bfeb5",
   "metadata": {},
   "outputs": [
    {
     "data": {
      "text/plain": [
       "array([[[0, 1],\n",
       "        [2, 3]],\n",
       "\n",
       "       [[4, 5],\n",
       "        [6, 7]]])"
      ]
     },
     "execution_count": 92,
     "metadata": {},
     "output_type": "execute_result"
    }
   ],
   "source": [
    "p3"
   ]
  },
  {
   "cell_type": "code",
   "execution_count": 93,
   "id": "9e554fec-db38-4f8b-bd1c-c56974c48144",
   "metadata": {},
   "outputs": [
    {
     "data": {
      "text/plain": [
       "np.int64(5)"
      ]
     },
     "execution_count": 93,
     "metadata": {},
     "output_type": "execute_result"
    }
   ],
   "source": [
    "# fetching desired element: 5\n",
    "p3[1, 0, 1]"
   ]
  },
  {
   "cell_type": "markdown",
   "id": "778a58fb-a23a-491e-9219-93376eaab836",
   "metadata": {},
   "source": [
    "EXPLANATION :Here 3D is consists of 2 ,2D array , so Firstly we take 1 because our desired is 5 is in second matrix which is 1 .and 1 row so 0 and second column so 1 "
   ]
  },
  {
   "cell_type": "code",
   "execution_count": 94,
   "id": "15936415-d14a-456d-8397-3b21caa9f807",
   "metadata": {},
   "outputs": [
    {
     "data": {
      "text/plain": [
       "np.int64(2)"
      ]
     },
     "execution_count": 94,
     "metadata": {},
     "output_type": "execute_result"
    }
   ],
   "source": [
    "# fetching desired element: 2\n",
    "p3[0, 1, 0]"
   ]
  },
  {
   "cell_type": "code",
   "execution_count": 95,
   "id": "867b5126-ec1e-401d-b277-d497b2124a3d",
   "metadata": {},
   "outputs": [
    {
     "data": {
      "text/plain": [
       "np.int64(0)"
      ]
     },
     "execution_count": 95,
     "metadata": {},
     "output_type": "execute_result"
    }
   ],
   "source": [
    "# fetching desired elemtn : 0\n",
    "p3[ 0, 0, 0]"
   ]
  },
  {
   "cell_type": "code",
   "execution_count": 96,
   "id": "96660c67-10a3-46d0-947e-2953623cd90b",
   "metadata": {},
   "outputs": [
    {
     "data": {
      "text/plain": [
       "np.int64(6)"
      ]
     },
     "execution_count": 96,
     "metadata": {},
     "output_type": "execute_result"
    }
   ],
   "source": [
    "# fetching desired element: 6\n",
    "p3[1, 1, 0]"
   ]
  },
  {
   "cell_type": "markdown",
   "id": "509eb599-319c-4cea-9ad8-8e47613741c7",
   "metadata": {},
   "source": [
    "## Slicing\n",
    "Fetching Multiple items\n",
    "\n",
    "### Slicing on 1D"
   ]
  },
  {
   "cell_type": "code",
   "execution_count": 97,
   "id": "fd0e0f47-2915-46b4-b255-cb49afd0dbcc",
   "metadata": {},
   "outputs": [
    {
     "data": {
      "text/plain": [
       "array([0, 1, 2, 3, 4, 5, 6, 7, 8, 9])"
      ]
     },
     "execution_count": 97,
     "metadata": {},
     "output_type": "execute_result"
    }
   ],
   "source": [
    "p1"
   ]
  },
  {
   "cell_type": "code",
   "execution_count": 98,
   "id": "b0eb1673-5003-443d-84d6-1efd574f8359",
   "metadata": {},
   "outputs": [
    {
     "data": {
      "text/plain": [
       "array([2, 3, 4])"
      ]
     },
     "execution_count": 98,
     "metadata": {},
     "output_type": "execute_result"
    }
   ],
   "source": [
    "# fetching desired elemtn are: 2,3 4\n",
    "p1[2:5]"
   ]
  },
  {
   "cell_type": "markdown",
   "id": "fb330d49-44bb-4151-be4a-6e6076be98dc",
   "metadata": {},
   "source": [
    "Explation: Here first we take, whatever we need first item, 2 and up last(4) + 1 which is 5 because last element is not included"
   ]
  },
  {
   "cell_type": "code",
   "execution_count": 99,
   "id": "adb1125a-fec5-48f8-a277-5dcb9439f008",
   "metadata": {},
   "outputs": [
    {
     "data": {
      "text/plain": [
       "array([2, 4])"
      ]
     },
     "execution_count": 99,
     "metadata": {},
     "output_type": "execute_result"
    }
   ],
   "source": [
    "# Alternate (same as python)\n",
    "p1[2:5:2]"
   ]
  },
  {
   "cell_type": "markdown",
   "id": "b9856118-ad58-4874-a66d-37888f40c556",
   "metadata": {},
   "source": [
    "### Slicing on 2D"
   ]
  },
  {
   "cell_type": "code",
   "execution_count": 100,
   "id": "6d4ccd83-3f65-4864-83d6-c6a2320a99d1",
   "metadata": {},
   "outputs": [
    {
     "data": {
      "text/plain": [
       "array([[ 0,  1,  2,  3],\n",
       "       [ 4,  5,  6,  7],\n",
       "       [ 8,  9, 10, 11]])"
      ]
     },
     "execution_count": 100,
     "metadata": {},
     "output_type": "execute_result"
    }
   ],
   "source": [
    "p2"
   ]
  },
  {
   "cell_type": "code",
   "execution_count": 101,
   "id": "21497283-d369-4cc9-adf0-b48d4563c536",
   "metadata": {},
   "outputs": [
    {
     "data": {
      "text/plain": [
       "array([0, 1, 2, 3])"
      ]
     },
     "execution_count": 101,
     "metadata": {},
     "output_type": "execute_result"
    }
   ],
   "source": [
    "p2[0, :]"
   ]
  },
  {
   "cell_type": "markdown",
   "id": "576968ec-2b2e-4d8f-a298-259ecf59936c",
   "metadata": {},
   "source": [
    "Explation: Here 0 represents first row and (:) represents Total column"
   ]
  },
  {
   "cell_type": "code",
   "execution_count": 102,
   "id": "491ca24c-55cb-41f0-ab35-f2b4a12b2290",
   "metadata": {},
   "outputs": [
    {
     "data": {
      "text/plain": [
       "array([ 2,  6, 10])"
      ]
     },
     "execution_count": 102,
     "metadata": {},
     "output_type": "execute_result"
    }
   ],
   "source": [
    "# fetching total third column\n",
    "p2[:, 2]"
   ]
  },
  {
   "cell_type": "markdown",
   "id": "aecb4f15-18c4-4672-8159-c1ee4216dbd5",
   "metadata": {},
   "source": [
    "Explation: Heere want all rows so (:), we want 3rd column so 2"
   ]
  },
  {
   "cell_type": "code",
   "execution_count": 103,
   "id": "69ed423c-bcf4-4130-a129-313335adeeeb",
   "metadata": {},
   "outputs": [
    {
     "data": {
      "text/plain": [
       "array([[ 0,  1,  2,  3],\n",
       "       [ 4,  5,  6,  7],\n",
       "       [ 8,  9, 10, 11]])"
      ]
     },
     "execution_count": 103,
     "metadata": {},
     "output_type": "execute_result"
    }
   ],
   "source": [
    "# fetch 5, 6 and 9, 10\n",
    "p2"
   ]
  },
  {
   "cell_type": "code",
   "execution_count": 105,
   "id": "c7ec170d-9dff-4db2-bb6e-8bba62ddf6f2",
   "metadata": {},
   "outputs": [
    {
     "data": {
      "text/plain": [
       "array([[ 5,  6],\n",
       "       [ 9, 10]])"
      ]
     },
     "execution_count": 105,
     "metadata": {},
     "output_type": "execute_result"
    }
   ],
   "source": [
    "p2[1:3, 1:3]"
   ]
  },
  {
   "cell_type": "code",
   "execution_count": 106,
   "id": "2edea851-b134-4594-9aa6-9914ef2100e7",
   "metadata": {},
   "outputs": [
    {
     "data": {
      "text/plain": [
       "array([[ 0,  1,  2,  3],\n",
       "       [ 4,  5,  6,  7],\n",
       "       [ 8,  9, 10, 11]])"
      ]
     },
     "execution_count": 106,
     "metadata": {},
     "output_type": "execute_result"
    }
   ],
   "source": [
    "# fetch 0,3 and 8,11\n",
    "p2"
   ]
  },
  {
   "cell_type": "code",
   "execution_count": 107,
   "id": "dc82fbbe-c7b7-4ef5-831a-55f7cc8512bc",
   "metadata": {},
   "outputs": [
    {
     "data": {
      "text/plain": [
       "array([[ 0,  1,  2,  3],\n",
       "       [ 4,  5,  6,  7],\n",
       "       [ 8,  9, 10, 11]])"
      ]
     },
     "execution_count": 107,
     "metadata": {},
     "output_type": "execute_result"
    }
   ],
   "source": [
    "p2[0:3, 0:4]"
   ]
  },
  {
   "cell_type": "code",
   "execution_count": 108,
   "id": "7fff682f-e306-469e-982b-d4b567b3d50f",
   "metadata": {},
   "outputs": [
    {
     "data": {
      "text/plain": [
       "array([[ 0,  3],\n",
       "       [ 8, 11]])"
      ]
     },
     "execution_count": 108,
     "metadata": {},
     "output_type": "execute_result"
    }
   ],
   "source": [
    "p2[::2, ::3]"
   ]
  },
  {
   "cell_type": "code",
   "execution_count": 109,
   "id": "7bd4e6f5-c572-4563-8339-25c691c55711",
   "metadata": {},
   "outputs": [
    {
     "data": {
      "text/plain": [
       "array([[ 0,  1,  2,  3],\n",
       "       [ 4,  5,  6,  7],\n",
       "       [ 8,  9, 10, 11]])"
      ]
     },
     "execution_count": 109,
     "metadata": {},
     "output_type": "execute_result"
    }
   ],
   "source": [
    "# fetch 1, 3 and 9, 11\n",
    "p2"
   ]
  },
  {
   "cell_type": "code",
   "execution_count": 110,
   "id": "25071230-6bfd-4bb1-8007-b0b69be5f3e3",
   "metadata": {},
   "outputs": [
    {
     "data": {
      "text/plain": [
       "array([[ 1,  3],\n",
       "       [ 9, 11]])"
      ]
     },
     "execution_count": 110,
     "metadata": {},
     "output_type": "execute_result"
    }
   ],
   "source": [
    "p2[0::2, 1::2]"
   ]
  },
  {
   "cell_type": "code",
   "execution_count": 111,
   "id": "c2afae7e-5ff3-4ed6-819e-61f7582f13c5",
   "metadata": {},
   "outputs": [
    {
     "data": {
      "text/plain": [
       "array([[ 0,  1,  2,  3],\n",
       "       [ 4,  5,  6,  7],\n",
       "       [ 8,  9, 10, 11]])"
      ]
     },
     "execution_count": 111,
     "metadata": {},
     "output_type": "execute_result"
    }
   ],
   "source": [
    "# fetch only 4, 7\n",
    "p2"
   ]
  },
  {
   "cell_type": "code",
   "execution_count": 112,
   "id": "12199c1f-3deb-42f5-b039-81bfb991cfa4",
   "metadata": {},
   "outputs": [
    {
     "data": {
      "text/plain": [
       "array([[4, 7]])"
      ]
     },
     "execution_count": 112,
     "metadata": {},
     "output_type": "execute_result"
    }
   ],
   "source": [
    "p2[1:2, 0::3]"
   ]
  },
  {
   "cell_type": "code",
   "execution_count": 114,
   "id": "7a250186-c78b-4c80-86b9-63aceccede6b",
   "metadata": {},
   "outputs": [
    {
     "data": {
      "text/plain": [
       "array([[ 0,  1,  2,  3],\n",
       "       [ 4,  5,  6,  7],\n",
       "       [ 8,  9, 10, 11]])"
      ]
     },
     "execution_count": 114,
     "metadata": {},
     "output_type": "execute_result"
    }
   ],
   "source": [
    "# fetch 1,2,3 and 5,6,7\n",
    "p2"
   ]
  },
  {
   "cell_type": "code",
   "execution_count": 115,
   "id": "1274c7b3-c0c3-4786-ba3a-fbc0aa81c69a",
   "metadata": {},
   "outputs": [
    {
     "data": {
      "text/plain": [
       "array([[1, 2, 3],\n",
       "       [5, 6, 7]])"
      ]
     },
     "execution_count": 115,
     "metadata": {},
     "output_type": "execute_result"
    }
   ],
   "source": [
    "p2[0:2, 1:4]"
   ]
  },
  {
   "cell_type": "code",
   "execution_count": 116,
   "id": "0ca0b4d9-0dc1-4539-9f67-f3d274c219bb",
   "metadata": {},
   "outputs": [
    {
     "data": {
      "text/plain": [
       "array([[ 0,  1,  2,  3],\n",
       "       [ 4,  5,  6,  7],\n",
       "       [ 8,  9, 10, 11]])"
      ]
     },
     "execution_count": 116,
     "metadata": {},
     "output_type": "execute_result"
    }
   ],
   "source": [
    "# fetch 1, 3 and 5,7\n",
    "p2"
   ]
  },
  {
   "cell_type": "code",
   "execution_count": 118,
   "id": "40776f07-7941-4b4a-8a52-fcf65e82dd00",
   "metadata": {},
   "outputs": [
    {
     "data": {
      "text/plain": [
       "array([[1, 3],\n",
       "       [5, 7]])"
      ]
     },
     "execution_count": 118,
     "metadata": {},
     "output_type": "execute_result"
    }
   ],
   "source": [
    "p2[0:2, 1::2]"
   ]
  },
  {
   "cell_type": "code",
   "execution_count": null,
   "id": "30fb9c4e-4c79-4e5c-88ff-1d8c21f6a3e7",
   "metadata": {},
   "outputs": [],
   "source": []
  }
 ],
 "metadata": {
  "kernelspec": {
   "display_name": "Python [conda env:base] *",
   "language": "python",
   "name": "conda-base-py"
  },
  "language_info": {
   "codemirror_mode": {
    "name": "ipython",
    "version": 3
   },
   "file_extension": ".py",
   "mimetype": "text/x-python",
   "name": "python",
   "nbconvert_exporter": "python",
   "pygments_lexer": "ipython3",
   "version": "3.13.5"
  }
 },
 "nbformat": 4,
 "nbformat_minor": 5
}
