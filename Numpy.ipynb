{
 "cells": [
  {
   "cell_type": "markdown",
   "id": "958ac263-bce1-4968-a209-12a6ed57dfc2",
   "metadata": {},
   "source": [
    "# Numpy (Numerical Python)\n",
    "This is the library which we used to handle data analysis, data science, gen ai, computer vision project to handle nd-array"
   ]
  },
  {
   "cell_type": "markdown",
   "id": "d9d9f665-e342-462f-9077-a40fd3ebd31c",
   "metadata": {},
   "source": [
    "Numpy usages :\n",
    "\n",
    "1. arithmetic operation\n",
    "2. statistical operation\n",
    "3. bitwise operator\n",
    "4. copying & viewing array\n",
    "5. stacking\n",
    "6. matrix operation\n",
    "7. linear algeabra\n",
    "8. math operation\n",
    "9. searching, sorting, counting"
   ]
  },
  {
   "cell_type": "code",
   "execution_count": 1,
   "id": "0b0b77f5-4ce4-4eb3-9095-e11bef4fea69",
   "metadata": {},
   "outputs": [],
   "source": [
    "import numpy as np"
   ]
  },
  {
   "cell_type": "code",
   "execution_count": 2,
   "id": "5257ee7b-f370-496c-8f3a-51c8d2f5b7bd",
   "metadata": {},
   "outputs": [
    {
     "data": {
      "text/plain": [
       "'2.1.3'"
      ]
     },
     "execution_count": 2,
     "metadata": {},
     "output_type": "execute_result"
    }
   ],
   "source": [
    "np.__version__"
   ]
  },
  {
   "cell_type": "code",
   "execution_count": 3,
   "id": "1966fce8-5a72-4f78-afe1-e138a26622b0",
   "metadata": {},
   "outputs": [
    {
     "data": {
      "text/plain": [
       "'3.13.5 | packaged by Anaconda, Inc. | (main, Jun 12 2025, 16:37:03) [MSC v.1929 64 bit (AMD64)]'"
      ]
     },
     "execution_count": 3,
     "metadata": {},
     "output_type": "execute_result"
    }
   ],
   "source": [
    "import sys\n",
    "sys.version"
   ]
  },
  {
   "cell_type": "markdown",
   "id": "a08778ee-a1d8-4b36-8921-19de97eff713",
   "metadata": {},
   "source": [
    "<img src=\"./images/matrix.webp\" width=\"50%\" />"
   ]
  },
  {
   "cell_type": "code",
   "execution_count": null,
   "id": "ba1107ec-4aa7-4944-9d1a-94efe443f39b",
   "metadata": {},
   "outputs": [],
   "source": []
  }
 ],
 "metadata": {
  "kernelspec": {
   "display_name": "Python [conda env:base] *",
   "language": "python",
   "name": "conda-base-py"
  },
  "language_info": {
   "codemirror_mode": {
    "name": "ipython",
    "version": 3
   },
   "file_extension": ".py",
   "mimetype": "text/x-python",
   "name": "python",
   "nbconvert_exporter": "python",
   "pygments_lexer": "ipython3",
   "version": "3.13.5"
  }
 },
 "nbformat": 4,
 "nbformat_minor": 5
}
