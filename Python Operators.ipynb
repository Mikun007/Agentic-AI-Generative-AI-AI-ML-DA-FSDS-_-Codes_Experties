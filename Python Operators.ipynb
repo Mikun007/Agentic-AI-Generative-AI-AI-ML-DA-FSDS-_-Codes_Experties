{
 "cells": [
  {
   "cell_type": "markdown",
   "id": "8112e1ae-ff43-4430-8d4b-2216915198b4",
   "metadata": {},
   "source": [
    "# Python Operator\n",
    "* Arithmetic Operators\n",
    "* Assignment Operators\n",
    "* Relational Operators\n",
    "* Logical Operators\n",
    "* Unary Operator"
   ]
  },
  {
   "cell_type": "markdown",
   "id": "4ceb3358-a6f2-4e32-96e1-bcfd6ba9337c",
   "metadata": {},
   "source": [
    "## Arithmetic Operator"
   ]
  },
  {
   "cell_type": "code",
   "execution_count": 6,
   "id": "451fc964-3f37-4860-9656-3af83075989f",
   "metadata": {},
   "outputs": [
    {
     "name": "stdout",
     "output_type": "stream",
     "text": [
      "150\n"
     ]
    }
   ],
   "source": [
    "x1, y1 = 100, 50\n",
    "\n",
    "print(x1 + y1)"
   ]
  },
  {
   "cell_type": "code",
   "execution_count": 7,
   "id": "5c884ced-e979-4fa2-9845-5e47cafbe027",
   "metadata": {},
   "outputs": [
    {
     "data": {
      "text/plain": [
       "50"
      ]
     },
     "execution_count": 7,
     "metadata": {},
     "output_type": "execute_result"
    }
   ],
   "source": [
    "x1 - y1"
   ]
  },
  {
   "cell_type": "code",
   "execution_count": 8,
   "id": "aafbf703-952c-42b0-ac6a-347d63038564",
   "metadata": {},
   "outputs": [
    {
     "data": {
      "text/plain": [
       "5000"
      ]
     },
     "execution_count": 8,
     "metadata": {},
     "output_type": "execute_result"
    }
   ],
   "source": [
    "x1 * y1"
   ]
  },
  {
   "cell_type": "code",
   "execution_count": 9,
   "id": "c85733b5-4a27-40b5-8980-ef4c3aa4715f",
   "metadata": {},
   "outputs": [
    {
     "data": {
      "text/plain": [
       "2.0"
      ]
     },
     "execution_count": 9,
     "metadata": {},
     "output_type": "execute_result"
    }
   ],
   "source": [
    "x1 / y1 # float division"
   ]
  },
  {
   "cell_type": "code",
   "execution_count": 10,
   "id": "c5824b98-fb7c-4a71-adee-89216c7535b3",
   "metadata": {},
   "outputs": [
    {
     "data": {
      "text/plain": [
       "2"
      ]
     },
     "execution_count": 10,
     "metadata": {},
     "output_type": "execute_result"
    }
   ],
   "source": [
    "x1 // y1 # int division"
   ]
  },
  {
   "cell_type": "code",
   "execution_count": 11,
   "id": "e3a9964f-c9d5-4adb-8704-823463e6027e",
   "metadata": {},
   "outputs": [
    {
     "data": {
      "text/plain": [
       "0"
      ]
     },
     "execution_count": 11,
     "metadata": {},
     "output_type": "execute_result"
    }
   ],
   "source": [
    "x1 % y1"
   ]
  },
  {
   "cell_type": "code",
   "execution_count": 12,
   "id": "55d0c4d1-62b4-4e13-8195-c6d43ed7277e",
   "metadata": {},
   "outputs": [
    {
     "data": {
      "text/plain": [
       "10000000000000000000000000000000000000000000000000000000000000000000000000000000000000000000000000000"
      ]
     },
     "execution_count": 12,
     "metadata": {},
     "output_type": "execute_result"
    }
   ],
   "source": [
    "x1 ** y1"
   ]
  },
  {
   "cell_type": "markdown",
   "id": "5f32fe14-2eae-4fce-925d-ad5f44d4be16",
   "metadata": {},
   "source": [
    "## Assignment Operator"
   ]
  },
  {
   "cell_type": "code",
   "execution_count": 14,
   "id": "f48e43f8-72aa-4996-90da-3aa7555a3121",
   "metadata": {},
   "outputs": [
    {
     "data": {
      "text/plain": [
       "4"
      ]
     },
     "execution_count": 14,
     "metadata": {},
     "output_type": "execute_result"
    }
   ],
   "source": [
    "x = 2\n",
    "x = x+2\n",
    "x"
   ]
  },
  {
   "cell_type": "code",
   "execution_count": 16,
   "id": "ff5aa86b-928f-4590-829d-66b219ba3a7f",
   "metadata": {},
   "outputs": [
    {
     "data": {
      "text/plain": [
       "16"
      ]
     },
     "execution_count": 16,
     "metadata": {},
     "output_type": "execute_result"
    }
   ],
   "source": [
    "x *= 2\n",
    "x"
   ]
  },
  {
   "cell_type": "code",
   "execution_count": 17,
   "id": "f467928c-f8d2-41b6-933e-ecf9ae1786e5",
   "metadata": {},
   "outputs": [
    {
     "data": {
      "text/plain": [
       "14"
      ]
     },
     "execution_count": 17,
     "metadata": {},
     "output_type": "execute_result"
    }
   ],
   "source": [
    "x -= 2\n",
    "x"
   ]
  },
  {
   "cell_type": "code",
   "execution_count": 18,
   "id": "43baf388-c829-489c-b62d-1c09d2a04180",
   "metadata": {},
   "outputs": [
    {
     "data": {
      "text/plain": [
       "7.0"
      ]
     },
     "execution_count": 18,
     "metadata": {},
     "output_type": "execute_result"
    }
   ],
   "source": [
    "x /=2\n",
    "x"
   ]
  },
  {
   "cell_type": "code",
   "execution_count": 19,
   "id": "a2eba60e-00c6-4f18-a49c-cdba3471edff",
   "metadata": {},
   "outputs": [
    {
     "data": {
      "text/plain": [
       "3.0"
      ]
     },
     "execution_count": 19,
     "metadata": {},
     "output_type": "execute_result"
    }
   ],
   "source": [
    "x //=2\n",
    "x"
   ]
  },
  {
   "cell_type": "code",
   "execution_count": 20,
   "id": "55e74475-d26d-4d5b-9c23-9de136f5bf30",
   "metadata": {},
   "outputs": [
    {
     "name": "stdout",
     "output_type": "stream",
     "text": [
      "5 6\n"
     ]
    }
   ],
   "source": [
    "a, b = 5,6\n",
    "print(a, b)"
   ]
  },
  {
   "cell_type": "markdown",
   "id": "18cd7717-60ba-47a6-9bf9-d0fce38b8b82",
   "metadata": {},
   "source": [
    "## Unary Operator\n",
    "* Unary means 1 where as binary means 2\n",
    "* Here we are applying minus operator (-) on the operand n; the value of m becomes -7, which indicates it as a negative vlue."
   ]
  },
  {
   "cell_type": "code",
   "execution_count": 21,
   "id": "6a3f3683-39b1-4a46-ab33-c58f2950e65b",
   "metadata": {},
   "outputs": [
    {
     "data": {
      "text/plain": [
       "7"
      ]
     },
     "execution_count": 21,
     "metadata": {},
     "output_type": "execute_result"
    }
   ],
   "source": [
    "n =7\n",
    "n"
   ]
  },
  {
   "cell_type": "code",
   "execution_count": 22,
   "id": "572c89bf-2595-4a1d-8012-c1d2f6152381",
   "metadata": {},
   "outputs": [
    {
     "data": {
      "text/plain": [
       "-7"
      ]
     },
     "execution_count": 22,
     "metadata": {},
     "output_type": "execute_result"
    }
   ],
   "source": [
    "m = -n\n",
    "m"
   ]
  },
  {
   "cell_type": "code",
   "execution_count": 23,
   "id": "f8ed180f-4c8b-4df5-953f-b1497f36c7dc",
   "metadata": {},
   "outputs": [
    {
     "name": "stdout",
     "output_type": "stream",
     "text": [
      "7 -7\n"
     ]
    }
   ],
   "source": [
    "print(n, -n)"
   ]
  },
  {
   "cell_type": "markdown",
   "id": "a06988cc-d294-46ce-a63d-8c755e8eb6b5",
   "metadata": {},
   "source": [
    "# Relational Operator\n",
    "\n",
    "We aer using this operator for comapring"
   ]
  },
  {
   "cell_type": "code",
   "execution_count": 27,
   "id": "f925ecae-4868-4750-8f08-9932b093776b",
   "metadata": {},
   "outputs": [],
   "source": [
    "a, b = 100, 50"
   ]
  },
  {
   "cell_type": "code",
   "execution_count": 28,
   "id": "805d37b7-0bfc-4cd1-b3d9-a207daaf1611",
   "metadata": {},
   "outputs": [
    {
     "data": {
      "text/plain": [
       "False"
      ]
     },
     "execution_count": 28,
     "metadata": {},
     "output_type": "execute_result"
    }
   ],
   "source": [
    "a < b"
   ]
  },
  {
   "cell_type": "code",
   "execution_count": 29,
   "id": "fe69e4d8-9188-4dc3-8b4f-eac593ccc3da",
   "metadata": {},
   "outputs": [
    {
     "data": {
      "text/plain": [
       "True"
      ]
     },
     "execution_count": 29,
     "metadata": {},
     "output_type": "execute_result"
    }
   ],
   "source": [
    "a> b"
   ]
  },
  {
   "cell_type": "code",
   "execution_count": 30,
   "id": "c5218132-d27f-4215-a238-985a57a76e95",
   "metadata": {},
   "outputs": [
    {
     "data": {
      "text/plain": [
       "False"
      ]
     },
     "execution_count": 30,
     "metadata": {},
     "output_type": "execute_result"
    }
   ],
   "source": [
    "a == b"
   ]
  },
  {
   "cell_type": "code",
   "execution_count": 31,
   "id": "614b8d34-700b-42c6-a0ca-4c02f077210a",
   "metadata": {},
   "outputs": [
    {
     "data": {
      "text/plain": [
       "True"
      ]
     },
     "execution_count": 31,
     "metadata": {},
     "output_type": "execute_result"
    }
   ],
   "source": [
    "a != b"
   ]
  },
  {
   "cell_type": "code",
   "execution_count": 33,
   "id": "8c42fe25-41f4-40ba-bf38-b6c4e62756e3",
   "metadata": {},
   "outputs": [],
   "source": [
    "b = 100 # changing b = 100"
   ]
  },
  {
   "cell_type": "code",
   "execution_count": 34,
   "id": "277c504e-4e07-49dd-8f0d-a9cb8cefe58e",
   "metadata": {},
   "outputs": [
    {
     "data": {
      "text/plain": [
       "True"
      ]
     },
     "execution_count": 34,
     "metadata": {},
     "output_type": "execute_result"
    }
   ],
   "source": [
    "a == b"
   ]
  },
  {
   "cell_type": "code",
   "execution_count": 35,
   "id": "2c6cd5f2-e15e-4b11-bbc3-b44d4cfbaff6",
   "metadata": {},
   "outputs": [
    {
     "data": {
      "text/plain": [
       "False"
      ]
     },
     "execution_count": 35,
     "metadata": {},
     "output_type": "execute_result"
    }
   ],
   "source": [
    "a > b"
   ]
  },
  {
   "cell_type": "code",
   "execution_count": 36,
   "id": "f3e17de9-e448-4527-a16a-0cf46135cf11",
   "metadata": {},
   "outputs": [
    {
     "data": {
      "text/plain": [
       "True"
      ]
     },
     "execution_count": 36,
     "metadata": {},
     "output_type": "execute_result"
    }
   ],
   "source": [
    "a >= b"
   ]
  },
  {
   "cell_type": "code",
   "execution_count": 37,
   "id": "e480610e-b88c-4e50-9ece-a0adf9523d51",
   "metadata": {},
   "outputs": [
    {
     "data": {
      "text/plain": [
       "True"
      ]
     },
     "execution_count": 37,
     "metadata": {},
     "output_type": "execute_result"
    }
   ],
   "source": [
    "a <= b"
   ]
  },
  {
   "cell_type": "markdown",
   "id": "9a66ee8d-a20d-42a9-922f-044a6eb45324",
   "metadata": {},
   "source": [
    "# Logical Operator\n",
    "* Logical operator you need understand about true & false table\n",
    "1. And\n",
    "2. Or\n",
    "3. Not"
   ]
  },
  {
   "cell_type": "code",
   "execution_count": 38,
   "id": "b8c9cae0-e288-4154-9a68-79f10e999015",
   "metadata": {},
   "outputs": [],
   "source": [
    "a= 100\n",
    "b = 50"
   ]
  },
  {
   "cell_type": "markdown",
   "id": "3f25aa9a-42a1-4d6e-b07c-7adc25e7126b",
   "metadata": {},
   "source": [
    "`Logical And Operator`"
   ]
  },
  {
   "cell_type": "code",
   "execution_count": 39,
   "id": "f1a54c97-85bc-4699-b6cb-024f53f9dabe",
   "metadata": {},
   "outputs": [
    {
     "data": {
      "text/plain": [
       "True"
      ]
     },
     "execution_count": 39,
     "metadata": {},
     "output_type": "execute_result"
    }
   ],
   "source": [
    "a < 150 and b < 100"
   ]
  },
  {
   "cell_type": "code",
   "execution_count": 40,
   "id": "4c3970e4-3075-4b74-8a0e-f81195f1a431",
   "metadata": {},
   "outputs": [
    {
     "data": {
      "text/plain": [
       "False"
      ]
     },
     "execution_count": 40,
     "metadata": {},
     "output_type": "execute_result"
    }
   ],
   "source": [
    "a < 150 and b < 49"
   ]
  },
  {
   "cell_type": "markdown",
   "id": "a2c11b7b-e3c5-4158-807b-c527954f8150",
   "metadata": {},
   "source": [
    "`Logical Or Operator`"
   ]
  },
  {
   "cell_type": "code",
   "execution_count": 41,
   "id": "379d5bfb-c022-4f23-843d-f62ac70cd8d2",
   "metadata": {},
   "outputs": [
    {
     "data": {
      "text/plain": [
       "True"
      ]
     },
     "execution_count": 41,
     "metadata": {},
     "output_type": "execute_result"
    }
   ],
   "source": [
    "a < 150 or b < 40"
   ]
  },
  {
   "cell_type": "code",
   "execution_count": 42,
   "id": "726ed7f6-ac19-4c5b-a505-e3f3827b9fca",
   "metadata": {},
   "outputs": [
    {
     "data": {
      "text/plain": [
       "False"
      ]
     },
     "execution_count": 42,
     "metadata": {},
     "output_type": "execute_result"
    }
   ],
   "source": [
    "a > 150 or b < 40"
   ]
  },
  {
   "cell_type": "markdown",
   "id": "d070c464-1592-4b59-945d-d0770843c428",
   "metadata": {},
   "source": [
    "`Logical Not Operator`"
   ]
  },
  {
   "cell_type": "code",
   "execution_count": 43,
   "id": "87d0b4ed-24f9-4dfe-828e-a76b69323a18",
   "metadata": {},
   "outputs": [
    {
     "data": {
      "text/plain": [
       "False"
      ]
     },
     "execution_count": 43,
     "metadata": {},
     "output_type": "execute_result"
    }
   ],
   "source": [
    "x = False\n",
    "x"
   ]
  },
  {
   "cell_type": "code",
   "execution_count": 44,
   "id": "3ff9626d-6a87-4511-9480-c7194c45468b",
   "metadata": {},
   "outputs": [
    {
     "data": {
      "text/plain": [
       "True"
      ]
     },
     "execution_count": 44,
     "metadata": {},
     "output_type": "execute_result"
    }
   ],
   "source": [
    "not x"
   ]
  },
  {
   "cell_type": "markdown",
   "id": "b4d2d44a-b5f2-44c6-9086-806030dc877f",
   "metadata": {},
   "source": [
    "# Number System conversion (bit-binary digit)\n",
    "\n",
    "* Binary Number Systems (0b) -> base 2 (0, 1)\n",
    "* Octal Number Systems (0o) ->  base 8 (0, 1, 2, 3, 4, 5, 6, 7)\n",
    "* Decimal Number System (0x) -> base 10 (0, 1, 2, 3, 4, 5, 6, 7, 8, 9)\n",
    "* Hexadecimal Number System(0xa, b, c, d, e, f) -> base 16 (0, 1, 2, 3, 4, 5, 6, 7, 8, 9, a(10), b(11), c(12), d(13), e(14), f(15) )"
   ]
  },
  {
   "cell_type": "markdown",
   "id": "89abbf22-af0a-435e-ae7d-96c5fbdd610b",
   "metadata": {},
   "source": [
    "`Binary Number System`"
   ]
  },
  {
   "cell_type": "code",
   "execution_count": 45,
   "id": "b24522b5-c8bd-47f3-b70f-58eedf413a29",
   "metadata": {},
   "outputs": [
    {
     "data": {
      "text/plain": [
       "'0b11001'"
      ]
     },
     "execution_count": 45,
     "metadata": {},
     "output_type": "execute_result"
    }
   ],
   "source": [
    "bin(25)"
   ]
  },
  {
   "cell_type": "code",
   "execution_count": 46,
   "id": "e78c9e77-09a5-479a-abd8-6132b74df2c2",
   "metadata": {},
   "outputs": [
    {
     "data": {
      "text/plain": [
       "25"
      ]
     },
     "execution_count": 46,
     "metadata": {},
     "output_type": "execute_result"
    }
   ],
   "source": [
    "int(0b11001)"
   ]
  },
  {
   "cell_type": "code",
   "execution_count": 47,
   "id": "aaf8928b-6d68-4ac6-88c2-347317a52ae1",
   "metadata": {},
   "outputs": [
    {
     "data": {
      "text/plain": [
       "'0b11110'"
      ]
     },
     "execution_count": 47,
     "metadata": {},
     "output_type": "execute_result"
    }
   ],
   "source": [
    "bin(30)"
   ]
  },
  {
   "cell_type": "code",
   "execution_count": 48,
   "id": "d1a59de7-53a8-4575-97d7-6204886d12d2",
   "metadata": {},
   "outputs": [
    {
     "data": {
      "text/plain": [
       "30"
      ]
     },
     "execution_count": 48,
     "metadata": {},
     "output_type": "execute_result"
    }
   ],
   "source": [
    "int(0b11110)"
   ]
  },
  {
   "cell_type": "code",
   "execution_count": 50,
   "id": "8dc614c6-0f74-4a65-8c52-ab5194584374",
   "metadata": {},
   "outputs": [
    {
     "data": {
      "text/plain": [
       "29"
      ]
     },
     "execution_count": 50,
     "metadata": {},
     "output_type": "execute_result"
    }
   ],
   "source": [
    "int(0b11101)"
   ]
  },
  {
   "cell_type": "markdown",
   "id": "3cd4e0e7-b90f-44eb-ab71-f3f8f63f5c8e",
   "metadata": {},
   "source": [
    "`Octal Number System`"
   ]
  },
  {
   "cell_type": "code",
   "execution_count": 52,
   "id": "0ecf0772-7bcc-4f80-bdb7-88bf33bae481",
   "metadata": {},
   "outputs": [
    {
     "data": {
      "text/plain": [
       "'0o31'"
      ]
     },
     "execution_count": 52,
     "metadata": {},
     "output_type": "execute_result"
    }
   ],
   "source": [
    "oct(25)"
   ]
  },
  {
   "cell_type": "code",
   "execution_count": 53,
   "id": "db780d92-6091-42dc-9258-996ed49c3ade",
   "metadata": {},
   "outputs": [
    {
     "data": {
      "text/plain": [
       "25"
      ]
     },
     "execution_count": 53,
     "metadata": {},
     "output_type": "execute_result"
    }
   ],
   "source": [
    "int(0o31)"
   ]
  },
  {
   "cell_type": "code",
   "execution_count": 54,
   "id": "0e2df58c-11a3-4135-93a9-f7eb2010bb7b",
   "metadata": {},
   "outputs": [
    {
     "data": {
      "text/plain": [
       "'0o115'"
      ]
     },
     "execution_count": 54,
     "metadata": {},
     "output_type": "execute_result"
    }
   ],
   "source": [
    "oct(77)"
   ]
  },
  {
   "cell_type": "code",
   "execution_count": 55,
   "id": "bef485d4-1cce-4bb7-badb-6244dbd1a2c1",
   "metadata": {},
   "outputs": [
    {
     "data": {
      "text/plain": [
       "77"
      ]
     },
     "execution_count": 55,
     "metadata": {},
     "output_type": "execute_result"
    }
   ],
   "source": [
    "int(0o115)"
   ]
  },
  {
   "cell_type": "markdown",
   "id": "a9a43b76-b1e8-4200-9495-740abe189759",
   "metadata": {},
   "source": [
    "`Hexa Decimal Number System`"
   ]
  },
  {
   "cell_type": "code",
   "execution_count": 56,
   "id": "f9e45bd5-ee63-40e0-9215-73994be3de9b",
   "metadata": {},
   "outputs": [
    {
     "data": {
      "text/plain": [
       "'0x19'"
      ]
     },
     "execution_count": 56,
     "metadata": {},
     "output_type": "execute_result"
    }
   ],
   "source": [
    "hex(25)"
   ]
  },
  {
   "cell_type": "code",
   "execution_count": 57,
   "id": "6d752e8d-9527-404b-9840-9df82c56c2ab",
   "metadata": {},
   "outputs": [
    {
     "data": {
      "text/plain": [
       "25"
      ]
     },
     "execution_count": 57,
     "metadata": {},
     "output_type": "execute_result"
    }
   ],
   "source": [
    "0x19"
   ]
  },
  {
   "cell_type": "code",
   "execution_count": 58,
   "id": "b38599bc-6874-491e-8403-699ec5fd5929",
   "metadata": {},
   "outputs": [
    {
     "data": {
      "text/plain": [
       "'0xa'"
      ]
     },
     "execution_count": 58,
     "metadata": {},
     "output_type": "execute_result"
    }
   ],
   "source": [
    "hex(10)"
   ]
  },
  {
   "cell_type": "code",
   "execution_count": 59,
   "id": "79df25e0-e91b-427f-bde1-0c5ca78ed644",
   "metadata": {},
   "outputs": [
    {
     "data": {
      "text/plain": [
       "10"
      ]
     },
     "execution_count": 59,
     "metadata": {},
     "output_type": "execute_result"
    }
   ],
   "source": [
    "int(0xa)"
   ]
  },
  {
   "cell_type": "code",
   "execution_count": 60,
   "id": "1665d6d1-701e-4c9f-930b-95aff90148ea",
   "metadata": {},
   "outputs": [
    {
     "data": {
      "text/plain": [
       "'0x1'"
      ]
     },
     "execution_count": 60,
     "metadata": {},
     "output_type": "execute_result"
    }
   ],
   "source": [
    "hex(1)"
   ]
  },
  {
   "cell_type": "markdown",
   "id": "325c0e12-27a4-4f04-9894-08e833b1c261",
   "metadata": {},
   "source": [
    "# BITWISE OPERATOR\n",
    "* Complement Operator (~)\n",
    "* AND Operator ( & )\n",
    "* OR Operator ( | )\n",
    "* XOR Operator ( ^ )\n",
    "* Left Shift Operator ( << )\n",
    "* Right Shift Operator ( >> )"
   ]
  },
  {
   "cell_type": "markdown",
   "id": "ff6f1127-2af5-440d-b1dc-2559b01365be",
   "metadata": {},
   "source": [
    "### ` Complement Operator ( ~ )`"
   ]
  },
  {
   "cell_type": "code",
   "execution_count": 61,
   "id": "e40575ce-12fe-4258-ba4a-e969622f2886",
   "metadata": {},
   "outputs": [
    {
     "data": {
      "text/plain": [
       "-13"
      ]
     },
     "execution_count": 61,
     "metadata": {},
     "output_type": "execute_result"
    }
   ],
   "source": [
    "~ 12 # Complement means it stores -ve values"
   ]
  },
  {
   "cell_type": "code",
   "execution_count": 62,
   "id": "141a1f55-29dd-4dcb-8152-04c59ba649c3",
   "metadata": {},
   "outputs": [
    {
     "data": {
      "text/plain": [
       "-1008"
      ]
     },
     "execution_count": 62,
     "metadata": {},
     "output_type": "execute_result"
    }
   ],
   "source": [
    "~1007"
   ]
  },
  {
   "cell_type": "markdown",
   "id": "de95574e-96e6-41da-b8d9-fcaf6bfcdb38",
   "metadata": {},
   "source": [
    "### `AND Operator ( & )`"
   ]
  },
  {
   "cell_type": "code",
   "execution_count": 63,
   "id": "358d8e6d-ebfc-452d-adc5-b3995505784a",
   "metadata": {},
   "outputs": [
    {
     "data": {
      "text/plain": [
       "100"
      ]
     },
     "execution_count": 63,
     "metadata": {},
     "output_type": "execute_result"
    }
   ],
   "source": [
    "100 & 101 "
   ]
  },
  {
   "cell_type": "code",
   "execution_count": 64,
   "id": "cf7fe63b-a565-4205-b68e-88749fc4913a",
   "metadata": {},
   "outputs": [
    {
     "name": "stdout",
     "output_type": "stream",
     "text": [
      "0b1100100 0b1100101\n"
     ]
    }
   ],
   "source": [
    "print(bin(100), bin(101))"
   ]
  },
  {
   "cell_type": "markdown",
   "id": "d33fd3ec-c527-4f97-90ce-4708c7fdb933",
   "metadata": {},
   "source": [
    "* 0b1100100 & 0b1100101 -> 0b1100100 ( These are all acording to the truth table)"
   ]
  },
  {
   "cell_type": "code",
   "execution_count": 66,
   "id": "bec117e1-086c-4c8c-9151-d7c0044153c7",
   "metadata": {},
   "outputs": [
    {
     "data": {
      "text/plain": [
       "32"
      ]
     },
     "execution_count": 66,
     "metadata": {},
     "output_type": "execute_result"
    }
   ],
   "source": [
    "1000 & 1077"
   ]
  },
  {
   "cell_type": "markdown",
   "id": "3fade241-ae85-433c-863d-ae62b84d0f3b",
   "metadata": {},
   "source": [
    "### `OR Operator ( | )`"
   ]
  },
  {
   "cell_type": "code",
   "execution_count": 65,
   "id": "bff3dec4-4f66-4de3-9370-25d29ec49035",
   "metadata": {},
   "outputs": [
    {
     "data": {
      "text/plain": [
       "101"
      ]
     },
     "execution_count": 65,
     "metadata": {},
     "output_type": "execute_result"
    }
   ],
   "source": [
    "100 | 101"
   ]
  },
  {
   "cell_type": "markdown",
   "id": "29fe0204-aee3-495e-940f-20d58f82dfda",
   "metadata": {},
   "source": [
    "* 0b1100100 | 0b1100101 -> 0b1100101 (Acroding to the truth table)"
   ]
  },
  {
   "cell_type": "code",
   "execution_count": 67,
   "id": "1edcd9c8-c1b6-4fd7-a877-963fa2c18bf4",
   "metadata": {},
   "outputs": [
    {
     "data": {
      "text/plain": [
       "2031"
      ]
     },
     "execution_count": 67,
     "metadata": {},
     "output_type": "execute_result"
    }
   ],
   "source": [
    "1057 | 1999"
   ]
  },
  {
   "cell_type": "markdown",
   "id": "3bf35d3c-00a6-4c72-8668-4559c76b777f",
   "metadata": {},
   "source": [
    "## `XOR ( ^ )`"
   ]
  },
  {
   "cell_type": "code",
   "execution_count": 68,
   "id": "12f89950-6d9e-4f72-a497-ba1cd3e3d168",
   "metadata": {},
   "outputs": [
    {
     "data": {
      "text/plain": [
       "1"
      ]
     },
     "execution_count": 68,
     "metadata": {},
     "output_type": "execute_result"
    }
   ],
   "source": [
    "100 ^ 101"
   ]
  },
  {
   "cell_type": "markdown",
   "id": "91f0c976-dc91-411c-8d7f-ab6ebb1b4790",
   "metadata": {},
   "source": [
    "* 0b1100100 ^ 0b1100101 -> 000001"
   ]
  },
  {
   "cell_type": "code",
   "execution_count": 70,
   "id": "6821934e-dcc7-49e3-973e-4d37b6fd46db",
   "metadata": {},
   "outputs": [
    {
     "data": {
      "text/plain": [
       "1"
      ]
     },
     "execution_count": 70,
     "metadata": {},
     "output_type": "execute_result"
    }
   ],
   "source": [
    "int(0b000001)"
   ]
  },
  {
   "cell_type": "markdown",
   "id": "7354f613-a1e7-46c7-b0b3-7b4c9f9e81e8",
   "metadata": {},
   "source": [
    "## `Left Shift ( << )`"
   ]
  },
  {
   "cell_type": "code",
   "execution_count": 71,
   "id": "85ff88b7-33c6-4353-9c13-7e9e7c72a37e",
   "metadata": {},
   "outputs": [
    {
     "data": {
      "text/plain": [
       "20"
      ]
     },
     "execution_count": 71,
     "metadata": {},
     "output_type": "execute_result"
    }
   ],
   "source": [
    "10 << 1"
   ]
  },
  {
   "cell_type": "markdown",
   "id": "f07baa90-93c7-4283-b6f9-cb5dd68b39ae",
   "metadata": {},
   "source": [
    "* 10 ->1010\n",
    "* 1010 << 1 = 10100 = 20"
   ]
  },
  {
   "cell_type": "code",
   "execution_count": 73,
   "id": "42d65f34-df50-4ad7-973e-cecbcb7365b1",
   "metadata": {},
   "outputs": [
    {
     "data": {
      "text/plain": [
       "20"
      ]
     },
     "execution_count": 73,
     "metadata": {},
     "output_type": "execute_result"
    }
   ],
   "source": [
    "int(0b10100)"
   ]
  },
  {
   "cell_type": "code",
   "execution_count": 74,
   "id": "c5c46f2d-c7bc-4dd9-849b-7bf2fc97cf78",
   "metadata": {},
   "outputs": [
    {
     "data": {
      "text/plain": [
       "40"
      ]
     },
     "execution_count": 74,
     "metadata": {},
     "output_type": "execute_result"
    }
   ],
   "source": [
    "10 << 2"
   ]
  },
  {
   "cell_type": "code",
   "execution_count": 75,
   "id": "9d2abf48-a915-47a3-9091-7aded385957c",
   "metadata": {},
   "outputs": [
    {
     "data": {
      "text/plain": [
       "320"
      ]
     },
     "execution_count": 75,
     "metadata": {},
     "output_type": "execute_result"
    }
   ],
   "source": [
    "10 << 5"
   ]
  },
  {
   "cell_type": "markdown",
   "id": "d2779706-7ce9-44a0-b77d-15158d0cb35c",
   "metadata": {},
   "source": [
    "## `Right Shift ( >> )`"
   ]
  },
  {
   "cell_type": "code",
   "execution_count": 78,
   "id": "45782fbf-cf8d-4899-a227-1cd2e3cd8bc7",
   "metadata": {},
   "outputs": [
    {
     "data": {
      "text/plain": [
       "5"
      ]
     },
     "execution_count": 78,
     "metadata": {},
     "output_type": "execute_result"
    }
   ],
   "source": [
    "10>> 1"
   ]
  },
  {
   "cell_type": "markdown",
   "id": "4a0e468f-2c65-49d8-8e5a-657a68443251",
   "metadata": {},
   "source": [
    "* 10 -> 1010\n",
    "* 1010 >> 1 = 101 = 5"
   ]
  },
  {
   "cell_type": "code",
   "execution_count": 79,
   "id": "c75c9f15-248c-4abb-9cf8-caad876bc58a",
   "metadata": {},
   "outputs": [
    {
     "data": {
      "text/plain": [
       "5"
      ]
     },
     "execution_count": 79,
     "metadata": {},
     "output_type": "execute_result"
    }
   ],
   "source": [
    "int(0b101)"
   ]
  },
  {
   "cell_type": "code",
   "execution_count": 80,
   "id": "a8141a1f-e09e-4d98-8aee-d766c082a20e",
   "metadata": {},
   "outputs": [
    {
     "data": {
      "text/plain": [
       "2"
      ]
     },
     "execution_count": 80,
     "metadata": {},
     "output_type": "execute_result"
    }
   ],
   "source": [
    "10 >> 2"
   ]
  },
  {
   "cell_type": "code",
   "execution_count": 81,
   "id": "a8c16b77-c5ba-4f0c-add8-585080c217ab",
   "metadata": {},
   "outputs": [
    {
     "data": {
      "text/plain": [
       "1"
      ]
     },
     "execution_count": 81,
     "metadata": {},
     "output_type": "execute_result"
    }
   ],
   "source": [
    "10 >> 3"
   ]
  },
  {
   "cell_type": "code",
   "execution_count": 82,
   "id": "7ae42f7c-bc88-4a21-bd2a-55de4fbe0dcc",
   "metadata": {},
   "outputs": [
    {
     "data": {
      "text/plain": [
       "0"
      ]
     },
     "execution_count": 82,
     "metadata": {},
     "output_type": "execute_result"
    }
   ],
   "source": [
    "10 >> 4"
   ]
  },
  {
   "cell_type": "code",
   "execution_count": null,
   "id": "a0120e3f-0bb4-4fb5-8700-019bc1e445af",
   "metadata": {},
   "outputs": [],
   "source": []
  }
 ],
 "metadata": {
  "kernelspec": {
   "display_name": "Python [conda env:base] *",
   "language": "python",
   "name": "conda-base-py"
  },
  "language_info": {
   "codemirror_mode": {
    "name": "ipython",
    "version": 3
   },
   "file_extension": ".py",
   "mimetype": "text/x-python",
   "name": "python",
   "nbconvert_exporter": "python",
   "pygments_lexer": "ipython3",
   "version": "3.13.5"
  }
 },
 "nbformat": 4,
 "nbformat_minor": 5
}
